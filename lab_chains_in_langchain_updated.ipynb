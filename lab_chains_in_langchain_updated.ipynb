{
  "cells": [
    {
      "cell_type": "markdown",
      "metadata": {
        "id": "view-in-github",
        "colab_type": "text"
      },
      "source": [
        "<a href=\"https://colab.research.google.com/github/Cutie-tee/lab-chains-in-langchain/blob/main/lab_chains_in_langchain_updated.ipynb\" target=\"_parent\"><img src=\"https://colab.research.google.com/assets/colab-badge.svg\" alt=\"Open In Colab\"/></a>"
      ]
    },
    {
      "cell_type": "markdown",
      "id": "52824b89-532a-4e54-87e9-1410813cd39e",
      "metadata": {
        "id": "52824b89-532a-4e54-87e9-1410813cd39e"
      },
      "source": [
        "# Lab | Chains in LangChain\n",
        "\n",
        "## Outline\n",
        "\n",
        "* LLMChain\n",
        "* Sequential Chains\n",
        "  * SimpleSequentialChain\n",
        "  * SequentialChain\n",
        "* Router Chain"
      ]
    },
    {
      "cell_type": "code",
      "execution_count": 1,
      "id": "d41e2c9a-67c6-4504-a767-6aa90ed32ac4",
      "metadata": {
        "execution": {
          "iopub.execute_input": "2024-10-20T22:28:49.642021Z",
          "iopub.status.busy": "2024-10-20T22:28:49.641137Z",
          "iopub.status.idle": "2024-10-20T22:29:00.390426Z",
          "shell.execute_reply": "2024-10-20T22:29:00.389295Z",
          "shell.execute_reply.started": "2024-10-20T22:28:49.641994Z"
        },
        "colab": {
          "base_uri": "https://localhost:8080/"
        },
        "id": "d41e2c9a-67c6-4504-a767-6aa90ed32ac4",
        "outputId": "731c16f8-a24b-49cc-d6e5-7a4b7fa38482"
      },
      "outputs": [
        {
          "output_type": "stream",
          "name": "stdout",
          "text": [
            "Requirement already satisfied: langchain in /usr/local/lib/python3.10/dist-packages (0.3.11)\n",
            "Requirement already satisfied: PyYAML>=5.3 in /usr/local/lib/python3.10/dist-packages (from langchain) (6.0.2)\n",
            "Requirement already satisfied: SQLAlchemy<3,>=1.4 in /usr/local/lib/python3.10/dist-packages (from langchain) (2.0.36)\n",
            "Requirement already satisfied: aiohttp<4.0.0,>=3.8.3 in /usr/local/lib/python3.10/dist-packages (from langchain) (3.11.10)\n",
            "Requirement already satisfied: async-timeout<5.0.0,>=4.0.0 in /usr/local/lib/python3.10/dist-packages (from langchain) (4.0.3)\n",
            "Requirement already satisfied: langchain-core<0.4.0,>=0.3.24 in /usr/local/lib/python3.10/dist-packages (from langchain) (0.3.24)\n",
            "Requirement already satisfied: langchain-text-splitters<0.4.0,>=0.3.0 in /usr/local/lib/python3.10/dist-packages (from langchain) (0.3.2)\n",
            "Requirement already satisfied: langsmith<0.3,>=0.1.17 in /usr/local/lib/python3.10/dist-packages (from langchain) (0.2.3)\n",
            "Requirement already satisfied: numpy<2,>=1.22.4 in /usr/local/lib/python3.10/dist-packages (from langchain) (1.26.4)\n",
            "Requirement already satisfied: pydantic<3.0.0,>=2.7.4 in /usr/local/lib/python3.10/dist-packages (from langchain) (2.10.3)\n",
            "Requirement already satisfied: requests<3,>=2 in /usr/local/lib/python3.10/dist-packages (from langchain) (2.32.3)\n",
            "Requirement already satisfied: tenacity!=8.4.0,<10,>=8.1.0 in /usr/local/lib/python3.10/dist-packages (from langchain) (9.0.0)\n",
            "Requirement already satisfied: aiohappyeyeballs>=2.3.0 in /usr/local/lib/python3.10/dist-packages (from aiohttp<4.0.0,>=3.8.3->langchain) (2.4.4)\n",
            "Requirement already satisfied: aiosignal>=1.1.2 in /usr/local/lib/python3.10/dist-packages (from aiohttp<4.0.0,>=3.8.3->langchain) (1.3.2)\n",
            "Requirement already satisfied: attrs>=17.3.0 in /usr/local/lib/python3.10/dist-packages (from aiohttp<4.0.0,>=3.8.3->langchain) (24.2.0)\n",
            "Requirement already satisfied: frozenlist>=1.1.1 in /usr/local/lib/python3.10/dist-packages (from aiohttp<4.0.0,>=3.8.3->langchain) (1.5.0)\n",
            "Requirement already satisfied: multidict<7.0,>=4.5 in /usr/local/lib/python3.10/dist-packages (from aiohttp<4.0.0,>=3.8.3->langchain) (6.1.0)\n",
            "Requirement already satisfied: propcache>=0.2.0 in /usr/local/lib/python3.10/dist-packages (from aiohttp<4.0.0,>=3.8.3->langchain) (0.2.1)\n",
            "Requirement already satisfied: yarl<2.0,>=1.17.0 in /usr/local/lib/python3.10/dist-packages (from aiohttp<4.0.0,>=3.8.3->langchain) (1.18.3)\n",
            "Requirement already satisfied: jsonpatch<2.0,>=1.33 in /usr/local/lib/python3.10/dist-packages (from langchain-core<0.4.0,>=0.3.24->langchain) (1.33)\n",
            "Requirement already satisfied: packaging<25,>=23.2 in /usr/local/lib/python3.10/dist-packages (from langchain-core<0.4.0,>=0.3.24->langchain) (24.2)\n",
            "Requirement already satisfied: typing-extensions>=4.7 in /usr/local/lib/python3.10/dist-packages (from langchain-core<0.4.0,>=0.3.24->langchain) (4.12.2)\n",
            "Requirement already satisfied: httpx<1,>=0.23.0 in /usr/local/lib/python3.10/dist-packages (from langsmith<0.3,>=0.1.17->langchain) (0.28.1)\n",
            "Requirement already satisfied: orjson<4.0.0,>=3.9.14 in /usr/local/lib/python3.10/dist-packages (from langsmith<0.3,>=0.1.17->langchain) (3.10.12)\n",
            "Requirement already satisfied: requests-toolbelt<2.0.0,>=1.0.0 in /usr/local/lib/python3.10/dist-packages (from langsmith<0.3,>=0.1.17->langchain) (1.0.0)\n",
            "Requirement already satisfied: annotated-types>=0.6.0 in /usr/local/lib/python3.10/dist-packages (from pydantic<3.0.0,>=2.7.4->langchain) (0.7.0)\n",
            "Requirement already satisfied: pydantic-core==2.27.1 in /usr/local/lib/python3.10/dist-packages (from pydantic<3.0.0,>=2.7.4->langchain) (2.27.1)\n",
            "Requirement already satisfied: charset-normalizer<4,>=2 in /usr/local/lib/python3.10/dist-packages (from requests<3,>=2->langchain) (3.4.0)\n",
            "Requirement already satisfied: idna<4,>=2.5 in /usr/local/lib/python3.10/dist-packages (from requests<3,>=2->langchain) (3.10)\n",
            "Requirement already satisfied: urllib3<3,>=1.21.1 in /usr/local/lib/python3.10/dist-packages (from requests<3,>=2->langchain) (2.2.3)\n",
            "Requirement already satisfied: certifi>=2017.4.17 in /usr/local/lib/python3.10/dist-packages (from requests<3,>=2->langchain) (2024.8.30)\n",
            "Requirement already satisfied: greenlet!=0.4.17 in /usr/local/lib/python3.10/dist-packages (from SQLAlchemy<3,>=1.4->langchain) (3.1.1)\n",
            "Requirement already satisfied: anyio in /usr/local/lib/python3.10/dist-packages (from httpx<1,>=0.23.0->langsmith<0.3,>=0.1.17->langchain) (3.7.1)\n",
            "Requirement already satisfied: httpcore==1.* in /usr/local/lib/python3.10/dist-packages (from httpx<1,>=0.23.0->langsmith<0.3,>=0.1.17->langchain) (1.0.7)\n",
            "Requirement already satisfied: h11<0.15,>=0.13 in /usr/local/lib/python3.10/dist-packages (from httpcore==1.*->httpx<1,>=0.23.0->langsmith<0.3,>=0.1.17->langchain) (0.14.0)\n",
            "Requirement already satisfied: jsonpointer>=1.9 in /usr/local/lib/python3.10/dist-packages (from jsonpatch<2.0,>=1.33->langchain-core<0.4.0,>=0.3.24->langchain) (3.0.0)\n",
            "Requirement already satisfied: sniffio>=1.1 in /usr/local/lib/python3.10/dist-packages (from anyio->httpx<1,>=0.23.0->langsmith<0.3,>=0.1.17->langchain) (1.3.1)\n",
            "Requirement already satisfied: exceptiongroup in /usr/local/lib/python3.10/dist-packages (from anyio->httpx<1,>=0.23.0->langsmith<0.3,>=0.1.17->langchain) (1.2.2)\n"
          ]
        }
      ],
      "source": [
        "!pip install langchain"
      ]
    },
    {
      "cell_type": "code",
      "execution_count": 2,
      "id": "7956a301-b007-43aa-86c4-0669718e6dad",
      "metadata": {
        "execution": {
          "iopub.execute_input": "2024-10-20T22:29:26.193112Z",
          "iopub.status.busy": "2024-10-20T22:29:26.192186Z",
          "iopub.status.idle": "2024-10-20T22:29:35.956110Z",
          "shell.execute_reply": "2024-10-20T22:29:35.955019Z",
          "shell.execute_reply.started": "2024-10-20T22:29:26.193060Z"
        },
        "colab": {
          "base_uri": "https://localhost:8080/"
        },
        "id": "7956a301-b007-43aa-86c4-0669718e6dad",
        "outputId": "a03b0308-f8fd-4319-8437-cdfcbd26db3e"
      },
      "outputs": [
        {
          "output_type": "stream",
          "name": "stdout",
          "text": [
            "Collecting langchain-openai\n",
            "  Downloading langchain_openai-0.2.12-py3-none-any.whl.metadata (2.7 kB)\n",
            "Requirement already satisfied: langchain-core<0.4.0,>=0.3.21 in /usr/local/lib/python3.10/dist-packages (from langchain-openai) (0.3.24)\n",
            "Collecting openai<2.0.0,>=1.55.3 (from langchain-openai)\n",
            "  Downloading openai-1.58.0-py3-none-any.whl.metadata (27 kB)\n",
            "Collecting tiktoken<1,>=0.7 (from langchain-openai)\n",
            "  Downloading tiktoken-0.8.0-cp310-cp310-manylinux_2_17_x86_64.manylinux2014_x86_64.whl.metadata (6.6 kB)\n",
            "Requirement already satisfied: PyYAML>=5.3 in /usr/local/lib/python3.10/dist-packages (from langchain-core<0.4.0,>=0.3.21->langchain-openai) (6.0.2)\n",
            "Requirement already satisfied: jsonpatch<2.0,>=1.33 in /usr/local/lib/python3.10/dist-packages (from langchain-core<0.4.0,>=0.3.21->langchain-openai) (1.33)\n",
            "Requirement already satisfied: langsmith<0.3,>=0.1.125 in /usr/local/lib/python3.10/dist-packages (from langchain-core<0.4.0,>=0.3.21->langchain-openai) (0.2.3)\n",
            "Requirement already satisfied: packaging<25,>=23.2 in /usr/local/lib/python3.10/dist-packages (from langchain-core<0.4.0,>=0.3.21->langchain-openai) (24.2)\n",
            "Requirement already satisfied: pydantic<3.0.0,>=2.5.2 in /usr/local/lib/python3.10/dist-packages (from langchain-core<0.4.0,>=0.3.21->langchain-openai) (2.10.3)\n",
            "Requirement already satisfied: tenacity!=8.4.0,<10.0.0,>=8.1.0 in /usr/local/lib/python3.10/dist-packages (from langchain-core<0.4.0,>=0.3.21->langchain-openai) (9.0.0)\n",
            "Requirement already satisfied: typing-extensions>=4.7 in /usr/local/lib/python3.10/dist-packages (from langchain-core<0.4.0,>=0.3.21->langchain-openai) (4.12.2)\n",
            "Requirement already satisfied: anyio<5,>=3.5.0 in /usr/local/lib/python3.10/dist-packages (from openai<2.0.0,>=1.55.3->langchain-openai) (3.7.1)\n",
            "Requirement already satisfied: distro<2,>=1.7.0 in /usr/local/lib/python3.10/dist-packages (from openai<2.0.0,>=1.55.3->langchain-openai) (1.9.0)\n",
            "Requirement already satisfied: httpx<1,>=0.23.0 in /usr/local/lib/python3.10/dist-packages (from openai<2.0.0,>=1.55.3->langchain-openai) (0.28.1)\n",
            "Requirement already satisfied: jiter<1,>=0.4.0 in /usr/local/lib/python3.10/dist-packages (from openai<2.0.0,>=1.55.3->langchain-openai) (0.8.2)\n",
            "Requirement already satisfied: sniffio in /usr/local/lib/python3.10/dist-packages (from openai<2.0.0,>=1.55.3->langchain-openai) (1.3.1)\n",
            "Requirement already satisfied: tqdm>4 in /usr/local/lib/python3.10/dist-packages (from openai<2.0.0,>=1.55.3->langchain-openai) (4.66.6)\n",
            "Requirement already satisfied: regex>=2022.1.18 in /usr/local/lib/python3.10/dist-packages (from tiktoken<1,>=0.7->langchain-openai) (2024.9.11)\n",
            "Requirement already satisfied: requests>=2.26.0 in /usr/local/lib/python3.10/dist-packages (from tiktoken<1,>=0.7->langchain-openai) (2.32.3)\n",
            "Requirement already satisfied: idna>=2.8 in /usr/local/lib/python3.10/dist-packages (from anyio<5,>=3.5.0->openai<2.0.0,>=1.55.3->langchain-openai) (3.10)\n",
            "Requirement already satisfied: exceptiongroup in /usr/local/lib/python3.10/dist-packages (from anyio<5,>=3.5.0->openai<2.0.0,>=1.55.3->langchain-openai) (1.2.2)\n",
            "Requirement already satisfied: certifi in /usr/local/lib/python3.10/dist-packages (from httpx<1,>=0.23.0->openai<2.0.0,>=1.55.3->langchain-openai) (2024.8.30)\n",
            "Requirement already satisfied: httpcore==1.* in /usr/local/lib/python3.10/dist-packages (from httpx<1,>=0.23.0->openai<2.0.0,>=1.55.3->langchain-openai) (1.0.7)\n",
            "Requirement already satisfied: h11<0.15,>=0.13 in /usr/local/lib/python3.10/dist-packages (from httpcore==1.*->httpx<1,>=0.23.0->openai<2.0.0,>=1.55.3->langchain-openai) (0.14.0)\n",
            "Requirement already satisfied: jsonpointer>=1.9 in /usr/local/lib/python3.10/dist-packages (from jsonpatch<2.0,>=1.33->langchain-core<0.4.0,>=0.3.21->langchain-openai) (3.0.0)\n",
            "Requirement already satisfied: orjson<4.0.0,>=3.9.14 in /usr/local/lib/python3.10/dist-packages (from langsmith<0.3,>=0.1.125->langchain-core<0.4.0,>=0.3.21->langchain-openai) (3.10.12)\n",
            "Requirement already satisfied: requests-toolbelt<2.0.0,>=1.0.0 in /usr/local/lib/python3.10/dist-packages (from langsmith<0.3,>=0.1.125->langchain-core<0.4.0,>=0.3.21->langchain-openai) (1.0.0)\n",
            "Requirement already satisfied: annotated-types>=0.6.0 in /usr/local/lib/python3.10/dist-packages (from pydantic<3.0.0,>=2.5.2->langchain-core<0.4.0,>=0.3.21->langchain-openai) (0.7.0)\n",
            "Requirement already satisfied: pydantic-core==2.27.1 in /usr/local/lib/python3.10/dist-packages (from pydantic<3.0.0,>=2.5.2->langchain-core<0.4.0,>=0.3.21->langchain-openai) (2.27.1)\n",
            "Requirement already satisfied: charset-normalizer<4,>=2 in /usr/local/lib/python3.10/dist-packages (from requests>=2.26.0->tiktoken<1,>=0.7->langchain-openai) (3.4.0)\n",
            "Requirement already satisfied: urllib3<3,>=1.21.1 in /usr/local/lib/python3.10/dist-packages (from requests>=2.26.0->tiktoken<1,>=0.7->langchain-openai) (2.2.3)\n",
            "Downloading langchain_openai-0.2.12-py3-none-any.whl (50 kB)\n",
            "\u001b[2K   \u001b[90m━━━━━━━━━━━━━━━━━━━━━━━━━━━━━━━━━━━━━━━━\u001b[0m \u001b[32m50.7/50.7 kB\u001b[0m \u001b[31m3.9 MB/s\u001b[0m eta \u001b[36m0:00:00\u001b[0m\n",
            "\u001b[?25hDownloading openai-1.58.0-py3-none-any.whl (454 kB)\n",
            "\u001b[2K   \u001b[90m━━━━━━━━━━━━━━━━━━━━━━━━━━━━━━━━━━━━━━━━\u001b[0m \u001b[32m454.3/454.3 kB\u001b[0m \u001b[31m7.8 MB/s\u001b[0m eta \u001b[36m0:00:00\u001b[0m\n",
            "\u001b[?25hDownloading tiktoken-0.8.0-cp310-cp310-manylinux_2_17_x86_64.manylinux2014_x86_64.whl (1.2 MB)\n",
            "\u001b[2K   \u001b[90m━━━━━━━━━━━━━━━━━━━━━━━━━━━━━━━━━━━━━━━━\u001b[0m \u001b[32m1.2/1.2 MB\u001b[0m \u001b[31m16.3 MB/s\u001b[0m eta \u001b[36m0:00:00\u001b[0m\n",
            "\u001b[?25hInstalling collected packages: tiktoken, openai, langchain-openai\n",
            "  Attempting uninstall: openai\n",
            "    Found existing installation: openai 1.54.5\n",
            "    Uninstalling openai-1.54.5:\n",
            "      Successfully uninstalled openai-1.54.5\n",
            "Successfully installed langchain-openai-0.2.12 openai-1.58.0 tiktoken-0.8.0\n"
          ]
        }
      ],
      "source": [
        "!pip install langchain-openai"
      ]
    },
    {
      "cell_type": "code",
      "execution_count": 3,
      "id": "541eb2f1",
      "metadata": {
        "execution": {
          "iopub.execute_input": "2024-10-20T22:35:44.854143Z",
          "iopub.status.busy": "2024-10-20T22:35:44.853807Z",
          "iopub.status.idle": "2024-10-20T22:35:44.861396Z",
          "shell.execute_reply": "2024-10-20T22:35:44.860488Z",
          "shell.execute_reply.started": "2024-10-20T22:35:44.854117Z"
        },
        "id": "541eb2f1"
      },
      "outputs": [],
      "source": [
        "import warnings\n",
        "warnings.filterwarnings('ignore')"
      ]
    },
    {
      "cell_type": "code",
      "source": [
        "!pip install python-dotenv\n"
      ],
      "metadata": {
        "colab": {
          "base_uri": "https://localhost:8080/"
        },
        "id": "1_Kjn2G0MZ2n",
        "outputId": "33584469-1aae-47f2-d4cc-1ff3bba34ab3"
      },
      "id": "1_Kjn2G0MZ2n",
      "execution_count": 5,
      "outputs": [
        {
          "output_type": "stream",
          "name": "stdout",
          "text": [
            "Collecting python-dotenv\n",
            "  Downloading python_dotenv-1.0.1-py3-none-any.whl.metadata (23 kB)\n",
            "Downloading python_dotenv-1.0.1-py3-none-any.whl (19 kB)\n",
            "Installing collected packages: python-dotenv\n",
            "Successfully installed python-dotenv-1.0.1\n"
          ]
        }
      ]
    },
    {
      "cell_type": "code",
      "execution_count": 6,
      "id": "b7ed03ed-1322-49e3-b2a2-33e94fb592ef",
      "metadata": {
        "execution": {
          "iopub.execute_input": "2024-10-20T22:37:55.378868Z",
          "iopub.status.busy": "2024-10-20T22:37:55.378458Z",
          "iopub.status.idle": "2024-10-20T22:37:55.392797Z",
          "shell.execute_reply": "2024-10-20T22:37:55.391968Z",
          "shell.execute_reply.started": "2024-10-20T22:37:55.378834Z"
        },
        "tags": [],
        "id": "b7ed03ed-1322-49e3-b2a2-33e94fb592ef"
      },
      "outputs": [],
      "source": [
        "import os\n",
        "\n",
        "from dotenv import load_dotenv, find_dotenv\n",
        "_ = load_dotenv(find_dotenv())\n",
        "\n",
        "OPENAI_API_KEY = os.getenv('OPENAI_API_KEY')\n",
        "HUGGINGFACEHUB_API_TOKEN = os.getenv('HUGGINGFACEHUB_API_TOKEN')"
      ]
    },
    {
      "cell_type": "code",
      "execution_count": 9,
      "id": "b84e441b",
      "metadata": {
        "tags": [],
        "colab": {
          "base_uri": "https://localhost:8080/"
        },
        "id": "b84e441b",
        "outputId": "27210a62-4b3d-4b7d-9a3e-968138a44651"
      },
      "outputs": [
        {
          "output_type": "stream",
          "name": "stdout",
          "text": [
            "Requirement already satisfied: pandas in /usr/local/lib/python3.10/dist-packages (2.2.2)\n",
            "Requirement already satisfied: numpy>=1.22.4 in /usr/local/lib/python3.10/dist-packages (from pandas) (1.26.4)\n",
            "Requirement already satisfied: python-dateutil>=2.8.2 in /usr/local/lib/python3.10/dist-packages (from pandas) (2.8.2)\n",
            "Requirement already satisfied: pytz>=2020.1 in /usr/local/lib/python3.10/dist-packages (from pandas) (2024.2)\n",
            "Requirement already satisfied: tzdata>=2022.7 in /usr/local/lib/python3.10/dist-packages (from pandas) (2024.2)\n",
            "Requirement already satisfied: six>=1.5 in /usr/local/lib/python3.10/dist-packages (from python-dateutil>=2.8.2->pandas) (1.17.0)\n"
          ]
        }
      ],
      "source": [
        "!pip install pandas"
      ]
    },
    {
      "cell_type": "code",
      "execution_count": 12,
      "id": "974acf8e-8f88-42de-88f8-40a82cb58e8b",
      "metadata": {
        "execution": {
          "iopub.execute_input": "2024-10-20T22:38:56.389537Z",
          "iopub.status.busy": "2024-10-20T22:38:56.388979Z",
          "iopub.status.idle": "2024-10-20T22:38:56.401182Z",
          "shell.execute_reply": "2024-10-20T22:38:56.400337Z",
          "shell.execute_reply.started": "2024-10-20T22:38:56.389512Z"
        },
        "tags": [],
        "id": "974acf8e-8f88-42de-88f8-40a82cb58e8b"
      },
      "outputs": [],
      "source": [
        "import pandas as pd\n",
        "df = pd.read_csv('/content/Data.csv')"
      ]
    },
    {
      "cell_type": "code",
      "execution_count": 13,
      "id": "b7a09c35",
      "metadata": {
        "execution": {
          "iopub.execute_input": "2024-10-20T22:39:00.534817Z",
          "iopub.status.busy": "2024-10-20T22:39:00.534265Z",
          "iopub.status.idle": "2024-10-20T22:39:00.552515Z",
          "shell.execute_reply": "2024-10-20T22:39:00.551476Z",
          "shell.execute_reply.started": "2024-10-20T22:39:00.534790Z"
        },
        "tags": [],
        "colab": {
          "base_uri": "https://localhost:8080/",
          "height": 206
        },
        "id": "b7a09c35",
        "outputId": "b9afddda-72e6-471c-81b2-4af61da9fc1e"
      },
      "outputs": [
        {
          "output_type": "execute_result",
          "data": {
            "text/plain": [
              "                   Product                                             Review\n",
              "0     Queen Size Sheet Set  I ordered a king size set. My only criticism w...\n",
              "1   Waterproof Phone Pouch  I loved the waterproof sac, although the openi...\n",
              "2      Luxury Air Mattress  This mattress had a small hole in the top of i...\n",
              "3           Pillows Insert  This is the best throw pillow fillers on Amazo...\n",
              "4  Milk Frother Handheld\\n   I loved this product. But they only seem to l..."
            ],
            "text/html": [
              "\n",
              "  <div id=\"df-5b1ff858-f3d5-4dcb-8945-444c4ed096cc\" class=\"colab-df-container\">\n",
              "    <div>\n",
              "<style scoped>\n",
              "    .dataframe tbody tr th:only-of-type {\n",
              "        vertical-align: middle;\n",
              "    }\n",
              "\n",
              "    .dataframe tbody tr th {\n",
              "        vertical-align: top;\n",
              "    }\n",
              "\n",
              "    .dataframe thead th {\n",
              "        text-align: right;\n",
              "    }\n",
              "</style>\n",
              "<table border=\"1\" class=\"dataframe\">\n",
              "  <thead>\n",
              "    <tr style=\"text-align: right;\">\n",
              "      <th></th>\n",
              "      <th>Product</th>\n",
              "      <th>Review</th>\n",
              "    </tr>\n",
              "  </thead>\n",
              "  <tbody>\n",
              "    <tr>\n",
              "      <th>0</th>\n",
              "      <td>Queen Size Sheet Set</td>\n",
              "      <td>I ordered a king size set. My only criticism w...</td>\n",
              "    </tr>\n",
              "    <tr>\n",
              "      <th>1</th>\n",
              "      <td>Waterproof Phone Pouch</td>\n",
              "      <td>I loved the waterproof sac, although the openi...</td>\n",
              "    </tr>\n",
              "    <tr>\n",
              "      <th>2</th>\n",
              "      <td>Luxury Air Mattress</td>\n",
              "      <td>This mattress had a small hole in the top of i...</td>\n",
              "    </tr>\n",
              "    <tr>\n",
              "      <th>3</th>\n",
              "      <td>Pillows Insert</td>\n",
              "      <td>This is the best throw pillow fillers on Amazo...</td>\n",
              "    </tr>\n",
              "    <tr>\n",
              "      <th>4</th>\n",
              "      <td>Milk Frother Handheld\\n</td>\n",
              "      <td>I loved this product. But they only seem to l...</td>\n",
              "    </tr>\n",
              "  </tbody>\n",
              "</table>\n",
              "</div>\n",
              "    <div class=\"colab-df-buttons\">\n",
              "\n",
              "  <div class=\"colab-df-container\">\n",
              "    <button class=\"colab-df-convert\" onclick=\"convertToInteractive('df-5b1ff858-f3d5-4dcb-8945-444c4ed096cc')\"\n",
              "            title=\"Convert this dataframe to an interactive table.\"\n",
              "            style=\"display:none;\">\n",
              "\n",
              "  <svg xmlns=\"http://www.w3.org/2000/svg\" height=\"24px\" viewBox=\"0 -960 960 960\">\n",
              "    <path d=\"M120-120v-720h720v720H120Zm60-500h600v-160H180v160Zm220 220h160v-160H400v160Zm0 220h160v-160H400v160ZM180-400h160v-160H180v160Zm440 0h160v-160H620v160ZM180-180h160v-160H180v160Zm440 0h160v-160H620v160Z\"/>\n",
              "  </svg>\n",
              "    </button>\n",
              "\n",
              "  <style>\n",
              "    .colab-df-container {\n",
              "      display:flex;\n",
              "      gap: 12px;\n",
              "    }\n",
              "\n",
              "    .colab-df-convert {\n",
              "      background-color: #E8F0FE;\n",
              "      border: none;\n",
              "      border-radius: 50%;\n",
              "      cursor: pointer;\n",
              "      display: none;\n",
              "      fill: #1967D2;\n",
              "      height: 32px;\n",
              "      padding: 0 0 0 0;\n",
              "      width: 32px;\n",
              "    }\n",
              "\n",
              "    .colab-df-convert:hover {\n",
              "      background-color: #E2EBFA;\n",
              "      box-shadow: 0px 1px 2px rgba(60, 64, 67, 0.3), 0px 1px 3px 1px rgba(60, 64, 67, 0.15);\n",
              "      fill: #174EA6;\n",
              "    }\n",
              "\n",
              "    .colab-df-buttons div {\n",
              "      margin-bottom: 4px;\n",
              "    }\n",
              "\n",
              "    [theme=dark] .colab-df-convert {\n",
              "      background-color: #3B4455;\n",
              "      fill: #D2E3FC;\n",
              "    }\n",
              "\n",
              "    [theme=dark] .colab-df-convert:hover {\n",
              "      background-color: #434B5C;\n",
              "      box-shadow: 0px 1px 3px 1px rgba(0, 0, 0, 0.15);\n",
              "      filter: drop-shadow(0px 1px 2px rgba(0, 0, 0, 0.3));\n",
              "      fill: #FFFFFF;\n",
              "    }\n",
              "  </style>\n",
              "\n",
              "    <script>\n",
              "      const buttonEl =\n",
              "        document.querySelector('#df-5b1ff858-f3d5-4dcb-8945-444c4ed096cc button.colab-df-convert');\n",
              "      buttonEl.style.display =\n",
              "        google.colab.kernel.accessAllowed ? 'block' : 'none';\n",
              "\n",
              "      async function convertToInteractive(key) {\n",
              "        const element = document.querySelector('#df-5b1ff858-f3d5-4dcb-8945-444c4ed096cc');\n",
              "        const dataTable =\n",
              "          await google.colab.kernel.invokeFunction('convertToInteractive',\n",
              "                                                    [key], {});\n",
              "        if (!dataTable) return;\n",
              "\n",
              "        const docLinkHtml = 'Like what you see? Visit the ' +\n",
              "          '<a target=\"_blank\" href=https://colab.research.google.com/notebooks/data_table.ipynb>data table notebook</a>'\n",
              "          + ' to learn more about interactive tables.';\n",
              "        element.innerHTML = '';\n",
              "        dataTable['output_type'] = 'display_data';\n",
              "        await google.colab.output.renderOutput(dataTable, element);\n",
              "        const docLink = document.createElement('div');\n",
              "        docLink.innerHTML = docLinkHtml;\n",
              "        element.appendChild(docLink);\n",
              "      }\n",
              "    </script>\n",
              "  </div>\n",
              "\n",
              "\n",
              "<div id=\"df-2f84b762-ce5e-47b7-bf3a-e6c3e34cf201\">\n",
              "  <button class=\"colab-df-quickchart\" onclick=\"quickchart('df-2f84b762-ce5e-47b7-bf3a-e6c3e34cf201')\"\n",
              "            title=\"Suggest charts\"\n",
              "            style=\"display:none;\">\n",
              "\n",
              "<svg xmlns=\"http://www.w3.org/2000/svg\" height=\"24px\"viewBox=\"0 0 24 24\"\n",
              "     width=\"24px\">\n",
              "    <g>\n",
              "        <path d=\"M19 3H5c-1.1 0-2 .9-2 2v14c0 1.1.9 2 2 2h14c1.1 0 2-.9 2-2V5c0-1.1-.9-2-2-2zM9 17H7v-7h2v7zm4 0h-2V7h2v10zm4 0h-2v-4h2v4z\"/>\n",
              "    </g>\n",
              "</svg>\n",
              "  </button>\n",
              "\n",
              "<style>\n",
              "  .colab-df-quickchart {\n",
              "      --bg-color: #E8F0FE;\n",
              "      --fill-color: #1967D2;\n",
              "      --hover-bg-color: #E2EBFA;\n",
              "      --hover-fill-color: #174EA6;\n",
              "      --disabled-fill-color: #AAA;\n",
              "      --disabled-bg-color: #DDD;\n",
              "  }\n",
              "\n",
              "  [theme=dark] .colab-df-quickchart {\n",
              "      --bg-color: #3B4455;\n",
              "      --fill-color: #D2E3FC;\n",
              "      --hover-bg-color: #434B5C;\n",
              "      --hover-fill-color: #FFFFFF;\n",
              "      --disabled-bg-color: #3B4455;\n",
              "      --disabled-fill-color: #666;\n",
              "  }\n",
              "\n",
              "  .colab-df-quickchart {\n",
              "    background-color: var(--bg-color);\n",
              "    border: none;\n",
              "    border-radius: 50%;\n",
              "    cursor: pointer;\n",
              "    display: none;\n",
              "    fill: var(--fill-color);\n",
              "    height: 32px;\n",
              "    padding: 0;\n",
              "    width: 32px;\n",
              "  }\n",
              "\n",
              "  .colab-df-quickchart:hover {\n",
              "    background-color: var(--hover-bg-color);\n",
              "    box-shadow: 0 1px 2px rgba(60, 64, 67, 0.3), 0 1px 3px 1px rgba(60, 64, 67, 0.15);\n",
              "    fill: var(--button-hover-fill-color);\n",
              "  }\n",
              "\n",
              "  .colab-df-quickchart-complete:disabled,\n",
              "  .colab-df-quickchart-complete:disabled:hover {\n",
              "    background-color: var(--disabled-bg-color);\n",
              "    fill: var(--disabled-fill-color);\n",
              "    box-shadow: none;\n",
              "  }\n",
              "\n",
              "  .colab-df-spinner {\n",
              "    border: 2px solid var(--fill-color);\n",
              "    border-color: transparent;\n",
              "    border-bottom-color: var(--fill-color);\n",
              "    animation:\n",
              "      spin 1s steps(1) infinite;\n",
              "  }\n",
              "\n",
              "  @keyframes spin {\n",
              "    0% {\n",
              "      border-color: transparent;\n",
              "      border-bottom-color: var(--fill-color);\n",
              "      border-left-color: var(--fill-color);\n",
              "    }\n",
              "    20% {\n",
              "      border-color: transparent;\n",
              "      border-left-color: var(--fill-color);\n",
              "      border-top-color: var(--fill-color);\n",
              "    }\n",
              "    30% {\n",
              "      border-color: transparent;\n",
              "      border-left-color: var(--fill-color);\n",
              "      border-top-color: var(--fill-color);\n",
              "      border-right-color: var(--fill-color);\n",
              "    }\n",
              "    40% {\n",
              "      border-color: transparent;\n",
              "      border-right-color: var(--fill-color);\n",
              "      border-top-color: var(--fill-color);\n",
              "    }\n",
              "    60% {\n",
              "      border-color: transparent;\n",
              "      border-right-color: var(--fill-color);\n",
              "    }\n",
              "    80% {\n",
              "      border-color: transparent;\n",
              "      border-right-color: var(--fill-color);\n",
              "      border-bottom-color: var(--fill-color);\n",
              "    }\n",
              "    90% {\n",
              "      border-color: transparent;\n",
              "      border-bottom-color: var(--fill-color);\n",
              "    }\n",
              "  }\n",
              "</style>\n",
              "\n",
              "  <script>\n",
              "    async function quickchart(key) {\n",
              "      const quickchartButtonEl =\n",
              "        document.querySelector('#' + key + ' button');\n",
              "      quickchartButtonEl.disabled = true;  // To prevent multiple clicks.\n",
              "      quickchartButtonEl.classList.add('colab-df-spinner');\n",
              "      try {\n",
              "        const charts = await google.colab.kernel.invokeFunction(\n",
              "            'suggestCharts', [key], {});\n",
              "      } catch (error) {\n",
              "        console.error('Error during call to suggestCharts:', error);\n",
              "      }\n",
              "      quickchartButtonEl.classList.remove('colab-df-spinner');\n",
              "      quickchartButtonEl.classList.add('colab-df-quickchart-complete');\n",
              "    }\n",
              "    (() => {\n",
              "      let quickchartButtonEl =\n",
              "        document.querySelector('#df-2f84b762-ce5e-47b7-bf3a-e6c3e34cf201 button');\n",
              "      quickchartButtonEl.style.display =\n",
              "        google.colab.kernel.accessAllowed ? 'block' : 'none';\n",
              "    })();\n",
              "  </script>\n",
              "</div>\n",
              "\n",
              "    </div>\n",
              "  </div>\n"
            ],
            "application/vnd.google.colaboratory.intrinsic+json": {
              "type": "dataframe",
              "variable_name": "df",
              "summary": "{\n  \"name\": \"df\",\n  \"rows\": 7,\n  \"fields\": [\n    {\n      \"column\": \"Product\",\n      \"properties\": {\n        \"dtype\": \"string\",\n        \"num_unique_values\": 7,\n        \"samples\": [\n          \"Queen Size Sheet Set\",\n          \"Waterproof Phone Pouch\",\n          \"L'Or Espresso Caf\\u00e9\\u00a0\\n\"\n        ],\n        \"semantic_type\": \"\",\n        \"description\": \"\"\n      }\n    },\n    {\n      \"column\": \"Review\",\n      \"properties\": {\n        \"dtype\": \"string\",\n        \"num_unique_values\": 7,\n        \"samples\": [\n          \"I ordered a king size set. My only criticism would be that I wish seller would offer the king size set with 4 pillowcases. I separately ordered a two pack of pillowcases so I could have a total of four. When I saw the two packages, it looked like the color did not exactly match. Customer service was excellent about sending me two more pillowcases so I would have four that matched. Excellent! For the cost of these sheets, I am satisfied with the characteristics and coolness of the sheets.\",\n          \"I loved the waterproof sac, although the opening was made of a hard plastic. I don\\u2019t know if that would break easily. But I couldn\\u2019t turn my phone on, once it was in the pouch.\",\n          \"Je trouve le go\\u00fbt m\\u00e9diocre. La mousse ne tient pas, c'est bizarre. J'ach\\u00e8te les m\\u00eames dans le commerce et le go\\u00fbt est bien meilleur...\\nVieux lot ou contrefa\\u00e7on !?\"\n        ],\n        \"semantic_type\": \"\",\n        \"description\": \"\"\n      }\n    }\n  ]\n}"
            }
          },
          "metadata": {},
          "execution_count": 13
        }
      ],
      "source": [
        "df.head()"
      ]
    },
    {
      "cell_type": "markdown",
      "id": "b940ce7c",
      "metadata": {
        "id": "b940ce7c"
      },
      "source": [
        "## LLMChain"
      ]
    },
    {
      "cell_type": "code",
      "execution_count": 14,
      "id": "e92dff22",
      "metadata": {
        "execution": {
          "iopub.execute_input": "2024-10-20T22:39:05.197342Z",
          "iopub.status.busy": "2024-10-20T22:39:05.197021Z",
          "iopub.status.idle": "2024-10-20T22:39:06.575826Z",
          "shell.execute_reply": "2024-10-20T22:39:06.574921Z",
          "shell.execute_reply.started": "2024-10-20T22:39:05.197315Z"
        },
        "tags": [],
        "id": "e92dff22"
      },
      "outputs": [],
      "source": [
        "from langchain_openai import ChatOpenAI\n",
        "from langchain.prompts import ChatPromptTemplate\n",
        "from langchain.chains import LLMChain"
      ]
    },
    {
      "cell_type": "code",
      "source": [
        "from google.colab import userdata"
      ],
      "metadata": {
        "id": "wRtRVt99QDno"
      },
      "id": "wRtRVt99QDno",
      "execution_count": 38,
      "outputs": []
    },
    {
      "cell_type": "code",
      "source": [
        "openai_api_key = os.environ.get(\"OPENAI_API_KEY\")"
      ],
      "metadata": {
        "id": "G3iQDZzlNUcc"
      },
      "id": "G3iQDZzlNUcc",
      "execution_count": 22,
      "outputs": []
    },
    {
      "cell_type": "code",
      "source": [
        "os.environ[\"OPENAI_API_KEY\"] = userdata.get('OPENAI_API_KEY')"
      ],
      "metadata": {
        "id": "-0z2sqy7PioL"
      },
      "id": "-0z2sqy7PioL",
      "execution_count": 39,
      "outputs": []
    },
    {
      "cell_type": "code",
      "source": [],
      "metadata": {
        "id": "fTKrFylbPiJ1"
      },
      "id": "fTKrFylbPiJ1",
      "execution_count": null,
      "outputs": []
    },
    {
      "cell_type": "code",
      "execution_count": 40,
      "id": "943237a7",
      "metadata": {
        "execution": {
          "iopub.execute_input": "2024-10-20T22:39:36.387887Z",
          "iopub.status.busy": "2024-10-20T22:39:36.387019Z",
          "iopub.status.idle": "2024-10-20T22:39:36.588545Z",
          "shell.execute_reply": "2024-10-20T22:39:36.587753Z",
          "shell.execute_reply.started": "2024-10-20T22:39:36.387847Z"
        },
        "id": "943237a7"
      },
      "outputs": [],
      "source": [
        "#Replace None by your own value and justify\n",
        "llm = ChatOpenAI(temperature=0.5)\n",
        "\n"
      ]
    },
    {
      "cell_type": "code",
      "execution_count": 26,
      "id": "cdcdb42d",
      "metadata": {
        "execution": {
          "iopub.execute_input": "2024-10-20T22:45:07.865966Z",
          "iopub.status.busy": "2024-10-20T22:45:07.865684Z",
          "iopub.status.idle": "2024-10-20T22:45:07.870091Z",
          "shell.execute_reply": "2024-10-20T22:45:07.869041Z",
          "shell.execute_reply.started": "2024-10-20T22:45:07.865943Z"
        },
        "id": "cdcdb42d"
      },
      "outputs": [],
      "source": [
        "prompt = ChatPromptTemplate.from_template(  \"Write a funny product description for {product}. \"\n",
        "    \"Highlight its key features and benefits. Be short and concise\"\n",
        ")"
      ]
    },
    {
      "cell_type": "code",
      "execution_count": 41,
      "id": "d7abc20b",
      "metadata": {
        "execution": {
          "iopub.execute_input": "2024-10-20T22:45:10.586239Z",
          "iopub.status.busy": "2024-10-20T22:45:10.585938Z",
          "iopub.status.idle": "2024-10-20T22:45:10.590697Z",
          "shell.execute_reply": "2024-10-20T22:45:10.589707Z",
          "shell.execute_reply.started": "2024-10-20T22:45:10.586215Z"
        },
        "id": "d7abc20b"
      },
      "outputs": [],
      "source": [
        "# old code\n",
        "#chain = LLMChain(llm=llm, prompt=prompt)\n",
        "#correct code\n",
        "chain = prompt | llm\n"
      ]
    },
    {
      "cell_type": "code",
      "execution_count": null,
      "id": "ad44d1fb",
      "metadata": {
        "execution": {
          "iopub.execute_input": "2024-10-20T22:45:13.559302Z",
          "iopub.status.busy": "2024-10-20T22:45:13.558982Z",
          "iopub.status.idle": "2024-10-20T22:45:14.614766Z",
          "shell.execute_reply": "2024-10-20T22:45:14.614006Z",
          "shell.execute_reply.started": "2024-10-20T22:45:13.559277Z"
        },
        "id": "ad44d1fb",
        "outputId": "64ceba85-99f9-4bc8-9fd6-351fdfdc6870"
      },
      "outputs": [
        {
          "data": {
            "text/plain": [
              "AIMessage(content='Introducing the ultimate bath time companion - rubber ducks! These adorable little quackers are guaranteed to make bath time more fun and entertaining. With their waterproof design and buoyant body, they float effortlessly in the water, providing endless entertainment for kids and adults alike. Say goodbye to boring baths and hello to the joy of rubber ducks! Get yours today and add a splash of fun to your daily routine.', additional_kwargs={'refusal': None}, response_metadata={'token_usage': {'completion_tokens': 80, 'prompt_tokens': 27, 'total_tokens': 107, 'completion_tokens_details': {'audio_tokens': None, 'reasoning_tokens': 0}, 'prompt_tokens_details': {'audio_tokens': None, 'cached_tokens': 0}}, 'model_name': 'gpt-3.5-turbo-0125', 'system_fingerprint': None, 'finish_reason': 'stop', 'logprobs': None}, id='run-5d1b04f8-b2ab-4443-a265-ecd33f8e70c1-0', usage_metadata={'input_tokens': 27, 'output_tokens': 80, 'total_tokens': 107, 'input_token_details': {'cache_read': 0}, 'output_token_details': {'reasoning': 0}})"
            ]
          },
          "execution_count": 12,
          "metadata": {},
          "output_type": "execute_result"
        }
      ],
      "source": [
        "product = \"Rubber ducks\"\n",
        "chain.invoke(product)"
      ]
    },
    {
      "cell_type": "markdown",
      "id": "69b03469",
      "metadata": {
        "id": "69b03469"
      },
      "source": [
        "## SimpleSequentialChain"
      ]
    },
    {
      "cell_type": "code",
      "execution_count": 49,
      "id": "febee243",
      "metadata": {
        "execution": {
          "iopub.execute_input": "2024-10-20T22:47:39.897018Z",
          "iopub.status.busy": "2024-10-20T22:47:39.896687Z",
          "iopub.status.idle": "2024-10-20T22:47:39.901697Z",
          "shell.execute_reply": "2024-10-20T22:47:39.900690Z",
          "shell.execute_reply.started": "2024-10-20T22:47:39.896994Z"
        },
        "id": "febee243"
      },
      "outputs": [],
      "source": [
        "from langchain.chains import SimpleSequentialChain"
      ]
    },
    {
      "cell_type": "code",
      "execution_count": 60,
      "id": "2f31aa8a",
      "metadata": {
        "execution": {
          "iopub.execute_input": "2024-10-20T22:47:40.523137Z",
          "iopub.status.busy": "2024-10-20T22:47:40.522694Z",
          "iopub.status.idle": "2024-10-20T22:47:40.693164Z",
          "shell.execute_reply": "2024-10-20T22:47:40.692196Z",
          "shell.execute_reply.started": "2024-10-20T22:47:40.523102Z"
        },
        "id": "2f31aa8a"
      },
      "outputs": [],
      "source": [
        "llm = ChatOpenAI(temperature=0.9)\n",
        "\n",
        "# prompt template 1\n",
        "first_prompt = ChatPromptTemplate.from_template(\n",
        "\"Write a funny product description for {product}. \"\n",
        "    \"Highlight its key features and benefits. Be very descriptive, and as funny as you can with alot of humour\"\n",
        ")\n",
        "\n",
        "# Chain 1\n",
        "chain_one = LLMChain(llm=llm, prompt=first_prompt)"
      ]
    },
    {
      "cell_type": "code",
      "source": [
        "product = \"Condoms\"\n",
        "chain.invoke(product)"
      ],
      "metadata": {
        "colab": {
          "base_uri": "https://localhost:8080/"
        },
        "id": "fK3TQcp7Qaci",
        "outputId": "6777f16c-8d75-429c-d895-5a0b482255b1"
      },
      "id": "fK3TQcp7Qaci",
      "execution_count": 61,
      "outputs": [
        {
          "output_type": "execute_result",
          "data": {
            "text/plain": [
              "AIMessage(content='Introducing our \"Love Glove\" condoms - the must-have accessory for your next bedroom adventure! With our ultra-thin design and snug fit, you\\'ll barely even notice it\\'s there (wink, wink). Say goodbye to awkward trips to the pharmacy and hello to worry-free fun. Get your hands on a pack today and let the good times roll!', additional_kwargs={'refusal': None}, response_metadata={'token_usage': {'completion_tokens': 73, 'prompt_tokens': 28, 'total_tokens': 101, 'completion_tokens_details': {'accepted_prediction_tokens': 0, 'audio_tokens': 0, 'reasoning_tokens': 0, 'rejected_prediction_tokens': 0}, 'prompt_tokens_details': {'audio_tokens': 0, 'cached_tokens': 0}}, 'model_name': 'gpt-3.5-turbo-0125', 'system_fingerprint': None, 'finish_reason': 'stop', 'logprobs': None}, id='run-efb9d8cf-858f-47c1-a570-479d5fffc87d-0', usage_metadata={'input_tokens': 28, 'output_tokens': 73, 'total_tokens': 101, 'input_token_details': {'audio': 0, 'cache_read': 0}, 'output_token_details': {'audio': 0, 'reasoning': 0}})"
            ]
          },
          "metadata": {},
          "execution_count": 61
        }
      ]
    },
    {
      "cell_type": "code",
      "execution_count": 62,
      "id": "3f5d5b76",
      "metadata": {
        "execution": {
          "iopub.execute_input": "2024-10-20T22:48:19.771576Z",
          "iopub.status.busy": "2024-10-20T22:48:19.771176Z",
          "iopub.status.idle": "2024-10-20T22:48:19.777416Z",
          "shell.execute_reply": "2024-10-20T22:48:19.776207Z",
          "shell.execute_reply.started": "2024-10-20T22:48:19.771542Z"
        },
        "id": "3f5d5b76"
      },
      "outputs": [],
      "source": [
        "\n",
        "# prompt template 2\n",
        "second_prompt = ChatPromptTemplate.from_template(\n",
        "    \"Based on the review {review}, rate the quality of this product from zero to ten.\"\n",
        ")\n",
        "# chain 2\n",
        "chain_two = LLMChain(llm=llm, prompt=second_prompt)"
      ]
    },
    {
      "cell_type": "code",
      "execution_count": 63,
      "id": "6c1eb2c4",
      "metadata": {
        "execution": {
          "iopub.execute_input": "2024-10-20T22:48:22.017720Z",
          "iopub.status.busy": "2024-10-20T22:48:22.017368Z",
          "iopub.status.idle": "2024-10-20T22:48:22.022565Z",
          "shell.execute_reply": "2024-10-20T22:48:22.021474Z",
          "shell.execute_reply.started": "2024-10-20T22:48:22.017696Z"
        },
        "id": "6c1eb2c4"
      },
      "outputs": [],
      "source": [
        "overall_simple_chain = SimpleSequentialChain(chains=[chain_one, chain_two],\n",
        "                                             verbose=True\n",
        "                                            )"
      ]
    },
    {
      "cell_type": "code",
      "execution_count": 64,
      "id": "78458efe",
      "metadata": {
        "execution": {
          "iopub.execute_input": "2024-10-20T22:48:24.745918Z",
          "iopub.status.busy": "2024-10-20T22:48:24.745573Z"
        },
        "colab": {
          "base_uri": "https://localhost:8080/"
        },
        "id": "78458efe",
        "outputId": "f73cef03-f878-44db-946e-008a85bb6cfd"
      },
      "outputs": [
        {
          "output_type": "stream",
          "name": "stdout",
          "text": [
            "\n",
            "\n",
            "\u001b[1m> Entering new SimpleSequentialChain chain...\u001b[0m\n",
            "\u001b[36;1m\u001b[1;3mIntroducing the ultimate wingman for your little buddy - Condoms! These magical rubbery wonders are here to keep your manhood safe and sound while also providing a sidekick to help you in times of need.\n",
            "\n",
            "With their stretchy, flexible material, condoms are like a superhero cape for your member, protecting it from all sorts of dangers like unwanted pregnancies and sexually transmitted infections. Plus, they come in a variety of sizes and styles to cater to all shapes and preferences - because let's face it, one size does not fit all when it comes to your thunder down under.\n",
            "\n",
            "But wait, there's more! Condoms are also a fantastic way to add some excitement to your bedroom adventures. With ribbed, dotted, flavored, and even glow-in-the-dark options, there's no limit to the fun you can have with these trusty companions. Just imagine the look on your partner's face when you whip out a pineapple-flavored condom for a tropical twist on your night of passion.\n",
            "\n",
            "So don't leave your soldier unprotected - grab a pack of condoms today and let them be your loyal sidekick in all your naughty escapades. Trust us, you'll be thanking us later.\u001b[0m\n",
            "\u001b[33;1m\u001b[1;3mI would rate this product a 9. It provides a lot of information about the benefits and variety of condoms, highlighting their importance in sexual health and pleasure. The review is informative, engaging, and promotes safe sex practices in a fun and lighthearted way.\u001b[0m\n",
            "\n",
            "\u001b[1m> Finished chain.\u001b[0m\n"
          ]
        },
        {
          "output_type": "execute_result",
          "data": {
            "text/plain": [
              "{'input': 'Condoms',\n",
              " 'output': 'I would rate this product a 9. It provides a lot of information about the benefits and variety of condoms, highlighting their importance in sexual health and pleasure. The review is informative, engaging, and promotes safe sex practices in a fun and lighthearted way.'}"
            ]
          },
          "metadata": {},
          "execution_count": 64
        }
      ],
      "source": [
        "overall_simple_chain.invoke(product)"
      ]
    },
    {
      "cell_type": "markdown",
      "id": "0dd59bda-9d02-44e7-b3d6-2bec61b99d8f",
      "metadata": {
        "id": "0dd59bda-9d02-44e7-b3d6-2bec61b99d8f"
      },
      "source": [
        "**Repeat the above twice for different products**"
      ]
    },
    {
      "cell_type": "markdown",
      "id": "7b5ce18c",
      "metadata": {
        "id": "7b5ce18c"
      },
      "source": [
        "## SequentialChain"
      ]
    },
    {
      "cell_type": "code",
      "execution_count": 65,
      "id": "4c129ef6",
      "metadata": {
        "execution": {
          "iopub.execute_input": "2024-10-20T22:59:00.102034Z",
          "iopub.status.busy": "2024-10-20T22:59:00.101450Z",
          "iopub.status.idle": "2024-10-20T22:59:00.106271Z",
          "shell.execute_reply": "2024-10-20T22:59:00.105192Z",
          "shell.execute_reply.started": "2024-10-20T22:59:00.102008Z"
        },
        "id": "4c129ef6"
      },
      "outputs": [],
      "source": [
        "from langchain.chains import SequentialChain"
      ]
    },
    {
      "cell_type": "code",
      "execution_count": 66,
      "id": "016187ac",
      "metadata": {
        "execution": {
          "iopub.execute_input": "2024-10-20T22:59:01.225262Z",
          "iopub.status.busy": "2024-10-20T22:59:01.224721Z",
          "iopub.status.idle": "2024-10-20T22:59:01.399724Z",
          "shell.execute_reply": "2024-10-20T22:59:01.398997Z",
          "shell.execute_reply.started": "2024-10-20T22:59:01.225239Z"
        },
        "id": "016187ac"
      },
      "outputs": [],
      "source": [
        "llm = ChatOpenAI(temperature=0.9)\n",
        "\n",
        "\n",
        "first_prompt = ChatPromptTemplate.from_template(\n",
        "  \"Translate this {review} into french. \"\n",
        ")\n",
        "\n",
        "chain_one = LLMChain(llm=llm, prompt=first_prompt,\n",
        "                     output_key='fr_review' #Give a name to your output\n",
        "                    )\n"
      ]
    },
    {
      "cell_type": "code",
      "execution_count": 67,
      "id": "0fb0730e",
      "metadata": {
        "execution": {
          "iopub.execute_input": "2024-10-20T22:59:03.347186Z",
          "iopub.status.busy": "2024-10-20T22:59:03.346763Z",
          "iopub.status.idle": "2024-10-20T22:59:03.352694Z",
          "shell.execute_reply": "2024-10-20T22:59:03.351478Z",
          "shell.execute_reply.started": "2024-10-20T22:59:03.347153Z"
        },
        "id": "0fb0730e"
      },
      "outputs": [],
      "source": [
        "second_prompt = ChatPromptTemplate.from_template(\n",
        "    'Based on {fr_review}, summarize this review in less than 10 words in french.'\n",
        ")\n",
        "\n",
        "chain_two = LLMChain(llm=llm, prompt=second_prompt,\n",
        "                     output_key='fr_short_review' #give a name to this output\n",
        "                    )\n"
      ]
    },
    {
      "cell_type": "code",
      "execution_count": 68,
      "id": "6accf92d",
      "metadata": {
        "execution": {
          "iopub.execute_input": "2024-10-20T22:59:04.881245Z",
          "iopub.status.busy": "2024-10-20T22:59:04.880858Z",
          "iopub.status.idle": "2024-10-20T22:59:04.885801Z",
          "shell.execute_reply": "2024-10-20T22:59:04.884994Z",
          "shell.execute_reply.started": "2024-10-20T22:59:04.881206Z"
        },
        "id": "6accf92d"
      },
      "outputs": [],
      "source": [
        "# prompt template 3: translate to english or other language\n",
        "third_prompt = ChatPromptTemplate.from_template(\n",
        "    \"Translate {fr_short_review} into english\"\n",
        ")\n",
        "# chain 3: input= Review and output= language\n",
        "chain_three = LLMChain(llm=llm, prompt=third_prompt,\n",
        "                       output_key='en_short_review'\n",
        "                      )\n"
      ]
    },
    {
      "cell_type": "code",
      "execution_count": 69,
      "id": "c7a46121",
      "metadata": {
        "execution": {
          "iopub.execute_input": "2024-10-20T22:59:07.332722Z",
          "iopub.status.busy": "2024-10-20T22:59:07.332375Z",
          "iopub.status.idle": "2024-10-20T22:59:07.337786Z",
          "shell.execute_reply": "2024-10-20T22:59:07.336850Z",
          "shell.execute_reply.started": "2024-10-20T22:59:07.332675Z"
        },
        "id": "c7a46121"
      },
      "outputs": [],
      "source": [
        "\n",
        "# prompt template 4: follow up message that take as inputs the two previous prompts' variables\n",
        "fourth_prompt = ChatPromptTemplate.from_template(\n",
        "\"Rate the quality of the translation of {fr_short_review} into {en_short_review} from zero to ten.\"\n",
        ")\n",
        "chain_four = LLMChain(llm=llm, prompt=fourth_prompt,\n",
        "                      output_key='rating'\n",
        "                     )\n"
      ]
    },
    {
      "cell_type": "code",
      "execution_count": 70,
      "id": "89603117",
      "metadata": {
        "execution": {
          "iopub.execute_input": "2024-10-20T22:59:29.438358Z",
          "iopub.status.busy": "2024-10-20T22:59:29.437631Z",
          "iopub.status.idle": "2024-10-20T22:59:29.442928Z",
          "shell.execute_reply": "2024-10-20T22:59:29.441898Z",
          "shell.execute_reply.started": "2024-10-20T22:59:29.438332Z"
        },
        "id": "89603117"
      },
      "outputs": [],
      "source": [
        "# overall_chain: input= Review\n",
        "# and output= English_Review,summary, followup_message\n",
        "overall_chain = SequentialChain(\n",
        "    chains=[chain_one, chain_two, chain_three, chain_four],\n",
        "    input_variables=[\"review\"],\n",
        "    output_variables=['fr_short_review','en_short_review', 'rating'],\n",
        "    verbose=True\n",
        ")"
      ]
    },
    {
      "cell_type": "code",
      "execution_count": 71,
      "id": "51b04f45",
      "metadata": {
        "execution": {
          "iopub.execute_input": "2024-10-20T22:59:43.748948Z",
          "iopub.status.busy": "2024-10-20T22:59:43.747928Z",
          "iopub.status.idle": "2024-10-20T22:59:46.074236Z",
          "shell.execute_reply": "2024-10-20T22:59:46.073353Z",
          "shell.execute_reply.started": "2024-10-20T22:59:43.748909Z"
        },
        "colab": {
          "base_uri": "https://localhost:8080/"
        },
        "id": "51b04f45",
        "outputId": "835c2731-6e87-447c-867e-36b07a3a2d9e"
      },
      "outputs": [
        {
          "output_type": "stream",
          "name": "stdout",
          "text": [
            "\n",
            "\n",
            "\u001b[1m> Entering new SequentialChain chain...\u001b[0m\n",
            "\n",
            "\u001b[1m> Finished chain.\u001b[0m\n"
          ]
        },
        {
          "output_type": "execute_result",
          "data": {
            "text/plain": [
              "{'review': \"Je trouve le goût médiocre. La mousse ne tient pas, c'est bizarre. J'achète les mêmes dans le commerce et le goût est bien meilleur...\\nVieux lot ou contrefaçon !?\",\n",
              " 'fr_short_review': 'Mauvais goût, mousse étrange, possible contrefaçon.',\n",
              " 'en_short_review': 'Bad taste, strange foam, possible counterfeit.',\n",
              " 'rating': 'I would rate the quality of the translation as an 8 out of 10. The translation accurately conveys the meaning of the original phrase while maintaining the overall tone and context.'}"
            ]
          },
          "metadata": {},
          "execution_count": 71
        }
      ],
      "source": [
        "review = df.Review[5]\n",
        "overall_chain.invoke(review)"
      ]
    },
    {
      "cell_type": "markdown",
      "id": "3187cf07-458a-4226-bec7-3dec7ee47af2",
      "metadata": {
        "id": "3187cf07-458a-4226-bec7-3dec7ee47af2"
      },
      "source": [
        "**Repeat the above twice for different products or reviews**"
      ]
    },
    {
      "cell_type": "markdown",
      "id": "3041ea4c",
      "metadata": {
        "id": "3041ea4c"
      },
      "source": [
        "## Router Chain"
      ]
    },
    {
      "cell_type": "code",
      "execution_count": 72,
      "id": "ade83f4f",
      "metadata": {
        "execution": {
          "iopub.execute_input": "2024-10-20T23:00:34.863350Z",
          "iopub.status.busy": "2024-10-20T23:00:34.863025Z",
          "iopub.status.idle": "2024-10-20T23:00:34.868670Z",
          "shell.execute_reply": "2024-10-20T23:00:34.867729Z",
          "shell.execute_reply.started": "2024-10-20T23:00:34.863325Z"
        },
        "id": "ade83f4f"
      },
      "outputs": [],
      "source": [
        "physics_template = \"\"\"You are a very smart physics professor. \\\n",
        "You are great at answering questions about physics in a concise\\\n",
        "and easy to understand manner. \\\n",
        "When you don't know the answer to a question you admit\\\n",
        "that you don't know.\n",
        "\n",
        "Here is a question:\n",
        "{input}\"\"\"\n",
        "\n",
        "\n",
        "math_template = \"\"\"You are a very good mathematician. \\\n",
        "You are great at answering math questions. \\\n",
        "You are so good because you are able to break down \\\n",
        "hard problems into their component parts,\n",
        "answer the component parts, and then put them together\\\n",
        "to answer the broader question.\n",
        "\n",
        "Here is a question:\n",
        "{input}\"\"\"\n",
        "\n",
        "history_template = \"\"\"You are a very good historian. \\\n",
        "You have an excellent knowledge of and understanding of people,\\\n",
        "events and contexts from a range of historical periods. \\\n",
        "You have the ability to think, reflect, debate, discuss and \\\n",
        "evaluate the past. You have a respect for historical evidence\\\n",
        "and the ability to make use of it to support your explanations \\\n",
        "and judgements.\n",
        "\n",
        "Here is a question:\n",
        "{input}\"\"\"\n",
        "\n",
        "\n",
        "computerscience_template = \"\"\" You are a successful computer scientist.\\\n",
        "You have a passion for creativity, collaboration,\\\n",
        "forward-thinking, confidence, strong problem-solving capabilities,\\\n",
        "understanding of theories and algorithms, and excellent communication \\\n",
        "skills. You are great at answering coding questions. \\\n",
        "You are so good because you know how to solve a problem by \\\n",
        "describing the solution in imperative steps \\\n",
        "that a machine can easily interpret and you know how to \\\n",
        "choose a solution that has a good balance between \\\n",
        "time complexity and space complexity.\n",
        "\n",
        "Here is a question:\n",
        "{input}\"\"\""
      ]
    },
    {
      "cell_type": "code",
      "execution_count": 74,
      "id": "5f590e9f",
      "metadata": {
        "execution": {
          "iopub.execute_input": "2024-10-20T23:07:10.154175Z",
          "iopub.status.busy": "2024-10-20T23:07:10.153352Z",
          "iopub.status.idle": "2024-10-20T23:07:10.160181Z",
          "shell.execute_reply": "2024-10-20T23:07:10.159147Z",
          "shell.execute_reply.started": "2024-10-20T23:07:10.154149Z"
        },
        "id": "5f590e9f"
      },
      "outputs": [],
      "source": [
        "prompt_infos = [\n",
        "    {\n",
        "        \"name\": \"physics\",\n",
        "        \"description\": \"Good for answering questions about physics\",\n",
        "        \"prompt_template\": physics_template\n",
        "    },\n",
        "    {\n",
        "        \"name\": \"math\",\n",
        "        \"description\": \"Good for answering math questions\",\n",
        "        \"prompt_template\": math_template\n",
        "    },\n",
        "    {\n",
        "        \"name\": \"History\",\n",
        "        \"description\": \"Good for answering history questions\",\n",
        "        \"prompt_template\": history_template\n",
        "    },\n",
        "    {\n",
        "        \"name\": \"computer science\",\n",
        "        \"description\": \"Good for answering computer science questions\",\n",
        "        \"prompt_template\": computerscience_template\n",
        "    }\n",
        "]\n",
        "\n",
        "prompt_templates = {\n",
        "    info[\"name\"]: ChatPromptTemplate.from_template(info[\"prompt_template\"])\n",
        "    for info in prompt_infos\n",
        "}\n"
      ]
    },
    {
      "cell_type": "code",
      "execution_count": 75,
      "id": "31b06fc8",
      "metadata": {
        "execution": {
          "iopub.execute_input": "2024-10-20T23:07:12.860777Z",
          "iopub.status.busy": "2024-10-20T23:07:12.860475Z",
          "iopub.status.idle": "2024-10-20T23:07:12.864920Z",
          "shell.execute_reply": "2024-10-20T23:07:12.864063Z",
          "shell.execute_reply.started": "2024-10-20T23:07:12.860753Z"
        },
        "id": "31b06fc8"
      },
      "outputs": [],
      "source": [
        "from langchain.chains.router import MultiPromptChain\n",
        "from langchain.chains.router.llm_router import LLMRouterChain, RouterOutputParser\n",
        "from langchain.prompts import PromptTemplate"
      ]
    },
    {
      "cell_type": "code",
      "execution_count": 76,
      "id": "f3f50bcc",
      "metadata": {
        "execution": {
          "iopub.execute_input": "2024-10-20T23:07:15.346148Z",
          "iopub.status.busy": "2024-10-20T23:07:15.345114Z",
          "iopub.status.idle": "2024-10-20T23:07:15.530878Z",
          "shell.execute_reply": "2024-10-20T23:07:15.529792Z",
          "shell.execute_reply.started": "2024-10-20T23:07:15.346109Z"
        },
        "id": "f3f50bcc"
      },
      "outputs": [],
      "source": [
        "llm = ChatOpenAI(temperature=0)"
      ]
    },
    {
      "cell_type": "code",
      "execution_count": 77,
      "id": "8eefec24",
      "metadata": {
        "execution": {
          "iopub.execute_input": "2024-10-20T23:07:16.553928Z",
          "iopub.status.busy": "2024-10-20T23:07:16.553623Z",
          "iopub.status.idle": "2024-10-20T23:07:16.560841Z",
          "shell.execute_reply": "2024-10-20T23:07:16.559512Z",
          "shell.execute_reply.started": "2024-10-20T23:07:16.553904Z"
        },
        "id": "8eefec24"
      },
      "outputs": [],
      "source": [
        "destination_chains = {}\n",
        "for p_info in prompt_infos:\n",
        "    name = p_info[\"name\"]\n",
        "    prompt_template = p_info[\"prompt_template\"]\n",
        "    prompt = ChatPromptTemplate.from_template(template=prompt_template)\n",
        "    chain = LLMChain(llm=llm, prompt=prompt)\n",
        "    destination_chains[name] = chain\n",
        "\n",
        "destinations = [f\"{p['name']}: {p['description']}\" for p in prompt_infos]\n",
        "destinations_str = \"\\n\".join(destinations)"
      ]
    },
    {
      "cell_type": "code",
      "execution_count": 78,
      "id": "9f98018a",
      "metadata": {
        "execution": {
          "iopub.execute_input": "2024-10-20T23:07:19.007495Z",
          "iopub.status.busy": "2024-10-20T23:07:19.006748Z",
          "iopub.status.idle": "2024-10-20T23:07:19.012950Z",
          "shell.execute_reply": "2024-10-20T23:07:19.011604Z",
          "shell.execute_reply.started": "2024-10-20T23:07:19.007461Z"
        },
        "id": "9f98018a"
      },
      "outputs": [],
      "source": [
        "default_prompt = ChatPromptTemplate.from_template(\"{input}\")\n",
        "default_chain = LLMChain(llm=llm, prompt=default_prompt)"
      ]
    },
    {
      "cell_type": "code",
      "execution_count": 79,
      "id": "11b2e2ba",
      "metadata": {
        "execution": {
          "iopub.execute_input": "2024-10-20T23:07:20.161097Z",
          "iopub.status.busy": "2024-10-20T23:07:20.160678Z",
          "iopub.status.idle": "2024-10-20T23:07:20.167808Z",
          "shell.execute_reply": "2024-10-20T23:07:20.166363Z",
          "shell.execute_reply.started": "2024-10-20T23:07:20.161063Z"
        },
        "id": "11b2e2ba"
      },
      "outputs": [],
      "source": [
        "MULTI_PROMPT_ROUTER_TEMPLATE = \"\"\"Given a raw text input to a \\\n",
        "language model select the model prompt best suited for the input. \\\n",
        "You will be given the names of the available prompts and a \\\n",
        "description of what the prompt is best suited for. \\\n",
        "You may also revise the original input if you think that revising\\\n",
        "it will ultimately lead to a better response from the language model.\n",
        "\n",
        "<< FORMATTING >>\n",
        "Return a markdown code snippet with a JSON object formatted to look like:\n",
        "```json\n",
        "{{{{\n",
        "    \"destination\": string \\ name of the prompt to use or \"DEFAULT\"\n",
        "    \"next_inputs\": string \\ a potentially modified version of the original input\n",
        "}}}}\n",
        "```\n",
        "\n",
        "REMEMBER: \"destination\" MUST be one of the candidate prompt \\\n",
        "names specified below OR it can be \"DEFAULT\" if the input is not\\\n",
        "well suited for any of the candidate prompts.\n",
        "REMEMBER: \"next_inputs\" can just be the original input \\\n",
        "if you don't think any modifications are needed.\n",
        "\n",
        "<< CANDIDATE PROMPTS >>\n",
        "{destinations}\n",
        "\n",
        "<< INPUT >>\n",
        "{{input}}\n",
        "\n",
        "<< OUTPUT (remember to include the ```json)>>\"\"\""
      ]
    },
    {
      "cell_type": "code",
      "execution_count": 80,
      "id": "1387109d",
      "metadata": {
        "execution": {
          "iopub.execute_input": "2024-10-20T23:04:17.809929Z",
          "iopub.status.busy": "2024-10-20T23:04:17.809622Z",
          "iopub.status.idle": "2024-10-20T23:04:17.817411Z",
          "shell.execute_reply": "2024-10-20T23:04:17.816094Z",
          "shell.execute_reply.started": "2024-10-20T23:04:17.809904Z"
        },
        "colab": {
          "base_uri": "https://localhost:8080/"
        },
        "id": "1387109d",
        "outputId": "f5d134f4-cdf1-4464-bd23-7431995bbc37"
      },
      "outputs": [
        {
          "output_type": "stream",
          "name": "stderr",
          "text": [
            "<ipython-input-80-d85ae20e0d46>:16: LangChainDeprecationWarning: Please see migration guide here for recommended implementation: https://python.langchain.com/docs/versions/migrating_chains/multi_prompt_chain/\n",
            "  chain = MultiPromptChain(router_chain=router_chain,\n"
          ]
        }
      ],
      "source": [
        "from langchain_core.runnables import RunnableLambda, RunnablePassthrough\n",
        "\n",
        "router_template = MULTI_PROMPT_ROUTER_TEMPLATE.format(\n",
        "    destinations=destinations_str\n",
        ")\n",
        "\n",
        "router_prompt = PromptTemplate(\n",
        "    template=router_template,\n",
        "    input_variables=[\"input\"],\n",
        "    output_parser=RouterOutputParser(),\n",
        ")\n",
        "\n",
        "#router_chain = router_prompt | llm | RunnableLambda(lambda x: x.content)\n",
        "router_chain = LLMRouterChain.from_llm(llm, router_prompt)\n",
        "\n",
        "chain = MultiPromptChain(router_chain=router_chain,\n",
        "                         destination_chains=destination_chains,\n",
        "                         default_chain=default_chain,\n",
        "                         verbose=True\n",
        "                        )"
      ]
    },
    {
      "cell_type": "code",
      "execution_count": 81,
      "id": "59ecd57c",
      "metadata": {
        "colab": {
          "base_uri": "https://localhost:8080/"
        },
        "id": "59ecd57c",
        "outputId": "9195d7e7-91d4-4a7d-8e80-8d47d373efc9"
      },
      "outputs": [
        {
          "output_type": "execute_result",
          "data": {
            "text/plain": [
              "{'input': 'Explain what principle component analysis is using linear algebra',\n",
              " 'destination': 'computer science',\n",
              " 'next_inputs': {'input': 'Explain what principle component analysis is using linear algebra'}}"
            ]
          },
          "metadata": {},
          "execution_count": 81
        }
      ],
      "source": [
        "router_chain.invoke(\"Explain what principle component analysis is using linear algebra\")"
      ]
    },
    {
      "cell_type": "code",
      "execution_count": 82,
      "id": "2fb7d560",
      "metadata": {
        "execution": {
          "iopub.execute_input": "2024-10-20T23:07:27.092866Z",
          "iopub.status.busy": "2024-10-20T23:07:27.091880Z",
          "iopub.status.idle": "2024-10-20T23:07:29.491987Z",
          "shell.execute_reply": "2024-10-20T23:07:29.491037Z",
          "shell.execute_reply.started": "2024-10-20T23:07:27.092826Z"
        },
        "colab": {
          "base_uri": "https://localhost:8080/"
        },
        "id": "2fb7d560",
        "outputId": "aa8dd667-b4a9-479d-a2d3-058caa119274"
      },
      "outputs": [
        {
          "output_type": "stream",
          "name": "stdout",
          "text": [
            "\n",
            "\n",
            "\u001b[1m> Entering new MultiPromptChain chain...\u001b[0m\n",
            "computer science: {'input': 'Explain what principle component analysis is using linear algebra'}\n",
            "\u001b[1m> Finished chain.\u001b[0m\n"
          ]
        }
      ],
      "source": [
        "response = chain.invoke(\"Explain what principle component analysis is using linear algebra\")\n"
      ]
    },
    {
      "cell_type": "code",
      "execution_count": 83,
      "id": "a4a021d0-8868-4c43-a6ed-f5f02c2810bf",
      "metadata": {
        "execution": {
          "iopub.execute_input": "2024-10-20T23:07:39.825638Z",
          "iopub.status.busy": "2024-10-20T23:07:39.825066Z",
          "iopub.status.idle": "2024-10-20T23:07:39.831769Z",
          "shell.execute_reply": "2024-10-20T23:07:39.830864Z",
          "shell.execute_reply.started": "2024-10-20T23:07:39.825611Z"
        },
        "colab": {
          "base_uri": "https://localhost:8080/"
        },
        "id": "a4a021d0-8868-4c43-a6ed-f5f02c2810bf",
        "outputId": "16a49718-4f86-4c1e-aaac-6ac5ec3f4107"
      },
      "outputs": [
        {
          "output_type": "execute_result",
          "data": {
            "text/plain": [
              "{'input': 'Explain what principle component analysis is using linear algebra',\n",
              " 'text': 'Principal Component Analysis (PCA) is a technique used in data analysis and machine learning to reduce the dimensionality of a dataset while preserving as much variance as possible. \\n\\nIn linear algebra terms, PCA involves finding the eigenvectors and eigenvalues of the covariance matrix of the dataset. The eigenvectors represent the directions of maximum variance in the data, while the eigenvalues represent the amount of variance along each eigenvector.\\n\\nTo perform PCA, we first center the data by subtracting the mean of each feature from the data points. Then, we compute the covariance matrix of the centered data. Next, we find the eigenvectors and eigenvalues of the covariance matrix. \\n\\nThe eigenvectors form a new basis for the data, where the first eigenvector corresponds to the direction of maximum variance, the second eigenvector corresponds to the direction of second maximum variance, and so on. The eigenvalues indicate the amount of variance explained by each eigenvector.\\n\\nBy projecting the data onto the eigenvectors with the highest eigenvalues, we can reduce the dimensionality of the dataset while retaining as much variance as possible. This allows us to visualize and analyze the data more effectively, as well as potentially improve the performance of machine learning algorithms by reducing the amount of noise and redundancy in the data.'}"
            ]
          },
          "metadata": {},
          "execution_count": 83
        }
      ],
      "source": [
        "response"
      ]
    },
    {
      "cell_type": "code",
      "execution_count": 84,
      "id": "d86b2131",
      "metadata": {
        "execution": {
          "iopub.execute_input": "2024-10-20T23:07:59.438427Z",
          "iopub.status.busy": "2024-10-20T23:07:59.437798Z",
          "iopub.status.idle": "2024-10-20T23:08:01.758849Z",
          "shell.execute_reply": "2024-10-20T23:08:01.757761Z",
          "shell.execute_reply.started": "2024-10-20T23:07:59.438401Z"
        },
        "colab": {
          "base_uri": "https://localhost:8080/"
        },
        "id": "d86b2131",
        "outputId": "71538440-f799-4852-faa9-a6d70740fb9f"
      },
      "outputs": [
        {
          "output_type": "stream",
          "name": "stdout",
          "text": [
            "\n",
            "\n",
            "\u001b[1m> Entering new MultiPromptChain chain...\u001b[0m\n",
            "physics: {'input': 'What is black body radiation?'}\n",
            "\u001b[1m> Finished chain.\u001b[0m\n"
          ]
        },
        {
          "output_type": "execute_result",
          "data": {
            "text/plain": [
              "{'input': 'What is black body radiation?',\n",
              " 'text': \"Black body radiation refers to the electromagnetic radiation emitted by a perfect black body, which is an idealized physical body that absorbs all incident electromagnetic radiation and emits radiation at all frequencies. The radiation emitted by a black body depends only on its temperature and follows a specific distribution known as Planck's law. This type of radiation is important in understanding concepts such as thermal radiation and the behavior of objects at different temperatures.\"}"
            ]
          },
          "metadata": {},
          "execution_count": 84
        }
      ],
      "source": [
        "chain.invoke(\"What is black body radiation?\")"
      ]
    },
    {
      "cell_type": "code",
      "execution_count": 85,
      "id": "3b717379",
      "metadata": {
        "execution": {
          "iopub.execute_input": "2024-10-20T23:08:08.027664Z",
          "iopub.status.busy": "2024-10-20T23:08:08.026993Z",
          "iopub.status.idle": "2024-10-20T23:08:08.337357Z",
          "shell.execute_reply": "2024-10-20T23:08:08.336563Z",
          "shell.execute_reply.started": "2024-10-20T23:08:08.027639Z"
        },
        "colab": {
          "base_uri": "https://localhost:8080/"
        },
        "id": "3b717379",
        "outputId": "5d592fc0-e556-455e-c72d-0a752a73f622"
      },
      "outputs": [
        {
          "output_type": "stream",
          "name": "stdout",
          "text": [
            "\n",
            "\n",
            "\u001b[1m> Entering new MultiPromptChain chain...\u001b[0m\n",
            "math: {'input': 'what is 2 + 2'}\n",
            "\u001b[1m> Finished chain.\u001b[0m\n"
          ]
        },
        {
          "output_type": "execute_result",
          "data": {
            "text/plain": [
              "{'input': 'what is 2 + 2', 'text': '2 + 2 is equal to 4.'}"
            ]
          },
          "metadata": {},
          "execution_count": 85
        }
      ],
      "source": [
        "chain.invoke(\"what is 2 + 2\")"
      ]
    },
    {
      "cell_type": "code",
      "source": [
        "prompt_infos = [\n",
        "    {\n",
        "        \"name\": \"physics\",\n",
        "        \"description\": \"Good for answering questions about physics\",\n",
        "        \"prompt_template\": physics_template\n",
        "    },\n",
        "    {\n",
        "        \"name\": \"math\",\n",
        "        \"description\": \"Good for answering math questions\",\n",
        "        \"prompt_template\": math_template\n",
        "    },\n",
        "    {\n",
        "        \"name\": \"History\",\n",
        "        \"description\": \"Good for answering history questions\",\n",
        "        \"prompt_template\": history_template\n",
        "    },\n",
        "    {\n",
        "        \"name\": \"computer science\",\n",
        "        \"description\": \"Good for answering computer science questions\",\n",
        "        \"prompt_template\": computerscience_template\n",
        "    },\n",
        "    # Add a new prompt info for biology\n",
        "    {\n",
        "        \"name\": \"biology\",  # The name should match the router's output\n",
        "        \"description\": \"Good for answering questions about biology\",\n",
        "        \"prompt_template\": \"{input}\"  # You might need a more specific template\n",
        "    }\n",
        "]\n",
        "\n",
        "# ... (rest of your code) ...\n",
        "\n",
        "destination_chains = {}\n",
        "for p_info in prompt_infos:\n",
        "    name = p_info[\"name\"]\n",
        "    prompt_template = p_info[\"prompt_template\"]\n",
        "    prompt = ChatPromptTemplate.from_template(template=prompt_template)\n",
        "    chain = LLMChain(llm=llm, prompt=prompt)\n",
        "    destination_chains[name] = chain\n",
        "\n",
        "# ... (rest of your code) ..."
      ],
      "metadata": {
        "id": "WcfRF3iLSqO4"
      },
      "id": "WcfRF3iLSqO4",
      "execution_count": 87,
      "outputs": []
    },
    {
      "cell_type": "code",
      "execution_count": 88,
      "id": "29e5be01",
      "metadata": {
        "colab": {
          "base_uri": "https://localhost:8080/",
          "height": 72
        },
        "id": "29e5be01",
        "outputId": "d2461e61-5ee5-44a9-9c70-4ccd4b0640e1"
      },
      "outputs": [
        {
          "output_type": "execute_result",
          "data": {
            "text/plain": [
              "'Every cell in our body contains DNA because DNA carries the genetic information that determines the characteristics and functions of an organism. DNA contains the instructions for building and maintaining an organism, including the proteins that are essential for cell function and structure. This genetic information is passed down from parent to offspring and is essential for the growth, development, and functioning of all cells in the body. Having DNA in every cell ensures that the genetic information is preserved and can be used to carry out the necessary processes for life.'"
            ],
            "application/vnd.google.colaboratory.intrinsic+json": {
              "type": "string"
            }
          },
          "metadata": {},
          "execution_count": 88
        }
      ],
      "source": [
        "chain.run(\"Why does every cell in our body contain DNA?\")"
      ]
    },
    {
      "cell_type": "markdown",
      "id": "09e0c60b-7ae0-453e-9467-142d8dafee6e",
      "metadata": {
        "id": "09e0c60b-7ae0-453e-9467-142d8dafee6e"
      },
      "source": [
        "**Repeat the above at least once for different inputs and chains executions - Be creative!**"
      ]
    }
  ],
  "metadata": {
    "kernelspec": {
      "display_name": "ironhack",
      "language": "python",
      "name": "python3"
    },
    "language_info": {
      "codemirror_mode": {
        "name": "ipython",
        "version": 3
      },
      "file_extension": ".py",
      "mimetype": "text/x-python",
      "name": "python",
      "nbconvert_exporter": "python",
      "pygments_lexer": "ipython3",
      "version": "3.12.4"
    },
    "colab": {
      "provenance": [],
      "include_colab_link": true
    }
  },
  "nbformat": 4,
  "nbformat_minor": 5
}