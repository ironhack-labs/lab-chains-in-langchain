{
 "cells": [
  {
   "cell_type": "markdown",
   "id": "52824b89-532a-4e54-87e9-1410813cd39e",
   "metadata": {},
   "source": [
    "# Lab | Chains in LangChain\n",
    "\n",
    "## Outline\n",
    "\n",
    "* LLMChain\n",
    "* Sequential Chains\n",
    "  * SimpleSequentialChain\n",
    "  * SequentialChain\n",
    "* Router Chain"
   ]
  },
  {
   "cell_type": "code",
   "execution_count": 105,
   "id": "541eb2f1",
   "metadata": {},
   "outputs": [],
   "source": [
    "import warnings\n",
    "warnings.filterwarnings('ignore')"
   ]
  },
  {
   "cell_type": "code",
   "execution_count": 106,
   "id": "b7ed03ed-1322-49e3-b2a2-33e94fb592ef",
   "metadata": {
    "tags": []
   },
   "outputs": [],
   "source": [
    "import os\n",
    "\n",
    "from dotenv import load_dotenv, find_dotenv\n",
    "_ = load_dotenv(find_dotenv())\n",
    "\n",
    "OPENAI_API_KEY  = os.getenv('OPENAI_API_KEY')\n",
    "HUGGINGFACEHUB_API_TOKEN = os.getenv('HUGGINGFACEHUB_API_TOKEN')"
   ]
  },
  {
   "cell_type": "code",
   "execution_count": 107,
   "id": "974acf8e-8f88-42de-88f8-40a82cb58e8b",
   "metadata": {
    "tags": []
   },
   "outputs": [],
   "source": [
    "import pandas as pd\n",
    "df = pd.read_csv('./data/Data.csv')"
   ]
  },
  {
   "cell_type": "code",
   "execution_count": 108,
   "id": "b7a09c35",
   "metadata": {
    "tags": []
   },
   "outputs": [
    {
     "data": {
      "text/html": [
       "<div>\n",
       "<style scoped>\n",
       "    .dataframe tbody tr th:only-of-type {\n",
       "        vertical-align: middle;\n",
       "    }\n",
       "\n",
       "    .dataframe tbody tr th {\n",
       "        vertical-align: top;\n",
       "    }\n",
       "\n",
       "    .dataframe thead th {\n",
       "        text-align: right;\n",
       "    }\n",
       "</style>\n",
       "<table border=\"1\" class=\"dataframe\">\n",
       "  <thead>\n",
       "    <tr style=\"text-align: right;\">\n",
       "      <th></th>\n",
       "      <th>Product</th>\n",
       "      <th>Review</th>\n",
       "    </tr>\n",
       "  </thead>\n",
       "  <tbody>\n",
       "    <tr>\n",
       "      <th>0</th>\n",
       "      <td>Queen Size Sheet Set</td>\n",
       "      <td>I ordered a king size set. My only criticism w...</td>\n",
       "    </tr>\n",
       "    <tr>\n",
       "      <th>1</th>\n",
       "      <td>Waterproof Phone Pouch</td>\n",
       "      <td>I loved the waterproof sac, although the openi...</td>\n",
       "    </tr>\n",
       "    <tr>\n",
       "      <th>2</th>\n",
       "      <td>Luxury Air Mattress</td>\n",
       "      <td>This mattress had a small hole in the top of i...</td>\n",
       "    </tr>\n",
       "    <tr>\n",
       "      <th>3</th>\n",
       "      <td>Pillows Insert</td>\n",
       "      <td>This is the best throw pillow fillers on Amazo...</td>\n",
       "    </tr>\n",
       "    <tr>\n",
       "      <th>4</th>\n",
       "      <td>Milk Frother Handheld</td>\n",
       "      <td>I loved this product. But they only seem to l...</td>\n",
       "    </tr>\n",
       "    <tr>\n",
       "      <th>5</th>\n",
       "      <td>L'Or Espresso Café</td>\n",
       "      <td>Je trouve le goût médiocre. La mousse ne tient...</td>\n",
       "    </tr>\n",
       "    <tr>\n",
       "      <th>6</th>\n",
       "      <td>Hervidor de Agua Eléctrico</td>\n",
       "      <td>Está lu bonita calienta muy rápido, es muy fun...</td>\n",
       "    </tr>\n",
       "  </tbody>\n",
       "</table>\n",
       "</div>"
      ],
      "text/plain": [
       "                      Product  \\\n",
       "0        Queen Size Sheet Set   \n",
       "1      Waterproof Phone Pouch   \n",
       "2         Luxury Air Mattress   \n",
       "3              Pillows Insert   \n",
       "4       Milk Frother Handheld   \n",
       "5          L'Or Espresso Café   \n",
       "6  Hervidor de Agua Eléctrico   \n",
       "\n",
       "                                              Review  \n",
       "0  I ordered a king size set. My only criticism w...  \n",
       "1  I loved the waterproof sac, although the openi...  \n",
       "2  This mattress had a small hole in the top of i...  \n",
       "3  This is the best throw pillow fillers on Amazo...  \n",
       "4   I loved this product. But they only seem to l...  \n",
       "5  Je trouve le goût médiocre. La mousse ne tient...  \n",
       "6  Está lu bonita calienta muy rápido, es muy fun...  "
      ]
     },
     "execution_count": 108,
     "metadata": {},
     "output_type": "execute_result"
    }
   ],
   "source": [
    "df.head(10)"
   ]
  },
  {
   "cell_type": "markdown",
   "id": "b940ce7c",
   "metadata": {},
   "source": [
    "## LLMChain"
   ]
  },
  {
   "cell_type": "code",
   "execution_count": 109,
   "id": "e92dff22",
   "metadata": {
    "tags": []
   },
   "outputs": [],
   "source": [
    "from langchain_openai import ChatOpenAI\n",
    "from langchain.prompts import ChatPromptTemplate\n",
    "from langchain.chains import LLMChain"
   ]
  },
  {
   "cell_type": "code",
   "execution_count": 110,
   "id": "943237a7",
   "metadata": {},
   "outputs": [],
   "source": [
    "#Replace None by your own value and justify\n",
    "llm = ChatOpenAI(temperature=1)\n",
    "\n"
   ]
  },
  {
   "cell_type": "markdown",
   "id": "d2e05f09",
   "metadata": {},
   "source": [
    "- Low temperature (0 to 0.3): For accuracy and consistency in text generation\n",
    "- Higher temperature (above 0.5): For creative or varied generations\n",
    "\n",
    "Since we will be generating product descriptions (e.g. for an online store), we need some creativity and should work with a Temperature value around 1."
   ]
  },
  {
   "cell_type": "code",
   "execution_count": 111,
   "id": "cdcdb42d",
   "metadata": {},
   "outputs": [],
   "source": [
    "prompt = ChatPromptTemplate.from_template( #Write a query that would take a variable to describe any product\n",
    "    \"Write a funny online-store description of this product: {product}\"\n",
    ")"
   ]
  },
  {
   "cell_type": "code",
   "execution_count": 112,
   "id": "d7abc20b",
   "metadata": {
    "notebookRunGroups": {
     "groupValue": "2"
    }
   },
   "outputs": [],
   "source": [
    "chain = prompt | llm"
   ]
  },
  {
   "cell_type": "code",
   "execution_count": 113,
   "id": "ad44d1fb",
   "metadata": {},
   "outputs": [
    {
     "name": "stdout",
     "output_type": "stream",
     "text": [
      "content=\"Introducing the most delectable footwear you'll ever slip your feet into - cheese-shaped slippers! Made with the finest faux fromage materials, these deliciously cheesy slippers are perfect for lounging around the house or indulging in a late-night snack attack. Say goodbye to boring old socks and hello to gourmet fashion for your feet. Just be careful, you may attract some hungry mice with these cheesy kicks! So, go ahead and treat yourself to a pair of cheese-shaped slippers - after all, who doesn't love a little extra cheese in their life?\" additional_kwargs={'refusal': None} response_metadata={'token_usage': {'completion_tokens': 115, 'prompt_tokens': 21, 'total_tokens': 136, 'completion_tokens_details': {'audio_tokens': None, 'reasoning_tokens': 0}, 'prompt_tokens_details': {'audio_tokens': None, 'cached_tokens': 0}}, 'model_name': 'gpt-3.5-turbo-0125', 'system_fingerprint': None, 'finish_reason': 'stop', 'logprobs': None} id='run-b1241485-6dbf-4dba-964e-17043d2386c4-0' usage_metadata={'input_tokens': 21, 'output_tokens': 115, 'total_tokens': 136, 'input_token_details': {'cache_read': 0}, 'output_token_details': {'reasoning': 0}}\n"
     ]
    }
   ],
   "source": [
    "product = \"cheese-shaped slippers\" #Select a product type to be describe\n",
    "result = chain.invoke(product)\n",
    "print(result)"
   ]
  },
  {
   "cell_type": "markdown",
   "id": "69b03469",
   "metadata": {},
   "source": [
    "## SimpleSequentialChain"
   ]
  },
  {
   "cell_type": "code",
   "execution_count": 114,
   "id": "febee243",
   "metadata": {},
   "outputs": [],
   "source": [
    "from langchain.chains import SimpleSequentialChain"
   ]
  },
  {
   "cell_type": "code",
   "execution_count": 115,
   "id": "2f31aa8a",
   "metadata": {},
   "outputs": [],
   "source": [
    "llm = ChatOpenAI(temperature=0.9)\n",
    "\n",
    "# prompt template 1\n",
    "first_prompt = ChatPromptTemplate.from_template(\n",
    "    \"Write an online-store description of this product: {product}\"\n",
    ")\n",
    "\n",
    "# Chain 1\n",
    "chain_one = LLMChain(llm=llm, prompt=first_prompt)"
   ]
  },
  {
   "cell_type": "code",
   "execution_count": 116,
   "id": "3f5d5b76",
   "metadata": {},
   "outputs": [],
   "source": [
    "\n",
    "# prompt template 2\n",
    "second_prompt = ChatPromptTemplate.from_template(\n",
    "    \"Summarize this product description in 3 key bullet-points {review}\"\n",
    ")\n",
    "# chain 2\n",
    "chain_two = LLMChain(llm=llm, prompt=second_prompt)"
   ]
  },
  {
   "cell_type": "code",
   "execution_count": 117,
   "id": "6c1eb2c4",
   "metadata": {},
   "outputs": [],
   "source": [
    "overall_simple_chain = SimpleSequentialChain(chains=[chain_one, chain_two],\n",
    "                                             verbose=True\n",
    "                                            )"
   ]
  },
  {
   "cell_type": "code",
   "execution_count": 118,
   "id": "78458efe",
   "metadata": {},
   "outputs": [
    {
     "name": "stdout",
     "output_type": "stream",
     "text": [
      "\n",
      "\n",
      "\u001b[1m> Entering new SimpleSequentialChain chain...\u001b[0m\n",
      "\u001b[36;1m\u001b[1;3mTreat yourself to the ultimate luxury with our Queen Size Sheet Set. Made from high-quality, ultra-soft materials, these sheets are designed to provide a peaceful night's sleep every time. The set includes a flat sheet, fitted sheet, and two pillowcases, all crafted with meticulous attention to detail for a perfect fit on your queen size bed. Available in a variety of colors and patterns to suit any decor style, our Queen Size Sheet Set is the perfect addition to your bedroom oasis. Upgrade your bedding experience today and experience the difference for yourself.\u001b[0m\n",
      "\u001b[33;1m\u001b[1;3m- Queen size sheet set made from high-quality, ultra-soft materials for a peaceful night's sleep\n",
      "- Includes flat sheet, fitted sheet, and two pillowcases with perfect fit on queen size bed\n",
      "- Available in variety of colors and patterns to suit any decor style, perfect addition to your bedroom oasis\u001b[0m\n",
      "\n",
      "\u001b[1m> Finished chain.\u001b[0m\n",
      "\n",
      "\n",
      "\u001b[1m> Entering new SimpleSequentialChain chain...\u001b[0m\n",
      "\u001b[36;1m\u001b[1;3mKeep your phone safe and dry with our Waterproof Phone Pouch! Whether you're lounging by the pool, hitting the beach, or even just caught in a sudden downpour, this handy pouch will protect your device from water, sand, and dirt. The transparent design ensures you can still use your touchscreen while it's sealed inside, and the adjustable neck strap keeps it secure and easily accessible. Don't let water ruin your favorite device - invest in a Waterproof Phone Pouch today!\u001b[0m\n",
      "\u001b[33;1m\u001b[1;3m- Waterproof pouch designed to keep phone safe and dry\n",
      "- Transparent design allows for touchscreen use while sealed inside\n",
      "- Adjustable neck strap for secure and easy access\u001b[0m\n",
      "\n",
      "\u001b[1m> Finished chain.\u001b[0m\n",
      "\n",
      "\n",
      "\u001b[1m> Entering new SimpleSequentialChain chain...\u001b[0m\n",
      "\u001b[36;1m\u001b[1;3mIndulge in the ultimate comfort and relaxation with our luxurious air mattress. Crafted with premium materials and innovative technology, this air mattress provides the perfect balance of support and softness for a restful night's sleep. Whether you're hosting guests or camping outdoors, this high-quality air mattress offers unparalleled comfort and durability. Treat yourself to a truly luxurious sleeping experience with our luxury air mattress. Upgrade your sleep today!\u001b[0m\n",
      "\u001b[33;1m\u001b[1;3m- Luxurious air mattress crafted with premium materials and innovative technology\n",
      "- Provides perfect balance of support and softness for restful night's sleep\n",
      "- Offers unparalleled comfort and durability for hosting guests or outdoor camping\u001b[0m\n",
      "\n",
      "\u001b[1m> Finished chain.\u001b[0m\n",
      "\n",
      "\n",
      "\u001b[1m> Entering new SimpleSequentialChain chain...\u001b[0m\n",
      "\u001b[36;1m\u001b[1;3mUpgrade your sleeping experience with our premium Pillow Inserts. These inserts are filled with high-quality, hypoallergenic materials to provide the perfect combination of support and comfort. Whether you're looking to fluff up your old pillows or fill out a decorative pillow cover, our inserts are the perfect solution. Choose from a variety of sizes to fit your needs and start enjoying a better night's sleep today.\u001b[0m\n",
      "\u001b[33;1m\u001b[1;3m- Premium pillow inserts filled with high-quality, hypoallergenic materials\n",
      "- Provides the perfect combination of support and comfort\n",
      "- Available in a variety of sizes to fit different pillow needs\u001b[0m\n",
      "\n",
      "\u001b[1m> Finished chain.\u001b[0m\n",
      "\n",
      "\n",
      "\u001b[1m> Entering new SimpleSequentialChain chain...\u001b[0m\n",
      "\u001b[36;1m\u001b[1;3mCreate perfectly frothed milk for your favorite coffee drinks at home with our handheld milk frother. This easy-to-use device creates creamy, silky foam in just seconds, allowing you to enjoy cafe-quality drinks without leaving your kitchen. Simply immerse the whisk into warm milk, press the button, and watch as it transforms your milk into a delicious frothy topping for lattes, cappuccinos, and more. The compact and portable design makes it convenient for travel or use on-the-go. Elevate your coffee experience with our handheld milk frother today!\u001b[0m\n",
      "\u001b[33;1m\u001b[1;3m- Create cafe-quality frothed milk at home in seconds\n",
      "- Easy-to-use device with a simple button press\n",
      "- Compact and portable design for use at home or on-the-go\u001b[0m\n",
      "\n",
      "\u001b[1m> Finished chain.\u001b[0m\n",
      "\n",
      "\n",
      "\u001b[1m> Entering new SimpleSequentialChain chain...\u001b[0m\n",
      "\u001b[36;1m\u001b[1;3mIndulge in the rich and aromatic flavor of L'Or Espresso Café. This premium blend of coffee capsules is crafted with the finest Arabica beans, carefully selected for their quality and intensity. Each cup boasts a velvety crema and a smooth, full-bodied taste that will delight your senses. Elevate your coffee experience with L'Or Espresso Café. Order now and treat yourself to a luxurious coffee moment anytime.\u001b[0m\n",
      "\u001b[33;1m\u001b[1;3m- Premium blend of coffee capsules made with finest Arabica beans\n",
      "- Velvety crema and smooth, full-bodied taste\n",
      "- Elevates coffee experience and offers luxurious coffee moment anytime\u001b[0m\n",
      "\n",
      "\u001b[1m> Finished chain.\u001b[0m\n",
      "\n",
      "\n",
      "\u001b[1m> Entering new SimpleSequentialChain chain...\u001b[0m\n",
      "\u001b[36;1m\u001b[1;3mIntroducing our Hervidor de Agua Eléctrico - the perfect solution for quickly and efficiently boiling water for all your hot beverage needs. This sleek and modern electric kettle is designed to heat water in a fraction of the time compared to traditional stovetop methods.\n",
      "\n",
      "With a large capacity and easy-to-use features, our Hervidor de Agua Eléctrico is ideal for making coffee, tea, hot chocolate, and more. The convenient cordless design allows for easy pouring and serving, while the automatic shut-off function ensures safety and peace of mind.\n",
      "\n",
      "Whether you're at home, in the office, or on-the-go, our Hervidor de Agua Eléctrico is the must-have appliance for any kitchen. Say goodbye to waiting for water to boil and hello to instant hot water at your fingertips. Order yours today and experience the convenience and efficiency of our Hervidor de Agua Eléctrico.\u001b[0m\n",
      "\u001b[33;1m\u001b[1;3m- Quickly and efficiently boils water for hot beverages\n",
      "- Large capacity and easy-to-use features\n",
      "- Convenient cordless design with automatic shut-off function for safety\u001b[0m\n",
      "\n",
      "\u001b[1m> Finished chain.\u001b[0m\n"
     ]
    }
   ],
   "source": [
    "for product in df['Product']:\n",
    "    overall_simple_chain.run(product)"
   ]
  },
  {
   "cell_type": "markdown",
   "id": "0dd59bda-9d02-44e7-b3d6-2bec61b99d8f",
   "metadata": {},
   "source": [
    "**Repeat the above twice for different products or reviews**"
   ]
  },
  {
   "cell_type": "markdown",
   "id": "7b5ce18c",
   "metadata": {},
   "source": [
    "## SequentialChain"
   ]
  },
  {
   "cell_type": "code",
   "execution_count": 131,
   "id": "4c129ef6",
   "metadata": {},
   "outputs": [],
   "source": [
    "from langchain.chains import SequentialChain"
   ]
  },
  {
   "cell_type": "code",
   "execution_count": 157,
   "id": "016187ac",
   "metadata": {},
   "outputs": [],
   "source": [
    "llm = ChatOpenAI(temperature=0.9)\n",
    "\n",
    "\n",
    "first_prompt = ChatPromptTemplate.from_template(\n",
    "    \"Translate this review [{review}] into French.\"\n",
    ")\n",
    "\n",
    "chain_one = LLMChain(llm=llm, prompt=first_prompt, \n",
    "                     output_key=\"fr_translation\", #Give a name to your output\n",
    "                     verbose=True\n",
    "                    )\n"
   ]
  },
  {
   "cell_type": "code",
   "execution_count": 158,
   "id": "0fb0730e",
   "metadata": {},
   "outputs": [],
   "source": [
    "second_prompt = ChatPromptTemplate.from_template(\n",
    "    \"Summarize the following review in a short sentence: {fr_translation}\"\n",
    ")\n",
    "\n",
    "chain_two = LLMChain(llm=llm, prompt=second_prompt, \n",
    "                     output_key=\"review_summary\", #give a name to this output\n",
    "                     verbose=True\n",
    "                    )\n"
   ]
  },
  {
   "cell_type": "code",
   "execution_count": 159,
   "id": "6accf92d",
   "metadata": {},
   "outputs": [],
   "source": [
    "# prompt template 3: translate to english or other language\n",
    "third_prompt = ChatPromptTemplate.from_template(\n",
    "    \"Translate this review summary [{review_summary}] into German\"\n",
    ")\n",
    "# chain 3: input= Review and output= language\n",
    "chain_three = LLMChain(llm=llm, prompt=third_prompt,\n",
    "                       output_key=\"de_translation\",\n",
    "                       verbose=True\n",
    "                      )\n"
   ]
  },
  {
   "cell_type": "code",
   "execution_count": 160,
   "id": "c7a46121",
   "metadata": {},
   "outputs": [],
   "source": [
    "# prompt template 4: follow up message that take as inputs the two previous prompts' variables\n",
    "fourth_prompt = ChatPromptTemplate.from_template(\n",
    "    \"\"\"\n",
    "    Rate the quality of the following translation:\n",
    "    Original text: {review_summary}\n",
    "    German translation: {de_translation}\n",
    "    \"\"\"\n",
    ")\n",
    "\n",
    "chain_four = LLMChain(llm=llm, prompt=fourth_prompt,\n",
    "                      output_key=\"translation_rating\",\n",
    "                      verbose=True\n",
    "                     )\n"
   ]
  },
  {
   "cell_type": "code",
   "execution_count": 161,
   "id": "89603117",
   "metadata": {},
   "outputs": [],
   "source": [
    "# overall_chain: input= Review \n",
    "# and output= English_Review,summary, followup_message\n",
    "overall_chain = SequentialChain(\n",
    "    chains=[chain_one, chain_two, chain_three, chain_four],\n",
    "    input_variables=[\"review\"],\n",
    "    output_variables=[\"translation_rating\"],\n",
    "    verbose=True\n",
    ")"
   ]
  },
  {
   "cell_type": "code",
   "execution_count": 165,
   "id": "51b04f45",
   "metadata": {},
   "outputs": [
    {
     "name": "stdout",
     "output_type": "stream",
     "text": [
      "\n",
      "\n",
      "\u001b[1m> Entering new SequentialChain chain...\u001b[0m\n",
      "\n",
      "\n",
      "\u001b[1m> Entering new LLMChain chain...\u001b[0m\n",
      "Prompt after formatting:\n",
      "\u001b[32;1m\u001b[1;3mHuman: Translate this review [I ordered a king size set. My only criticism would be that I wish seller would offer the king size set with 4 pillowcases. I separately ordered a two pack of pillowcases so I could have a total of four. When I saw the two packages, it looked like the color did not exactly match. Customer service was excellent about sending me two more pillowcases so I would have four that matched. Excellent! For the cost of these sheets, I am satisfied with the characteristics and coolness of the sheets.] into French.\u001b[0m\n",
      "\n",
      "\u001b[1m> Finished chain.\u001b[0m\n",
      "\n",
      "\n",
      "\u001b[1m> Entering new LLMChain chain...\u001b[0m\n",
      "Prompt after formatting:\n",
      "\u001b[32;1m\u001b[1;3mHuman: Summarize the following review in a short sentence: J'ai commandé un ensemble en taille king. Ma seule critique serait que j'aimerais que le vendeur propose l'ensemble en taille king avec 4 taies d'oreiller. J'ai commandé séparément un pack de deux taies d'oreiller pour en avoir un total de quatre. Quand j'ai vu les deux paquets, il semblait que la couleur ne correspondait pas exactement. Le service client a été excellent en m'envoyant deux taies d'oreiller supplémentaires pour que j'en aie quatre assorties. Excellent! Pour le prix de ces draps, je suis satisfait des caractéristiques et de la fraîcheur des draps.\u001b[0m\n",
      "\n",
      "\u001b[1m> Finished chain.\u001b[0m\n",
      "\n",
      "\n",
      "\u001b[1m> Entering new LLMChain chain...\u001b[0m\n",
      "Prompt after formatting:\n",
      "\u001b[32;1m\u001b[1;3mHuman: Translate this review summary [Reviewer ordered a king size bedding set and wished it came with 4 pillowcases instead of 2, but customer service sent 2 more matching pillowcases, resulting in a satisfied purchase.] into German\u001b[0m\n",
      "\n",
      "\u001b[1m> Finished chain.\u001b[0m\n",
      "\n",
      "\n",
      "\u001b[1m> Entering new LLMChain chain...\u001b[0m\n",
      "Prompt after formatting:\n",
      "\u001b[32;1m\u001b[1;3mHuman: \n",
      "    Rate the quality of the following translation:\n",
      "    Original text: Reviewer ordered a king size bedding set and wished it came with 4 pillowcases instead of 2, but customer service sent 2 more matching pillowcases, resulting in a satisfied purchase.\n",
      "    German translation: Der Rezensent bestellte ein Kingsize-Bettwäscheset und wünschte sich, dass es statt 2 vier Kissenbezüge enthielte. Der Kundenservice schickte jedoch 2 zusätzliche passende Kissenbezüge, was zu einem zufriedenen Kauf führte.\n",
      "    \u001b[0m\n",
      "\n",
      "\u001b[1m> Finished chain.\u001b[0m\n",
      "\n",
      "\u001b[1m> Finished chain.\u001b[0m\n",
      "{'review': 'I ordered a king size set. My only criticism would be that I wish seller would offer the king size set with 4 pillowcases. I separately ordered a two pack of pillowcases so I could have a total of four. When I saw the two packages, it looked like the color did not exactly match. Customer service was excellent about sending me two more pillowcases so I would have four that matched. Excellent! For the cost of these sheets, I am satisfied with the characteristics and coolness of the sheets.', 'translation_rating': 'This translation is accurate and effectively conveys the meaning of the original text. However, there are a few minor improvements that could be made for better flow and readability. \\n\\nQuality of translation: 4.5/5\\n\\nImproved translation: Der Rezensent bestellte ein Kingsize-Bettwäscheset und hätte sich gewünscht, dass es anstelle von 2 Kissenbezügen 4 enthielt. Trotzdem schickte der Kundenservice 2 weitere passende Kissenbezüge, was zu einem zufriedenen Kauf führte.'}\n",
      "\n",
      "\n",
      "\u001b[1m> Entering new SequentialChain chain...\u001b[0m\n",
      "\n",
      "\n",
      "\u001b[1m> Entering new LLMChain chain...\u001b[0m\n",
      "Prompt after formatting:\n",
      "\u001b[32;1m\u001b[1;3mHuman: Translate this review [I loved the waterproof sac, although the opening was made of a hard plastic. I don’t know if that would break easily. But I couldn’t turn my phone on, once it was in the pouch.] into French.\u001b[0m\n",
      "\n",
      "\u001b[1m> Finished chain.\u001b[0m\n",
      "\n",
      "\n",
      "\u001b[1m> Entering new LLMChain chain...\u001b[0m\n",
      "Prompt after formatting:\n",
      "\u001b[32;1m\u001b[1;3mHuman: Summarize the following review in a short sentence: J'ai adoré le sac étanche, bien que l'ouverture soit en plastique dur. Je ne sais pas si cela se casserait facilement. Mais je n'ai pas pu allumer mon téléphone une fois dans la pochette.\u001b[0m\n",
      "\n",
      "\u001b[1m> Finished chain.\u001b[0m\n",
      "\n",
      "\n",
      "\u001b[1m> Entering new LLMChain chain...\u001b[0m\n",
      "Prompt after formatting:\n",
      "\u001b[32;1m\u001b[1;3mHuman: Translate this review summary [L'auteur a aimé le sac étanche malgré l'ouverture en plastique dur et a rencontré des problèmes pour allumer son téléphone à l'intérieur.] into German\u001b[0m\n",
      "\n",
      "\u001b[1m> Finished chain.\u001b[0m\n",
      "\n",
      "\n",
      "\u001b[1m> Entering new LLMChain chain...\u001b[0m\n",
      "Prompt after formatting:\n",
      "\u001b[32;1m\u001b[1;3mHuman: \n",
      "    Rate the quality of the following translation:\n",
      "    Original text: L'auteur a aimé le sac étanche malgré l'ouverture en plastique dur et a rencontré des problèmes pour allumer son téléphone à l'intérieur.\n",
      "    German translation: Der Autor mochte die wasserdichte Tasche trotz der harten Plastiköffnung und hatte Probleme, sein Telefon im Inneren einzuschalten.\n",
      "    \u001b[0m\n",
      "\n",
      "\u001b[1m> Finished chain.\u001b[0m\n",
      "\n",
      "\u001b[1m> Finished chain.\u001b[0m\n",
      "{'review': 'I loved the waterproof sac, although the opening was made of a hard plastic. I don’t know if that would break easily. But I couldn’t turn my phone on, once it was in the pouch.', 'translation_rating': 'I would rate this translation as very good. The meaning of the original text is accurately conveyed in German and it reads fluently. Well done!'}\n",
      "\n",
      "\n",
      "\u001b[1m> Entering new SequentialChain chain...\u001b[0m\n",
      "\n",
      "\n",
      "\u001b[1m> Entering new LLMChain chain...\u001b[0m\n",
      "Prompt after formatting:\n",
      "\u001b[32;1m\u001b[1;3mHuman: Translate this review [This mattress had a small hole in the top of it (took forever to find where it was), and the patches that they provide did not work, maybe because it's the top of the mattress where it's kind of like fabric and a patch won't stick. Maybe I got unlucky with a defective mattress, but where's quality assurance for this company? That flat out should not happen. Emphasis on flat. Cause that's what the mattress was. Seriously horrible experience, ruined my friend's stay with me. Then they make you ship it back instead of just providing a refund, which is also super annoying to pack up an air mattress and take it to the UPS store. This company is the worst, and this mattress is the worst.] into French.\u001b[0m\n",
      "\n",
      "\u001b[1m> Finished chain.\u001b[0m\n",
      "\n",
      "\n",
      "\u001b[1m> Entering new LLMChain chain...\u001b[0m\n",
      "Prompt after formatting:\n",
      "\u001b[32;1m\u001b[1;3mHuman: Summarize the following review in a short sentence: Ce matelas avait un petit trou en haut (a pris une éternité pour le trouver), et les rustines fournies ne fonctionnaient pas, peut-être parce que c'est le haut du matelas où c'est un peu comme du tissu et une rustine ne collera pas. Peut-être que j'ai eu la malchance d'obtenir un matelas défectueux, mais où est l'assurance qualité pour cette entreprise? Cela ne devrait tout simplement pas arriver. Insistance sur le plat. Parce que c'est ce qu'était le matelas. Expérience vraiment horrible, a gâché le séjour de mon ami. Ensuite, ils vous obligent à le renvoyer au lieu de simplement vous rembourser, ce qui est également super ennuyeux d'emballer un matelas pneumatique et de le porter au magasin UPS. Cette entreprise est la pire, et ce matelas est le pire.\u001b[0m\n",
      "\n",
      "\u001b[1m> Finished chain.\u001b[0m\n",
      "\n",
      "\n",
      "\u001b[1m> Entering new LLMChain chain...\u001b[0m\n",
      "Prompt after formatting:\n",
      "\u001b[32;1m\u001b[1;3mHuman: Translate this review summary [Le matelas avait une fuite en haut, les rustines ne fonctionnaient pas et l'entreprise a une mauvaise politique de retour.] into German\u001b[0m\n",
      "\n",
      "\u001b[1m> Finished chain.\u001b[0m\n",
      "\n",
      "\n",
      "\u001b[1m> Entering new LLMChain chain...\u001b[0m\n",
      "Prompt after formatting:\n",
      "\u001b[32;1m\u001b[1;3mHuman: \n",
      "    Rate the quality of the following translation:\n",
      "    Original text: Le matelas avait une fuite en haut, les rustines ne fonctionnaient pas et l'entreprise a une mauvaise politique de retour.\n",
      "    German translation: Die Matratze hatte ein Leck oben, die Flicken funktionierten nicht und das Unternehmen hat eine schlechte Rückgabepolitik.\n",
      "    \u001b[0m\n",
      "\n",
      "\u001b[1m> Finished chain.\u001b[0m\n",
      "\n",
      "\u001b[1m> Finished chain.\u001b[0m\n",
      "{'review': \"This mattress had a small hole in the top of it (took forever to find where it was), and the patches that they provide did not work, maybe because it's the top of the mattress where it's kind of like fabric and a patch won't stick. Maybe I got unlucky with a defective mattress, but where's quality assurance for this company? That flat out should not happen. Emphasis on flat. Cause that's what the mattress was. Seriously horrible experience, ruined my friend's stay with me. Then they make you ship it back instead of just providing a refund, which is also super annoying to pack up an air mattress and take it to the UPS store. This company is the worst, and this mattress is the worst.\", 'translation_rating': 'This translation is of good quality. It accurately conveys the main points of the original text in German.'}\n"
     ]
    }
   ],
   "source": [
    "for review in df.Review[0:3]:\n",
    "    print(overall_chain(review))"
   ]
  },
  {
   "cell_type": "markdown",
   "id": "3187cf07-458a-4226-bec7-3dec7ee47af2",
   "metadata": {},
   "source": [
    "**Repeat the above twice for different products or reviews**"
   ]
  },
  {
   "cell_type": "markdown",
   "id": "3041ea4c",
   "metadata": {},
   "source": [
    "## Router Chain"
   ]
  },
  {
   "cell_type": "code",
   "execution_count": 166,
   "id": "ade83f4f",
   "metadata": {},
   "outputs": [],
   "source": [
    "physics_template = \"\"\"You are a very smart physics professor.\n",
    "You are great at answering questions about physics in a concise\\\n",
    "and easy to understand manner.\n",
    "When you don't know the answer to a question you admit\\\n",
    "that you don't know.\n",
    "\n",
    "Here is a question:\n",
    "{input}\"\"\"\n",
    "\n",
    "\n",
    "math_template = \"\"\"You are a very good mathematician.\n",
    "You are great at answering math questions.\n",
    "You are so good because you are able to break down\n",
    "hard problems into their component parts, \n",
    "answer the component parts, and then put them together\\\n",
    "to answer the broader question.\n",
    "\n",
    "Here is a question:\n",
    "{input}\"\"\"\n",
    "\n",
    "history_template = \"\"\"You are a very good historian.\n",
    "You have an excellent knowledge of and understanding of people,\\\n",
    "events and contexts from a range of historical periods.\n",
    "You have the ability to think, reflect, debate, discuss and\n",
    "evaluate the past. You have a respect for historical evidence\\\n",
    "and the ability to make use of it to support your explanations\n",
    "and judgements.\n",
    "\n",
    "Here is a question:\n",
    "{input}\"\"\"\n",
    "\n",
    "\n",
    "computerscience_template = \"\"\" You are a successful computer scientist.\\\n",
    "You have a passion for creativity, collaboration,\\\n",
    "forward-thinking, confidence, strong problem-solving capabilities,\\\n",
    "understanding of theories and algorithms, and excellent communication\n",
    "skills. You are great at answering coding questions.\n",
    "You are so good because you know how to solve a problem by\n",
    "describing the solution in imperative steps\n",
    "that a machine can easily interpret and you know how to\n",
    "choose a solution that has a good balance between\n",
    "time complexity and space complexity. \n",
    "\n",
    "Here is a question:\n",
    "{input}\"\"\""
   ]
  },
  {
   "cell_type": "code",
   "execution_count": 184,
   "id": "5f590e9f",
   "metadata": {},
   "outputs": [
    {
     "name": "stdout",
     "output_type": "stream",
     "text": [
      "physics\n",
      "input_variables=['input'] input_types={} partial_variables={} messages=[HumanMessagePromptTemplate(prompt=PromptTemplate(input_variables=['input'], input_types={}, partial_variables={}, template=\"You are a very smart physics professor. You are great at answering questions about physics in a conciseand easy to understand manner. When you don't know the answer to a question you admitthat you don't know.\\n\\nHere is a question:\\n{input}\"), additional_kwargs={})]\n",
      "\n",
      "math\n",
      "input_variables=['input'] input_types={} partial_variables={} messages=[HumanMessagePromptTemplate(prompt=PromptTemplate(input_variables=['input'], input_types={}, partial_variables={}, template='You are a very good mathematician. You are great at answering math questions. You are so good because you are able to break down hard problems into their component parts, \\nanswer the component parts, and then put them togetherto answer the broader question.\\n\\nHere is a question:\\n{input}'), additional_kwargs={})]\n",
      "\n",
      "History\n",
      "input_variables=['input'] input_types={} partial_variables={} messages=[HumanMessagePromptTemplate(prompt=PromptTemplate(input_variables=['input'], input_types={}, partial_variables={}, template='You are a very good historian. You have an excellent knowledge of and understanding of people,events and contexts from a range of historical periods. You have the ability to think, reflect, debate, discuss and evaluate the past. You have a respect for historical evidenceand the ability to make use of it to support your explanations and judgements.\\n\\nHere is a question:\\n{input}'), additional_kwargs={})]\n",
      "\n",
      "computer science\n",
      "input_variables=['input'] input_types={} partial_variables={} messages=[HumanMessagePromptTemplate(prompt=PromptTemplate(input_variables=['input'], input_types={}, partial_variables={}, template=' You are a successful computer scientist.You have a passion for creativity, collaboration,forward-thinking, confidence, strong problem-solving capabilities,understanding of theories and algorithms, and excellent communication skills. You are great at answering coding questions. You are so good because you know how to solve a problem by describing the solution in imperative steps that a machine can easily interpret and you know how to choose a solution that has a good balance between time complexity and space complexity. \\n\\nHere is a question:\\n{input}'), additional_kwargs={})]\n",
      "\n"
     ]
    }
   ],
   "source": [
    "prompt_infos = [\n",
    "    {\n",
    "        \"name\": \"physics\", \n",
    "        \"description\": \"Good for answering questions about physics\", \n",
    "        \"prompt_template\": physics_template\n",
    "    },\n",
    "    {\n",
    "        \"name\": \"math\", \n",
    "        \"description\": \"Good for answering math questions\", \n",
    "        \"prompt_template\": math_template\n",
    "    },\n",
    "    {\n",
    "        \"name\": \"History\", \n",
    "        \"description\": \"Good for answering history questions\", \n",
    "        \"prompt_template\": history_template\n",
    "    },\n",
    "    {\n",
    "        \"name\": \"computer science\", \n",
    "        \"description\": \"Good for answering computer science questions\", \n",
    "        \"prompt_template\": computerscience_template\n",
    "    }\n",
    "]\n",
    "\n",
    "prompt_templates = {\n",
    "    info[\"name\"]: ChatPromptTemplate.from_template(info[\"prompt_template\"])\n",
    "    for info in prompt_infos\n",
    "}\n",
    "\n",
    "for name, template in prompt_templates.items():\n",
    "    print(name)\n",
    "    print(template)\n",
    "    print()"
   ]
  },
  {
   "cell_type": "code",
   "execution_count": 185,
   "id": "31b06fc8",
   "metadata": {},
   "outputs": [],
   "source": [
    "from langchain.chains.router import MultiPromptChain\n",
    "from langchain.chains.router.llm_router import LLMRouterChain, RouterOutputParser\n",
    "from langchain.prompts import PromptTemplate"
   ]
  },
  {
   "cell_type": "code",
   "execution_count": 186,
   "id": "f3f50bcc",
   "metadata": {},
   "outputs": [],
   "source": [
    "llm = ChatOpenAI(temperature=0)"
   ]
  },
  {
   "cell_type": "code",
   "execution_count": 239,
   "id": "8eefec24",
   "metadata": {},
   "outputs": [
    {
     "name": "stdout",
     "output_type": "stream",
     "text": [
      "physics: Good for answering questions about physics\n",
      "math: Good for answering math questions\n",
      "History: Good for answering history questions\n",
      "computer science: Good for answering computer science questions\n"
     ]
    }
   ],
   "source": [
    "destination_chains = {}\n",
    "for p_info in prompt_infos:\n",
    "    name = p_info[\"name\"]\n",
    "    prompt_template = p_info[\"prompt_template\"]\n",
    "    prompt = ChatPromptTemplate.from_template(template=prompt_template)\n",
    "    chain = LLMChain(llm=llm, prompt=prompt)\n",
    "    destination_chains[name] = chain  \n",
    "    \n",
    "destinations = [f\"{p['name']}: {p['description']}\" for p in prompt_infos]\n",
    "destinations_str = \"\\n\".join(destinations)\n",
    "print(destinations_str)"
   ]
  },
  {
   "cell_type": "code",
   "execution_count": 243,
   "id": "9f98018a",
   "metadata": {},
   "outputs": [],
   "source": [
    "default_prompt = ChatPromptTemplate.from_template(\"Answer this general question as best as you can: {input}\")\n",
    "default_chain = LLMChain(llm=llm, prompt=default_prompt)"
   ]
  },
  {
   "cell_type": "code",
   "execution_count": 282,
   "id": "11b2e2ba",
   "metadata": {},
   "outputs": [],
   "source": [
    "MULTI_PROMPT_ROUTER_TEMPLATE = \"\"\"\n",
    "1. Given a raw text input to a language model select the model prompt best suited for the input.\n",
    "2. You will be given the names of the available prompts and a description of what the prompt is best suited for.\n",
    "3. You may also revise the original input if you think that revising it will ultimately lead to a better response from the language model.\n",
    "4. REMEMBER: \"destination\" MUST be one of the candidate prompt names specified below OR \"DEFAULT\" if none is well suited to the input text.\n",
    "5. NEVER set as \"destination\" a prompt name that is not available in the << CANDIDATE PROMPTS >>, use \"DEFAULT\" instead.\n",
    "6. REMEMBER: \"next_inputs\" can just be the original input if you don't think any modifications are needed.\n",
    "\n",
    "<< FORMATTING >>\n",
    "Return a markdown code snippet with a JSON object formatted to look like:\n",
    "```json\n",
    "{{{{\n",
    "    \"destination\": string name of the prompt to use or \"DEFAULT\".\n",
    "    \"next_inputs\": string a potentially modified version of the original input\n",
    "}}}}\n",
    "```\n",
    "\n",
    "<< CANDIDATE PROMPTS >>\n",
    "{destinations}\n",
    "\n",
    "<< INPUT >>\n",
    "{{input}}\n",
    "\n",
    "<< OUTPUT (remember to include the ```json)>>\"\"\""
   ]
  },
  {
   "cell_type": "code",
   "execution_count": 283,
   "id": "1387109d",
   "metadata": {},
   "outputs": [
    {
     "name": "stdout",
     "output_type": "stream",
     "text": [
      "{'input': 'give me the theorem of Pythagore', 'destination': 'math', 'next_inputs': {'input': 'give me the theorem of Pythagoras'}}\n"
     ]
    }
   ],
   "source": [
    "from langchain_core.runnables import RunnableLambda, RunnablePassthrough\n",
    "\n",
    "router_template = MULTI_PROMPT_ROUTER_TEMPLATE.format(\n",
    "    destinations=destinations_str\n",
    ")\n",
    "\n",
    "router_prompt = PromptTemplate(\n",
    "    template=router_template,\n",
    "    input_variables=[\"input\"],\n",
    "    output_parser=RouterOutputParser(),\n",
    ")\n",
    "\n",
    "router_chain = LLMRouterChain.from_llm(llm, router_prompt)\n",
    "\n",
    "# check output, should be a dict\n",
    "question = 'give me the theorem of Pythagore'\n",
    "print(router_chain.invoke(question))\n",
    "\n",
    "chain = MultiPromptChain(router_chain=router_chain, \n",
    "                         destination_chains=destination_chains, \n",
    "                         default_chain=default_chain, \n",
    "                         verbose=True\n",
    "                        )\n",
    "\n",
    "\n"
   ]
  },
  {
   "cell_type": "code",
   "execution_count": 284,
   "id": "2fb7d560",
   "metadata": {},
   "outputs": [
    {
     "name": "stdout",
     "output_type": "stream",
     "text": [
      "\n",
      "\n",
      "\u001b[1m> Entering new MultiPromptChain chain...\u001b[0m\n",
      "math: {'input': 'Explain what principle component analysis is using linear algebra'}\n",
      "\u001b[1m> Finished chain.\u001b[0m\n",
      "{'input': 'Explain what principle component analysis is using linear algebra', 'text': 'Principal component analysis (PCA) is a technique used in statistics and data analysis to reduce the dimensionality of a dataset while preserving as much variance as possible. In other words, PCA helps to identify the most important features or components of a dataset.\\n\\nIn linear algebra terms, PCA involves finding the eigenvectors and eigenvalues of the covariance matrix of the dataset. The eigenvectors represent the directions of maximum variance in the data, while the eigenvalues represent the amount of variance along each eigenvector.\\n\\nTo perform PCA using linear algebra, the steps typically involve:\\n1. Standardizing the data by subtracting the mean and dividing by the standard deviation of each feature.\\n2. Computing the covariance matrix of the standardized data.\\n3. Finding the eigenvectors and eigenvalues of the covariance matrix.\\n4. Sorting the eigenvectors by their corresponding eigenvalues in descending order to identify the principal components.\\n5. Projecting the data onto the principal components to reduce the dimensionality of the dataset.\\n\\nBy using linear algebra techniques to perform PCA, we can effectively identify the most important components of a dataset and reduce its dimensionality for further analysis or visualization.'}\n"
     ]
    }
   ],
   "source": [
    "response = chain.invoke(\"Explain what principle component analysis is using linear algebra\")\n",
    "print(response)"
   ]
  },
  {
   "cell_type": "code",
   "execution_count": 285,
   "id": "d86b2131",
   "metadata": {},
   "outputs": [
    {
     "name": "stdout",
     "output_type": "stream",
     "text": [
      "\n",
      "\n",
      "\u001b[1m> Entering new MultiPromptChain chain...\u001b[0m\n",
      "physics: {'input': 'What is black body radiation?'}\n",
      "\u001b[1m> Finished chain.\u001b[0m\n",
      "Black body radiation refers to the electromagnetic radiation emitted by a perfect black body, which is an idealized physical body that absorbs all incident electromagnetic radiation. The radiation emitted by a black body depends only on its temperature and follows a specific distribution known as Planck's law. This radiation is characterized by a continuous spectrum of wavelengths and intensities, with the peak intensity shifting to shorter wavelengths as the temperature of the black body increases. Black body radiation plays a key role in understanding concepts such as thermal radiation and the quantization of energy in quantum mechanics.\n"
     ]
    }
   ],
   "source": [
    "response = chain.run(\"What is black body radiation?\")\n",
    "print(response)"
   ]
  },
  {
   "cell_type": "code",
   "execution_count": 286,
   "id": "3b717379",
   "metadata": {},
   "outputs": [
    {
     "name": "stdout",
     "output_type": "stream",
     "text": [
      "\n",
      "\n",
      "\u001b[1m> Entering new MultiPromptChain chain...\u001b[0m\n",
      "math: {'input': 'what is the sum of 2 and 2'}\n",
      "\u001b[1m> Finished chain.\u001b[0m\n",
      "The sum of 2 and 2 is 4.\n"
     ]
    }
   ],
   "source": [
    "response = chain.run(\"what is 2 + 2\")\n",
    "print(response)"
   ]
  },
  {
   "cell_type": "code",
   "execution_count": null,
   "id": "29e5be01",
   "metadata": {},
   "outputs": [],
   "source": [
    "# THIS ONE DOES NOT WORK\n",
    "# it returns me a ValueError: Received invalid destination chain name 'biology'\n",
    "# the model is hallucinating and inventing prompt names that do no exist\n",
    "\n",
    "response = chain.run(\"Why does every cell in our body contain DNA?\")\n",
    "print(response)"
   ]
  },
  {
   "cell_type": "code",
   "execution_count": 268,
   "id": "204f0a9e",
   "metadata": {},
   "outputs": [
    {
     "name": "stdout",
     "output_type": "stream",
     "text": [
      "\n",
      "\n",
      "\u001b[1m> Entering new MultiPromptChain chain...\u001b[0m\n",
      "None: {'input': 'Who holds the fastest marathon time record to this day?'}\n",
      "\u001b[1m> Finished chain.\u001b[0m\n",
      "As of now, the fastest marathon time record is held by Eliud Kipchoge of Kenya, who completed the marathon in a time of 2 hours, 1 minute, and 39 seconds at the 2018 Berlin Marathon.\n"
     ]
    }
   ],
   "source": [
    "response = chain.run(\"Who holds the fastest marathon time reccord to this day?\")\n",
    "print(response)"
   ]
  },
  {
   "cell_type": "markdown",
   "id": "09e0c60b-7ae0-453e-9467-142d8dafee6e",
   "metadata": {},
   "source": [
    "**Repeat the above at least once for different inputs and chains executions - Be creative!**"
   ]
  },
  {
   "cell_type": "code",
   "execution_count": 270,
   "id": "51832def",
   "metadata": {},
   "outputs": [
    {
     "name": "stdout",
     "output_type": "stream",
     "text": [
      "\n",
      "\n",
      "\u001b[1m> Entering new MultiPromptChain chain...\u001b[0m\n",
      "None: {'input': 'How many muscles and bones is there in the human body?'}\n",
      "\u001b[1m> Finished chain.\u001b[0m\n",
      "The human body has 206 bones and over 600 muscles.\n"
     ]
    }
   ],
   "source": [
    "response = chain.run(\"How many muscles and bones is there in the human body?\")\n",
    "print(response)"
   ]
  },
  {
   "cell_type": "code",
   "execution_count": 289,
   "id": "2145b899",
   "metadata": {},
   "outputs": [
    {
     "name": "stdout",
     "output_type": "stream",
     "text": [
      "\n",
      "\n",
      "\u001b[1m> Entering new MultiPromptChain chain...\u001b[0m\n",
      "None: {'input': 'How many muscles and bones are there in the human body?'}\n",
      "\u001b[1m> Finished chain.\u001b[0m\n",
      "The human body has over 600 muscles and 206 bones.\n"
     ]
    }
   ],
   "source": [
    "response = chain.run(\"How many muscles and bones is there in the human body?\")\n",
    "print(response)"
   ]
  },
  {
   "cell_type": "code",
   "execution_count": 271,
   "id": "c4298e0e",
   "metadata": {},
   "outputs": [
    {
     "name": "stdout",
     "output_type": "stream",
     "text": [
      "\n",
      "\n",
      "\u001b[1m> Entering new MultiPromptChain chain...\u001b[0m\n",
      "None: {'input': 'What movie won the most oscars to this day?'}\n",
      "\u001b[1m> Finished chain.\u001b[0m\n",
      "The movie that has won the most Oscars to date is \"Ben-Hur\" (1959), which won a total of 11 Academy Awards.\n"
     ]
    }
   ],
   "source": [
    "response = chain.run(\"What movie won the most oscars to this day?\")\n",
    "print(response)"
   ]
  },
  {
   "cell_type": "code",
   "execution_count": 288,
   "id": "6b649119",
   "metadata": {},
   "outputs": [
    {
     "name": "stdout",
     "output_type": "stream",
     "text": [
      "\n",
      "\n",
      "\u001b[1m> Entering new MultiPromptChain chain...\u001b[0m\n",
      "None: {'input': 'I am super hungry, what should I eat?'}\n",
      "\u001b[1m> Finished chain.\u001b[0m\n",
      "It depends on your personal preferences and dietary restrictions. Some options could include a balanced meal with protein, vegetables, and carbohydrates, a hearty sandwich or wrap, a bowl of soup or salad, a smoothie or protein shake, or a snack like nuts, fruit, or yogurt. Ultimately, choose something that will satisfy your hunger and provide you with the nutrients you need.\n"
     ]
    }
   ],
   "source": [
    "response = chain.run(\"I am super hungry, what should I eat?\")\n",
    "print(response)"
   ]
  }
 ],
 "metadata": {
  "kernelspec": {
   "display_name": "ironhack",
   "language": "python",
   "name": "python3"
  },
  "language_info": {
   "codemirror_mode": {
    "name": "ipython",
    "version": 3
   },
   "file_extension": ".py",
   "mimetype": "text/x-python",
   "name": "python",
   "nbconvert_exporter": "python",
   "pygments_lexer": "ipython3",
   "version": "3.12.7"
  }
 },
 "nbformat": 4,
 "nbformat_minor": 5
}
