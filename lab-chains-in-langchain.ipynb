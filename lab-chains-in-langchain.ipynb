{
  "cells": [
    {
      "cell_type": "markdown",
      "id": "52824b89-532a-4e54-87e9-1410813cd39e",
      "metadata": {
        "id": "52824b89-532a-4e54-87e9-1410813cd39e"
      },
      "source": [
        "# Lab | Chains in LangChain\n",
        "\n",
        "## Outline\n",
        "\n",
        "* LLMChain\n",
        "* Sequential Chains\n",
        "  * SimpleSequentialChain\n",
        "  * SequentialChain\n",
        "* Router Chain"
      ]
    },
    {
      "cell_type": "code",
      "source": [
        "!pip install --upgrade \"langchain>=0.3\" \"pydantic>=2.0\""
      ],
      "metadata": {
        "id": "VAKs0X13gCqA",
        "outputId": "6b6ec863-e9fa-4814-e40e-0c9524322ce4",
        "colab": {
          "base_uri": "https://localhost:8080/"
        }
      },
      "id": "VAKs0X13gCqA",
      "execution_count": 1,
      "outputs": [
        {
          "output_type": "stream",
          "name": "stdout",
          "text": [
            "Requirement already satisfied: langchain>=0.3 in /usr/local/lib/python3.11/dist-packages (0.3.15)\n",
            "Requirement already satisfied: pydantic>=2.0 in /usr/local/lib/python3.11/dist-packages (2.10.5)\n",
            "Collecting pydantic>=2.0\n",
            "  Downloading pydantic-2.10.6-py3-none-any.whl.metadata (30 kB)\n",
            "Requirement already satisfied: PyYAML>=5.3 in /usr/local/lib/python3.11/dist-packages (from langchain>=0.3) (6.0.2)\n",
            "Requirement already satisfied: SQLAlchemy<3,>=1.4 in /usr/local/lib/python3.11/dist-packages (from langchain>=0.3) (2.0.37)\n",
            "Requirement already satisfied: aiohttp<4.0.0,>=3.8.3 in /usr/local/lib/python3.11/dist-packages (from langchain>=0.3) (3.11.11)\n",
            "Requirement already satisfied: langchain-core<0.4.0,>=0.3.31 in /usr/local/lib/python3.11/dist-packages (from langchain>=0.3) (0.3.31)\n",
            "Requirement already satisfied: langchain-text-splitters<0.4.0,>=0.3.3 in /usr/local/lib/python3.11/dist-packages (from langchain>=0.3) (0.3.5)\n",
            "Requirement already satisfied: langsmith<0.4,>=0.1.17 in /usr/local/lib/python3.11/dist-packages (from langchain>=0.3) (0.3.0)\n",
            "Requirement already satisfied: numpy<2,>=1.22.4 in /usr/local/lib/python3.11/dist-packages (from langchain>=0.3) (1.26.4)\n",
            "Requirement already satisfied: requests<3,>=2 in /usr/local/lib/python3.11/dist-packages (from langchain>=0.3) (2.32.3)\n",
            "Requirement already satisfied: tenacity!=8.4.0,<10,>=8.1.0 in /usr/local/lib/python3.11/dist-packages (from langchain>=0.3) (9.0.0)\n",
            "Requirement already satisfied: annotated-types>=0.6.0 in /usr/local/lib/python3.11/dist-packages (from pydantic>=2.0) (0.7.0)\n",
            "Requirement already satisfied: pydantic-core==2.27.2 in /usr/local/lib/python3.11/dist-packages (from pydantic>=2.0) (2.27.2)\n",
            "Requirement already satisfied: typing-extensions>=4.12.2 in /usr/local/lib/python3.11/dist-packages (from pydantic>=2.0) (4.12.2)\n",
            "Requirement already satisfied: aiohappyeyeballs>=2.3.0 in /usr/local/lib/python3.11/dist-packages (from aiohttp<4.0.0,>=3.8.3->langchain>=0.3) (2.4.4)\n",
            "Requirement already satisfied: aiosignal>=1.1.2 in /usr/local/lib/python3.11/dist-packages (from aiohttp<4.0.0,>=3.8.3->langchain>=0.3) (1.3.2)\n",
            "Requirement already satisfied: attrs>=17.3.0 in /usr/local/lib/python3.11/dist-packages (from aiohttp<4.0.0,>=3.8.3->langchain>=0.3) (24.3.0)\n",
            "Requirement already satisfied: frozenlist>=1.1.1 in /usr/local/lib/python3.11/dist-packages (from aiohttp<4.0.0,>=3.8.3->langchain>=0.3) (1.5.0)\n",
            "Requirement already satisfied: multidict<7.0,>=4.5 in /usr/local/lib/python3.11/dist-packages (from aiohttp<4.0.0,>=3.8.3->langchain>=0.3) (6.1.0)\n",
            "Requirement already satisfied: propcache>=0.2.0 in /usr/local/lib/python3.11/dist-packages (from aiohttp<4.0.0,>=3.8.3->langchain>=0.3) (0.2.1)\n",
            "Requirement already satisfied: yarl<2.0,>=1.17.0 in /usr/local/lib/python3.11/dist-packages (from aiohttp<4.0.0,>=3.8.3->langchain>=0.3) (1.18.3)\n",
            "Requirement already satisfied: jsonpatch<2.0,>=1.33 in /usr/local/lib/python3.11/dist-packages (from langchain-core<0.4.0,>=0.3.31->langchain>=0.3) (1.33)\n",
            "Requirement already satisfied: packaging<25,>=23.2 in /usr/local/lib/python3.11/dist-packages (from langchain-core<0.4.0,>=0.3.31->langchain>=0.3) (24.2)\n",
            "Requirement already satisfied: httpx<1,>=0.23.0 in /usr/local/lib/python3.11/dist-packages (from langsmith<0.4,>=0.1.17->langchain>=0.3) (0.28.1)\n",
            "Requirement already satisfied: orjson<4.0.0,>=3.9.14 in /usr/local/lib/python3.11/dist-packages (from langsmith<0.4,>=0.1.17->langchain>=0.3) (3.10.15)\n",
            "Requirement already satisfied: requests-toolbelt<2.0.0,>=1.0.0 in /usr/local/lib/python3.11/dist-packages (from langsmith<0.4,>=0.1.17->langchain>=0.3) (1.0.0)\n",
            "Requirement already satisfied: zstandard<0.24.0,>=0.23.0 in /usr/local/lib/python3.11/dist-packages (from langsmith<0.4,>=0.1.17->langchain>=0.3) (0.23.0)\n",
            "Requirement already satisfied: charset-normalizer<4,>=2 in /usr/local/lib/python3.11/dist-packages (from requests<3,>=2->langchain>=0.3) (3.4.1)\n",
            "Requirement already satisfied: idna<4,>=2.5 in /usr/local/lib/python3.11/dist-packages (from requests<3,>=2->langchain>=0.3) (3.10)\n",
            "Requirement already satisfied: urllib3<3,>=1.21.1 in /usr/local/lib/python3.11/dist-packages (from requests<3,>=2->langchain>=0.3) (2.3.0)\n",
            "Requirement already satisfied: certifi>=2017.4.17 in /usr/local/lib/python3.11/dist-packages (from requests<3,>=2->langchain>=0.3) (2024.12.14)\n",
            "Requirement already satisfied: greenlet!=0.4.17 in /usr/local/lib/python3.11/dist-packages (from SQLAlchemy<3,>=1.4->langchain>=0.3) (3.1.1)\n",
            "Requirement already satisfied: anyio in /usr/local/lib/python3.11/dist-packages (from httpx<1,>=0.23.0->langsmith<0.4,>=0.1.17->langchain>=0.3) (3.7.1)\n",
            "Requirement already satisfied: httpcore==1.* in /usr/local/lib/python3.11/dist-packages (from httpx<1,>=0.23.0->langsmith<0.4,>=0.1.17->langchain>=0.3) (1.0.7)\n",
            "Requirement already satisfied: h11<0.15,>=0.13 in /usr/local/lib/python3.11/dist-packages (from httpcore==1.*->httpx<1,>=0.23.0->langsmith<0.4,>=0.1.17->langchain>=0.3) (0.14.0)\n",
            "Requirement already satisfied: jsonpointer>=1.9 in /usr/local/lib/python3.11/dist-packages (from jsonpatch<2.0,>=1.33->langchain-core<0.4.0,>=0.3.31->langchain>=0.3) (3.0.0)\n",
            "Requirement already satisfied: sniffio>=1.1 in /usr/local/lib/python3.11/dist-packages (from anyio->httpx<1,>=0.23.0->langsmith<0.4,>=0.1.17->langchain>=0.3) (1.3.1)\n",
            "Downloading pydantic-2.10.6-py3-none-any.whl (431 kB)\n",
            "\u001b[2K   \u001b[90m━━━━━━━━━━━━━━━━━━━━━━━━━━━━━━━━━━━━━━━━\u001b[0m \u001b[32m431.7/431.7 kB\u001b[0m \u001b[31m24.3 MB/s\u001b[0m eta \u001b[36m0:00:00\u001b[0m\n",
            "\u001b[?25hInstalling collected packages: pydantic\n",
            "  Attempting uninstall: pydantic\n",
            "    Found existing installation: pydantic 2.10.5\n",
            "    Uninstalling pydantic-2.10.5:\n",
            "      Successfully uninstalled pydantic-2.10.5\n",
            "Successfully installed pydantic-2.10.6\n"
          ]
        }
      ]
    },
    {
      "cell_type": "code",
      "execution_count": 2,
      "id": "541eb2f1",
      "metadata": {
        "id": "541eb2f1"
      },
      "outputs": [],
      "source": [
        "import warnings\n",
        "warnings.filterwarnings('ignore')"
      ]
    },
    {
      "cell_type": "code",
      "execution_count": 3,
      "id": "b7ed03ed-1322-49e3-b2a2-33e94fb592ef",
      "metadata": {
        "tags": [],
        "id": "b7ed03ed-1322-49e3-b2a2-33e94fb592ef"
      },
      "outputs": [],
      "source": [
        "from google.colab import userdata\n",
        "import os\n",
        "\n",
        "# Retrieve secrets from Colab\n",
        "OPENAI_API_KEY = userdata.get('chat_gpt')\n",
        "LANGCHAIN_API_KEY = userdata.get('langsmith')\n",
        "HUGGINGFACEHUB_API_TOKEN = userdata.get('hugging_face')"
      ]
    },
    {
      "cell_type": "code",
      "execution_count": 4,
      "id": "b84e441b",
      "metadata": {
        "tags": [],
        "id": "b84e441b",
        "outputId": "c085c3a5-2723-482d-e2aa-50cb47c766b7",
        "colab": {
          "base_uri": "https://localhost:8080/"
        }
      },
      "outputs": [
        {
          "output_type": "stream",
          "name": "stdout",
          "text": [
            "Requirement already satisfied: pandas in /usr/local/lib/python3.11/dist-packages (2.2.2)\n",
            "Requirement already satisfied: numpy>=1.23.2 in /usr/local/lib/python3.11/dist-packages (from pandas) (1.26.4)\n",
            "Requirement already satisfied: python-dateutil>=2.8.2 in /usr/local/lib/python3.11/dist-packages (from pandas) (2.8.2)\n",
            "Requirement already satisfied: pytz>=2020.1 in /usr/local/lib/python3.11/dist-packages (from pandas) (2024.2)\n",
            "Requirement already satisfied: tzdata>=2022.7 in /usr/local/lib/python3.11/dist-packages (from pandas) (2025.1)\n",
            "Requirement already satisfied: six>=1.5 in /usr/local/lib/python3.11/dist-packages (from python-dateutil>=2.8.2->pandas) (1.17.0)\n"
          ]
        }
      ],
      "source": [
        "!pip install pandas"
      ]
    },
    {
      "cell_type": "code",
      "execution_count": 6,
      "id": "974acf8e-8f88-42de-88f8-40a82cb58e8b",
      "metadata": {
        "tags": [],
        "id": "974acf8e-8f88-42de-88f8-40a82cb58e8b"
      },
      "outputs": [],
      "source": [
        "import pandas as pd\n",
        "df = pd.read_csv('/content/Data.csv')"
      ]
    },
    {
      "cell_type": "code",
      "execution_count": null,
      "id": "b7a09c35",
      "metadata": {
        "tags": [],
        "id": "b7a09c35",
        "outputId": "905af6b6-c1af-426d-e34f-b5b5271601c9"
      },
      "outputs": [
        {
          "data": {
            "text/html": [
              "<div>\n",
              "<style scoped>\n",
              "    .dataframe tbody tr th:only-of-type {\n",
              "        vertical-align: middle;\n",
              "    }\n",
              "\n",
              "    .dataframe tbody tr th {\n",
              "        vertical-align: top;\n",
              "    }\n",
              "\n",
              "    .dataframe thead th {\n",
              "        text-align: right;\n",
              "    }\n",
              "</style>\n",
              "<table border=\"1\" class=\"dataframe\">\n",
              "  <thead>\n",
              "    <tr style=\"text-align: right;\">\n",
              "      <th></th>\n",
              "      <th>Product</th>\n",
              "      <th>Review</th>\n",
              "    </tr>\n",
              "  </thead>\n",
              "  <tbody>\n",
              "    <tr>\n",
              "      <th>0</th>\n",
              "      <td>Queen Size Sheet Set</td>\n",
              "      <td>I ordered a king size set. My only criticism w...</td>\n",
              "    </tr>\n",
              "    <tr>\n",
              "      <th>1</th>\n",
              "      <td>Waterproof Phone Pouch</td>\n",
              "      <td>I loved the waterproof sac, although the openi...</td>\n",
              "    </tr>\n",
              "    <tr>\n",
              "      <th>2</th>\n",
              "      <td>Luxury Air Mattress</td>\n",
              "      <td>This mattress had a small hole in the top of i...</td>\n",
              "    </tr>\n",
              "    <tr>\n",
              "      <th>3</th>\n",
              "      <td>Pillows Insert</td>\n",
              "      <td>This is the best throw pillow fillers on Amazo...</td>\n",
              "    </tr>\n",
              "    <tr>\n",
              "      <th>4</th>\n",
              "      <td>Milk Frother Handheld\\n</td>\n",
              "      <td>I loved this product. But they only seem to l...</td>\n",
              "    </tr>\n",
              "  </tbody>\n",
              "</table>\n",
              "</div>"
            ],
            "text/plain": [
              "                   Product                                             Review\n",
              "0     Queen Size Sheet Set  I ordered a king size set. My only criticism w...\n",
              "1   Waterproof Phone Pouch  I loved the waterproof sac, although the openi...\n",
              "2      Luxury Air Mattress  This mattress had a small hole in the top of i...\n",
              "3           Pillows Insert  This is the best throw pillow fillers on Amazo...\n",
              "4  Milk Frother Handheld\\n   I loved this product. But they only seem to l..."
            ]
          },
          "execution_count": 15,
          "metadata": {},
          "output_type": "execute_result"
        }
      ],
      "source": [
        "df.head()"
      ]
    },
    {
      "cell_type": "markdown",
      "id": "b940ce7c",
      "metadata": {
        "id": "b940ce7c"
      },
      "source": [
        "## LLMChain"
      ]
    },
    {
      "cell_type": "code",
      "source": [
        "!pip install langchain_openai"
      ],
      "metadata": {
        "id": "FNKIQjWbhS90",
        "outputId": "5a8d49cb-4688-41d2-ef8c-6e1ab502d5f4",
        "colab": {
          "base_uri": "https://localhost:8080/"
        }
      },
      "id": "FNKIQjWbhS90",
      "execution_count": 8,
      "outputs": [
        {
          "output_type": "stream",
          "name": "stdout",
          "text": [
            "Collecting langchain_openai\n",
            "  Downloading langchain_openai-0.3.2-py3-none-any.whl.metadata (2.7 kB)\n",
            "Requirement already satisfied: langchain-core<0.4.0,>=0.3.31 in /usr/local/lib/python3.11/dist-packages (from langchain_openai) (0.3.31)\n",
            "Requirement already satisfied: openai<2.0.0,>=1.58.1 in /usr/local/lib/python3.11/dist-packages (from langchain_openai) (1.59.9)\n",
            "Collecting tiktoken<1,>=0.7 (from langchain_openai)\n",
            "  Downloading tiktoken-0.8.0-cp311-cp311-manylinux_2_17_x86_64.manylinux2014_x86_64.whl.metadata (6.6 kB)\n",
            "Requirement already satisfied: PyYAML>=5.3 in /usr/local/lib/python3.11/dist-packages (from langchain-core<0.4.0,>=0.3.31->langchain_openai) (6.0.2)\n",
            "Requirement already satisfied: jsonpatch<2.0,>=1.33 in /usr/local/lib/python3.11/dist-packages (from langchain-core<0.4.0,>=0.3.31->langchain_openai) (1.33)\n",
            "Requirement already satisfied: langsmith<0.4,>=0.1.125 in /usr/local/lib/python3.11/dist-packages (from langchain-core<0.4.0,>=0.3.31->langchain_openai) (0.3.0)\n",
            "Requirement already satisfied: packaging<25,>=23.2 in /usr/local/lib/python3.11/dist-packages (from langchain-core<0.4.0,>=0.3.31->langchain_openai) (24.2)\n",
            "Requirement already satisfied: pydantic<3.0.0,>=2.5.2 in /usr/local/lib/python3.11/dist-packages (from langchain-core<0.4.0,>=0.3.31->langchain_openai) (2.10.6)\n",
            "Requirement already satisfied: tenacity!=8.4.0,<10.0.0,>=8.1.0 in /usr/local/lib/python3.11/dist-packages (from langchain-core<0.4.0,>=0.3.31->langchain_openai) (9.0.0)\n",
            "Requirement already satisfied: typing-extensions>=4.7 in /usr/local/lib/python3.11/dist-packages (from langchain-core<0.4.0,>=0.3.31->langchain_openai) (4.12.2)\n",
            "Requirement already satisfied: anyio<5,>=3.5.0 in /usr/local/lib/python3.11/dist-packages (from openai<2.0.0,>=1.58.1->langchain_openai) (3.7.1)\n",
            "Requirement already satisfied: distro<2,>=1.7.0 in /usr/local/lib/python3.11/dist-packages (from openai<2.0.0,>=1.58.1->langchain_openai) (1.9.0)\n",
            "Requirement already satisfied: httpx<1,>=0.23.0 in /usr/local/lib/python3.11/dist-packages (from openai<2.0.0,>=1.58.1->langchain_openai) (0.28.1)\n",
            "Requirement already satisfied: jiter<1,>=0.4.0 in /usr/local/lib/python3.11/dist-packages (from openai<2.0.0,>=1.58.1->langchain_openai) (0.8.2)\n",
            "Requirement already satisfied: sniffio in /usr/local/lib/python3.11/dist-packages (from openai<2.0.0,>=1.58.1->langchain_openai) (1.3.1)\n",
            "Requirement already satisfied: tqdm>4 in /usr/local/lib/python3.11/dist-packages (from openai<2.0.0,>=1.58.1->langchain_openai) (4.67.1)\n",
            "Requirement already satisfied: regex>=2022.1.18 in /usr/local/lib/python3.11/dist-packages (from tiktoken<1,>=0.7->langchain_openai) (2024.11.6)\n",
            "Requirement already satisfied: requests>=2.26.0 in /usr/local/lib/python3.11/dist-packages (from tiktoken<1,>=0.7->langchain_openai) (2.32.3)\n",
            "Requirement already satisfied: idna>=2.8 in /usr/local/lib/python3.11/dist-packages (from anyio<5,>=3.5.0->openai<2.0.0,>=1.58.1->langchain_openai) (3.10)\n",
            "Requirement already satisfied: certifi in /usr/local/lib/python3.11/dist-packages (from httpx<1,>=0.23.0->openai<2.0.0,>=1.58.1->langchain_openai) (2024.12.14)\n",
            "Requirement already satisfied: httpcore==1.* in /usr/local/lib/python3.11/dist-packages (from httpx<1,>=0.23.0->openai<2.0.0,>=1.58.1->langchain_openai) (1.0.7)\n",
            "Requirement already satisfied: h11<0.15,>=0.13 in /usr/local/lib/python3.11/dist-packages (from httpcore==1.*->httpx<1,>=0.23.0->openai<2.0.0,>=1.58.1->langchain_openai) (0.14.0)\n",
            "Requirement already satisfied: jsonpointer>=1.9 in /usr/local/lib/python3.11/dist-packages (from jsonpatch<2.0,>=1.33->langchain-core<0.4.0,>=0.3.31->langchain_openai) (3.0.0)\n",
            "Requirement already satisfied: orjson<4.0.0,>=3.9.14 in /usr/local/lib/python3.11/dist-packages (from langsmith<0.4,>=0.1.125->langchain-core<0.4.0,>=0.3.31->langchain_openai) (3.10.15)\n",
            "Requirement already satisfied: requests-toolbelt<2.0.0,>=1.0.0 in /usr/local/lib/python3.11/dist-packages (from langsmith<0.4,>=0.1.125->langchain-core<0.4.0,>=0.3.31->langchain_openai) (1.0.0)\n",
            "Requirement already satisfied: zstandard<0.24.0,>=0.23.0 in /usr/local/lib/python3.11/dist-packages (from langsmith<0.4,>=0.1.125->langchain-core<0.4.0,>=0.3.31->langchain_openai) (0.23.0)\n",
            "Requirement already satisfied: annotated-types>=0.6.0 in /usr/local/lib/python3.11/dist-packages (from pydantic<3.0.0,>=2.5.2->langchain-core<0.4.0,>=0.3.31->langchain_openai) (0.7.0)\n",
            "Requirement already satisfied: pydantic-core==2.27.2 in /usr/local/lib/python3.11/dist-packages (from pydantic<3.0.0,>=2.5.2->langchain-core<0.4.0,>=0.3.31->langchain_openai) (2.27.2)\n",
            "Requirement already satisfied: charset-normalizer<4,>=2 in /usr/local/lib/python3.11/dist-packages (from requests>=2.26.0->tiktoken<1,>=0.7->langchain_openai) (3.4.1)\n",
            "Requirement already satisfied: urllib3<3,>=1.21.1 in /usr/local/lib/python3.11/dist-packages (from requests>=2.26.0->tiktoken<1,>=0.7->langchain_openai) (2.3.0)\n",
            "Downloading langchain_openai-0.3.2-py3-none-any.whl (54 kB)\n",
            "\u001b[2K   \u001b[90m━━━━━━━━━━━━━━━━━━━━━━━━━━━━━━━━━━━━━━━━\u001b[0m \u001b[32m54.4/54.4 kB\u001b[0m \u001b[31m5.0 MB/s\u001b[0m eta \u001b[36m0:00:00\u001b[0m\n",
            "\u001b[?25hDownloading tiktoken-0.8.0-cp311-cp311-manylinux_2_17_x86_64.manylinux2014_x86_64.whl (1.2 MB)\n",
            "\u001b[2K   \u001b[90m━━━━━━━━━━━━━━━━━━━━━━━━━━━━━━━━━━━━━━━━\u001b[0m \u001b[32m1.2/1.2 MB\u001b[0m \u001b[31m61.2 MB/s\u001b[0m eta \u001b[36m0:00:00\u001b[0m\n",
            "\u001b[?25hInstalling collected packages: tiktoken, langchain_openai\n",
            "Successfully installed langchain_openai-0.3.2 tiktoken-0.8.0\n"
          ]
        }
      ]
    },
    {
      "cell_type": "code",
      "execution_count": 9,
      "id": "e92dff22",
      "metadata": {
        "tags": [],
        "id": "e92dff22"
      },
      "outputs": [],
      "source": [
        "from langchain_openai import ChatOpenAI\n",
        "from langchain.prompts import ChatPromptTemplate\n",
        "from langchain.chains import LLMChain"
      ]
    },
    {
      "cell_type": "code",
      "execution_count": 12,
      "id": "943237a7",
      "metadata": {
        "id": "943237a7"
      },
      "outputs": [],
      "source": [
        "\n",
        "llm = ChatOpenAI(temperature=0.7, openai_api_key=OPENAI_API_KEY)\n",
        "#Temperature controls randomness (0.7 for balanced creativity) ;)\n"
      ]
    },
    {
      "cell_type": "code",
      "execution_count": 13,
      "id": "cdcdb42d",
      "metadata": {
        "id": "cdcdb42d"
      },
      "outputs": [],
      "source": [
        "prompt = ChatPromptTemplate.from_template(\n",
        "    \"Describe the key features, uses, and specifications of {product}\"\n",
        ")"
      ]
    },
    {
      "cell_type": "code",
      "execution_count": 15,
      "id": "d7abc20b",
      "metadata": {
        "id": "d7abc20b"
      },
      "outputs": [],
      "source": [
        "chain = LLMChain(llm=llm, prompt=prompt)"
      ]
    },
    {
      "cell_type": "code",
      "execution_count": 17,
      "id": "ad44d1fb",
      "metadata": {
        "id": "ad44d1fb",
        "outputId": "2c31354a-e54b-4e4b-ba88-53eb7d3ad586",
        "colab": {
          "base_uri": "https://localhost:8080/"
        }
      },
      "outputs": [
        {
          "output_type": "execute_result",
          "data": {
            "text/plain": [
              "{'product': 'smartphone',\n",
              " 'text': \"A smartphone is a mobile device that combines the features of a phone with those of a computer, allowing users to make calls, send messages, access the internet, and run various applications. Some key features of a smartphone include:\\n\\n1. Touchscreen display: Most smartphones have a large touchscreen display that allows users to interact with the device using touch gestures.\\n\\n2. Operating system: Smartphones run on operating systems such as Android, iOS, or Windows, which provide a platform for running apps and managing the device.\\n\\n3. Apps: Smartphones can run a wide range of applications, from social media and messaging apps to productivity tools and games.\\n\\n4. Camera: Most smartphones come equipped with one or more cameras, allowing users to take photos and videos.\\n\\n5. Connectivity: Smartphones typically support Wi-Fi, Bluetooth, and cellular data connections, enabling users to stay connected wherever they go.\\n\\n6. Storage: Smartphones come with built-in storage for storing apps, photos, videos, and other data, and many also support expandable storage via microSD cards.\\n\\n7. Battery: Smartphones are powered by rechargeable batteries that provide hours of use on a single charge.\\n\\nSome common uses of smartphones include:\\n\\n- Making phone calls and sending text messages\\n- Browsing the internet and accessing social media\\n- Taking photos and videos\\n- Listening to music and watching videos\\n- Playing games\\n- Managing emails and calendars\\n- Using productivity apps for work or school\\n\\nSpecifications of smartphones can vary widely depending on the model and manufacturer, but some common specifications to consider include:\\n\\n- Processor: The processor determines the speed and performance of the device.\\n- RAM: More RAM allows for smoother multitasking and faster app loading.\\n- Display: The display size and resolution affect the visual experience of the device.\\n- Camera: The megapixel count and features of the camera determine the quality of photos and videos.\\n- Battery capacity: Larger battery capacity means longer battery life.\\n- Storage: The amount of built-in storage affects how many apps, photos, and videos can be stored on the device.\\n- Connectivity: Check for features like 4G LTE, Wi-Fi 6, and NFC for faster and more reliable connections.\\n\\nOverall, smartphones are versatile devices that offer a wide range of features and capabilities, making them essential tools for staying connected and productive in today's digital world.\"}"
            ]
          },
          "metadata": {},
          "execution_count": 17
        }
      ],
      "source": [
        "product = \"smartphone\"\n",
        "chain.invoke({\"product\": product})"
      ]
    },
    {
      "cell_type": "markdown",
      "id": "69b03469",
      "metadata": {
        "id": "69b03469"
      },
      "source": [
        "## SimpleSequentialChain"
      ]
    },
    {
      "cell_type": "code",
      "execution_count": 18,
      "id": "febee243",
      "metadata": {
        "id": "febee243"
      },
      "outputs": [],
      "source": [
        "from langchain.chains import SimpleSequentialChain"
      ]
    },
    {
      "cell_type": "code",
      "execution_count": 19,
      "id": "2f31aa8a",
      "metadata": {
        "id": "2f31aa8a"
      },
      "outputs": [],
      "source": [
        "llm = ChatOpenAI(temperature=0.9, openai_api_key=OPENAI_API_KEY)\n",
        "\n",
        "first_prompt = ChatPromptTemplate.from_template(\n",
        "   \"Analyze the features and use cases of {product} and provide key points.\"\n",
        ")\n",
        "chain_one = LLMChain(llm=llm, prompt=first_prompt)"
      ]
    },
    {
      "cell_type": "code",
      "execution_count": 20,
      "id": "3f5d5b76",
      "metadata": {
        "id": "3f5d5b76"
      },
      "outputs": [],
      "source": [
        "second_prompt = ChatPromptTemplate.from_template(\n",
        "   \"Based on the analysis: {chain_one_output}, recommend similar products\"\n",
        ")\n",
        "chain_two = LLMChain(llm=llm, prompt=second_prompt)"
      ]
    },
    {
      "cell_type": "code",
      "execution_count": 21,
      "id": "6c1eb2c4",
      "metadata": {
        "id": "6c1eb2c4"
      },
      "outputs": [],
      "source": [
        "overall_simple_chain = SimpleSequentialChain(\n",
        "   chains=[chain_one, chain_two],\n",
        "   verbose=True\n",
        ")"
      ]
    },
    {
      "cell_type": "code",
      "execution_count": 22,
      "id": "78458efe",
      "metadata": {
        "id": "78458efe",
        "outputId": "7f1df94b-cae2-4822-db5c-7f72e4c85fa9",
        "colab": {
          "base_uri": "https://localhost:8080/",
          "height": 542
        }
      },
      "outputs": [
        {
          "output_type": "stream",
          "name": "stdout",
          "text": [
            "\n",
            "\n",
            "\u001b[1m> Entering new SimpleSequentialChain chain...\u001b[0m\n",
            "\u001b[36;1m\u001b[1;3mSmartphones are versatile devices that offer a wide range of features and use cases. Some key points to consider when analyzing smartphones include:\n",
            "\n",
            "1. Communication: Smartphones allow users to make phone calls, send text messages, and access social media platforms to stay connected with others.\n",
            "\n",
            "2. Internet access: Smartphones provide access to the internet through a web browser, allowing users to browse websites, stream videos, and download apps.\n",
            "\n",
            "3. Productivity tools: Smartphones come equipped with various productivity tools such as email, calendar, notes, and reminders to help users stay organized and efficient.\n",
            "\n",
            "4. Camera capabilities: Smartphones feature high-quality cameras that enable users to take photos and videos, edit them, and share them on social media platforms.\n",
            "\n",
            "5. Entertainment: Smartphones can be used for entertainment purposes such as playing games, watching movies, listening to music, and reading e-books.\n",
            "\n",
            "6. GPS navigation: Smartphones come with GPS technology that allows users to navigate their way around using mapping apps like Google Maps or Waze.\n",
            "\n",
            "7. Personalization: Smartphones offer customization options such as changing wallpapers, themes, and app layouts to suit individual preferences.\n",
            "\n",
            "8. Health and fitness tracking: Many smartphones have built-in sensors that can track physical activity, monitor heart rate, and provide health insights through apps like Apple Health or Google Fit.\n",
            "\n",
            "Overall, smartphones are essential devices that offer a wide range of features and use cases to enhance communication, productivity, entertainment, and personalization for users.\u001b[0m\n",
            "\u001b[33;1m\u001b[1;3mSome similar products that offer similar features and functionalities to smartphones include tablets, smartwatches, and laptops. Tablets offer a larger screen size for browsing the internet and consuming content, while smartwatches provide quick access to notifications and health tracking features on the go. Laptops offer more robust productivity tools and capabilities for tasks that require a larger screen and keyboard. Additionally, smart home devices such as smart speakers and smart TVs offer connectivity and entertainment features that can complement the functionalities of smartphones.\u001b[0m\n",
            "\n",
            "\u001b[1m> Finished chain.\u001b[0m\n"
          ]
        },
        {
          "output_type": "execute_result",
          "data": {
            "text/plain": [
              "'Some similar products that offer similar features and functionalities to smartphones include tablets, smartwatches, and laptops. Tablets offer a larger screen size for browsing the internet and consuming content, while smartwatches provide quick access to notifications and health tracking features on the go. Laptops offer more robust productivity tools and capabilities for tasks that require a larger screen and keyboard. Additionally, smart home devices such as smart speakers and smart TVs offer connectivity and entertainment features that can complement the functionalities of smartphones.'"
            ],
            "application/vnd.google.colaboratory.intrinsic+json": {
              "type": "string"
            }
          },
          "metadata": {},
          "execution_count": 22
        }
      ],
      "source": [
        "overall_simple_chain.run(product)"
      ]
    },
    {
      "cell_type": "code",
      "source": [
        "product1 = \"smartphone\"\n",
        "product2 = \"laptop\""
      ],
      "metadata": {
        "id": "KeJAzrFckQPr"
      },
      "id": "KeJAzrFckQPr",
      "execution_count": 23,
      "outputs": []
    },
    {
      "cell_type": "code",
      "source": [
        "from langchain.chains import SimpleSequentialChain\n",
        "\n",
        "llm = ChatOpenAI(temperature=0.9, openai_api_key=OPENAI_API_KEY)\n",
        "\n",
        "first_prompt = ChatPromptTemplate.from_template(\n",
        "   \"Analyze the features and use cases of {product1} and provide key points.\"\n",
        ")\n",
        "chain_one = LLMChain(llm=llm, prompt=first_prompt)\n",
        "second_prompt = ChatPromptTemplate.from_template(\n",
        "   \"Based on the analysis: {chain_one_output}, recommend similar products\"\n",
        ")\n",
        "chain_two = LLMChain(llm=llm, prompt=second_prompt)\n",
        "overall_simple_chain = SimpleSequentialChain(\n",
        "   chains=[chain_one, chain_two],\n",
        "   verbose=True\n",
        ")\n",
        "overall_simple_chain.invoke({\"input\": product1})"
      ],
      "metadata": {
        "id": "HYL6azDakcOx",
        "outputId": "305285b6-f367-40a4-a0ab-5a7f817425b0",
        "colab": {
          "base_uri": "https://localhost:8080/"
        }
      },
      "id": "HYL6azDakcOx",
      "execution_count": 25,
      "outputs": [
        {
          "output_type": "stream",
          "name": "stdout",
          "text": [
            "\n",
            "\n",
            "\u001b[1m> Entering new SimpleSequentialChain chain...\u001b[0m\n",
            "\u001b[36;1m\u001b[1;3mSmartphones are advanced mobile devices that combine the functionality of a phone with that of a computer. They offer a wide range of features and use cases that make them essential for modern life. \n",
            "\n",
            "Key features of smartphones include:\n",
            "\n",
            "1. Communication: Smartphones provide the ability to make phone calls, send text messages, and use various messaging apps to stay in touch with friends, family, and colleagues.\n",
            "\n",
            "2. Internet access: Smartphones have built-in Wi-Fi and cellular connectivity, allowing users to access the internet, browse websites, and use online services.\n",
            "\n",
            "3. Apps: Smartphones can download and install apps from app stores, providing access to a wide range of services and tools, including social media, entertainment, productivity, and more.\n",
            "\n",
            "4. Camera: Most smartphones have high-quality cameras that allow users to take photos and videos, as well as edit and share them instantly.\n",
            "\n",
            "5. Multimedia: Smartphones can store and play music, videos, and other multimedia files, providing entertainment on the go.\n",
            "\n",
            "6. Personal organization: Smartphones offer features like calendars, reminders, notes, and alarms to help users stay organized and manage their daily activities.\n",
            "\n",
            "Key use cases for smartphones include:\n",
            "\n",
            "1. Communication: Smartphones are primarily used for making calls, sending messages, and staying connected with others through various communication apps.\n",
            "\n",
            "2. Information access: Smartphones enable users to access information quickly and easily, whether it's checking the news, looking up a recipe, or finding directions.\n",
            "\n",
            "3. Entertainment: Smartphones provide access to a wide range of entertainment options, including games, streaming services, social media, and more.\n",
            "\n",
            "4. Productivity: Smartphones offer various tools and apps to help users stay productive, whether it's managing tasks, collaborating with colleagues, or working on the go.\n",
            "\n",
            "5. Navigation: Smartphones come with GPS navigation capabilities, making them ideal for getting driving directions, finding nearby businesses, or planning trips.\n",
            "\n",
            "In conclusion, smartphones offer a wide range of features and use cases that make them indispensable in today's fast-paced world. From communication and entertainment to productivity and navigation, smartphones have become essential tools for both personal and professional use.\u001b[0m\n",
            "\u001b[33;1m\u001b[1;3mSome similar products to smartphones that offer advanced mobile functionality include:\n",
            "\n",
            "1. Tablets: Tablets are larger touchscreen devices that offer similar features to smartphones, such as internet access, app support, and multimedia capabilities. They are ideal for tasks that require a larger screen or more computing power.\n",
            "\n",
            "2. Smartwatches: Smartwatches are wearable devices that connect to smartphones and offer features like notifications, fitness tracking, and communication capabilities. They provide convenient access to important information on the go.\n",
            "\n",
            "3. Phablets: Phablets are devices that combine the features of smartphones and tablets, offering a larger screen size while still maintaining the portability of a smartphone. They are ideal for users who require a larger display for multimedia consumption or productivity tasks.\n",
            "\n",
            "4. Mobile hotspots: Mobile hotspots are devices that provide internet connectivity on the go by creating a Wi-Fi network that multiple devices can connect to. They are useful for users who require internet access for multiple devices while on the move.\n",
            "\n",
            "5. Portable media players: Portable media players are compact devices that specialize in playing music, videos, and other multimedia files. They are ideal for users who want a dedicated device for entertainment purposes without the additional features of a smartphone.\u001b[0m\n",
            "\n",
            "\u001b[1m> Finished chain.\u001b[0m\n"
          ]
        },
        {
          "output_type": "execute_result",
          "data": {
            "text/plain": [
              "{'input': 'smartphone',\n",
              " 'output': 'Some similar products to smartphones that offer advanced mobile functionality include:\\n\\n1. Tablets: Tablets are larger touchscreen devices that offer similar features to smartphones, such as internet access, app support, and multimedia capabilities. They are ideal for tasks that require a larger screen or more computing power.\\n\\n2. Smartwatches: Smartwatches are wearable devices that connect to smartphones and offer features like notifications, fitness tracking, and communication capabilities. They provide convenient access to important information on the go.\\n\\n3. Phablets: Phablets are devices that combine the features of smartphones and tablets, offering a larger screen size while still maintaining the portability of a smartphone. They are ideal for users who require a larger display for multimedia consumption or productivity tasks.\\n\\n4. Mobile hotspots: Mobile hotspots are devices that provide internet connectivity on the go by creating a Wi-Fi network that multiple devices can connect to. They are useful for users who require internet access for multiple devices while on the move.\\n\\n5. Portable media players: Portable media players are compact devices that specialize in playing music, videos, and other multimedia files. They are ideal for users who want a dedicated device for entertainment purposes without the additional features of a smartphone.'}"
            ]
          },
          "metadata": {},
          "execution_count": 25
        }
      ]
    },
    {
      "cell_type": "code",
      "source": [
        "from langchain.chains import SimpleSequentialChain\n",
        "\n",
        "llm = ChatOpenAI(temperature=0.9, openai_api_key=OPENAI_API_KEY)\n",
        "\n",
        "first_prompt = ChatPromptTemplate.from_template(\n",
        "   \"Analyze the features and use cases of {product2} and provide key points.\"\n",
        ")\n",
        "chain_one = LLMChain(llm=llm, prompt=first_prompt)\n",
        "second_prompt = ChatPromptTemplate.from_template(\n",
        "   \"Based on the analysis: {chain_one_output}, recommend similar products\"\n",
        ")\n",
        "chain_two = LLMChain(llm=llm, prompt=second_prompt)\n",
        "overall_simple_chain = SimpleSequentialChain(\n",
        "   chains=[chain_one, chain_two],\n",
        "   verbose=True\n",
        ")\n",
        "overall_simple_chain.invoke({\"input\": product2})"
      ],
      "metadata": {
        "id": "NGHqL9W8lgjE",
        "outputId": "5f820ddb-a1d3-49cb-8c34-a2693a324bd3",
        "colab": {
          "base_uri": "https://localhost:8080/"
        }
      },
      "id": "NGHqL9W8lgjE",
      "execution_count": 26,
      "outputs": [
        {
          "output_type": "stream",
          "name": "stdout",
          "text": [
            "\n",
            "\n",
            "\u001b[1m> Entering new SimpleSequentialChain chain...\u001b[0m\n",
            "\u001b[36;1m\u001b[1;3mLaptops are portable computers that offer a wide range of features and use cases for both personal and professional use. Some key points to consider when analyzing laptops include:\n",
            "\n",
            "Features:\n",
            "1. Portability: Laptops are designed to be lightweight and portable, making them ideal for individuals who need to work on the go.\n",
            "2. Performance: Laptops come in a variety of sizes and configurations, from budget-friendly models with basic specs to high-end models with powerful processors and graphics cards.\n",
            "3. Battery life: Laptops typically have a built-in battery that allows users to work without needing to be plugged in for several hours.\n",
            "4. Connectivity: Laptops come equipped with a variety of ports and wireless connectivity options, such as USB, HDMI, and Wi-Fi, to easily connect to external devices and networks.\n",
            "5. Display: Laptops feature a built-in display that ranges in size from 11 to 17 inches, with options for HD, Full HD, and 4K resolutions.\n",
            "6. Keyboard and touchpad: Laptops feature a built-in keyboard and touchpad for input, as well as the option to connect external peripherals such as a mouse or keyboard.\n",
            "7. Operating system: Laptops run on various operating systems, such as Windows, macOS, and Chrome OS, each offering its own unique features and capabilities.\n",
            "\n",
            "Use cases:\n",
            "1. Personal use: Laptops are commonly used for personal tasks such as browsing the internet, streaming videos, playing games, and communicating with others through email and social media.\n",
            "2. Work: Laptops are widely used for work-related tasks such as word processing, making presentations, managing spreadsheets, and video conferencing.\n",
            "3. Education: Laptops are essential tools for students and educators alike, enabling online learning, research, writing papers, and creating presentations.\n",
            "4. Creativity: Laptops are used by creative professionals such as graphic designers, photographers, and video editors, who require powerful hardware and software for their work.\n",
            "5. Entertainment: Laptops are used for entertainment purposes, such as watching movies, listening to music, and playing video games.\n",
            "\n",
            "In conclusion, laptops offer a wide range of features and use cases that make them versatile devices for various tasks and activities. When choosing a laptop, it is important to consider the specific needs and preferences of the user, as well as the budget and desired performance level.\u001b[0m\n",
            "\u001b[33;1m\u001b[1;3mSome similar products to consider when looking for a laptop include:\n",
            "\n",
            "1. Ultrabooks: These are lightweight and thin laptops that prioritize portability without compromising on performance.\n",
            "\n",
            "2. 2-in-1 laptops: These laptops can be used as both a laptop and a tablet, offering flexibility in how they are used.\n",
            "\n",
            "3. Gaming laptops: These laptops are designed specifically for gaming enthusiasts, with high-performance hardware and graphics capabilities.\n",
            "\n",
            "4. Chromebooks: These laptops run on Google's Chrome OS and are designed for users who primarily use web-based applications and cloud services.\n",
            "\n",
            "5. Business laptops: These laptops are built for professionals who need security and productivity features for work-related tasks.\n",
            "\n",
            "6. Apple MacBook: These laptops run on macOS and are known for their sleek design, user-friendly interface, and integration with other Apple products.\n",
            "\n",
            "It is important to consider the specific requirements and preferences of the user when choosing a laptop, as different models cater to different needs and use cases.\u001b[0m\n",
            "\n",
            "\u001b[1m> Finished chain.\u001b[0m\n"
          ]
        },
        {
          "output_type": "execute_result",
          "data": {
            "text/plain": [
              "{'input': 'laptop',\n",
              " 'output': \"Some similar products to consider when looking for a laptop include:\\n\\n1. Ultrabooks: These are lightweight and thin laptops that prioritize portability without compromising on performance.\\n\\n2. 2-in-1 laptops: These laptops can be used as both a laptop and a tablet, offering flexibility in how they are used.\\n\\n3. Gaming laptops: These laptops are designed specifically for gaming enthusiasts, with high-performance hardware and graphics capabilities.\\n\\n4. Chromebooks: These laptops run on Google's Chrome OS and are designed for users who primarily use web-based applications and cloud services.\\n\\n5. Business laptops: These laptops are built for professionals who need security and productivity features for work-related tasks.\\n\\n6. Apple MacBook: These laptops run on macOS and are known for their sleek design, user-friendly interface, and integration with other Apple products.\\n\\nIt is important to consider the specific requirements and preferences of the user when choosing a laptop, as different models cater to different needs and use cases.\"}"
            ]
          },
          "metadata": {},
          "execution_count": 26
        }
      ]
    },
    {
      "cell_type": "markdown",
      "id": "0dd59bda-9d02-44e7-b3d6-2bec61b99d8f",
      "metadata": {
        "id": "0dd59bda-9d02-44e7-b3d6-2bec61b99d8f"
      },
      "source": [
        "**Repeat the above twice for different products**"
      ]
    },
    {
      "cell_type": "markdown",
      "id": "7b5ce18c",
      "metadata": {
        "id": "7b5ce18c"
      },
      "source": [
        "## SequentialChain"
      ]
    },
    {
      "cell_type": "code",
      "execution_count": 27,
      "id": "4c129ef6",
      "metadata": {
        "id": "4c129ef6"
      },
      "outputs": [],
      "source": [
        "from langchain.chains import SequentialChain"
      ]
    },
    {
      "cell_type": "code",
      "execution_count": 31,
      "id": "016187ac",
      "metadata": {
        "id": "016187ac"
      },
      "outputs": [],
      "source": [
        "llm = ChatOpenAI(temperature=0.9, openai_api_key=OPENAI_API_KEY)"
      ]
    },
    {
      "cell_type": "code",
      "source": [
        "# Setup prompts and chains\n",
        "first_prompt = ChatPromptTemplate.from_template(\n",
        "   \"Translate this review to English while maintaining key details: {review}\"\n",
        ")\n",
        "chain_one = LLMChain(llm=llm, prompt=first_prompt, output_key=\"english_review\")\n",
        "\n",
        "second_prompt = ChatPromptTemplate.from_template(\n",
        "   \"Provide a detailed summary of this review: {english_review}\"\n",
        ")\n",
        "chain_two = LLMChain(llm=llm, prompt=second_prompt, output_key=\"review_summary\")\n",
        "\n",
        "third_prompt = ChatPromptTemplate.from_template(\n",
        "   \"Translate this content to {target_language}: {review_summary}\"\n",
        ")\n",
        "chain_three = LLMChain(llm=llm, prompt=third_prompt, output_key=\"translated_review\")\n",
        "\n",
        "fourth_prompt = ChatPromptTemplate.from_template(\n",
        "   \"Based on {review_summary} and {translated_review}, generate a detailed follow-up message\"\n",
        ")\n",
        "chain_four = LLMChain(llm=llm, prompt=fourth_prompt, output_key=\"follow_message\")\n",
        "\n",
        "# Sequential chain\n",
        "overall_chain = SequentialChain(\n",
        "   chains=[chain_one, chain_two, chain_three, chain_four],\n",
        "   input_variables=[\"review\", \"target_language\"],\n",
        "   output_variables=[\"english_review\", \"review_summary\", \"translated_review\", \"follow_message\"],\n",
        "   verbose=True\n",
        ")\n",
        "\n",
        "# Execute\n",
        "review = df.Review[5]\n",
        "result = overall_chain.invoke({\n",
        "   \"review\": review,\n",
        "   \"target_language\": \"Spanish\"\n",
        "})\n",
        "\n",
        "print(result)\n"
      ],
      "metadata": {
        "id": "t_M3WwT5pZQ3",
        "outputId": "263eaa83-6798-43c4-8115-62a5c2183103",
        "colab": {
          "base_uri": "https://localhost:8080/"
        }
      },
      "id": "t_M3WwT5pZQ3",
      "execution_count": 60,
      "outputs": [
        {
          "output_type": "stream",
          "name": "stdout",
          "text": [
            "\n",
            "\n",
            "\u001b[1m> Entering new SequentialChain chain...\u001b[0m\n",
            "\n",
            "\u001b[1m> Finished chain.\u001b[0m\n",
            "{'review': \"Je trouve le goût médiocre. La mousse ne tient pas, c'est bizarre. J'achète les mêmes dans le commerce et le goût est bien meilleur...\\nVieux lot ou contrefaçon !?\", 'target_language': 'Spanish', 'english_review': \"I find the taste to be poor. The foam doesn't hold, it's weird. I buy the same ones in stores and the taste is much better... Is it an old batch or a counterfeit!?\", 'review_summary': 'In this review, the reviewer expresses dissatisfaction with the taste of a product they purchased. They mention that the foam does not hold and that it tastes weird compared to the same product they have bought in stores in the past. The reviewer questions whether they received an old batch or a counterfeit product, as they believe the taste is significantly worse than what they are used to. Overall, the reviewer is disappointed in the quality of the product they purchased.', 'translated_review': 'En esta reseña, el revisor expresa insatisfacción con el sabor de un producto que compró. Mencionan que la espuma no se mantiene y que tiene un sabor extraño en comparación con el mismo producto que han comprado en tiendas en el pasado. El revisor cuestiona si recibieron un lote antiguo o un producto falsificado, ya que creen que el sabor es significativamente peor que lo que están acostumbrados. En general, el revisor está decepcionado con la calidad del producto que compraron.', 'follow_message': 'Hello,\\n\\nThank you for taking the time to share your feedback with us. We are sorry to hear that you were disappointed with the taste of the product you purchased. We take the quality of our products very seriously, and we apologize that the experience did not meet your expectations.\\n\\nWe would like to assure you that our products go through rigorous quality control processes to ensure that they meet our standards before they are distributed to our customers. We understand your concerns about the taste and the foam not holding, and we will investigate this matter further to ensure that this issue is addressed.\\n\\nIf you believe that you may have received a counterfeit product or an old batch, please reach out to us with more details about your purchase so that we can investigate this further.\\n\\nWe value your feedback and appreciate the opportunity to improve our products and services. Please feel free to contact us with any further concerns or questions you may have.\\n\\nThank you for your understanding.\\n\\nSincerely, [Company Name]'}\n"
          ]
        }
      ]
    },
    {
      "cell_type": "code",
      "source": [
        "product1 = \"smartphone\"\n",
        "# Setup prompts and chains\n",
        "first_prompt = ChatPromptTemplate.from_template(\n",
        "   \"Translate this review to English while maintaining key details: {review}\"\n",
        ")\n",
        "chain_one = LLMChain(llm=llm, prompt=first_prompt, output_key=\"english_review\")\n",
        "\n",
        "second_prompt = ChatPromptTemplate.from_template(\n",
        "   \"Provide a detailed summary of this review: {english_review}\"\n",
        ")\n",
        "chain_two = LLMChain(llm=llm, prompt=second_prompt, output_key=\"review_summary\")\n",
        "\n",
        "third_prompt = ChatPromptTemplate.from_template(\n",
        "   \"Translate this content to {target_language}: {review_summary}\"\n",
        ")\n",
        "chain_three = LLMChain(llm=llm, prompt=third_prompt, output_key=\"translated_review\")\n",
        "\n",
        "fourth_prompt = ChatPromptTemplate.from_template(\n",
        "   \"Based on {review_summary} and {translated_review}, generate a detailed follow-up message\"\n",
        ")\n",
        "chain_four = LLMChain(llm=llm, prompt=fourth_prompt, output_key=\"follow_message\")\n",
        "\n",
        "# Sequential chain\n",
        "overall_chain = SequentialChain(\n",
        "   chains=[chain_one, chain_two, chain_three, chain_four],\n",
        "   input_variables=[\"review\", \"target_language\"],\n",
        "   output_variables=[\"english_review\", \"review_summary\", \"translated_review\", \"follow_message\"],\n",
        "   verbose=True\n",
        ")\n",
        "smartphone_review = df.Review[5]\n",
        "result1 = overall_chain.invoke({\n",
        "   \"review\": smartphone_review ,\n",
        "   \"target_language\": \"English\",\n",
        "   \"product\": \"smartphone\"\n",
        "})\n",
        "print(result1)"
      ],
      "metadata": {
        "id": "G2DiDYFfq2mq",
        "outputId": "377e6d66-1819-463d-b9e4-066a8bd12878",
        "colab": {
          "base_uri": "https://localhost:8080/"
        }
      },
      "id": "G2DiDYFfq2mq",
      "execution_count": 61,
      "outputs": [
        {
          "output_type": "stream",
          "name": "stdout",
          "text": [
            "\n",
            "\n",
            "\u001b[1m> Entering new SequentialChain chain...\u001b[0m\n",
            "\n",
            "\u001b[1m> Finished chain.\u001b[0m\n",
            "{'review': \"Je trouve le goût médiocre. La mousse ne tient pas, c'est bizarre. J'achète les mêmes dans le commerce et le goût est bien meilleur...\\nVieux lot ou contrefaçon !?\", 'target_language': 'English', 'product': 'smartphone', 'english_review': \"I find the taste mediocre. The foam doesn't hold, it's weird. I buy the same ones in stores and the taste is much better... Old batch or counterfeit!?\", 'review_summary': \"In this review, the reviewer expresses disappointment in the taste of the product, describing it as mediocre. They also note that the foam on the product doesn't hold well, which they find strange. They mention that they have purchased the same product in stores before and found the taste to be much better, leading them to question if the product they received may be from an old batch or even counterfeit. Overall, the reviewer is not pleased with their experience with this particular purchase of the product.\", 'translated_review': \"In this review, the reviewer expresses disappointment in the taste of the product, describing it as mediocre. They also note that the foam on the product doesn't hold well, which they find strange. They mention that they have purchased the same product in stores before and found the taste to be much better, leading them to question if the product they received may be from an old batch or even counterfeit. Overall, the reviewer is not pleased with their experience with this particular purchase of the product.\", 'follow_message': 'We are sorry to hear about your disappointing experience with our product. We take feedback from our customers very seriously and strive to ensure the highest quality in all of our products. \\n\\nWe apologize for the taste of the product not meeting your expectations and for the issue with the foam not holding well. This is not the standard we aim to uphold, and we will investigate this matter further to ensure that it does not happen again.\\n\\nIf you suspect that the product you received may be from an old batch or counterfeit, please reach out to our customer service team with more details so that we can look into this issue and rectify it as soon as possible.\\n\\nWe value your feedback and loyalty as a customer, and we want to make sure that you are completely satisfied with your experience with our products. Thank you for bringing this to our attention, and we hope to have the opportunity to regain your trust in the future.'}\n"
          ]
        }
      ]
    },
    {
      "cell_type": "code",
      "source": [
        "product2 = \"smartphone\"\n",
        "# Setup prompts and chains\n",
        "first_prompt = ChatPromptTemplate.from_template(\n",
        "   \"Translate this review to English while maintaining key details: {review}\"\n",
        ")\n",
        "chain_one = LLMChain(llm=llm, prompt=first_prompt, output_key=\"english_review\")\n",
        "\n",
        "second_prompt = ChatPromptTemplate.from_template(\n",
        "   \"Provide a detailed summary of this review: {english_review}\"\n",
        ")\n",
        "chain_two = LLMChain(llm=llm, prompt=second_prompt, output_key=\"review_summary\")\n",
        "\n",
        "third_prompt = ChatPromptTemplate.from_template(\n",
        "   \"Translate this content to {target_language}: {review_summary}\"\n",
        ")\n",
        "chain_three = LLMChain(llm=llm, prompt=third_prompt, output_key=\"translated_review\")\n",
        "\n",
        "fourth_prompt = ChatPromptTemplate.from_template(\n",
        "   \"Based on {review_summary} and {translated_review}, generate a detailed follow-up message\"\n",
        ")\n",
        "chain_four = LLMChain(llm=llm, prompt=fourth_prompt, output_key=\"follow_message\")\n",
        "\n",
        "# Sequential chain\n",
        "overall_chain = SequentialChain(\n",
        "   chains=[chain_one, chain_two, chain_three, chain_four],\n",
        "   input_variables=[\"review\", \"target_language\"],\n",
        "   output_variables=[\"english_review\", \"review_summary\", \"translated_review\", \"follow_message\"],\n",
        "   verbose=True\n",
        ")\n",
        "laptop_review = df.Review[5]\n",
        "result2 = overall_chain.invoke({\n",
        "   \"review\": laptop_review,\n",
        "   \"target_language\": \"English\",\n",
        "   \"product\": \"laptop\"\n",
        "})\n",
        "print(result2)"
      ],
      "metadata": {
        "id": "Wxtd0qgkrYtY",
        "outputId": "9e2adc04-efd0-4732-899b-6f794c6797d1",
        "colab": {
          "base_uri": "https://localhost:8080/"
        }
      },
      "id": "Wxtd0qgkrYtY",
      "execution_count": 62,
      "outputs": [
        {
          "output_type": "stream",
          "name": "stdout",
          "text": [
            "\n",
            "\n",
            "\u001b[1m> Entering new SequentialChain chain...\u001b[0m\n",
            "\n",
            "\u001b[1m> Finished chain.\u001b[0m\n",
            "{'review': \"Je trouve le goût médiocre. La mousse ne tient pas, c'est bizarre. J'achète les mêmes dans le commerce et le goût est bien meilleur...\\nVieux lot ou contrefaçon !?\", 'target_language': 'English', 'product': 'laptop', 'english_review': \"I find the taste mediocre. The foam doesn't hold, it's strange. I buy the same ones in stores and the taste is much better... Old batch or counterfeit!?\", 'review_summary': 'In this review, the reviewer expresses disappointment with the taste of the product, describing it as mediocre. They also note that the foam does not hold well, which they find to be strange. The reviewer mentions that they have purchased the same product in stores before and found the taste to be much better. They question whether the batch of the product they received is old or counterfeit, as they suspect that could be the reason for the subpar taste and quality. Overall, the reviewer is dissatisfied with their experience with the product and raises concerns about its authenticity.', 'translated_review': 'In this review, the reviewer expresses disappointment with the taste of the product, describing it as mediocre. They also note that the foam does not hold well, which they find to be strange. The reviewer mentions that they have purchased the same product in stores before and found the taste to be much better. They question whether the batch of the product they received is old or counterfeit, as they suspect that could be the reason for the subpar taste and quality. Overall, the reviewer is dissatisfied with their experience with the product and raises concerns about its authenticity.', 'follow_message': 'Dear [Reviewer],\\n\\nThank you for taking the time to leave a review of our product. We are sorry to hear that you were disappointed with your recent purchase and that the taste did not meet your expectations. We take feedback from our customers seriously, and we apologize for any inconvenience this may have caused.\\n\\nWe want to assure you that we stand by the quality of our products and authenticity of our ingredients. We are currently investigating the batch from which your product was sourced to ensure that it meets our quality standards. We are also looking into the issue with the foam not holding well, as this is not a common complaint we receive about our product.\\n\\nWe appreciate your loyalty as a customer and want to make things right for you. Please reach out to our customer service team so that we can further investigate and address your concerns. We value your feedback and want to ensure that you have a positive experience with our product.\\n\\nThank you for bringing this to our attention, and we look forward to resolving this issue for you.\\n\\nSincerely,\\n[Company Name] Customer Service Team'}\n"
          ]
        }
      ]
    },
    {
      "cell_type": "markdown",
      "id": "3187cf07-458a-4226-bec7-3dec7ee47af2",
      "metadata": {
        "id": "3187cf07-458a-4226-bec7-3dec7ee47af2"
      },
      "source": [
        "**Repeat the above twice for different products or reviews**"
      ]
    },
    {
      "cell_type": "markdown",
      "id": "3041ea4c",
      "metadata": {
        "id": "3041ea4c"
      },
      "source": [
        "## Router Chain"
      ]
    },
    {
      "cell_type": "code",
      "execution_count": 98,
      "id": "ade83f4f",
      "metadata": {
        "id": "ade83f4f"
      },
      "outputs": [],
      "source": [
        "physics_template = \"\"\"You are a very smart physics professor. \\\n",
        "You are great at answering questions about physics in a concise\\\n",
        "and easy to understand manner. \\\n",
        "When you don't know the answer to a question you admit\\\n",
        "that you don't know.\n",
        "\n",
        "Here is a question:\n",
        "{input}\"\"\"\n",
        "\n",
        "\n",
        "math_template = \"\"\"You are a very good mathematician. \\\n",
        "You are great at answering math questions. \\\n",
        "You are so good because you are able to break down \\\n",
        "hard problems into their component parts,\n",
        "answer the component parts, and then put them together\\\n",
        "to answer the broader question.\n",
        "\n",
        "Here is a question:\n",
        "{input}\"\"\"\n",
        "\n",
        "history_template = \"\"\"You are a very good historian. \\\n",
        "You have an excellent knowledge of and understanding of people,\\\n",
        "events and contexts from a range of historical periods. \\\n",
        "You have the ability to think, reflect, debate, discuss and \\\n",
        "evaluate the past. You have a respect for historical evidence\\\n",
        "and the ability to make use of it to support your explanations \\\n",
        "and judgements.\n",
        "\n",
        "Here is a question:\n",
        "{input}\"\"\"\n",
        "\n",
        "\n",
        "computerscience_template = \"\"\" You are a successful computer scientist.\\\n",
        "You have a passion for creativity, collaboration,\\\n",
        "forward-thinking, confidence, strong problem-solving capabilities,\\\n",
        "understanding of theories and algorithms, and excellent communication \\\n",
        "skills. You are great at answering coding questions. \\\n",
        "You are so good because you know how to solve a problem by \\\n",
        "describing the solution in imperative steps \\\n",
        "that a machine can easily interpret and you know how to \\\n",
        "choose a solution that has a good balance between \\\n",
        "time complexity and space complexity.\n",
        "\n",
        "Here is a question:\n",
        "{input}\"\"\"\n",
        "\n",
        "biology_template = \"\"\"You are a skilled biologist.\\\n",
        "You comprehend cellular processes, genetics, and ecological systems.\\\n",
        "You connect biological concepts to real-world examples.\\\n",
        "You explain complex mechanisms step-by-step.\\\n",
        "\n",
        "Here is a question:\n",
        "{input}\"\"\"\n",
        "\n",
        "chemistry_template = \"\"\"You are an expert chemist.\\\n",
        "You understand molecular structures, reactions, and chemical principles.\\\n",
        "You explain complex concepts using analogies and visual descriptions.\\\n",
        "You emphasize lab safety and proper procedures.\\\n",
        "\n",
        "Here is a question:\n",
        "{input}\"\"\"\n",
        "\n",
        "taxation_template = \"\"\"You are a knowledgeable tax advisor.\\\n",
        "You excel at explaining complex tax regulations clearly.\\\n",
        "You break down tax calculations methodically and cite relevant tax codes.\\\n",
        "You provide accurate advice while noting important disclaimers.\\\n",
        "\n",
        "Here is a question:\n",
        "{input}\"\"\"\n",
        "\n",
        "geography_template = \"\"\"You are a geography specialist.\\\n",
        "You understand physical landforms, climate patterns, and human geography.\\\n",
        "You explain geographical concepts using clear examples and comparisons.\\\n",
        "You connect geographic features to their impacts on society.\\\n",
        "\n",
        "Here is a question:\n",
        "{input}\"\"\"\n"
      ]
    },
    {
      "cell_type": "code",
      "execution_count": 99,
      "id": "5f590e9f",
      "metadata": {
        "id": "5f590e9f"
      },
      "outputs": [],
      "source": [
        "prompt_infos = [\n",
        "    {\n",
        "        \"name\": \"physics\",\n",
        "        \"description\": \"Good for answering questions about physics\",\n",
        "        \"prompt_template\": physics_template\n",
        "    },\n",
        "    {\n",
        "        \"name\": \"math\",\n",
        "        \"description\": \"Good for answering math questions\",\n",
        "        \"prompt_template\": math_template\n",
        "    },\n",
        "    {\n",
        "        \"name\": \"History\",\n",
        "        \"description\": \"Good for answering history questions\",\n",
        "        \"prompt_template\": history_template\n",
        "    },\n",
        "    {\n",
        "        \"name\": \"computer science\",\n",
        "        \"description\": \"Good for answering computer science questions\",\n",
        "        \"prompt_template\": computerscience_template\n",
        "    },\n",
        "    {\n",
        "        \"name\": \"biology\",\n",
        "        \"description\": \"Good for answering biology questions\",\n",
        "        \"prompt_template\": biology_template\n",
        "    },\n",
        "    {\n",
        "        \"name\": \"chemistry\",\n",
        "        \"description\": \"Good for answering chemistry questions\",\n",
        "        \"prompt_template\": chemistry_template\n",
        "    },\n",
        "    {\n",
        "        \"name\": \"taxation\",\n",
        "        \"description\": \"Good for answering tax related questions\",\n",
        "        \"prompt_template\": taxation_template\n",
        "    },\n",
        "    {\n",
        "        \"name\": \"geography\",\n",
        "        \"description\": \"Good for answering geography questions\",\n",
        "        \"prompt_template\": geography_template\n",
        "    }\n",
        "]"
      ]
    },
    {
      "cell_type": "code",
      "execution_count": 100,
      "id": "31b06fc8",
      "metadata": {
        "id": "31b06fc8"
      },
      "outputs": [],
      "source": [
        "from langchain.chains.router import MultiPromptChain\n",
        "from langchain.chains.router.llm_router import LLMRouterChain,RouterOutputParser\n",
        "from langchain.prompts import PromptTemplate"
      ]
    },
    {
      "cell_type": "code",
      "execution_count": 101,
      "id": "f3f50bcc",
      "metadata": {
        "id": "f3f50bcc"
      },
      "outputs": [],
      "source": [
        "llm = ChatOpenAI(temperature=0, openai_api_key=OPENAI_API_KEY)"
      ]
    },
    {
      "cell_type": "code",
      "execution_count": 102,
      "id": "8eefec24",
      "metadata": {
        "id": "8eefec24"
      },
      "outputs": [],
      "source": [
        "destination_chains = {}\n",
        "for p_info in prompt_infos:\n",
        "    name = p_info[\"name\"]\n",
        "    prompt_template = p_info[\"prompt_template\"]\n",
        "    prompt = ChatPromptTemplate.from_template(template=prompt_template)\n",
        "    chain = LLMChain(llm=llm, prompt=prompt)\n",
        "    destination_chains[name] = chain\n",
        "\n",
        "destinations = [f\"{p['name']}: {p['description']}\" for p in prompt_infos]\n",
        "destinations_str = \"\\n\".join(destinations)"
      ]
    },
    {
      "cell_type": "code",
      "execution_count": 103,
      "id": "9f98018a",
      "metadata": {
        "id": "9f98018a"
      },
      "outputs": [],
      "source": [
        "default_prompt = ChatPromptTemplate.from_template(\"{input}\")\n",
        "default_chain = LLMChain(llm=llm, prompt=default_prompt)"
      ]
    },
    {
      "cell_type": "code",
      "execution_count": 104,
      "id": "11b2e2ba",
      "metadata": {
        "id": "11b2e2ba"
      },
      "outputs": [],
      "source": [
        "MULTI_PROMPT_ROUTER_TEMPLATE = \"\"\"Given a raw text input to a \\\n",
        "language model select the model prompt best suited for the input. \\\n",
        "You will be given the names of the available prompts and a \\\n",
        "description of what the prompt is best suited for. \\\n",
        "You may also revise the original input if you think that revising\\\n",
        "it will ultimately lead to a better response from the language model.\n",
        "\n",
        "<< FORMATTING >>\n",
        "Return a markdown code snippet with a JSON object formatted to look like:\n",
        "```json\n",
        "{{{{\n",
        "    \"destination\": string \\ name of the prompt to use or \"DEFAULT\"\n",
        "    \"next_inputs\": string \\ a potentially modified version of the original input\n",
        "}}}}\n",
        "```\n",
        "\n",
        "REMEMBER: \"destination\" MUST be one of the candidate prompt \\\n",
        "names specified below OR it can be \"DEFAULT\" if the input is not\\\n",
        "well suited for any of the candidate prompts.\n",
        "REMEMBER: \"next_inputs\" can just be the original input \\\n",
        "if you don't think any modifications are needed.\n",
        "\n",
        "<< CANDIDATE PROMPTS >>\n",
        "{destinations}\n",
        "\n",
        "<< INPUT >>\n",
        "{{input}}\n",
        "\n",
        "<< OUTPUT (remember to include the ```json)>>\"\"\""
      ]
    },
    {
      "cell_type": "code",
      "execution_count": 105,
      "id": "1387109d",
      "metadata": {
        "id": "1387109d"
      },
      "outputs": [],
      "source": [
        "router_template = MULTI_PROMPT_ROUTER_TEMPLATE.format(\n",
        "    destinations=destinations_str\n",
        ")\n",
        "router_prompt = PromptTemplate(\n",
        "    template=router_template,\n",
        "    input_variables=[\"input\"],\n",
        "    output_parser=RouterOutputParser(),\n",
        ")\n",
        "\n",
        "router_chain = LLMRouterChain.from_llm(llm, router_prompt)"
      ]
    },
    {
      "cell_type": "code",
      "execution_count": 106,
      "id": "2fb7d560",
      "metadata": {
        "id": "2fb7d560"
      },
      "outputs": [],
      "source": [
        "from langchain.chains.router import MultiRouteChain\n",
        "\n",
        "chain = MultiRouteChain(\n",
        "    router_chain=router_chain,\n",
        "    destination_chains=destination_chains,\n",
        "    default_chain=default_chain,\n",
        "    verbose=True\n",
        ")"
      ]
    },
    {
      "cell_type": "code",
      "execution_count": 107,
      "id": "d86b2131",
      "metadata": {
        "id": "d86b2131",
        "outputId": "f63c4897-656b-4fcd-886f-cdca2d3c7d04",
        "colab": {
          "base_uri": "https://localhost:8080/"
        }
      },
      "outputs": [
        {
          "output_type": "stream",
          "name": "stdout",
          "text": [
            "\n",
            "\n",
            "\u001b[1m> Entering new MultiRouteChain chain...\u001b[0m\n",
            "physics: {'input': 'What is black body radiation?'}\n",
            "\u001b[1m> Finished chain.\u001b[0m\n",
            "{'input': 'What is black body radiation?', 'text': \"Black body radiation refers to the electromagnetic radiation emitted by a perfect black body, which is an idealized physical body that absorbs all incident electromagnetic radiation and emits radiation at all frequencies. The radiation emitted by a black body is characterized by a continuous spectrum of wavelengths and intensities, which depends only on the temperature of the body. This phenomenon is described by Planck's law, which states that the intensity of radiation emitted by a black body is proportional to the frequency of the radiation and the temperature of the body.\"}\n"
          ]
        }
      ],
      "source": [
        "result = chain.invoke({\"input\": \"What is black body radiation?\"})\n",
        "print(result)"
      ]
    },
    {
      "cell_type": "code",
      "execution_count": 94,
      "id": "3b717379",
      "metadata": {
        "id": "3b717379",
        "outputId": "89c04fc8-5b0c-45f2-dee5-966d777d9124",
        "colab": {
          "base_uri": "https://localhost:8080/"
        }
      },
      "outputs": [
        {
          "output_type": "stream",
          "name": "stdout",
          "text": [
            "\n",
            "\n",
            "\u001b[1m> Entering new MultiRouteChain chain...\u001b[0m\n",
            "math: {'input': 'what is 2 + 2'}\n",
            "\u001b[1m> Finished chain.\u001b[0m\n",
            "{'input': 'what is 2 + 2', 'text': '2 + 2 is equal to 4.'}\n"
          ]
        }
      ],
      "source": [
        "result5 = chain.invoke(\"what is 2 + 2\")\n",
        "print(result5)"
      ]
    },
    {
      "cell_type": "code",
      "execution_count": 95,
      "id": "29e5be01",
      "metadata": {
        "id": "29e5be01",
        "outputId": "cd2cdc70-832f-42c5-862d-9fb0225f0f31",
        "colab": {
          "base_uri": "https://localhost:8080/"
        }
      },
      "outputs": [
        {
          "output_type": "stream",
          "name": "stdout",
          "text": [
            "\n",
            "\n",
            "\u001b[1m> Entering new MultiRouteChain chain...\u001b[0m\n",
            "biology: {'input': 'Why does every cell in our body contain DNA?'}\n",
            "\u001b[1m> Finished chain.\u001b[0m\n",
            "{'input': 'Why does every cell in our body contain DNA?', 'text': 'Every cell in our body contains DNA because DNA carries the genetic information that determines the characteristics and functions of each cell. DNA contains the instructions for building and maintaining an organism, including the proteins that are essential for cell structure and function. Additionally, DNA is responsible for passing on genetic information from one generation to the next through the process of cell division and reproduction. Therefore, the presence of DNA in every cell ensures that the genetic information necessary for the proper functioning of the organism is preserved and maintained.'}\n"
          ]
        }
      ],
      "source": [
        "result7= chain.invoke(\"Why does every cell in our body contain DNA?\")\n",
        "print(result7)"
      ]
    },
    {
      "cell_type": "code",
      "source": [
        "result10= chain.invoke(\"what happens if we combine alkaline and acid together?\")\n",
        "print(result10)"
      ],
      "metadata": {
        "id": "ObwGwrUuz9NE",
        "outputId": "c74c74a2-9246-49e1-c20d-f60f715f2ec1",
        "colab": {
          "base_uri": "https://localhost:8080/"
        }
      },
      "id": "ObwGwrUuz9NE",
      "execution_count": 108,
      "outputs": [
        {
          "output_type": "stream",
          "name": "stdout",
          "text": [
            "\n",
            "\n",
            "\u001b[1m> Entering new MultiRouteChain chain...\u001b[0m\n",
            "chemistry: {'input': 'what happens if we combine alkaline and acid together?'}\n",
            "\u001b[1m> Finished chain.\u001b[0m\n",
            "{'input': 'what happens if we combine alkaline and acid together?', 'text': \"When alkaline (basic) and acid substances are combined, they undergo a chemical reaction known as neutralization. This reaction results in the formation of water and a salt. \\n\\nTo understand this process, let's use an analogy. Imagine alkaline substances as firefighters and acid substances as fires. When firefighters (alkaline) come into contact with fires (acid), they work together to put out the fire. In the same way, alkaline substances neutralize the acidic properties by donating hydroxide ions (OH-) to the hydrogen ions (H+) from the acid. This reaction forms water (H2O) and a salt compound.\\n\\nFor example, if you mix hydrochloric acid (HCl) with sodium hydroxide (NaOH), the resulting reaction would be:\\n\\nHCl + NaOH -> NaCl + H2O\\n\\nIn this reaction, hydrochloric acid and sodium hydroxide combine to form sodium chloride (table salt) and water.\\n\\nIt is important to note that when working with alkaline and acid substances, proper lab safety precautions should be followed to prevent any accidents or harmful reactions. Always wear appropriate protective gear, work in a well-ventilated area, and follow proper handling and disposal procedures.\"}\n"
          ]
        }
      ]
    },
    {
      "cell_type": "code",
      "source": [
        "result13= chain.invoke(\"How can I make my tax result better if i live in german\")\n",
        "print(result13)"
      ],
      "metadata": {
        "id": "xRnXgHJ5z9VL",
        "outputId": "75761b08-88c1-4feb-86fa-98453d6a64b7",
        "colab": {
          "base_uri": "https://localhost:8080/"
        }
      },
      "id": "xRnXgHJ5z9VL",
      "execution_count": 109,
      "outputs": [
        {
          "output_type": "stream",
          "name": "stdout",
          "text": [
            "\n",
            "\n",
            "\u001b[1m> Entering new MultiRouteChain chain...\u001b[0m\n",
            "taxation: {'input': 'How can I make my tax result better if I live in Germany'}\n",
            "\u001b[1m> Finished chain.\u001b[0m\n",
            "{'input': 'How can I make my tax result better if I live in Germany', 'text': \"There are several ways you can potentially improve your tax result if you live in Germany. Here are some strategies to consider:\\n\\n1. Take advantage of tax deductions and credits: Make sure you are claiming all eligible deductions and credits on your tax return. This could include deductions for expenses such as education, healthcare, and charitable donations.\\n\\n2. Consider tax-advantaged savings accounts: In Germany, there are various tax-advantaged savings accounts available, such as the Riester and Rürup pensions, which can help you save for retirement while reducing your tax liability.\\n\\n3. Plan your investments strategically: Be mindful of the tax implications of your investments. For example, consider investing in tax-efficient vehicles such as stocks and bonds held in a tax-advantaged account.\\n\\n4. Seek professional advice: Consult with a tax advisor or financial planner who is knowledgeable about German tax laws. They can help you navigate the complexities of the tax system and identify opportunities to optimize your tax situation.\\n\\nIt's important to note that tax laws are subject to change, and individual circumstances can vary. Therefore, it's always a good idea to seek personalized advice and stay informed about any updates to the tax code that may impact your situation.\"}\n"
          ]
        }
      ]
    },
    {
      "cell_type": "code",
      "source": [
        "result23= chain.invoke(\"where is the biggest lake int he world\")\n",
        "print(result23)"
      ],
      "metadata": {
        "id": "WQRZ3m9sz9dm",
        "outputId": "6c9475a8-498d-4820-c14c-706d3ae0a135",
        "colab": {
          "base_uri": "https://localhost:8080/"
        }
      },
      "id": "WQRZ3m9sz9dm",
      "execution_count": 110,
      "outputs": [
        {
          "output_type": "stream",
          "name": "stdout",
          "text": [
            "\n",
            "\n",
            "\u001b[1m> Entering new MultiRouteChain chain...\u001b[0m\n",
            "geography: {'input': 'where is the biggest lake in the world'}\n",
            "\u001b[1m> Finished chain.\u001b[0m\n",
            "{'input': 'where is the biggest lake in the world', 'text': 'The biggest lake in the world by surface area is the Caspian Sea, which is located between Europe and Asia. Despite its name, the Caspian Sea is actually a saltwater lake rather than a sea. It covers an area of approximately 371,000 square kilometers (143,000 square miles) and is bordered by five countries: Russia, Kazakhstan, Turkmenistan, Iran, and Azerbaijan.\\n\\nThe Caspian Sea has a significant impact on the surrounding societies and economies. It is a major source of oil and natural gas, with many oil and gas reserves located beneath its waters. The fishing industry in the Caspian Sea also plays a crucial role in the economies of the countries bordering it.\\n\\nAdditionally, the Caspian Sea serves as an important transportation route, connecting the countries around it and providing access to international markets. The diverse ecosystems within the Caspian Sea also support a variety of plant and animal species, making it an important area for biodiversity conservation.'}\n"
          ]
        }
      ]
    },
    {
      "cell_type": "markdown",
      "id": "09e0c60b-7ae0-453e-9467-142d8dafee6e",
      "metadata": {
        "id": "09e0c60b-7ae0-453e-9467-142d8dafee6e"
      },
      "source": [
        "**Repeat the above at least once for different inputs and chains executions - Be creative!**"
      ]
    }
  ],
  "metadata": {
    "kernelspec": {
      "display_name": "Python 3",
      "name": "python3"
    },
    "language_info": {
      "codemirror_mode": {
        "name": "ipython",
        "version": 3
      },
      "file_extension": ".py",
      "mimetype": "text/x-python",
      "name": "python",
      "nbconvert_exporter": "python",
      "pygments_lexer": "ipython3",
      "version": "3.11.8"
    },
    "colab": {
      "provenance": [],
      "machine_shape": "hm",
      "gpuType": "A100"
    },
    "accelerator": "GPU"
  },
  "nbformat": 4,
  "nbformat_minor": 5
}