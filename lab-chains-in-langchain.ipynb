{
 "cells": [
  {
   "cell_type": "markdown",
   "id": "52824b89-532a-4e54-87e9-1410813cd39e",
   "metadata": {},
   "source": [
    "# Lab | Chains in LangChain\n",
    "\n",
    "## Outline\n",
    "\n",
    "* LLMChain\n",
    "* Sequential Chains\n",
    "  * SimpleSequentialChain\n",
    "  * SequentialChain\n",
    "* Router Chain"
   ]
  },
  {
   "cell_type": "code",
   "execution_count": 152,
   "id": "541eb2f1",
   "metadata": {},
   "outputs": [],
   "source": [
    "import warnings\n",
    "warnings.filterwarnings('ignore')"
   ]
  },
  {
   "cell_type": "code",
   "execution_count": 153,
   "id": "b7ed03ed-1322-49e3-b2a2-33e94fb592ef",
   "metadata": {
    "tags": []
   },
   "outputs": [],
   "source": [
    "import os\n",
    "\n",
    "from dotenv import load_dotenv, find_dotenv\n",
    "_ = load_dotenv(find_dotenv())\n",
    "\n",
    "OPENAI_API_KEY  = os.getenv('OPENAI_API_KEY')\n",
    "HUGGINGFACEHUB_API_TOKEN = os.getenv('HUGGINGFACEHUB_API_TOKEN')"
   ]
  },
  {
   "cell_type": "code",
   "execution_count": 154,
   "id": "b84e441b",
   "metadata": {
    "tags": []
   },
   "outputs": [],
   "source": [
    "#!pip install pandas"
   ]
  },
  {
   "cell_type": "code",
   "execution_count": 155,
   "id": "974acf8e-8f88-42de-88f8-40a82cb58e8b",
   "metadata": {
    "tags": []
   },
   "outputs": [],
   "source": [
    "import pandas as pd\n",
    "df = pd.read_csv('Data.csv')"
   ]
  },
  {
   "cell_type": "code",
   "execution_count": 156,
   "id": "b7a09c35",
   "metadata": {
    "tags": []
   },
   "outputs": [
    {
     "data": {
      "text/html": [
       "<div>\n",
       "<style scoped>\n",
       "    .dataframe tbody tr th:only-of-type {\n",
       "        vertical-align: middle;\n",
       "    }\n",
       "\n",
       "    .dataframe tbody tr th {\n",
       "        vertical-align: top;\n",
       "    }\n",
       "\n",
       "    .dataframe thead th {\n",
       "        text-align: right;\n",
       "    }\n",
       "</style>\n",
       "<table border=\"1\" class=\"dataframe\">\n",
       "  <thead>\n",
       "    <tr style=\"text-align: right;\">\n",
       "      <th></th>\n",
       "      <th>Product</th>\n",
       "      <th>Review</th>\n",
       "    </tr>\n",
       "  </thead>\n",
       "  <tbody>\n",
       "    <tr>\n",
       "      <th>0</th>\n",
       "      <td>Queen Size Sheet Set</td>\n",
       "      <td>I ordered a king size set. My only criticism w...</td>\n",
       "    </tr>\n",
       "    <tr>\n",
       "      <th>1</th>\n",
       "      <td>Waterproof Phone Pouch</td>\n",
       "      <td>I loved the waterproof sac, although the openi...</td>\n",
       "    </tr>\n",
       "    <tr>\n",
       "      <th>2</th>\n",
       "      <td>Luxury Air Mattress</td>\n",
       "      <td>This mattress had a small hole in the top of i...</td>\n",
       "    </tr>\n",
       "    <tr>\n",
       "      <th>3</th>\n",
       "      <td>Pillows Insert</td>\n",
       "      <td>This is the best throw pillow fillers on Amazo...</td>\n",
       "    </tr>\n",
       "    <tr>\n",
       "      <th>4</th>\n",
       "      <td>Milk Frother Handheld\\r\\n</td>\n",
       "      <td>I loved this product. But they only seem to l...</td>\n",
       "    </tr>\n",
       "  </tbody>\n",
       "</table>\n",
       "</div>"
      ],
      "text/plain": [
       "                     Product  \\\n",
       "0       Queen Size Sheet Set   \n",
       "1     Waterproof Phone Pouch   \n",
       "2        Luxury Air Mattress   \n",
       "3             Pillows Insert   \n",
       "4  Milk Frother Handheld\\r\\n   \n",
       "\n",
       "                                              Review  \n",
       "0  I ordered a king size set. My only criticism w...  \n",
       "1  I loved the waterproof sac, although the openi...  \n",
       "2  This mattress had a small hole in the top of i...  \n",
       "3  This is the best throw pillow fillers on Amazo...  \n",
       "4   I loved this product. But they only seem to l...  "
      ]
     },
     "execution_count": 156,
     "metadata": {},
     "output_type": "execute_result"
    }
   ],
   "source": [
    "df.head()"
   ]
  },
  {
   "cell_type": "markdown",
   "id": "b940ce7c",
   "metadata": {},
   "source": [
    "## LLMChain"
   ]
  },
  {
   "cell_type": "code",
   "execution_count": 157,
   "id": "e92dff22",
   "metadata": {
    "tags": []
   },
   "outputs": [],
   "source": [
    "from langchain_openai import ChatOpenAI\n",
    "from langchain.prompts import ChatPromptTemplate\n",
    "from langchain.chains import LLMChain"
   ]
  },
  {
   "cell_type": "code",
   "execution_count": 158,
   "id": "943237a7",
   "metadata": {},
   "outputs": [],
   "source": [
    "#Replace None by your own value and justify\n",
    "llm = ChatOpenAI(temperature=0.7)\n"
   ]
  },
  {
   "cell_type": "code",
   "execution_count": 159,
   "id": "cdcdb42d",
   "metadata": {},
   "outputs": [],
   "source": [
    "prompt = ChatPromptTemplate.from_template(\"Describe the features and benefits of the product: {product}\")\n",
    " "
   ]
  },
  {
   "cell_type": "code",
   "execution_count": 160,
   "id": "d7abc20b",
   "metadata": {},
   "outputs": [],
   "source": [
    "\n",
    "chain = LLMChain(llm=llm, prompt=prompt)"
   ]
  },
  {
   "cell_type": "code",
   "execution_count": 161,
   "id": "ad44d1fb",
   "metadata": {},
   "outputs": [
    {
     "name": "stdout",
     "output_type": "stream",
     "text": [
      "Description for product: The Queen Size Sheet Set is a bedding essential that includes a flat sheet, fitted sheet, and pillowcases specifically designed to fit a queen-sized bed. \n",
      "\n",
      "Features:\n",
      "1. High-quality material: The sheet set is made of soft and luxurious fabric, such as cotton, microfiber, or bamboo, ensuring a comfortable and cozy night's sleep.\n",
      "2. Variety of colors and designs: The sheet set comes in a range of colors and patterns to suit any bedroom decor style.\n",
      "3. Easy care: The sheets are machine washable and easy to care for, making them convenient for everyday use.\n",
      "4. Deep pockets: The fitted sheet has deep pockets to ensure a secure and snug fit on the mattress, preventing it from slipping off during the night.\n",
      "5. Durable construction: The sheets are designed to withstand regular use and washing, maintaining their quality and softness over time.\n",
      "\n",
      "Benefits:\n",
      "1. Enhanced comfort: The soft and breathable fabric of the sheet set provides a comfortable sleeping experience, helping you to relax and unwind after a long day.\n",
      "2. Aesthetic appeal: The variety of colors and designs available allow you to personalize your bedroom and create a stylish and inviting space.\n",
      "3. Convenient maintenance: The easy-care nature of the sheets makes them practical for everyday use, saving you time and effort in laundering and maintaining them.\n",
      "4. Secure fit: The deep pockets of the fitted sheet ensure that it stays in place on the mattress, preventing it from moving around or coming off during the night.\n",
      "5. Long-lasting quality: The durable construction of the sheet set ensures that it will remain in good condition and provide a comfortable sleep environment for years to come.\n"
     ]
    }
   ],
   "source": [
    "product = \"Queen Size Sheet Set\"\n",
    "response = chain.run(product)\n",
    "print(\"Description for product:\", response)"
   ]
  },
  {
   "cell_type": "markdown",
   "id": "69b03469",
   "metadata": {},
   "source": [
    "## SimpleSequentialChain"
   ]
  },
  {
   "cell_type": "code",
   "execution_count": 162,
   "id": "febee243",
   "metadata": {},
   "outputs": [],
   "source": [
    "from langchain.chains import SimpleSequentialChain\n",
    "from langchain_openai import ChatOpenAI\n",
    "from langchain.prompts import ChatPromptTemplate"
   ]
  },
  {
   "cell_type": "code",
   "execution_count": 163,
   "id": "2f31aa8a",
   "metadata": {},
   "outputs": [],
   "source": [
    "llm = ChatOpenAI(temperature=0.9)\n",
    "\n",
    "# prompt template 1\n",
    "first_prompt = ChatPromptTemplate.from_template(\"Describe the key features of the product: {product}\")\n",
    "\n",
    "\n",
    "# Chain 1\n",
    "chain_one = LLMChain(llm=llm, prompt=first_prompt)"
   ]
  },
  {
   "cell_type": "code",
   "execution_count": 164,
   "id": "3f5d5b76",
   "metadata": {},
   "outputs": [],
   "source": [
    "\n",
    "# prompt template 2\n",
    "second_prompt = ChatPromptTemplate.from_template(\n",
    "    \"Using the features: {input}, write a marketing tagline for this product.\"\n",
    ")\n",
    "chain_two = LLMChain(llm=llm, prompt=second_prompt)"
   ]
  },
  {
   "cell_type": "code",
   "execution_count": 165,
   "id": "6c1eb2c4",
   "metadata": {},
   "outputs": [],
   "source": [
    "overall_simple_chain = SimpleSequentialChain(chains=[chain_one, chain_two], verbose=True)\n"
   ]
  },
  {
   "cell_type": "code",
   "execution_count": 166,
   "id": "78458efe",
   "metadata": {},
   "outputs": [
    {
     "name": "stdout",
     "output_type": "stream",
     "text": [
      "\n",
      "\n",
      "\u001b[1m> Entering new SimpleSequentialChain chain...\u001b[0m\n",
      "\u001b[36;1m\u001b[1;3m- Queen size sheet set typically includes one flat sheet, one fitted sheet, and two standard pillowcases\n",
      "- Made from soft and durable materials such as cotton, microfiber, or linen\n",
      "- Available in a variety of colors and patterns to suit any bedroom decor\n",
      "- Fitted sheet has deep pockets to accommodate mattresses up to 18 inches thick\n",
      "- Sheets are machine washable for easy care and maintenance\n",
      "- Provides a comfortable and luxurious sleeping surface\n",
      "- Queen size sheet sets are designed to fit a standard queen size bed, measuring approximately 60 inches by 80 inches\n",
      "- Can be purchased individually or as part of a bedding bundle to complete the look of your bedroom\u001b[0m\n",
      "\u001b[33;1m\u001b[1;3m\"Indulge in luxury and style with our queen size sheet sets - the perfect blend of comfort, durability, and design for a dreamy night's sleep. Elevate your bedroom decor with our wide range of colors and patterns. Fits like a dream on mattresses up to 18 inches thick. Easy care and machine washable for your convenience. Complete your bedroom oasis with our premium quality sheet sets. Sweet dreams await!\"\u001b[0m\n",
      "\n",
      "\u001b[1m> Finished chain.\u001b[0m\n"
     ]
    },
    {
     "data": {
      "text/plain": [
       "'\"Indulge in luxury and style with our queen size sheet sets - the perfect blend of comfort, durability, and design for a dreamy night\\'s sleep. Elevate your bedroom decor with our wide range of colors and patterns. Fits like a dream on mattresses up to 18 inches thick. Easy care and machine washable for your convenience. Complete your bedroom oasis with our premium quality sheet sets. Sweet dreams await!\"'"
      ]
     },
     "execution_count": 166,
     "metadata": {},
     "output_type": "execute_result"
    }
   ],
   "source": [
    "overall_simple_chain.run(product)"
   ]
  },
  {
   "cell_type": "code",
   "execution_count": 167,
   "id": "6a817df5",
   "metadata": {},
   "outputs": [
    {
     "name": "stdout",
     "output_type": "stream",
     "text": [
      "\n",
      "\n",
      "\u001b[1m> Entering new SimpleSequentialChain chain...\u001b[0m\n",
      "\u001b[36;1m\u001b[1;3m1. High-quality materials: A luxury air mattress is typically made with top-of-the-line materials such as premium PVC or TPU for durability and comfort.\n",
      "\n",
      "2. Comfort and support: Luxury air mattresses are designed to provide optimal comfort and support, with features such as multiple air chambers for customized firmness levels and built-in pillow tops for added cushioning.\n",
      "\n",
      "3. Adjustable firmness: Many luxury air mattresses come with adjustable firmness settings, allowing users to customize the level of support to their liking.\n",
      "\n",
      "4. Built-in pump: Most luxury air mattresses come with a built-in pump for easy and quick inflation and deflation, eliminating the need for an external pump.\n",
      "\n",
      "5. Durability: Luxury air mattresses are designed to be long-lasting and resistant to punctures and leaks, ensuring years of reliable use.\n",
      "\n",
      "6. Portability: Despite their size and quality, luxury air mattresses are typically lightweight and easy to transport, making them ideal for camping trips or overnight guests.\n",
      "\n",
      "7. Warranty: Many luxury air mattresses come with a warranty to protect against any manufacturing defects or issues.\u001b[0m\n",
      "\u001b[33;1m\u001b[1;3m\"Experience the ultimate in comfort and luxury with our high-quality, durable, and adjustable luxury air mattress. Sleep like royalty wherever you go.\"\u001b[0m\n",
      "\n",
      "\u001b[1m> Finished chain.\u001b[0m\n",
      "Marketing tagline for product: \"Experience the ultimate in comfort and luxury with our high-quality, durable, and adjustable luxury air mattress. Sleep like royalty wherever you go.\"\n",
      "\n",
      "\n",
      "\u001b[1m> Entering new SimpleSequentialChain chain...\u001b[0m\n",
      "\u001b[36;1m\u001b[1;3m1. Portable and handheld design: The milk frother is compact and lightweight, making it easy to use and store in small spaces.\n",
      "\n",
      "2. Versatile: This frother can be used to froth milk for lattes, cappuccinos, hot chocolate, and other beverages. It can also be used to mix protein shakes and smoothies.\n",
      "\n",
      "3. Quick and efficient: The frother operates with a high-speed motor that quickly froths milk in just a few seconds, saving time and effort.\n",
      "\n",
      "4. Easy to clean: The frother is easy to clean with a quick rinse under running water or by immersing the whisk in soapy water.\n",
      "\n",
      "5. Durable construction: The frother is made of high-quality materials that are built to last and withstand frequent use.\n",
      "\n",
      "6. Battery operated: Most handheld milk frothers are powered by batteries, making them convenient for use anywhere without the need for an electrical outlet.\n",
      "\n",
      "7. Adjustable speed settings: Some milk frothers have multiple speed settings, allowing you to customize the level of frothiness according to your preference.\n",
      "\n",
      "8. Ergonomic handle: The frother is designed with an ergonomic handle that provides a comfortable grip for easy operation.\u001b[0m\n",
      "\u001b[33;1m\u001b[1;3m\"Experience the perfect froth anytime, anywhere with our portable and versatile handheld milk frother!\"\u001b[0m\n",
      "\n",
      "\u001b[1m> Finished chain.\u001b[0m\n",
      "Marketing tagline for product: \"Experience the perfect froth anytime, anywhere with our portable and versatile handheld milk frother!\"\n"
     ]
    }
   ],
   "source": [
    "# Run the chain for a product\n",
    "product = \"Luxury Air Mattress\"\n",
    "result = overall_simple_chain.run(product)\n",
    "print(\"Marketing tagline for product:\", result)\n",
    "\n",
    "# Repeat for another product\n",
    "product = \"Milk Frother Handheld\"\n",
    "result = overall_simple_chain.run(product)\n",
    "print(\"Marketing tagline for product:\", result)"
   ]
  },
  {
   "cell_type": "markdown",
   "id": "0dd59bda-9d02-44e7-b3d6-2bec61b99d8f",
   "metadata": {},
   "source": [
    "**Repeat the above twice for different products**"
   ]
  },
  {
   "cell_type": "markdown",
   "id": "7b5ce18c",
   "metadata": {},
   "source": [
    "## SequentialChain"
   ]
  },
  {
   "cell_type": "code",
   "execution_count": 168,
   "id": "4c129ef6",
   "metadata": {},
   "outputs": [],
   "source": [
    "from langchain.chains import SequentialChain\n",
    "from langchain_openai import ChatOpenAI\n",
    "from langchain.prompts import ChatPromptTemplate"
   ]
  },
  {
   "cell_type": "code",
   "execution_count": 169,
   "id": "016187ac",
   "metadata": {},
   "outputs": [],
   "source": [
    "llm = ChatOpenAI(temperature=0.9)\n",
    "\n",
    "\n",
    "first_prompt = ChatPromptTemplate.from_template(\"Translate this review to French: {review}\")\n",
    "chain_one = LLMChain(llm=llm, prompt=first_prompt, output_key=\"translated_review\")\n"
   ]
  },
  {
   "cell_type": "code",
   "execution_count": 170,
   "id": "0fb0730e",
   "metadata": {},
   "outputs": [],
   "source": [
    "second_prompt = ChatPromptTemplate.from_template(\n",
    "    \"Summarize the following review in one sentence: {translated_review}\"\n",
    ")\n",
    "chain_two = LLMChain(llm=llm, prompt=second_prompt, output_key=\"summary\")"
   ]
  },
  {
   "cell_type": "code",
   "execution_count": 171,
   "id": "6accf92d",
   "metadata": {},
   "outputs": [],
   "source": [
    "third_prompt = ChatPromptTemplate.from_template(\n",
    "    \"Translate the following summary back to English: {summary}\"\n",
    ")\n",
    "chain_three = LLMChain(llm=llm, prompt=third_prompt, output_key=\"english_summary\")\n"
   ]
  },
  {
   "cell_type": "code",
   "execution_count": 172,
   "id": "c7a46121",
   "metadata": {},
   "outputs": [],
   "source": [
    "\n",
    "# prompt template 4: follow up message that take as inputs the two previous prompts' variables\n",
    "fourth_prompt = ChatPromptTemplate.from_template(\n",
    "    \"Write a follow-up message to the customer based on this summary: {english_summary}\"\n",
    ")\n",
    "chain_four = LLMChain(llm=llm, prompt=fourth_prompt, output_key=\"follow_up_message\")\n"
   ]
  },
  {
   "cell_type": "code",
   "execution_count": 173,
   "id": "89603117",
   "metadata": {},
   "outputs": [],
   "source": [
    "# overall_chain: input= Review \n",
    "# and output= English_Review,summary, followup_message\n",
    "overall_chain = SequentialChain(\n",
    "    chains=[chain_one, chain_two, chain_three, chain_four],\n",
    "    input_variables=[\"review\"],  # Input to the overall chain\n",
    "    output_variables=[\"translated_review\", \"summary\", \"english_summary\", \"follow_up_message\"],\n",
    "    verbose=True\n",
    ")\n"
   ]
  },
  {
   "cell_type": "code",
   "execution_count": 174,
   "id": "51b04f45",
   "metadata": {},
   "outputs": [
    {
     "name": "stdout",
     "output_type": "stream",
     "text": [
      "\n",
      "\n",
      "\u001b[1m> Entering new SequentialChain chain...\u001b[0m\n",
      "\n",
      "\u001b[1m> Finished chain.\u001b[0m\n"
     ]
    },
    {
     "data": {
      "text/plain": [
       "{'review': \"Je trouve le goût médiocre. La mousse ne tient pas, c'est bizarre. J'achète les mêmes dans le commerce et le goût est bien meilleur...\\r\\nVieux lot ou contrefaçon !?\",\n",
       " 'translated_review': \"I find the taste poor. The foam doesn't last, it's strange. I buy the same ones in stores and the taste is much better...\\nOld batch or counterfeit!?\",\n",
       " 'summary': 'The reviewer is disappointed with the poor taste and lack of lasting foam in the product, suspecting it may be an old batch or counterfeit.',\n",
       " 'english_summary': \"The reviewer is disappointed with the product's bad taste and the fact that it does not have long-lasting foam. They suspect that it may be an old batch or counterfeit.\",\n",
       " 'follow_up_message': 'Dear Valued Customer,\\n\\nWe are sorry to hear about your disappointing experience with our product. Your feedback is very important to us, and we take your concerns seriously. We can assure you that we only use high-quality ingredients in our products and do not sell counterfeit items.\\n\\nWe would like to make this right for you. Please reach out to our customer service team with your purchase details so we can investigate further and ensure that you receive a satisfactory resolution.\\n\\nThank you for bringing this to our attention. We appreciate your support and hope to regain your trust in our brand.\\n\\nSincerely,\\n\\n[Your Name]\\nCustomer Service Team'}"
      ]
     },
     "execution_count": 174,
     "metadata": {},
     "output_type": "execute_result"
    }
   ],
   "source": [
    "review = df.Review[5]\n",
    "overall_chain(review)"
   ]
  },
  {
   "cell_type": "markdown",
   "id": "3187cf07-458a-4226-bec7-3dec7ee47af2",
   "metadata": {},
   "source": [
    "**Repeat the above twice for different products or reviews**"
   ]
  },
  {
   "cell_type": "markdown",
   "id": "3041ea4c",
   "metadata": {},
   "source": [
    "## Router Chain"
   ]
  },
  {
   "cell_type": "code",
   "execution_count": 186,
   "id": "ade83f4f",
   "metadata": {},
   "outputs": [],
   "source": [
    "physics_template = \"\"\"You are a very smart physics professor. \\\n",
    "You are great at answering questions about physics in a concise\\\n",
    "and easy to understand manner. \\\n",
    "When you don't know the answer to a question you admit\\\n",
    "that you don't know.\n",
    "\n",
    "Here is a question:\n",
    "{input}\"\"\"\n",
    "\n",
    "\n",
    "math_template = \"\"\"You are a very good mathematician. \\\n",
    "You are great at answering math questions. \\\n",
    "You are so good because you are able to break down \\\n",
    "hard problems into their component parts, \n",
    "answer the component parts, and then put them together\\\n",
    "to answer the broader question.\n",
    "\n",
    "Here is a question:\n",
    "{input}\"\"\"\n",
    "\n",
    "history_template = \"\"\"You are a very good historian. \\\n",
    "You have an excellent knowledge of and understanding of people,\\\n",
    "events and contexts from a range of historical periods. \\\n",
    "You have the ability to think, reflect, debate, discuss and \\\n",
    "evaluate the past. You have a respect for historical evidence\\\n",
    "and the ability to make use of it to support your explanations \\\n",
    "and judgements.\n",
    "\n",
    "Here is a question:\n",
    "{input}\"\"\"\n",
    "\n",
    "\n",
    "computerscience_template = \"\"\" You are a successful computer scientist.\\\n",
    "You have a passion for creativity, collaboration,\\\n",
    "forward-thinking, confidence, strong problem-solving capabilities,\\\n",
    "understanding of theories and algorithms, and excellent communication \\\n",
    "skills. You are great at answering coding questions. \\\n",
    "You are so good because you know how to solve a problem by \\\n",
    "describing the solution in imperative steps \\\n",
    "that a machine can easily interpret and you know how to \\\n",
    "choose a solution that has a good balance between \\\n",
    "time complexity and space complexity. \n",
    "\n",
    "Here is a question:\n",
    "{input}\"\"\""
   ]
  },
  {
   "cell_type": "code",
   "execution_count": 187,
   "id": "5f590e9f",
   "metadata": {},
   "outputs": [],
   "source": [
    "prompt_infos = [\n",
    "    {\n",
    "        \"name\": \"physics\", \n",
    "        \"description\": \"Good for answering questions about physics\", \n",
    "        \"prompt_template\": physics_template\n",
    "    },\n",
    "    {\n",
    "        \"name\": \"math\", \n",
    "        \"description\": \"Good for answering math questions\", \n",
    "        \"prompt_template\": math_template\n",
    "    },\n",
    "    {\n",
    "        \"name\": \"History\", \n",
    "        \"description\": \"Good for answering history questions\", \n",
    "        \"prompt_template\": history_template\n",
    "    },\n",
    "    {\n",
    "        \"name\": \"computer science\", \n",
    "        \"description\": \"Good for answering computer science questions\", \n",
    "        \"prompt_template\": computerscience_template\n",
    "    }\n",
    "]"
   ]
  },
  {
   "cell_type": "code",
   "execution_count": 188,
   "id": "31b06fc8",
   "metadata": {},
   "outputs": [],
   "source": [
    "from langchain.chains.router import MultiPromptChain\n",
    "from langchain.chains.router.llm_router import LLMRouterChain,RouterOutputParser\n",
    "from langchain.prompts import PromptTemplate\n",
    "from langchain_openai import ChatOpenAI"
   ]
  },
  {
   "cell_type": "code",
   "execution_count": 189,
   "id": "f3f50bcc",
   "metadata": {},
   "outputs": [],
   "source": [
    "llm = ChatOpenAI(temperature=0)"
   ]
  },
  {
   "cell_type": "code",
   "execution_count": 191,
   "id": "8eefec24",
   "metadata": {},
   "outputs": [],
   "source": [
    "destination_chains = {}\n",
    "for p_info in prompt_infos:\n",
    "    name = p_info[\"name\"]\n",
    "    prompt_template = p_info[\"prompt_template\"]\n",
    "    prompt = ChatPromptTemplate.from_template(template=prompt_template)\n",
    "    chain = LLMChain(llm=llm, prompt=prompt)\n",
    "    destination_chains[name] = chain  \n",
    "    \n",
    "destinations = [f\"{p['name']}: {p['description']}\" for p in prompt_infos]\n",
    "destinations_str = \"\\n\".join(destinations)"
   ]
  },
  {
   "cell_type": "code",
   "execution_count": 192,
   "id": "9f98018a",
   "metadata": {},
   "outputs": [],
   "source": [
    "default_prompt = ChatPromptTemplate.from_template(\"{input}\")\n",
    "default_chain = LLMChain(llm=llm, prompt=default_prompt)"
   ]
  },
  {
   "cell_type": "code",
   "execution_count": 193,
   "id": "11b2e2ba",
   "metadata": {},
   "outputs": [],
   "source": [
    "MULTI_PROMPT_ROUTER_TEMPLATE = \"\"\"Given a raw text input to a \\\n",
    "language model select the model prompt best suited for the input. \\\n",
    "You will be given the names of the available prompts and a \\\n",
    "description of what the prompt is best suited for. \\\n",
    "You may also revise the original input if you think that revising\\\n",
    "it will ultimately lead to a better response from the language model.\n",
    "\n",
    "<< FORMATTING >>\n",
    "Return a markdown code snippet with a JSON object formatted to look like:\n",
    "```json\n",
    "{{{{\n",
    "    \"destination\": string \\ name of the prompt to use or \"DEFAULT\"\n",
    "    \"next_inputs\": string \\ a potentially modified version of the original input\n",
    "}}}}\n",
    "```\n",
    "\n",
    "REMEMBER: \"destination\" MUST be one of the candidate prompt \\\n",
    "names specified below OR it can be \"DEFAULT\" if the input is not\\\n",
    "well suited for any of the candidate prompts.\n",
    "REMEMBER: \"next_inputs\" can just be the original input \\\n",
    "if you don't think any modifications are needed.\n",
    "\n",
    "<< CANDIDATE PROMPTS >>\n",
    "{destinations}\n",
    "\n",
    "<< INPUT >>\n",
    "{{input}}\n",
    "\n",
    "<< OUTPUT (remember to include the ```json)>>\"\"\""
   ]
  },
  {
   "cell_type": "code",
   "execution_count": 194,
   "id": "1387109d",
   "metadata": {},
   "outputs": [],
   "source": [
    "router_template = MULTI_PROMPT_ROUTER_TEMPLATE.format(\n",
    "    destinations=destinations_str\n",
    ")\n",
    "router_prompt = PromptTemplate(\n",
    "    template=router_template,\n",
    "    input_variables=[\"input\"],\n",
    "    output_parser=RouterOutputParser(),\n",
    ")\n",
    "\n",
    "router_chain = LLMRouterChain.from_llm(llm, router_prompt)"
   ]
  },
  {
   "cell_type": "code",
   "execution_count": 195,
   "id": "2fb7d560",
   "metadata": {},
   "outputs": [],
   "source": [
    "chain = MultiPromptChain(router_chain=router_chain, \n",
    "                         destination_chains=destination_chains, \n",
    "                         default_chain=default_chain, verbose=True\n",
    "                        )"
   ]
  },
  {
   "cell_type": "code",
   "execution_count": 196,
   "id": "d86b2131",
   "metadata": {},
   "outputs": [
    {
     "name": "stdout",
     "output_type": "stream",
     "text": [
      "\n",
      "\n",
      "\u001b[1m> Entering new MultiPromptChain chain...\u001b[0m\n",
      "physics: {'input': 'What is black body radiation?'}\n",
      "\u001b[1m> Finished chain.\u001b[0m\n",
      "Physics response: Black body radiation is the electromagnetic radiation emitted by a perfect absorber of radiation, known as a black body. A black body absorbs all radiation that falls on it and emits radiation across the entire electromagnetic spectrum. The spectrum of black body radiation is continuous and depends only on the temperature of the black body. This phenomenon is described by Planck's law, which states that the intensity of radiation emitted by a black body at a given wavelength is proportional to the temperature of the body and the wavelength raised to the fifth power.\n"
     ]
    }
   ],
   "source": [
    "result = chain.run(\"What is black body radiation?\")\n",
    "print(\"Physics response:\", result)"
   ]
  },
  {
   "cell_type": "code",
   "execution_count": 197,
   "id": "3b717379",
   "metadata": {},
   "outputs": [
    {
     "name": "stdout",
     "output_type": "stream",
     "text": [
      "\n",
      "\n",
      "\u001b[1m> Entering new MultiPromptChain chain...\u001b[0m\n",
      "math: {'input': 'What is 2 + 2?'}\n",
      "\u001b[1m> Finished chain.\u001b[0m\n",
      "Math response: The answer to 2 + 2 is 4.\n"
     ]
    }
   ],
   "source": [
    "result = chain.run(\"What is 2 + 2?\")\n",
    "print(\"Math response:\", result)"
   ]
  },
  {
   "cell_type": "code",
   "execution_count": null,
   "id": "962a6e30",
   "metadata": {},
   "outputs": [],
   "source": [
    "result = chain.run(\"Explain how DNA works in the human body.\")\n",
    "print(\"Biology response:\", result)"
   ]
  },
  {
   "cell_type": "markdown",
   "id": "09e0c60b-7ae0-453e-9467-142d8dafee6e",
   "metadata": {},
   "source": [
    "**Repeat the above at least once for different inputs and chains executions - Be creative!**"
   ]
  },
  {
   "cell_type": "code",
   "execution_count": 199,
   "id": "e5081699",
   "metadata": {},
   "outputs": [
    {
     "name": "stdout",
     "output_type": "stream",
     "text": [
      "\n",
      "\n",
      "\u001b[1m> Entering new MultiPromptChain chain...\u001b[0m\n",
      "computer science: {'input': 'What is the time complexity of quicksort?'}\n",
      "\u001b[1m> Finished chain.\u001b[0m\n",
      "Computer Science response: The time complexity of quicksort is O(n log n) on average, where n is the number of elements in the array being sorted. This is because quicksort divides the array into smaller subarrays and recursively sorts them, with each division taking O(n) time and there being O(log n) divisions. However, in the worst-case scenario, quicksort can have a time complexity of O(n^2) if the pivot element chosen is consistently the smallest or largest element in the array.\n"
     ]
    }
   ],
   "source": [
    "result = chain.run(\"What is the time complexity of quicksort?\")\n",
    "print(\"Computer Science response:\", result)"
   ]
  },
  {
   "cell_type": "code",
   "execution_count": 200,
   "id": "54f84902",
   "metadata": {},
   "outputs": [
    {
     "name": "stdout",
     "output_type": "stream",
     "text": [
      "\n",
      "\n",
      "\u001b[1m> Entering new MultiPromptChain chain...\u001b[0m\n",
      "History: {'input': 'Explain the causes of World War II.'}\n",
      "\u001b[1m> Finished chain.\u001b[0m\n",
      "History response: World War II was caused by a combination of factors that had been building up over several decades. Some of the main causes include:\n",
      "\n",
      "1. Treaty of Versailles: The harsh terms imposed on Germany after World War I, including massive reparations payments and territorial losses, created a sense of resentment and humiliation among the German people. This led to the rise of Adolf Hitler and the Nazi Party, who promised to restore Germany's power and prestige.\n",
      "\n",
      "2. Expansionist policies: In the 1930s, both Germany and Japan pursued aggressive expansionist policies, seeking to conquer territory and resources in order to fuel their economies and establish themselves as dominant powers in their respective regions.\n",
      "\n",
      "3. Failure of appeasement: The policy of appeasement pursued by Western powers, particularly Britain and France, in response to German aggression only served to embolden Hitler and encourage further aggression. The failure to take a strong stand against Nazi expansionism allowed Hitler to continue his aggressive policies unchecked.\n",
      "\n",
      "4. Economic instability: The Great Depression of the 1930s created economic hardship and social unrest in many countries, leading to the rise of extremist political movements and ideologies. This economic instability contributed to the conditions that allowed for the outbreak of war.\n",
      "\n",
      "5. Nationalism and militarism: Nationalism and militarism were strong forces in many countries during this period, leading to a belief in the superiority of one's own nation and a willingness to use military force to achieve national goals. This mindset contributed to the willingness of countries to resort to war as a means of resolving conflicts.\n",
      "\n",
      "Overall, World War II was the result of a complex interplay of political, economic, social, and ideological factors that came together to create a perfect storm of conflict and violence.\n"
     ]
    }
   ],
   "source": [
    "result = chain.run(\"Explain the causes of World War II.\")\n",
    "print(\"History response:\", result)"
   ]
  }
 ],
 "metadata": {
  "kernelspec": {
   "display_name": "base",
   "language": "python",
   "name": "python3"
  },
  "language_info": {
   "codemirror_mode": {
    "name": "ipython",
    "version": 3
   },
   "file_extension": ".py",
   "mimetype": "text/x-python",
   "name": "python",
   "nbconvert_exporter": "python",
   "pygments_lexer": "ipython3",
   "version": "3.12.7"
  }
 },
 "nbformat": 4,
 "nbformat_minor": 5
}
