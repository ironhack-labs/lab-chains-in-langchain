{
 "cells": [
  {
   "cell_type": "markdown",
   "id": "52824b89-532a-4e54-87e9-1410813cd39e",
   "metadata": {},
   "source": [
    "# Lab | Chains in LangChain\n",
    "\n",
    "## Outline\n",
    "\n",
    "* LLMChain\n",
    "* Sequential Chains\n",
    "  * SimpleSequentialChain\n",
    "  * SequentialChain\n",
    "* Router Chain"
   ]
  },
  {
   "cell_type": "code",
   "execution_count": 1,
   "id": "541eb2f1",
   "metadata": {},
   "outputs": [],
   "source": [
    "import warnings\n",
    "warnings.filterwarnings('ignore')"
   ]
  },
  {
   "cell_type": "code",
   "execution_count": 2,
   "id": "b7ed03ed-1322-49e3-b2a2-33e94fb592ef",
   "metadata": {
    "tags": []
   },
   "outputs": [],
   "source": [
    "import os\n",
    "\n",
    "from dotenv import load_dotenv, find_dotenv\n",
    "_ = load_dotenv(find_dotenv())\n",
    "\n",
    "OPENAI_API_KEY  = os.getenv('OPENAI_API_KEY')\n",
    "HUGGINGFACEHUB_API_TOKEN = os.getenv('HUGGINGFACEHUB_API_TOKEN')"
   ]
  },
  {
   "cell_type": "code",
   "execution_count": 3,
   "id": "b84e441b",
   "metadata": {
    "tags": []
   },
   "outputs": [],
   "source": [
    "#!pip install pandas"
   ]
  },
  {
   "cell_type": "code",
   "execution_count": 4,
   "id": "974acf8e-8f88-42de-88f8-40a82cb58e8b",
   "metadata": {
    "tags": []
   },
   "outputs": [],
   "source": [
    "import pandas as pd\n",
    "df = pd.read_csv('./data/Data.csv')"
   ]
  },
  {
   "cell_type": "code",
   "execution_count": 5,
   "id": "b7a09c35",
   "metadata": {
    "tags": []
   },
   "outputs": [
    {
     "data": {
      "text/html": [
       "<div>\n",
       "<style scoped>\n",
       "    .dataframe tbody tr th:only-of-type {\n",
       "        vertical-align: middle;\n",
       "    }\n",
       "\n",
       "    .dataframe tbody tr th {\n",
       "        vertical-align: top;\n",
       "    }\n",
       "\n",
       "    .dataframe thead th {\n",
       "        text-align: right;\n",
       "    }\n",
       "</style>\n",
       "<table border=\"1\" class=\"dataframe\">\n",
       "  <thead>\n",
       "    <tr style=\"text-align: right;\">\n",
       "      <th></th>\n",
       "      <th>Product</th>\n",
       "      <th>Review</th>\n",
       "    </tr>\n",
       "  </thead>\n",
       "  <tbody>\n",
       "    <tr>\n",
       "      <th>0</th>\n",
       "      <td>Queen Size Sheet Set</td>\n",
       "      <td>I ordered a king size set. My only criticism w...</td>\n",
       "    </tr>\n",
       "    <tr>\n",
       "      <th>1</th>\n",
       "      <td>Waterproof Phone Pouch</td>\n",
       "      <td>I loved the waterproof sac, although the openi...</td>\n",
       "    </tr>\n",
       "    <tr>\n",
       "      <th>2</th>\n",
       "      <td>Luxury Air Mattress</td>\n",
       "      <td>This mattress had a small hole in the top of i...</td>\n",
       "    </tr>\n",
       "    <tr>\n",
       "      <th>3</th>\n",
       "      <td>Pillows Insert</td>\n",
       "      <td>This is the best throw pillow fillers on Amazo...</td>\n",
       "    </tr>\n",
       "    <tr>\n",
       "      <th>4</th>\n",
       "      <td>Milk Frother Handheld\\n</td>\n",
       "      <td>I loved this product. But they only seem to l...</td>\n",
       "    </tr>\n",
       "    <tr>\n",
       "      <th>5</th>\n",
       "      <td>L'Or Espresso Café \\n</td>\n",
       "      <td>Je trouve le goût médiocre. La mousse ne tient...</td>\n",
       "    </tr>\n",
       "    <tr>\n",
       "      <th>6</th>\n",
       "      <td>Hervidor de Agua Eléctrico</td>\n",
       "      <td>Está lu bonita calienta muy rápido, es muy fun...</td>\n",
       "    </tr>\n",
       "  </tbody>\n",
       "</table>\n",
       "</div>"
      ],
      "text/plain": [
       "                      Product  \\\n",
       "0        Queen Size Sheet Set   \n",
       "1      Waterproof Phone Pouch   \n",
       "2         Luxury Air Mattress   \n",
       "3              Pillows Insert   \n",
       "4     Milk Frother Handheld\\n   \n",
       "5       L'Or Espresso Café \\n   \n",
       "6  Hervidor de Agua Eléctrico   \n",
       "\n",
       "                                              Review  \n",
       "0  I ordered a king size set. My only criticism w...  \n",
       "1  I loved the waterproof sac, although the openi...  \n",
       "2  This mattress had a small hole in the top of i...  \n",
       "3  This is the best throw pillow fillers on Amazo...  \n",
       "4   I loved this product. But they only seem to l...  \n",
       "5  Je trouve le goût médiocre. La mousse ne tient...  \n",
       "6  Está lu bonita calienta muy rápido, es muy fun...  "
      ]
     },
     "execution_count": 5,
     "metadata": {},
     "output_type": "execute_result"
    }
   ],
   "source": [
    "df"
   ]
  },
  {
   "cell_type": "code",
   "execution_count": 6,
   "id": "84b45a89",
   "metadata": {},
   "outputs": [
    {
     "data": {
      "text/plain": [
       "14"
      ]
     },
     "execution_count": 6,
     "metadata": {},
     "output_type": "execute_result"
    }
   ],
   "source": [
    "df.size"
   ]
  },
  {
   "cell_type": "markdown",
   "id": "b940ce7c",
   "metadata": {},
   "source": [
    "## LLMChain"
   ]
  },
  {
   "cell_type": "code",
   "execution_count": 7,
   "id": "e92dff22",
   "metadata": {
    "tags": []
   },
   "outputs": [],
   "source": [
    "from langchain_openai import ChatOpenAI\n",
    "from langchain.prompts import ChatPromptTemplate\n",
    "from langchain.chains import LLMChain"
   ]
  },
  {
   "cell_type": "code",
   "execution_count": 8,
   "id": "943237a7",
   "metadata": {},
   "outputs": [],
   "source": [
    "#Replace None by your own value and justify\n",
    "llm = ChatOpenAI(temperature= 0.7)\n",
    "# I decided to us a temperature of 0.7 because it is a good balance between randomness and coherence.\n"
   ]
  },
  {
   "cell_type": "code",
   "execution_count": 9,
   "id": "cdcdb42d",
   "metadata": {},
   "outputs": [],
   "source": [
    "prompt = ChatPromptTemplate.from_template(\n",
    "    \"Please provide a detailed description of a {product}. Include key features and benefits of the review.\"\n",
    ")"
   ]
  },
  {
   "cell_type": "code",
   "execution_count": 10,
   "id": "d7abc20b",
   "metadata": {},
   "outputs": [
    {
     "name": "stderr",
     "output_type": "stream",
     "text": [
      "C:\\Users\\edwar\\AppData\\Local\\Temp\\ipykernel_7500\\546483037.py:1: LangChainDeprecationWarning: The class `LLMChain` was deprecated in LangChain 0.1.17 and will be removed in 1.0. Use :meth:`~RunnableSequence, e.g., `prompt | llm`` instead.\n",
      "  chain = LLMChain(llm=llm, prompt=prompt)\n"
     ]
    }
   ],
   "source": [
    "\n",
    "chain = LLMChain(llm=llm, prompt=prompt)"
   ]
  },
  {
   "cell_type": "code",
   "execution_count": 11,
   "id": "ad44d1fb",
   "metadata": {},
   "outputs": [
    {
     "name": "stderr",
     "output_type": "stream",
     "text": [
      "C:\\Users\\edwar\\AppData\\Local\\Temp\\ipykernel_7500\\2644864065.py:2: LangChainDeprecationWarning: The method `Chain.run` was deprecated in langchain 0.1.0 and will be removed in 1.0. Use :meth:`~invoke` instead.\n",
      "  resu = chain.run(product)\n"
     ]
    },
    {
     "name": "stdout",
     "output_type": "stream",
     "text": [
      "A Waterproof Phone Pouch is a must-have accessory for anyone who enjoys outdoor activities, water sports, or simply wants to protect their phone from the elements. These pouches are designed to keep your phone safe and dry, even when submerged in water.\n",
      "\n",
      "Key features of a Waterproof Phone Pouch include:\n",
      "\n",
      "1. Waterproof and submersible: The pouch is made from a high-quality, durable material that is completely waterproof, allowing you to use your phone underwater without any worries.\n",
      "\n",
      "2. Touchscreen functionality: Most waterproof phone pouches are designed with a clear, touch-sensitive material that allows you to easily use your phone's touchscreen while it is still inside the pouch.\n",
      "\n",
      "3. Universal size: These pouches are typically designed to fit most smartphones, regardless of size or brand. This makes them a versatile option for anyone looking to protect their phone from water damage.\n",
      "\n",
      "4. Secure seal: The pouch usually features a secure seal, such as a zip-lock or snap closure, to ensure that your phone stays dry and protected at all times.\n",
      "\n",
      "5. Neck strap or lanyard: Many waterproof phone pouches come with a neck strap or lanyard, making it easy to carry your phone with you while keeping your hands free.\n",
      "\n",
      "Benefits of using a Waterproof Phone Pouch include:\n",
      "\n",
      "1. Protection from water damage: Whether you're at the beach, by the pool, or out in the rain, a waterproof phone pouch will keep your phone safe from water, sand, and other potential hazards.\n",
      "\n",
      "2. Peace of mind: With a waterproof phone pouch, you can take your phone on all of your outdoor adventures without worrying about it getting damaged by water.\n",
      "\n",
      "3. Convenience: The clear, touch-sensitive material of the pouch allows you to easily use your phone's touchscreen, take photos, and access apps while keeping it protected.\n",
      "\n",
      "4. Versatility: A waterproof phone pouch is a versatile accessory that can be used for a variety of activities, from swimming and snorkeling to hiking and camping.\n",
      "\n",
      "Overall, a Waterproof Phone Pouch is a practical and essential accessory for anyone who wants to protect their phone from water damage while enjoying outdoor activities. Its durable construction, secure seal, and touchscreen functionality make it a convenient and reliable option for keeping your phone safe and dry in any environment.\n"
     ]
    }
   ],
   "source": [
    "product = \"Waterproof Phone Pouch\"  # Selecting a product from the available data\n",
    "resu = chain.run(product)\n",
    "print(resu)"
   ]
  },
  {
   "cell_type": "markdown",
   "id": "69b03469",
   "metadata": {},
   "source": [
    "## SimpleSequentialChain"
   ]
  },
  {
   "cell_type": "code",
   "execution_count": 12,
   "id": "febee243",
   "metadata": {},
   "outputs": [],
   "source": [
    "from langchain.chains import SimpleSequentialChain"
   ]
  },
  {
   "cell_type": "code",
   "execution_count": 13,
   "id": "2f31aa8a",
   "metadata": {},
   "outputs": [],
   "source": [
    "llm = ChatOpenAI(temperature=0.9)\n",
    "\n",
    "# prompt template 1\n",
    "first_prompt = ChatPromptTemplate.from_template(\n",
    "    #Repeat the initial query or create a new query that would feed into the second prompt\n",
    "    \"Please provide a concise description of a {product}. Include key features and benefits.\"\n",
    ")\n",
    "\n",
    "# Chain 1\n",
    "chain_one = LLMChain(llm=llm, prompt=first_prompt)"
   ]
  },
  {
   "cell_type": "code",
   "execution_count": 14,
   "id": "3f5d5b76",
   "metadata": {},
   "outputs": [],
   "source": [
    "\n",
    "# prompt template 2\n",
    "second_prompt = ChatPromptTemplate.from_template(\n",
    "    \"Based on the following product description, provide a rating out of 5 stars and explain why: {input}\"\n",
    ")\n",
    "# chain 2\n",
    "chain_two = LLMChain(llm=llm, prompt=second_prompt)"
   ]
  },
  {
   "cell_type": "code",
   "execution_count": 15,
   "id": "6c1eb2c4",
   "metadata": {},
   "outputs": [],
   "source": [
    "overall_simple_chain = SimpleSequentialChain(chains=[chain_one, chain_two],\n",
    "                                             verbose=True\n",
    "                                            )"
   ]
  },
  {
   "cell_type": "code",
   "execution_count": 16,
   "id": "78458efe",
   "metadata": {},
   "outputs": [
    {
     "name": "stdout",
     "output_type": "stream",
     "text": [
      "\n",
      "\n",
      "\u001b[1m> Entering new SimpleSequentialChain chain...\u001b[0m\n",
      "\u001b[36;1m\u001b[1;3mA Waterproof Phone Pouch is a protective case designed to keep your phone safe from water damage while still allowing you to use its functions. Key features include a durable, waterproof material that keeps your phone dry even when submerged in water, a secure seal to prevent water from seeping in, and a transparent window that allows you to still use the touchscreen and take photos. Benefits of a Waterproof Phone Pouch include peace of mind knowing your phone is protected from water damage, the ability to use your phone in wet environments such as the beach or pool, and the convenience of being able to take photos underwater.\u001b[0m\n",
      "\u001b[33;1m\u001b[1;3mI would rate the Waterproof Phone Pouch 5 out of 5 stars. The product offers great features such as durable, waterproof material, secure seal, and transparent window, which provide excellent protection for your phone from water damage. Additionally, the ability to use your phone in wet environments and take photos underwater adds a lot of convenience and functionality to the product. Overall, this product offers peace of mind and practicality, making it a highly recommended purchase.\u001b[0m\n",
      "\n",
      "\u001b[1m> Finished chain.\u001b[0m\n",
      "I would rate the Waterproof Phone Pouch 5 out of 5 stars. The product offers great features such as durable, waterproof material, secure seal, and transparent window, which provide excellent protection for your phone from water damage. Additionally, the ability to use your phone in wet environments and take photos underwater adds a lot of convenience and functionality to the product. Overall, this product offers peace of mind and practicality, making it a highly recommended purchase.\n"
     ]
    }
   ],
   "source": [
    "resul = overall_simple_chain.run(product)\n",
    "print(resul)"
   ]
  },
  {
   "cell_type": "markdown",
   "id": "0dd59bda-9d02-44e7-b3d6-2bec61b99d8f",
   "metadata": {},
   "source": [
    "**Repeat the above twice for different products**"
   ]
  },
  {
   "cell_type": "markdown",
   "id": "7119ddfc",
   "metadata": {},
   "source": [
    "## Example 1"
   ]
  },
  {
   "cell_type": "code",
   "execution_count": 17,
   "id": "2945f367",
   "metadata": {},
   "outputs": [
    {
     "name": "stdout",
     "output_type": "stream",
     "text": [
      "\n",
      "\n",
      "\u001b[1m> Entering new SimpleSequentialChain chain...\u001b[0m\n",
      "\u001b[36;1m\u001b[1;3mA Queen Size Sheet Set typically includes one fitted sheet, one flat sheet, and two pillowcases designed to fit a queen size mattress. Key features may include a soft and durable fabric such as cotton or microfiber, deep pockets on the fitted sheet for a secure fit, and a variety of color options. Benefits of a Queen Size Sheet Set include providing a comfortable and cozy sleeping experience, enhancing the aesthetics of the bedroom, and being easy to care for with machine washable materials.\u001b[0m\n",
      "\u001b[33;1m\u001b[1;3mI would give this product a 4 out of 5 stars. The description highlights key features such as the soft and durable fabric, deep pockets for a secure fit, and variety of color options which are all important factors when selecting a sheet set. Additionally, the benefits of providing a comfortable sleeping experience, enhancing the aesthetics of the bedroom, and being easy to care for with machine washable materials are all great selling points. The only reason I would not give it a perfect 5 stars is because it does not mention any specific brand or unique selling points that would set it apart from other similar products on the market.\u001b[0m\n",
      "\n",
      "\u001b[1m> Finished chain.\u001b[0m\n"
     ]
    },
    {
     "data": {
      "text/plain": [
       "'I would give this product a 4 out of 5 stars. The description highlights key features such as the soft and durable fabric, deep pockets for a secure fit, and variety of color options which are all important factors when selecting a sheet set. Additionally, the benefits of providing a comfortable sleeping experience, enhancing the aesthetics of the bedroom, and being easy to care for with machine washable materials are all great selling points. The only reason I would not give it a perfect 5 stars is because it does not mention any specific brand or unique selling points that would set it apart from other similar products on the market.'"
      ]
     },
     "execution_count": 17,
     "metadata": {},
     "output_type": "execute_result"
    }
   ],
   "source": [
    "llm = ChatOpenAI(temperature=0.9)\n",
    "\n",
    "# prompt template 1\n",
    "first_prompt = ChatPromptTemplate.from_template(\n",
    "    \"Please provide a concise description of a {product}. Include key features and benefits.\"\n",
    ")\n",
    "\n",
    "# Chain 1\n",
    "chain_one = LLMChain(llm=llm, prompt=first_prompt)\n",
    "\n",
    "# prompt template 2\n",
    "second_prompt = ChatPromptTemplate.from_template(\n",
    "    \"Based on the following product description, provide a rating out of 5 stars and explain why: {input}\"\n",
    ")\n",
    "\n",
    "# chain 2\n",
    "chain_two = LLMChain(llm=llm, prompt=second_prompt)\n",
    "\n",
    "overall_simple_chain = SimpleSequentialChain(chains=[chain_one, chain_two],\n",
    "                                             verbose=True\n",
    "                                            )\n",
    "product = 'Queen Size Sheet Set'\n",
    "overall_simple_chain.run(product)"
   ]
  },
  {
   "cell_type": "markdown",
   "id": "c2dab422",
   "metadata": {},
   "source": [
    "## Example 2"
   ]
  },
  {
   "cell_type": "code",
   "execution_count": 18,
   "id": "96bcea29",
   "metadata": {},
   "outputs": [
    {
     "name": "stdout",
     "output_type": "stream",
     "text": [
      "\n",
      "\n",
      "\u001b[1m> Entering new SimpleSequentialChain chain...\u001b[0m\n",
      "\u001b[36;1m\u001b[1;3mL'Or Espresso Café - L'Or Espresso Coffee\u001b[0m\n",
      "\u001b[33;1m\u001b[1;3mL'Or Espresso Café offers a premium coffee experience with their L'Or Espresso Coffee capsules. These capsules are compatible with Nespresso machines and provide a rich and intense coffee flavor. The key features of this product include the convenience of single-serve capsules, the high-quality Arabica and Robusta coffee beans used, and the aromatic and smooth taste profile.\n",
      "\n",
      "The target audience for L'Or Espresso Café - L'Or Espresso Coffee is coffee enthusiasts who appreciate a luxurious coffee experience at home. This product is perfect for those who enjoy a strong and flavorful espresso, and value convenience without compromising on quality.\u001b[0m\n",
      "\u001b[38;5;200m\u001b[1;3m\n",
      "\n",
      "Additionally, the compatibility with Nespresso machines makes it easy for consumers to enjoy a premium coffee experience without the need for expensive equipment.\u001b[0m\n",
      "\u001b[32;1m\u001b[1;3mAdemás, la compatibilidad con las máquinas Nespresso hace que sea fácil para los consumidores disfrutar de una experiencia de café premium sin la necesidad de un equipo costoso.\u001b[0m\n",
      "\u001b[31;1m\u001b[1;3m¡Disfruta de la experiencia de café premium sin complicaciones! Con nuestra cápsula compatible con máquinas Nespresso, podrás disfrutar de un delicioso café con la comodidad de tu hogar, sin la necesidad de invertir en un equipo costoso. ¡Haz que cada mañana sea especial con nuestra cápsula de café!\u001b[0m\n",
      "\u001b[36;1m\u001b[1;3mCompetitive Analysis:\n",
      "- Nespresso OriginalLine capsules: Nespresso offers a wide range of premium coffee capsules that are specifically designed for their machines. These capsules are known for their high-quality coffee and convenient brewing process.\n",
      "- Third-party compatible capsules: There are several brands that offer compatible capsules for Nespresso machines at a lower price point than the official Nespresso capsules. These capsules often offer a variety of flavors and coffee blends to choose from.\n",
      "\n",
      "Suggested Retail Price Range:\n",
      "- Based on the convenience and premium quality of the product, a competitive retail price range for the compatible capsules could be between $0.50 to $0.70 per capsule.\n",
      "- This price range would make the capsules more affordable than the official Nespresso capsules while still maintaining a premium feel and quality.\n",
      "- Offering promotions or discounts for bulk purchases could also help attract customers and increase sales.\u001b[0m\n",
      "\u001b[33;1m\u001b[1;3mI would rate the compatible capsules at 4 stars. The capsules offer a good quality coffee experience, with a wide variety of flavors and blends to choose from. The lower price point compared to the official Nespresso capsules makes them a great value for money option for customers who own Nespresso machines. The convenience of being able to easily purchase compatible capsules at a more affordable price is a key factor that would appeal to the target audience. Offering promotions or discounts for bulk purchases can further enhance the value proposition for customers. Overall, the compatible capsules provide a good balance of quality, features, and value for money, making them a solid choice for Nespresso machine owners.\u001b[0m\n",
      "\n",
      "\u001b[1m> Finished chain.\u001b[0m\n"
     ]
    },
    {
     "data": {
      "text/plain": [
       "'I would rate the compatible capsules at 4 stars. The capsules offer a good quality coffee experience, with a wide variety of flavors and blends to choose from. The lower price point compared to the official Nespresso capsules makes them a great value for money option for customers who own Nespresso machines. The convenience of being able to easily purchase compatible capsules at a more affordable price is a key factor that would appeal to the target audience. Offering promotions or discounts for bulk purchases can further enhance the value proposition for customers. Overall, the compatible capsules provide a good balance of quality, features, and value for money, making them a solid choice for Nespresso machine owners.'"
      ]
     },
     "execution_count": 18,
     "metadata": {},
     "output_type": "execute_result"
    }
   ],
   "source": [
    "#Replace None by your own value and justify\n",
    "llm = ChatOpenAI(temperature=0.7)  # Using 0.7 for a balance between creativity and consistency\n",
    "\n",
    "# First translate any non-English text\n",
    "first_prompt = ChatPromptTemplate.from_template(\n",
    "    \"\"\"Translate the following product name and any associated text to English if it's not already in English: {product}\n",
    "    If it's already in English, return it unchanged.\"\"\"\n",
    ")\n",
    "\n",
    "chain_one = LLMChain(llm=llm, prompt=first_prompt,\n",
    "                     output_key=\"english_product\"\n",
    "                    )\n",
    "\n",
    "# Then analyze the English product text\n",
    "second_prompt = ChatPromptTemplate.from_template(\n",
    "    \"\"\"Analyze this product: {english_product}\n",
    "    Provide a consice description including key features and target audience.\"\"\"\n",
    ")\n",
    "\n",
    "chain_two = LLMChain(llm=llm, prompt=second_prompt, \n",
    "                     output_key=\"product_analysis\"\n",
    "                    )\n",
    "\n",
    "third_prompt = ChatPromptTemplate.from_template(\n",
    "    \"Summarize the key selling points of this product in 1-2 sentences: {product_analysis}\"\n",
    ")\n",
    "\n",
    "chain_three = LLMChain(llm=llm, prompt=third_prompt,\n",
    "                       output_key=\"summary\"\n",
    "                      )\n",
    "\n",
    "fourth_prompt = ChatPromptTemplate.from_template(\n",
    "    \"\"\"Based on this product analysis: {product_analysis}\n",
    "    Translate the product description to Spanish to reach more customers\"\"\"\n",
    ")\n",
    "\n",
    "chain_four = LLMChain(llm=llm, prompt=fourth_prompt,\n",
    "                      output_key=\"spanish_description\"\n",
    "                     )\n",
    "\n",
    "fifth_prompt = ChatPromptTemplate.from_template(\n",
    "    \"\"\"Based on this product summary: {summary}\n",
    "    Write a compelling marketing message that highlights the main benefits.\"\"\"\n",
    ")\n",
    "\n",
    "chain_five = LLMChain(llm=llm, prompt=fifth_prompt,\n",
    "                      output_key=\"marketing_message\"\n",
    "                     )\n",
    "\n",
    "sixth_prompt = ChatPromptTemplate.from_template(\n",
    "    \"\"\"Based on the product analysis: {product_analysis}\n",
    "    Provide a competitive analysis and suggested retail price range.\"\"\"\n",
    ")\n",
    "\n",
    "chain_six = LLMChain(llm=llm, prompt=sixth_prompt,\n",
    "                     output_key=\"pricing_analysis\"\n",
    "                    )\n",
    "\n",
    "seventh_prompt = ChatPromptTemplate.from_template(\n",
    "    \"\"\"Based on the product analysis: {product_analysis}\n",
    "    Rate this product on a scale of 1-5 stars and provide a detailed justification for the rating.\n",
    "    Consider factors like quality, features, value for money, and target audience satisfaction.\"\"\"\n",
    ")\n",
    "\n",
    "chain_seven = LLMChain(llm=llm, prompt=seventh_prompt,\n",
    "                      output_key=\"product_rating\"\n",
    "                     )\n",
    "\n",
    "# Set up the overall chain\n",
    "overall_chain = SimpleSequentialChain(\n",
    "    chains=[chain_one, chain_two, chain_three, chain_four, chain_five, chain_six, chain_seven],\n",
    "    verbose=True\n",
    ")\n",
    "\n",
    "product = \"L'Or Espresso Café\"  # Using a product from the dataset\n",
    "overall_chain.run(product)\n"
   ]
  },
  {
   "cell_type": "markdown",
   "id": "7b5ce18c",
   "metadata": {},
   "source": [
    "## SequentialChain"
   ]
  },
  {
   "cell_type": "code",
   "execution_count": 19,
   "id": "4c129ef6",
   "metadata": {},
   "outputs": [],
   "source": [
    "from langchain.chains import SequentialChain"
   ]
  },
  {
   "cell_type": "code",
   "execution_count": 20,
   "id": "016187ac",
   "metadata": {},
   "outputs": [],
   "source": [
    "llm = ChatOpenAI(temperature=0.9)\n",
    "\n",
    "\n",
    "first_prompt = ChatPromptTemplate.from_template(\n",
    "    \"\"\"You are a professional translator.\n",
    "    Please translate this review to English if it's not already in English.\n",
    "    If it's already in English, return it unchanged.\n",
    "    \n",
    "    Review: {review}\"\"\"\n",
    ")\n",
    "\n",
    "chain_one = LLMChain(llm=llm, prompt=first_prompt, \n",
    "                     output_key=\"english_review\" #Give a name to your output\n",
    "                    )\n"
   ]
  },
  {
   "cell_type": "code",
   "execution_count": 21,
   "id": "0fb0730e",
   "metadata": {},
   "outputs": [],
   "source": [
    "second_prompt = ChatPromptTemplate.from_template(\n",
    "    \"\"\"You are a professional review analyst.\n",
    "    Please provide a concise summary of this review in 1-2 sentences.\n",
    "    \n",
    "    Review: {english_review}\"\"\"\n",
    ")\n",
    "\n",
    "chain_two = LLMChain(llm=llm, prompt=second_prompt, \n",
    "                     output_key=\"review_summary\"\n",
    "                    )\n"
   ]
  },
  {
   "cell_type": "code",
   "execution_count": 22,
   "id": "6accf92d",
   "metadata": {},
   "outputs": [],
   "source": [
    "# prompt template 3: translate summary back to original language\n",
    "third_prompt = ChatPromptTemplate.from_template(\n",
    "    \"\"\"You are a professional translator.\n",
    "    Please translate this review summary to the original language of the review.\n",
    "    If the original review was in English, return it unchanged.\n",
    "    \n",
    "    Review Summary: {review_summary}\"\"\"\n",
    ")\n",
    "# chain 3: input = review_summary, output = translated_summary \n",
    "chain_three = LLMChain(llm=llm, prompt=third_prompt,\n",
    "                       output_key=\"translated_summary\"\n",
    "                      )\n"
   ]
  },
  {
   "cell_type": "code",
   "execution_count": 23,
   "id": "c7a46121",
   "metadata": {},
   "outputs": [],
   "source": [
    "\n",
    "# prompt template 4: follow up message that take as inputs the two previous prompts' variables\n",
    "fourth_prompt = ChatPromptTemplate.from_template(\n",
    "    \"\"\"You are a helpful customer service agent.\n",
    "    Based on the original review and its summary, write a brief follow-up message to the customer.\n",
    "    Thank them for their review and address their main points.\n",
    "    \n",
    "    Original Review: {english_review}\n",
    "    Review Summary: {review_summary}\"\"\"\n",
    ")\n",
    "chain_four = LLMChain(llm=llm, prompt=fourth_prompt,\n",
    "                      output_key=\"followup_message\"\n",
    "                     )\n"
   ]
  },
  {
   "cell_type": "code",
   "execution_count": 24,
   "id": "89603117",
   "metadata": {},
   "outputs": [],
   "source": [
    "# overall_chain: input= Review \n",
    "# and output= English_Review,summary, followup_message\n",
    "overall_chain = SequentialChain(\n",
    "    chains=[chain_one, chain_two, chain_three, chain_four],\n",
    "    input_variables=[\"review\"],\n",
    "    output_variables=[\"english_review\", \"review_summary\", \"followup_message\"],\n",
    "    verbose=True\n",
    ")"
   ]
  },
  {
   "cell_type": "code",
   "execution_count": 25,
   "id": "51b04f45",
   "metadata": {},
   "outputs": [
    {
     "name": "stdout",
     "output_type": "stream",
     "text": [
      "Je trouve le goût médiocre. La mousse ne tient pas, c'est bizarre. J'achète les mêmes dans le commerce et le goût est bien meilleur...\n",
      "Vieux lot ou contrefaçon !?\n",
      "\n",
      "\n",
      "\u001b[1m> Entering new SequentialChain chain...\u001b[0m\n"
     ]
    },
    {
     "name": "stderr",
     "output_type": "stream",
     "text": [
      "C:\\Users\\edwar\\AppData\\Local\\Temp\\ipykernel_7500\\2069227778.py:4: LangChainDeprecationWarning: The method `Chain.__call__` was deprecated in langchain 0.1.0 and will be removed in 1.0. Use :meth:`~invoke` instead.\n",
      "  overall_chain(review)\n"
     ]
    },
    {
     "name": "stdout",
     "output_type": "stream",
     "text": [
      "\n",
      "\u001b[1m> Finished chain.\u001b[0m\n"
     ]
    },
    {
     "data": {
      "text/plain": [
       "{'review': \"Je trouve le goût médiocre. La mousse ne tient pas, c'est bizarre. J'achète les mêmes dans le commerce et le goût est bien meilleur...\\nVieux lot ou contrefaçon !?\",\n",
       " 'english_review': \"Review: I find the taste mediocre. The foam does not hold, it's strange. I buy the same ones from the store and the taste is much better... Old batch or counterfeit!?\",\n",
       " 'review_summary': 'The reviewer finds the taste of the product to be mediocre and questions if it is a counterfeit or from an old batch compared to the store-bought version which they prefer.',\n",
       " 'followup_message': 'Dear valued customer,\\n\\nThank you for taking the time to share your feedback with us. We apologize that you found the taste of our product to be mediocre and experienced issues with the foam not holding. We can assure you that our products are not counterfeit and we take quality control very seriously. \\n\\nWe would like to learn more about your specific experience and address any concerns you may have. Please feel free to reach out to our customer service team so we can assist you further.\\n\\nThank you for your support and we hope to provide you with a better experience in the future.\\n\\nSincerely,\\n[Your Name]\\nCustomer Service Team'}"
      ]
     },
     "execution_count": 25,
     "metadata": {},
     "output_type": "execute_result"
    }
   ],
   "source": [
    "review = df.Review[5]\n",
    "print(review)\n",
    "\n",
    "overall_chain(review)"
   ]
  },
  {
   "cell_type": "markdown",
   "id": "3187cf07-458a-4226-bec7-3dec7ee47af2",
   "metadata": {},
   "source": [
    "**Repeat the above twice for different products or reviews**"
   ]
  },
  {
   "cell_type": "markdown",
   "id": "e7425573",
   "metadata": {},
   "source": [
    "## Example 1"
   ]
  },
  {
   "cell_type": "code",
   "execution_count": 26,
   "id": "4db7ca55",
   "metadata": {},
   "outputs": [
    {
     "name": "stdout",
     "output_type": "stream",
     "text": [
      "Está lu bonita calienta muy rápido, es muy funcional, solo falta ver cuánto dura, solo llevo 3 días en funcionamiento.\n",
      "\n",
      "\n",
      "\u001b[1m> Entering new SequentialChain chain...\u001b[0m\n",
      "\n",
      "\u001b[1m> Finished chain.\u001b[0m\n"
     ]
    },
    {
     "data": {
      "text/plain": [
       "{'review': 'Está lu bonita calienta muy rápido, es muy funcional, solo falta ver cuánto dura, solo llevo 3 días en funcionamiento.',\n",
       " 'english_review': 'Review: It is a beautiful heater that heats up very quickly, it is very functional, I just need to see how long it lasts, I have only been using it for 3 days.',\n",
       " 'review_summary': 'Overall, the reviewer finds the heater to be aesthetically pleasing and efficient in heating up quickly. They have only been using it for 3 days and are curious to see how long it will last.',\n",
       " 'followup_message': 'Dear valued customer,\\n\\nThank you for your review of our heater. We are pleased to hear that you find it aesthetically pleasing and efficient in heating up quickly. We understand your curiosity about its longevity, and we assure you that we strive to provide products that are both functional and durable. Should you have any further questions or concerns, please do not hesitate to reach out to us.\\n\\nThank you for choosing our product.\\n\\nWarm regards,\\n[Your Name]\\nCustomer Service Team'}"
      ]
     },
     "execution_count": 26,
     "metadata": {},
     "output_type": "execute_result"
    }
   ],
   "source": [
    "review = df.Review[6]\n",
    "print(review)\n",
    "\n",
    "\n",
    "overall_chain(review)"
   ]
  },
  {
   "cell_type": "markdown",
   "id": "d7a95de9",
   "metadata": {},
   "source": [
    "## Example 2"
   ]
  },
  {
   "cell_type": "code",
   "execution_count": 27,
   "id": "faa38b89",
   "metadata": {},
   "outputs": [
    {
     "name": "stdout",
     "output_type": "stream",
     "text": [
      " I loved this product. But they only seem to last a few months. The company was great replacing the first one (the frother falls out of the handle and can't be fixed). The after 4 months my second one did the same. I only use the frother for coffee once a day. It's not overuse or abuse. I'm very disappointed and will look for another. As I understand they will only replace once. Anyway, if you have one good luck.\n",
      "\n",
      "\n",
      "\u001b[1m> Entering new SequentialChain chain...\u001b[0m\n",
      "\n",
      "\u001b[1m> Finished chain.\u001b[0m\n"
     ]
    },
    {
     "data": {
      "text/plain": [
       "{'review': \"\\xa0I loved this product. But they only seem to last a few months. The company was great replacing the first one (the frother falls out of the handle and can't be fixed). The after 4 months my second one did the same. I only use the frother for coffee once a day. It's not overuse or abuse. I'm very disappointed and will look for another. As I understand they will only replace once. Anyway, if you have one good luck.\",\n",
       " 'english_review': \"Review: I loved this product. But they only seem to last a few months. The company was great replacing the first one (the frother falls out of the handle and can't be fixed). The after 4 months my second one did the same. I only use the frother for coffee once a day. It's not overuse or abuse. I'm very disappointed and will look for another. As I understand they will only replace once. Anyway, if you have one good luck.\",\n",
       " 'review_summary': \"The reviewer loved the product but found it to be unreliable as it only lasted a few months before the frother fell out and couldn't be fixed. The company was great at replacing it once, but the same issue occurred with the replacement after 4 months, leading to disappointment and a decision to look for another product.\",\n",
       " 'followup_message': 'Dear valued customer,\\n\\nThank you for taking the time to share your feedback with us. We appreciate your loyalty to our product and we sincerely apologize for the inconvenience you have experienced with the frother falling out of the handle. We strive to provide high-quality products and exceptional customer service, so it is disappointing to hear that you have encountered this issue twice.\\n\\nPlease know that we take your feedback seriously and we will address this issue with our product development team to prevent any future occurrences. We understand your frustration and we apologize for any inconvenience this has caused you. If there is anything else we can assist you with or if you have any further questions, please do not hesitate to reach out to us.\\n\\nThank you for your understanding and for giving our product a try. We wish you the best of luck in finding a suitable replacement that meets your expectations.\\n\\nSincerely,\\n[Your Name]\\nCustomer Service Team'}"
      ]
     },
     "execution_count": 27,
     "metadata": {},
     "output_type": "execute_result"
    }
   ],
   "source": [
    "review = df.Review[4]\n",
    "print(review)\n",
    "\n",
    "\n",
    "overall_chain(review)"
   ]
  },
  {
   "cell_type": "markdown",
   "id": "3041ea4c",
   "metadata": {},
   "source": [
    "## Router Chain"
   ]
  },
  {
   "cell_type": "code",
   "execution_count": 28,
   "id": "ade83f4f",
   "metadata": {},
   "outputs": [],
   "source": [
    "physics_template = \"\"\"You are a very smart physics professor. \\\n",
    "You are great at answering questions about physics in a concise\\\n",
    "and easy to understand manner. \\\n",
    "When you don't know the answer to a question you admit\\\n",
    "that you don't know.\n",
    "\n",
    "Here is a question:\n",
    "{input}\"\"\"\n",
    "\n",
    "\n",
    "math_template = \"\"\"You are a very good mathematician. \\\n",
    "You are great at answering math questions. \\\n",
    "You are so good because you are able to break down \\\n",
    "hard problems into their component parts, \n",
    "answer the component parts, and then put them together\\\n",
    "to answer the broader question.\n",
    "\n",
    "Here is a question:\n",
    "{input}\"\"\"\n",
    "\n",
    "history_template = \"\"\"You are a very good historian. \\\n",
    "You have an excellent knowledge of and understanding of people,\\\n",
    "events and contexts from a range of historical periods. \\\n",
    "You have the ability to think, reflect, debate, discuss and \\\n",
    "evaluate the past. You have a respect for historical evidence\\\n",
    "and the ability to make use of it to support your explanations \\\n",
    "and judgements.\n",
    "\n",
    "Here is a question:\n",
    "{input}\"\"\"\n",
    "\n",
    "\n",
    "computerscience_template = \"\"\" You are a successful computer scientist.\\\n",
    "You have a passion for creativity, collaboration,\\\n",
    "forward-thinking, confidence, strong problem-solving capabilities,\\\n",
    "understanding of theories and algorithms, and excellent communication \\\n",
    "skills. You are great at answering coding questions. \\\n",
    "You are so good because you know how to solve a problem by \\\n",
    "describing the solution in imperative steps \\\n",
    "that a machine can easily interpret and you know how to \\\n",
    "choose a solution that has a good balance between \\\n",
    "time complexity and space complexity. \n",
    "\n",
    "Here is a question:\n",
    "{input}\"\"\""
   ]
  },
  {
   "cell_type": "code",
   "execution_count": 29,
   "id": "5f590e9f",
   "metadata": {},
   "outputs": [],
   "source": [
    "prompt_infos = [\n",
    "    {\n",
    "        \"name\": \"physics\", \n",
    "        \"description\": \"Good for answering questions about physics\", \n",
    "        \"prompt_template\": physics_template\n",
    "    },\n",
    "    {\n",
    "        \"name\": \"math\", \n",
    "        \"description\": \"Good for answering math questions\", \n",
    "        \"prompt_template\": math_template\n",
    "    },\n",
    "    {\n",
    "        \"name\": \"History\", \n",
    "        \"description\": \"Good for answering history questions\", \n",
    "        \"prompt_template\": history_template\n",
    "    },\n",
    "    {\n",
    "        \"name\": \"computer science\", \n",
    "        \"description\": \"Good for answering computer science questions\", \n",
    "        \"prompt_template\": computerscience_template\n",
    "    }\n",
    "]"
   ]
  },
  {
   "cell_type": "code",
   "execution_count": 30,
   "id": "31b06fc8",
   "metadata": {},
   "outputs": [],
   "source": [
    "from langchain.chains.router import MultiPromptChain\n",
    "from langchain.chains.router.llm_router import LLMRouterChain,RouterOutputParser\n",
    "from langchain.prompts import PromptTemplate"
   ]
  },
  {
   "cell_type": "code",
   "execution_count": 31,
   "id": "f3f50bcc",
   "metadata": {},
   "outputs": [],
   "source": [
    "llm = ChatOpenAI(temperature=0)"
   ]
  },
  {
   "cell_type": "code",
   "execution_count": 32,
   "id": "8eefec24",
   "metadata": {},
   "outputs": [],
   "source": [
    "# This loop creates a dictionary of LLMChains for different subject areas (physics, math, history, etc)\n",
    "# Each chain is configured with a specific prompt template for that subject\n",
    "destination_chains = {}\n",
    "for p_info in prompt_infos:\n",
    "    name = p_info[\"name\"]  # Get subject name (e.g. \"physics\", \"math\")\n",
    "    prompt_template = p_info[\"prompt_template\"]  # Get the prompt template for this subject\n",
    "    prompt = ChatPromptTemplate.from_template(template=prompt_template)  # Create prompt from template\n",
    "    chain = LLMChain(llm=llm, prompt=prompt)  # Create chain with prompt and language model\n",
    "    destination_chains[name] = chain  # Add chain to dictionary with subject name as key\n",
    "    \n",
    "# Create formatted strings describing each subject chain for the router template\n",
    "destinations = [f\"{p['name']}: {p['description']}\" for p in prompt_infos]\n",
    "destinations_str = \"\\n\".join(destinations)  # Join descriptions with newlines"
   ]
  },
  {
   "cell_type": "code",
   "execution_count": 33,
   "id": "20ed72c1",
   "metadata": {},
   "outputs": [
    {
     "data": {
      "text/plain": [
       "['physics: Good for answering questions about physics',\n",
       " 'math: Good for answering math questions',\n",
       " 'History: Good for answering history questions',\n",
       " 'computer science: Good for answering computer science questions']"
      ]
     },
     "execution_count": 33,
     "metadata": {},
     "output_type": "execute_result"
    }
   ],
   "source": [
    "destinations"
   ]
  },
  {
   "cell_type": "markdown",
   "id": "bd2bb476",
   "metadata": {},
   "source": [
    "The dictionary approach is used here for the Router Chain pattern, which acts like a \"traffic director\" for different types of questions. Here's why this approach is useful:\n",
    "Organization and Access:\n",
    "The dictionary structure allows quick lookup of the appropriate chain based on the subject\n",
    "Instead of having multiple if/else statements, we can directly access the right chain using destination_chains[\"physics\"] or destination_chains[\"math\"]"
   ]
  },
  {
   "cell_type": "code",
   "execution_count": 34,
   "id": "9f98018a",
   "metadata": {},
   "outputs": [],
   "source": [
    "default_prompt = ChatPromptTemplate.from_template(\"{input}\")\n",
    "default_chain = LLMChain(llm=llm, prompt=default_prompt)"
   ]
  },
  {
   "cell_type": "code",
   "execution_count": 35,
   "id": "11b2e2ba",
   "metadata": {},
   "outputs": [],
   "source": [
    "MULTI_PROMPT_ROUTER_TEMPLATE = \"\"\"Given a raw text input to a \\\n",
    "language model select the model prompt best suited for the input. \\\n",
    "You will be given the names of the available prompts and a \\\n",
    "description of what the prompt is best suited for. \\\n",
    "You may also revise the original input if you think that revising\\\n",
    "it will ultimately lead to a better response from the language model.\n",
    "\n",
    "<< FORMATTING >>\n",
    "Return a markdown code snippet with a JSON object formatted to look like:\n",
    "```json\n",
    "{{{{\n",
    "    \"destination\": string \\ name of the prompt to use or \"DEFAULT\"\n",
    "    \"next_inputs\": string \\ a potentially modified version of the original input\n",
    "}}}}\n",
    "```\n",
    "\n",
    "REMEMBER: \"destination\" MUST be one of the candidate prompt \\\n",
    "names specified below OR it can be \"DEFAULT\" if the input is not\\\n",
    "well suited for any of the candidate prompts.\n",
    "REMEMBER: \"next_inputs\" can just be the original input \\\n",
    "if you don't think any modifications are needed.\n",
    "\n",
    "<< CANDIDATE PROMPTS >>\n",
    "{destinations}\n",
    "\n",
    "<< INPUT >>\n",
    "{{input}}\n",
    "\n",
    "<< OUTPUT (remember to include the ```json)>>\"\"\""
   ]
  },
  {
   "cell_type": "code",
   "execution_count": 36,
   "id": "1387109d",
   "metadata": {},
   "outputs": [],
   "source": [
    "router_template = MULTI_PROMPT_ROUTER_TEMPLATE.format(\n",
    "    destinations=destinations_str\n",
    ")\n",
    "router_prompt = PromptTemplate(\n",
    "    template=router_template,\n",
    "    input_variables=[\"input\"],\n",
    "    output_parser=RouterOutputParser(),\n",
    ")\n",
    "\n",
    "router_chain = LLMRouterChain.from_llm(llm, router_prompt)"
   ]
  },
  {
   "cell_type": "code",
   "execution_count": 37,
   "id": "2fb7d560",
   "metadata": {},
   "outputs": [
    {
     "name": "stderr",
     "output_type": "stream",
     "text": [
      "C:\\Users\\edwar\\AppData\\Local\\Temp\\ipykernel_7500\\3038952769.py:1: LangChainDeprecationWarning: Please see migration guide here for recommended implementation: https://python.langchain.com/docs/versions/migrating_chains/multi_prompt_chain/\n",
      "  chain = MultiPromptChain(router_chain=router_chain,\n"
     ]
    }
   ],
   "source": [
    "chain = MultiPromptChain(router_chain=router_chain, \n",
    "                         destination_chains=destination_chains, \n",
    "                         default_chain=default_chain, verbose=True\n",
    "                        )"
   ]
  },
  {
   "cell_type": "code",
   "execution_count": 38,
   "id": "d86b2131",
   "metadata": {},
   "outputs": [
    {
     "name": "stdout",
     "output_type": "stream",
     "text": [
      "\n",
      "\n",
      "\u001b[1m> Entering new MultiPromptChain chain...\u001b[0m\n",
      "physics: {'input': 'What is black body radiation?'}\n",
      "\u001b[1m> Finished chain.\u001b[0m\n"
     ]
    },
    {
     "data": {
      "text/plain": [
       "\"Black body radiation refers to the electromagnetic radiation emitted by a perfect black body, which is an idealized physical body that absorbs all incident electromagnetic radiation and emits radiation at all frequencies. The radiation emitted by a black body depends only on its temperature and follows a specific distribution known as Planck's law. This type of radiation is important in understanding concepts such as thermal radiation and the behavior of objects at different temperatures.\""
      ]
     },
     "execution_count": 38,
     "metadata": {},
     "output_type": "execute_result"
    }
   ],
   "source": [
    "chain.run(\"What is black body radiation?\")"
   ]
  },
  {
   "cell_type": "code",
   "execution_count": 39,
   "id": "3b717379",
   "metadata": {},
   "outputs": [
    {
     "name": "stdout",
     "output_type": "stream",
     "text": [
      "\n",
      "\n",
      "\u001b[1m> Entering new MultiPromptChain chain...\u001b[0m\n",
      "math: {'input': 'what is 2 + 2'}\n",
      "\u001b[1m> Finished chain.\u001b[0m\n"
     ]
    },
    {
     "data": {
      "text/plain": [
       "'The answer to 2 + 2 is 4.'"
      ]
     },
     "execution_count": 39,
     "metadata": {},
     "output_type": "execute_result"
    }
   ],
   "source": [
    "chain.run(\"what is 2 + 2\")"
   ]
  },
  {
   "cell_type": "code",
   "execution_count": 42,
   "id": "29e5be01",
   "metadata": {},
   "outputs": [
    {
     "name": "stdout",
     "output_type": "stream",
     "text": [
      "\n",
      "\n",
      "\u001b[1m> Entering new MultiPromptChain chain...\u001b[0m\n",
      "biology: {'input': 'Why does every cell in our body contain DNA?'}Default response: This question doesn't match any known subjects in our current setup.\n",
      "Default response: This question doesn't match any known subjects in our current setup.\n"
     ]
    }
   ],
   "source": [
    "#chain.run(\"Why does every cell in our body contain DNA?\")\n",
    "output = \"Default response: This question doesn't match any known subjects in our current setup.\"\n",
    "try:\n",
    "    output = chain.run(\"Why does every cell in our body contain DNA?\")\n",
    "except ValueError as e:\n",
    "    print(output)\n",
    "\n",
    "print(output)"
   ]
  },
  {
   "cell_type": "markdown",
   "id": "09e0c60b-7ae0-453e-9467-142d8dafee6e",
   "metadata": {},
   "source": [
    "**Repeat the above at least once for different inputs and chains executions - Be creative!**"
   ]
  },
  {
   "cell_type": "code",
   "execution_count": 43,
   "id": "30d608a5",
   "metadata": {},
   "outputs": [
    {
     "name": "stdout",
     "output_type": "stream",
     "text": [
      "Academic Questions Test:\n",
      "--------------------------------------------------\n",
      "\n",
      "Question: How does quantum entanglement work?\n",
      "\n",
      "\n",
      "\u001b[1m> Entering new MultiPromptChain chain...\u001b[0m\n",
      "physics: {'input': 'How does quantum entanglement work?'}\n",
      "\u001b[1m> Finished chain.\u001b[0m\n",
      "Quantum entanglement is a phenomenon where two or more particles become connected in such a way that the state of one particle is directly related to the state of the other, regardless of the distance between them. This means that measuring the state of one particle instantly determines the state of the other, even if they are light-years apart.\n",
      "\n",
      "The exact mechanism behind quantum entanglement is still not fully understood, but it is believed to involve a non-local connection between the particles that allows them to share information instantaneously. This phenomenon is a key aspect of quantum mechanics and has been experimentally verified through various tests and experiments.\n",
      "\n",
      "In summary, quantum entanglement is a mysterious and fascinating aspect of quantum physics that showcases the interconnected nature of particles at the quantum level.\n",
      "--------------------------------------------------\n",
      "\n",
      "Question: Explain the concept of derivatives in calculus\n",
      "\n",
      "\n",
      "\u001b[1m> Entering new MultiPromptChain chain...\u001b[0m\n",
      "math: {'input': 'Explain the concept of derivatives in calculus'}\n",
      "\u001b[1m> Finished chain.\u001b[0m\n",
      "Derivatives in calculus represent the rate of change of a function at a specific point. In simpler terms, it tells us how a function is changing at a particular point. \n",
      "\n",
      "To find the derivative of a function, we use the concept of limits. We calculate the slope of the tangent line to the curve at a specific point, which gives us the instantaneous rate of change of the function at that point. \n",
      "\n",
      "Derivatives are used in various applications such as finding maximum and minimum values of functions, determining the velocity and acceleration of an object, and analyzing the behavior of functions. They are an essential tool in calculus for understanding the behavior of functions and solving real-world problems.\n",
      "--------------------------------------------------\n",
      "\n",
      "Question: What were the main causes of World War I?\n",
      "\n",
      "\n",
      "\u001b[1m> Entering new MultiPromptChain chain...\u001b[0m\n",
      "History: {'input': 'What were the main causes of World War I?'}\n",
      "\u001b[1m> Finished chain.\u001b[0m\n",
      "There were several main causes of World War I, including:\n",
      "\n",
      "1. Nationalism: The intense pride and loyalty to one's own nation led to competition and rivalries between countries, particularly in Europe.\n",
      "\n",
      "2. Imperialism: European powers were competing for colonies and resources around the world, leading to tensions and conflicts.\n",
      "\n",
      "3. Militarism: The arms race between countries, particularly in Europe, led to an increase in military spending and a focus on building up military strength.\n",
      "\n",
      "4. Alliances: The system of alliances between countries meant that a conflict between two nations could quickly escalate into a larger war involving multiple countries.\n",
      "\n",
      "5. Assassination of Archduke Franz Ferdinand: The assassination of the heir to the Austro-Hungarian throne in Sarajevo in 1914 was the spark that ignited the war, leading to a chain reaction of events that ultimately led to the outbreak of World War I.\n",
      "\n",
      "These factors, combined with long-standing tensions and rivalries between European powers, ultimately led to the outbreak of World War I in 1914.\n",
      "--------------------------------------------------\n",
      "\n",
      "Question: How does a neural network learn?\n",
      "\n",
      "\n",
      "\u001b[1m> Entering new MultiPromptChain chain...\u001b[0m\n",
      "computer science: {'input': 'How does a neural network learn?'}\n",
      "\u001b[1m> Finished chain.\u001b[0m\n",
      "A neural network learns through a process called training, where it is fed a large amount of data and adjusts its weights and biases based on the errors it makes in predicting the correct output. \n",
      "\n",
      "During training, the neural network uses an optimization algorithm, such as gradient descent, to minimize the error between its predicted output and the actual output. This process involves calculating the gradient of the error function with respect to the weights and biases of the network, and then updating these parameters in the direction that reduces the error.\n",
      "\n",
      "As the neural network continues to be trained on more data, it learns to generalize patterns and relationships in the data, allowing it to make accurate predictions on new, unseen data. This process of learning is iterative and requires multiple passes through the training data to fine-tune the network's parameters.\n",
      "\n",
      "Overall, a neural network learns by adjusting its parameters based on the errors it makes during training, gradually improving its ability to make accurate predictions on new data.\n",
      "--------------------------------------------------\n"
     ]
    }
   ],
   "source": [
    "# Example 1: Testing different academic questions\n",
    "academic_questions = [\n",
    "    \"How does quantum entanglement work?\",  # Physics\n",
    "    \"Explain the concept of derivatives in calculus\",  # Math\n",
    "    \"What were the main causes of World War I?\",  # History\n",
    "    \"How does a neural network learn?\",  # Computer Science\n",
    "]\n",
    "\n",
    "print(\"Academic Questions Test:\")\n",
    "print(\"-\" * 50)\n",
    "for question in academic_questions:\n",
    "    print(f\"\\nQuestion: {question}\")\n",
    "    print(chain.run(question))\n",
    "    print(\"-\" * 50)"
   ]
  },
  {
   "cell_type": "code",
   "execution_count": 72,
   "id": "150d66e1",
   "metadata": {},
   "outputs": [
    {
     "name": "stdout",
     "output_type": "stream",
     "text": [
      "\n",
      "Interdisciplinary Questions Test:\n",
      "--------------------------------------------------\n",
      "\n",
      "Question: How is calculus used in physics to describe motion?\n",
      "\n",
      "\n",
      "\u001b[1m> Entering new MultiPromptChain chain...\u001b[0m\n",
      "physics: {'input': 'How is calculus used in physics to describe motion?'}\n",
      "\u001b[1m> Finished chain.\u001b[0m\n",
      "Calculus is used in physics to describe motion by analyzing the relationships between position, velocity, and acceleration. By taking derivatives and integrals of these quantities with respect to time, we can determine how an object's motion changes over time. For example, the derivative of position gives us velocity, and the derivative of velocity gives us acceleration. Integrating acceleration gives us velocity, and integrating velocity gives us position. This allows us to accurately describe and predict the motion of objects in the physical world.\n",
      "--------------------------------------------------\n",
      "\n",
      "Question: How did the invention of computers impact historical research?\n",
      "\n",
      "\n",
      "\u001b[1m> Entering new MultiPromptChain chain...\u001b[0m\n",
      "History: {'input': 'How did the invention of computers impact historical research?'}\n",
      "\u001b[1m> Finished chain.\u001b[0m\n",
      "The invention of computers has had a significant impact on historical research in a number of ways. \n",
      "\n",
      "Firstly, computers have greatly facilitated the storage and organization of historical data. Historians can now access vast amounts of information quickly and easily, allowing for more comprehensive and in-depth research. Digitization of historical documents and archives has also made it easier for researchers to access primary sources from around the world.\n",
      "\n",
      "Secondly, computers have revolutionized the process of data analysis and interpretation. Historians can now use advanced software and algorithms to analyze large datasets, identify patterns and trends, and draw new insights from historical information. This has allowed for more sophisticated and nuanced historical interpretations.\n",
      "\n",
      "Additionally, the internet has made it easier for historians to collaborate and share their research with colleagues around the world. Online databases, forums, and digital archives have made it possible for historians to work together on projects, share resources, and engage in discussions about their research.\n",
      "\n",
      "Overall, the invention of computers has greatly enhanced the practice of historical research, making it more efficient, accessible, and collaborative.\n",
      "--------------------------------------------------\n",
      "\n",
      "Question: How are algorithms used to analyze historical data?\n",
      "\n",
      "\n",
      "\u001b[1m> Entering new MultiPromptChain chain...\u001b[0m\n",
      "computer science: {'input': 'How are algorithms used to analyze historical data?'}\n",
      "\u001b[1m> Finished chain.\u001b[0m\n",
      "Algorithms are used to analyze historical data by processing and interpreting large sets of data to identify patterns, trends, and insights. This can help in making predictions, optimizing processes, and making informed decisions based on past data. \n",
      "\n",
      "Some common algorithms used in analyzing historical data include:\n",
      "\n",
      "1. Regression analysis: This algorithm is used to analyze the relationship between variables and predict future outcomes based on historical data.\n",
      "\n",
      "2. Time series analysis: This algorithm is used to analyze data points collected at regular intervals over time to identify patterns and trends.\n",
      "\n",
      "3. Clustering algorithms: These algorithms are used to group similar data points together based on certain characteristics, helping to identify patterns and relationships within the data.\n",
      "\n",
      "4. Classification algorithms: These algorithms are used to categorize data into different classes or groups based on certain features, helping to make predictions or identify trends.\n",
      "\n",
      "Overall, algorithms play a crucial role in analyzing historical data by providing valuable insights and helping to make data-driven decisions.\n",
      "--------------------------------------------------\n",
      "\n",
      "Question: What mathematical principles are used in modern cryptography?\n",
      "\n",
      "\n",
      "\u001b[1m> Entering new MultiPromptChain chain...\u001b[0m\n",
      "math: {'input': 'What mathematical principles are used in modern cryptography?'}\n",
      "\u001b[1m> Finished chain.\u001b[0m\n",
      "Modern cryptography relies on a variety of mathematical principles to ensure secure communication and data protection. Some of the key mathematical principles used in modern cryptography include:\n",
      "\n",
      "1. Number theory: Number theory plays a crucial role in cryptography, particularly in the field of public key cryptography. Concepts such as prime numbers, modular arithmetic, and the discrete logarithm problem are used to create secure encryption algorithms.\n",
      "\n",
      "2. Algebraic structures: Algebraic structures such as groups, rings, and fields are used in the design and analysis of cryptographic algorithms. For example, the RSA encryption algorithm is based on the properties of modular arithmetic in the ring of integers modulo a composite number.\n",
      "\n",
      "3. Probability theory: Probability theory is used in cryptographic protocols to ensure randomness and unpredictability. Random number generation and key generation algorithms rely on probabilistic models to ensure security.\n",
      "\n",
      "4. Computational complexity theory: Computational complexity theory is used to analyze the security of cryptographic algorithms and protocols. Concepts such as hardness assumptions, computational hardness, and complexity classes are used to evaluate the strength of cryptographic schemes.\n",
      "\n",
      "5. Cryptographic hash functions: Cryptographic hash functions are mathematical algorithms that map input data to a fixed-size output, known as a hash value. Hash functions are used in digital signatures, message authentication codes, and password hashing to ensure data integrity and confidentiality.\n",
      "\n",
      "Overall, modern cryptography is a multidisciplinary field that combines principles from mathematics, computer science, and information theory to protect sensitive information and secure communication channels.\n",
      "--------------------------------------------------\n"
     ]
    }
   ],
   "source": [
    "# Example 2: Testing interdisciplinary questions\n",
    "interdisciplinary_questions = [\n",
    "    \"How is calculus used in physics to describe motion?\",  # Math + Physics\n",
    "    \"How did the invention of computers impact historical research?\",  # Computer Science + History\n",
    "    \"How are algorithms used to analyze historical data?\",  # Computer Science + History\n",
    "    \"What mathematical principles are used in modern cryptography?\",  # Math + Computer Science\n",
    "]\n",
    "\n",
    "print(\"\\nInterdisciplinary Questions Test:\")\n",
    "print(\"-\" * 50)\n",
    "for question in interdisciplinary_questions:\n",
    "    print(f\"\\nQuestion: {question}\")\n",
    "    print(chain.run(question))\n",
    "    print(\"-\" * 50)\n",
    "\n"
   ]
  },
  {
   "cell_type": "code",
   "execution_count": 74,
   "id": "3395cefd",
   "metadata": {},
   "outputs": [
    {
     "name": "stdout",
     "output_type": "stream",
     "text": [
      "\n",
      "Real-world Application Questions Test:\n",
      "--------------------------------------------------\n",
      "\n",
      "Question: How do self-driving cars use physics principles?\n",
      "\n",
      "\n",
      "\u001b[1m> Entering new MultiPromptChain chain...\u001b[0m\n",
      "physics: {'input': 'How do self-driving cars use physics principles?'}\n",
      "\u001b[1m> Finished chain.\u001b[0m\n",
      "Self-driving cars use physics principles in a variety of ways to navigate and operate safely. Some key ways include:\n",
      "\n",
      "1. Sensors and cameras on the car detect the car's surroundings and use principles of optics and electromagnetic waves to interpret and react to the environment.\n",
      "\n",
      "2. The car's computer system uses principles of mechanics and kinematics to calculate the best path and speed to reach its destination while avoiding obstacles.\n",
      "\n",
      "3. The car's control systems use principles of dynamics and control theory to adjust steering, acceleration, and braking to maintain stability and control.\n",
      "\n",
      "Overall, self-driving cars rely on a combination of physics principles to operate autonomously and safely on the road.\n",
      "--------------------------------------------------\n",
      "\n",
      "Question: How is probability used in weather forecasting?\n",
      "\n",
      "\n",
      "\u001b[1m> Entering new MultiPromptChain chain...\u001b[0m\n",
      "physics: {'input': 'How is probability used in weather forecasting?'}\n",
      "\u001b[1m> Finished chain.\u001b[0m\n",
      "Probability is used in weather forecasting to predict the likelihood of certain weather events occurring. Meteorologists use historical data, current weather conditions, and computer models to calculate the probability of different weather outcomes. For example, they may say there is a 70% chance of rain tomorrow based on their analysis of the data. This helps people make informed decisions about how to prepare for the weather and plan their activities.\n",
      "--------------------------------------------------\n",
      "\n",
      "Question: How did the development of the internet change modern warfare?\n",
      "\n",
      "\n",
      "\u001b[1m> Entering new MultiPromptChain chain...\u001b[0m\n",
      "History: {'input': 'How did the development of the internet change modern warfare?'}\n",
      "\u001b[1m> Finished chain.\u001b[0m\n",
      "The development of the internet has had a significant impact on modern warfare in several ways. \n",
      "\n",
      "Firstly, the internet has revolutionized communication and information sharing in the military. Commanders can now communicate with troops in real-time, coordinate operations more efficiently, and access a wealth of information instantly. This has greatly improved the speed and effectiveness of military decision-making.\n",
      "\n",
      "Secondly, the internet has also changed the nature of warfare itself. Cyber warfare has become a new battleground, with countries using cyber attacks to disrupt enemy communications, sabotage infrastructure, and steal sensitive information. The internet has made it easier for countries to launch these attacks, as they can be carried out remotely and anonymously.\n",
      "\n",
      "Additionally, the internet has also changed the way wars are fought on the ground. With the rise of social media and online propaganda, information warfare has become a key component of modern conflicts. Countries can now use the internet to spread disinformation, manipulate public opinion, and recruit supporters for their cause.\n",
      "\n",
      "Overall, the development of the internet has transformed modern warfare by enhancing communication and information sharing, creating new battlegrounds in cyberspace, and changing the way wars are fought on the ground.\n",
      "--------------------------------------------------\n",
      "\n",
      "Question: How does blockchain technology work?\n",
      "\n",
      "\n",
      "\u001b[1m> Entering new MultiPromptChain chain...\u001b[0m\n",
      "computer science: {'input': 'How does blockchain technology work?'}\n",
      "\u001b[1m> Finished chain.\u001b[0m\n",
      "Blockchain technology works by creating a decentralized and secure digital ledger of transactions. Each transaction is recorded in a block, which is then linked to the previous block, forming a chain of blocks. \n",
      "\n",
      "When a new transaction is initiated, it is verified by a network of computers (nodes) through a process called consensus. Once verified, the transaction is added to a block and the block is added to the blockchain. \n",
      "\n",
      "The blockchain is maintained by a network of nodes, each of which has a copy of the entire blockchain. This ensures that the information on the blockchain is secure and cannot be altered without the consensus of the majority of nodes. \n",
      "\n",
      "Blockchain technology uses cryptographic techniques to secure the data on the blockchain, making it tamper-proof and transparent. This makes blockchain technology ideal for applications such as cryptocurrency transactions, supply chain management, and voting systems.\n",
      "--------------------------------------------------\n",
      "\n",
      "Question: What is cancer?\n",
      "\n",
      "\n",
      "\u001b[1m> Entering new MultiPromptChain chain...\u001b[0m\n",
      "None: {'input': 'What is cancer?'}\n",
      "\u001b[1m> Finished chain.\u001b[0m\n",
      "Cancer is a group of diseases characterized by the uncontrolled growth and spread of abnormal cells in the body. These abnormal cells can form tumors, invade nearby tissues, and spread to other parts of the body through the bloodstream or lymphatic system. There are over 100 different types of cancer, each with its own set of symptoms, risk factors, and treatment options. Some common types of cancer include breast cancer, lung cancer, prostate cancer, and colorectal cancer.\n",
      "--------------------------------------------------\n"
     ]
    }
   ],
   "source": [
    "# Example 3: Testing real-world application questions\n",
    "application_questions = [\n",
    "    \"How do self-driving cars use physics principles?\",  # Physics\n",
    "    \"How is probability used in weather forecasting?\",  # Math\n",
    "    \"How did the development of the internet change modern warfare?\",  # History\n",
    "    \"How does blockchain technology work?\",  # Computer Science\n",
    "    \"What is cancer?\"\n",
    "]\n",
    "\n",
    "print(\"\\nReal-world Application Questions Test:\")\n",
    "print(\"-\" * 50)\n",
    "for question in application_questions:\n",
    "    print(f\"\\nQuestion: {question}\")\n",
    "    print(chain.run(question))\n",
    "    print(\"-\" * 50)"
   ]
  }
 ],
 "metadata": {
  "kernelspec": {
   "display_name": "py_gpu",
   "language": "python",
   "name": "python3"
  },
  "language_info": {
   "codemirror_mode": {
    "name": "ipython",
    "version": 3
   },
   "file_extension": ".py",
   "mimetype": "text/x-python",
   "name": "python",
   "nbconvert_exporter": "python",
   "pygments_lexer": "ipython3",
   "version": "3.9.18"
  }
 },
 "nbformat": 4,
 "nbformat_minor": 5
}
