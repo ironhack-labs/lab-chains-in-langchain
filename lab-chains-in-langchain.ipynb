{
 "cells": [
  {
   "cell_type": "markdown",
   "id": "52824b89-532a-4e54-87e9-1410813cd39e",
   "metadata": {},
   "source": [
    "# Lab | Chains in LangChain\n",
    "\n",
    "## Outline\n",
    "\n",
    "* LLMChain\n",
    "* Sequential Chains\n",
    "  * SimpleSequentialChain\n",
    "  * SequentialChain\n",
    "* Router Chain"
   ]
  },
  {
   "cell_type": "code",
   "execution_count": 2,
   "id": "541eb2f1",
   "metadata": {},
   "outputs": [],
   "source": [
    "import warnings\n",
    "warnings.filterwarnings('ignore')"
   ]
  },
  {
   "cell_type": "code",
   "execution_count": 3,
   "id": "b7ed03ed-1322-49e3-b2a2-33e94fb592ef",
   "metadata": {
    "tags": []
   },
   "outputs": [],
   "source": [
    "import os\n",
    "\n",
    "from dotenv import load_dotenv, find_dotenv\n",
    "_ = load_dotenv(find_dotenv())\n",
    "\n",
    "OPENAI_API_KEY  = os.getenv('OPENAI_API_KEY')\n",
    "HUGGINGFACEHUB_API_TOKEN = os.getenv('HUGGINGFACEHUB_API_TOKEN')"
   ]
  },
  {
   "cell_type": "code",
   "execution_count": 3,
   "id": "b84e441b",
   "metadata": {
    "tags": []
   },
   "outputs": [],
   "source": [
    "#!pip install pandas"
   ]
  },
  {
   "cell_type": "code",
   "execution_count": 3,
   "id": "974acf8e-8f88-42de-88f8-40a82cb58e8b",
   "metadata": {
    "tags": []
   },
   "outputs": [],
   "source": [
    "import pandas as pd\n",
    "df = pd.read_csv('./data/Data.csv')"
   ]
  },
  {
   "cell_type": "code",
   "execution_count": 72,
   "id": "b7a09c35",
   "metadata": {
    "tags": []
   },
   "outputs": [
    {
     "data": {
      "text/html": [
       "<div>\n",
       "<style scoped>\n",
       "    .dataframe tbody tr th:only-of-type {\n",
       "        vertical-align: middle;\n",
       "    }\n",
       "\n",
       "    .dataframe tbody tr th {\n",
       "        vertical-align: top;\n",
       "    }\n",
       "\n",
       "    .dataframe thead th {\n",
       "        text-align: right;\n",
       "    }\n",
       "</style>\n",
       "<table border=\"1\" class=\"dataframe\">\n",
       "  <thead>\n",
       "    <tr style=\"text-align: right;\">\n",
       "      <th></th>\n",
       "      <th>Product</th>\n",
       "      <th>Review</th>\n",
       "    </tr>\n",
       "  </thead>\n",
       "  <tbody>\n",
       "    <tr>\n",
       "      <th>0</th>\n",
       "      <td>Queen Size Sheet Set</td>\n",
       "      <td>I ordered a king size set. My only criticism w...</td>\n",
       "    </tr>\n",
       "    <tr>\n",
       "      <th>1</th>\n",
       "      <td>Waterproof Phone Pouch</td>\n",
       "      <td>I loved the waterproof sac, although the openi...</td>\n",
       "    </tr>\n",
       "    <tr>\n",
       "      <th>2</th>\n",
       "      <td>Luxury Air Mattress</td>\n",
       "      <td>This mattress had a small hole in the top of i...</td>\n",
       "    </tr>\n",
       "    <tr>\n",
       "      <th>3</th>\n",
       "      <td>Pillows Insert</td>\n",
       "      <td>This is the best throw pillow fillers on Amazo...</td>\n",
       "    </tr>\n",
       "    <tr>\n",
       "      <th>4</th>\n",
       "      <td>Milk Frother Handheld</td>\n",
       "      <td>I loved this product. But they only seem to l...</td>\n",
       "    </tr>\n",
       "  </tbody>\n",
       "</table>\n",
       "</div>"
      ],
      "text/plain": [
       "                  Product                                             Review\n",
       "0    Queen Size Sheet Set  I ordered a king size set. My only criticism w...\n",
       "1  Waterproof Phone Pouch  I loved the waterproof sac, although the openi...\n",
       "2     Luxury Air Mattress  This mattress had a small hole in the top of i...\n",
       "3          Pillows Insert  This is the best throw pillow fillers on Amazo...\n",
       "4   Milk Frother Handheld   I loved this product. But they only seem to l..."
      ]
     },
     "execution_count": 72,
     "metadata": {},
     "output_type": "execute_result"
    }
   ],
   "source": [
    "df.head()"
   ]
  },
  {
   "cell_type": "markdown",
   "id": "b940ce7c",
   "metadata": {},
   "source": [
    "## LLMChain"
   ]
  },
  {
   "cell_type": "code",
   "execution_count": 7,
   "id": "25646476",
   "metadata": {},
   "outputs": [
    {
     "name": "stdout",
     "output_type": "stream",
     "text": [
      "Requirement already satisfied: langchain in c:\\users\\larry\\anaconda3\\envs\\langchain_env\\lib\\site-packages (0.3.0)\n",
      "Collecting langchain\n",
      "  Downloading langchain-0.3.15-py3-none-any.whl.metadata (7.1 kB)\n",
      "Requirement already satisfied: PyYAML>=5.3 in c:\\users\\larry\\anaconda3\\envs\\langchain_env\\lib\\site-packages (from langchain) (6.0.2)\n",
      "Requirement already satisfied: SQLAlchemy<3,>=1.4 in c:\\users\\larry\\anaconda3\\envs\\langchain_env\\lib\\site-packages (from langchain) (2.0.37)\n",
      "Requirement already satisfied: aiohttp<4.0.0,>=3.8.3 in c:\\users\\larry\\anaconda3\\envs\\langchain_env\\lib\\site-packages (from langchain) (3.11.11)\n",
      "Requirement already satisfied: async-timeout<5.0.0,>=4.0.0 in c:\\users\\larry\\anaconda3\\envs\\langchain_env\\lib\\site-packages (from langchain) (4.0.3)\n",
      "Requirement already satisfied: langchain-core<0.4.0,>=0.3.31 in c:\\users\\larry\\anaconda3\\envs\\langchain_env\\lib\\site-packages (from langchain) (0.3.31)\n",
      "Requirement already satisfied: langchain-text-splitters<0.4.0,>=0.3.3 in c:\\users\\larry\\anaconda3\\envs\\langchain_env\\lib\\site-packages (from langchain) (0.3.5)\n",
      "Requirement already satisfied: langsmith<0.4,>=0.1.17 in c:\\users\\larry\\anaconda3\\envs\\langchain_env\\lib\\site-packages (from langchain) (0.1.147)\n",
      "Requirement already satisfied: numpy<2,>=1.22.4 in c:\\users\\larry\\anaconda3\\envs\\langchain_env\\lib\\site-packages (from langchain) (1.26.4)\n",
      "Requirement already satisfied: pydantic<3.0.0,>=2.7.4 in c:\\users\\larry\\anaconda3\\envs\\langchain_env\\lib\\site-packages (from langchain) (2.10.6)\n",
      "Requirement already satisfied: requests<3,>=2 in c:\\users\\larry\\anaconda3\\envs\\langchain_env\\lib\\site-packages (from langchain) (2.32.3)\n",
      "Requirement already satisfied: tenacity!=8.4.0,<10,>=8.1.0 in c:\\users\\larry\\anaconda3\\envs\\langchain_env\\lib\\site-packages (from langchain) (8.5.0)\n",
      "Requirement already satisfied: aiohappyeyeballs>=2.3.0 in c:\\users\\larry\\anaconda3\\envs\\langchain_env\\lib\\site-packages (from aiohttp<4.0.0,>=3.8.3->langchain) (2.4.4)\n",
      "Requirement already satisfied: aiosignal>=1.1.2 in c:\\users\\larry\\anaconda3\\envs\\langchain_env\\lib\\site-packages (from aiohttp<4.0.0,>=3.8.3->langchain) (1.3.2)\n",
      "Requirement already satisfied: attrs>=17.3.0 in c:\\users\\larry\\anaconda3\\envs\\langchain_env\\lib\\site-packages (from aiohttp<4.0.0,>=3.8.3->langchain) (25.1.0)\n",
      "Requirement already satisfied: frozenlist>=1.1.1 in c:\\users\\larry\\anaconda3\\envs\\langchain_env\\lib\\site-packages (from aiohttp<4.0.0,>=3.8.3->langchain) (1.5.0)\n",
      "Requirement already satisfied: multidict<7.0,>=4.5 in c:\\users\\larry\\anaconda3\\envs\\langchain_env\\lib\\site-packages (from aiohttp<4.0.0,>=3.8.3->langchain) (6.1.0)\n",
      "Requirement already satisfied: propcache>=0.2.0 in c:\\users\\larry\\anaconda3\\envs\\langchain_env\\lib\\site-packages (from aiohttp<4.0.0,>=3.8.3->langchain) (0.2.1)\n",
      "Requirement already satisfied: yarl<2.0,>=1.17.0 in c:\\users\\larry\\anaconda3\\envs\\langchain_env\\lib\\site-packages (from aiohttp<4.0.0,>=3.8.3->langchain) (1.18.3)\n",
      "Requirement already satisfied: jsonpatch<2.0,>=1.33 in c:\\users\\larry\\anaconda3\\envs\\langchain_env\\lib\\site-packages (from langchain-core<0.4.0,>=0.3.31->langchain) (1.33)\n",
      "Requirement already satisfied: packaging<25,>=23.2 in c:\\users\\larry\\anaconda3\\envs\\langchain_env\\lib\\site-packages (from langchain-core<0.4.0,>=0.3.31->langchain) (24.2)\n",
      "Requirement already satisfied: typing-extensions>=4.7 in c:\\users\\larry\\anaconda3\\envs\\langchain_env\\lib\\site-packages (from langchain-core<0.4.0,>=0.3.31->langchain) (4.12.2)\n",
      "Requirement already satisfied: httpx<1,>=0.23.0 in c:\\users\\larry\\anaconda3\\envs\\langchain_env\\lib\\site-packages (from langsmith<0.4,>=0.1.17->langchain) (0.28.1)\n",
      "Requirement already satisfied: orjson<4.0.0,>=3.9.14 in c:\\users\\larry\\anaconda3\\envs\\langchain_env\\lib\\site-packages (from langsmith<0.4,>=0.1.17->langchain) (3.10.15)\n",
      "Requirement already satisfied: requests-toolbelt<2.0.0,>=1.0.0 in c:\\users\\larry\\anaconda3\\envs\\langchain_env\\lib\\site-packages (from langsmith<0.4,>=0.1.17->langchain) (1.0.0)\n",
      "Requirement already satisfied: annotated-types>=0.6.0 in c:\\users\\larry\\anaconda3\\envs\\langchain_env\\lib\\site-packages (from pydantic<3.0.0,>=2.7.4->langchain) (0.7.0)\n",
      "Requirement already satisfied: pydantic-core==2.27.2 in c:\\users\\larry\\anaconda3\\envs\\langchain_env\\lib\\site-packages (from pydantic<3.0.0,>=2.7.4->langchain) (2.27.2)\n",
      "Requirement already satisfied: charset-normalizer<4,>=2 in c:\\users\\larry\\anaconda3\\envs\\langchain_env\\lib\\site-packages (from requests<3,>=2->langchain) (3.4.1)\n",
      "Requirement already satisfied: idna<4,>=2.5 in c:\\users\\larry\\anaconda3\\envs\\langchain_env\\lib\\site-packages (from requests<3,>=2->langchain) (3.10)\n",
      "Requirement already satisfied: urllib3<3,>=1.21.1 in c:\\users\\larry\\anaconda3\\envs\\langchain_env\\lib\\site-packages (from requests<3,>=2->langchain) (2.3.0)\n",
      "Requirement already satisfied: certifi>=2017.4.17 in c:\\users\\larry\\anaconda3\\envs\\langchain_env\\lib\\site-packages (from requests<3,>=2->langchain) (2024.12.14)\n",
      "Requirement already satisfied: greenlet!=0.4.17 in c:\\users\\larry\\anaconda3\\envs\\langchain_env\\lib\\site-packages (from SQLAlchemy<3,>=1.4->langchain) (3.1.1)\n",
      "Requirement already satisfied: anyio in c:\\users\\larry\\anaconda3\\envs\\langchain_env\\lib\\site-packages (from httpx<1,>=0.23.0->langsmith<0.4,>=0.1.17->langchain) (4.8.0)\n",
      "Requirement already satisfied: httpcore==1.* in c:\\users\\larry\\anaconda3\\envs\\langchain_env\\lib\\site-packages (from httpx<1,>=0.23.0->langsmith<0.4,>=0.1.17->langchain) (1.0.7)\n",
      "Requirement already satisfied: h11<0.15,>=0.13 in c:\\users\\larry\\anaconda3\\envs\\langchain_env\\lib\\site-packages (from httpcore==1.*->httpx<1,>=0.23.0->langsmith<0.4,>=0.1.17->langchain) (0.14.0)\n",
      "Requirement already satisfied: jsonpointer>=1.9 in c:\\users\\larry\\anaconda3\\envs\\langchain_env\\lib\\site-packages (from jsonpatch<2.0,>=1.33->langchain-core<0.4.0,>=0.3.31->langchain) (3.0.0)\n",
      "Requirement already satisfied: exceptiongroup>=1.0.2 in c:\\users\\larry\\anaconda3\\envs\\langchain_env\\lib\\site-packages (from anyio->httpx<1,>=0.23.0->langsmith<0.4,>=0.1.17->langchain) (1.2.2)\n",
      "Requirement already satisfied: sniffio>=1.1 in c:\\users\\larry\\anaconda3\\envs\\langchain_env\\lib\\site-packages (from anyio->httpx<1,>=0.23.0->langsmith<0.4,>=0.1.17->langchain) (1.3.1)\n",
      "Downloading langchain-0.3.15-py3-none-any.whl (1.0 MB)\n",
      "   ---------------------------------------- 0.0/1.0 MB ? eta -:--:--\n",
      "   ---------------------------------------- 1.0/1.0 MB 9.6 MB/s eta 0:00:00\n",
      "Installing collected packages: langchain\n",
      "  Attempting uninstall: langchain\n",
      "    Found existing installation: langchain 0.3.0\n",
      "    Uninstalling langchain-0.3.0:\n",
      "      Successfully uninstalled langchain-0.3.0\n",
      "Successfully installed langchain-0.3.15\n"
     ]
    }
   ],
   "source": [
    "!pip install langchain --upgrade"
   ]
  },
  {
   "cell_type": "code",
   "execution_count": 9,
   "id": "0c0d9de3",
   "metadata": {},
   "outputs": [
    {
     "name": "stdout",
     "output_type": "stream",
     "text": [
      "Collecting langchain_openai\n",
      "  Downloading langchain_openai-0.3.2-py3-none-any.whl.metadata (2.7 kB)\n",
      "Requirement already satisfied: langchain-core<0.4.0,>=0.3.31 in c:\\users\\larry\\anaconda3\\envs\\langchain_env\\lib\\site-packages (from langchain_openai) (0.3.31)\n",
      "Collecting openai<2.0.0,>=1.58.1 (from langchain_openai)\n",
      "  Downloading openai-1.60.1-py3-none-any.whl.metadata (27 kB)\n",
      "Collecting tiktoken<1,>=0.7 (from langchain_openai)\n",
      "  Downloading tiktoken-0.8.0-cp310-cp310-win_amd64.whl.metadata (6.8 kB)\n",
      "Requirement already satisfied: PyYAML>=5.3 in c:\\users\\larry\\anaconda3\\envs\\langchain_env\\lib\\site-packages (from langchain-core<0.4.0,>=0.3.31->langchain_openai) (6.0.2)\n",
      "Requirement already satisfied: jsonpatch<2.0,>=1.33 in c:\\users\\larry\\anaconda3\\envs\\langchain_env\\lib\\site-packages (from langchain-core<0.4.0,>=0.3.31->langchain_openai) (1.33)\n",
      "Requirement already satisfied: langsmith<0.4,>=0.1.125 in c:\\users\\larry\\anaconda3\\envs\\langchain_env\\lib\\site-packages (from langchain-core<0.4.0,>=0.3.31->langchain_openai) (0.1.147)\n",
      "Requirement already satisfied: packaging<25,>=23.2 in c:\\users\\larry\\anaconda3\\envs\\langchain_env\\lib\\site-packages (from langchain-core<0.4.0,>=0.3.31->langchain_openai) (24.2)\n",
      "Requirement already satisfied: pydantic<3.0.0,>=2.5.2 in c:\\users\\larry\\anaconda3\\envs\\langchain_env\\lib\\site-packages (from langchain-core<0.4.0,>=0.3.31->langchain_openai) (2.10.6)\n",
      "Requirement already satisfied: tenacity!=8.4.0,<10.0.0,>=8.1.0 in c:\\users\\larry\\anaconda3\\envs\\langchain_env\\lib\\site-packages (from langchain-core<0.4.0,>=0.3.31->langchain_openai) (8.5.0)\n",
      "Requirement already satisfied: typing-extensions>=4.7 in c:\\users\\larry\\anaconda3\\envs\\langchain_env\\lib\\site-packages (from langchain-core<0.4.0,>=0.3.31->langchain_openai) (4.12.2)\n",
      "Requirement already satisfied: anyio<5,>=3.5.0 in c:\\users\\larry\\anaconda3\\envs\\langchain_env\\lib\\site-packages (from openai<2.0.0,>=1.58.1->langchain_openai) (4.8.0)\n",
      "Collecting distro<2,>=1.7.0 (from openai<2.0.0,>=1.58.1->langchain_openai)\n",
      "  Using cached distro-1.9.0-py3-none-any.whl.metadata (6.8 kB)\n",
      "Requirement already satisfied: httpx<1,>=0.23.0 in c:\\users\\larry\\anaconda3\\envs\\langchain_env\\lib\\site-packages (from openai<2.0.0,>=1.58.1->langchain_openai) (0.28.1)\n",
      "Collecting jiter<1,>=0.4.0 (from openai<2.0.0,>=1.58.1->langchain_openai)\n",
      "  Downloading jiter-0.8.2-cp310-cp310-win_amd64.whl.metadata (5.3 kB)\n",
      "Requirement already satisfied: sniffio in c:\\users\\larry\\anaconda3\\envs\\langchain_env\\lib\\site-packages (from openai<2.0.0,>=1.58.1->langchain_openai) (1.3.1)\n",
      "Collecting tqdm>4 (from openai<2.0.0,>=1.58.1->langchain_openai)\n",
      "  Using cached tqdm-4.67.1-py3-none-any.whl.metadata (57 kB)\n",
      "Collecting regex>=2022.1.18 (from tiktoken<1,>=0.7->langchain_openai)\n",
      "  Downloading regex-2024.11.6-cp310-cp310-win_amd64.whl.metadata (41 kB)\n",
      "Requirement already satisfied: requests>=2.26.0 in c:\\users\\larry\\anaconda3\\envs\\langchain_env\\lib\\site-packages (from tiktoken<1,>=0.7->langchain_openai) (2.32.3)\n",
      "Requirement already satisfied: exceptiongroup>=1.0.2 in c:\\users\\larry\\anaconda3\\envs\\langchain_env\\lib\\site-packages (from anyio<5,>=3.5.0->openai<2.0.0,>=1.58.1->langchain_openai) (1.2.2)\n",
      "Requirement already satisfied: idna>=2.8 in c:\\users\\larry\\anaconda3\\envs\\langchain_env\\lib\\site-packages (from anyio<5,>=3.5.0->openai<2.0.0,>=1.58.1->langchain_openai) (3.10)\n",
      "Requirement already satisfied: certifi in c:\\users\\larry\\anaconda3\\envs\\langchain_env\\lib\\site-packages (from httpx<1,>=0.23.0->openai<2.0.0,>=1.58.1->langchain_openai) (2024.12.14)\n",
      "Requirement already satisfied: httpcore==1.* in c:\\users\\larry\\anaconda3\\envs\\langchain_env\\lib\\site-packages (from httpx<1,>=0.23.0->openai<2.0.0,>=1.58.1->langchain_openai) (1.0.7)\n",
      "Requirement already satisfied: h11<0.15,>=0.13 in c:\\users\\larry\\anaconda3\\envs\\langchain_env\\lib\\site-packages (from httpcore==1.*->httpx<1,>=0.23.0->openai<2.0.0,>=1.58.1->langchain_openai) (0.14.0)\n",
      "Requirement already satisfied: jsonpointer>=1.9 in c:\\users\\larry\\anaconda3\\envs\\langchain_env\\lib\\site-packages (from jsonpatch<2.0,>=1.33->langchain-core<0.4.0,>=0.3.31->langchain_openai) (3.0.0)\n",
      "Requirement already satisfied: orjson<4.0.0,>=3.9.14 in c:\\users\\larry\\anaconda3\\envs\\langchain_env\\lib\\site-packages (from langsmith<0.4,>=0.1.125->langchain-core<0.4.0,>=0.3.31->langchain_openai) (3.10.15)\n",
      "Requirement already satisfied: requests-toolbelt<2.0.0,>=1.0.0 in c:\\users\\larry\\anaconda3\\envs\\langchain_env\\lib\\site-packages (from langsmith<0.4,>=0.1.125->langchain-core<0.4.0,>=0.3.31->langchain_openai) (1.0.0)\n",
      "Requirement already satisfied: annotated-types>=0.6.0 in c:\\users\\larry\\anaconda3\\envs\\langchain_env\\lib\\site-packages (from pydantic<3.0.0,>=2.5.2->langchain-core<0.4.0,>=0.3.31->langchain_openai) (0.7.0)\n",
      "Requirement already satisfied: pydantic-core==2.27.2 in c:\\users\\larry\\anaconda3\\envs\\langchain_env\\lib\\site-packages (from pydantic<3.0.0,>=2.5.2->langchain-core<0.4.0,>=0.3.31->langchain_openai) (2.27.2)\n",
      "Requirement already satisfied: charset-normalizer<4,>=2 in c:\\users\\larry\\anaconda3\\envs\\langchain_env\\lib\\site-packages (from requests>=2.26.0->tiktoken<1,>=0.7->langchain_openai) (3.4.1)\n",
      "Requirement already satisfied: urllib3<3,>=1.21.1 in c:\\users\\larry\\anaconda3\\envs\\langchain_env\\lib\\site-packages (from requests>=2.26.0->tiktoken<1,>=0.7->langchain_openai) (2.3.0)\n",
      "Requirement already satisfied: colorama in c:\\users\\larry\\anaconda3\\envs\\langchain_env\\lib\\site-packages (from tqdm>4->openai<2.0.0,>=1.58.1->langchain_openai) (0.4.6)\n",
      "Downloading langchain_openai-0.3.2-py3-none-any.whl (54 kB)\n",
      "Downloading openai-1.60.1-py3-none-any.whl (456 kB)\n",
      "Downloading tiktoken-0.8.0-cp310-cp310-win_amd64.whl (884 kB)\n",
      "   ---------------------------------------- 0.0/884.2 kB ? eta -:--:--\n",
      "   ---------------------------------------- 884.2/884.2 kB 9.9 MB/s eta 0:00:00\n",
      "Using cached distro-1.9.0-py3-none-any.whl (20 kB)\n",
      "Downloading jiter-0.8.2-cp310-cp310-win_amd64.whl (204 kB)\n",
      "Downloading regex-2024.11.6-cp310-cp310-win_amd64.whl (274 kB)\n",
      "Using cached tqdm-4.67.1-py3-none-any.whl (78 kB)\n",
      "Installing collected packages: tqdm, regex, jiter, distro, tiktoken, openai, langchain_openai\n",
      "Successfully installed distro-1.9.0 jiter-0.8.2 langchain_openai-0.3.2 openai-1.60.1 regex-2024.11.6 tiktoken-0.8.0 tqdm-4.67.1\n",
      "Note: you may need to restart the kernel to use updated packages.\n"
     ]
    }
   ],
   "source": [
    "pip install langchain_openai"
   ]
  },
  {
   "cell_type": "code",
   "execution_count": 4,
   "id": "e92dff22",
   "metadata": {
    "tags": []
   },
   "outputs": [],
   "source": [
    "from langchain_openai import ChatOpenAI\n",
    "from langchain.prompts import ChatPromptTemplate\n",
    "from langchain.chains import LLMChain"
   ]
  },
  {
   "cell_type": "code",
   "execution_count": 11,
   "id": "943237a7",
   "metadata": {},
   "outputs": [],
   "source": [
    "#Replace None by your own value and justify\n",
    "\n",
    "# Temperature set to 0.7 to balance creativity and coherence in the responses.\n",
    "# Lower values make outputs more deterministic, while higher values increase randomness.\n",
    "\n",
    "llm = ChatOpenAI(temperature=0.7)\n"
   ]
  },
  {
   "cell_type": "code",
   "execution_count": 12,
   "id": "cdcdb42d",
   "metadata": {},
   "outputs": [],
   "source": [
    "prompt = ChatPromptTemplate.from_template( \"Describe the following product: {product}\" #Write a query that would take a variable to describe any product\n",
    " \n",
    ")"
   ]
  },
  {
   "cell_type": "code",
   "execution_count": 13,
   "id": "d7abc20b",
   "metadata": {},
   "outputs": [
    {
     "name": "stderr",
     "output_type": "stream",
     "text": [
      "C:\\Users\\larry\\AppData\\Local\\Temp\\ipykernel_7528\\546483037.py:1: LangChainDeprecationWarning: The class `LLMChain` was deprecated in LangChain 0.1.17 and will be removed in 1.0. Use :meth:`~RunnableSequence, e.g., `prompt | llm`` instead.\n",
      "  chain = LLMChain(llm=llm, prompt=prompt)\n"
     ]
    }
   ],
   "source": [
    "\n",
    "chain = LLMChain(llm=llm, prompt=prompt)"
   ]
  },
  {
   "cell_type": "markdown",
   "id": "88fce8af",
   "metadata": {},
   "source": [
    "# **Replace the use of LLMChain:**\n",
    "from langchain.schema import RunnableSequence\n",
    "\n",
    "*# Create the RunnableSequence*\n",
    "chain = RunnableSequence.from_runnables([prompt, llm])\n",
    "\n",
    "*# Run the chain*\n",
    "product = \"Noise-Cancelling Wireless Headphones\"\n",
    "response = chain.invoke({\"product\": product})\n",
    "print(response)"
   ]
  },
  {
   "cell_type": "code",
   "execution_count": 15,
   "id": "ad44d1fb",
   "metadata": {},
   "outputs": [
    {
     "name": "stderr",
     "output_type": "stream",
     "text": [
      "C:\\Users\\larry\\AppData\\Local\\Temp\\ipykernel_7528\\1589426625.py:2: LangChainDeprecationWarning: The method `Chain.run` was deprecated in langchain 0.1.0 and will be removed in 1.0. Use :meth:`~invoke` instead.\n",
      "  chain.run(product)\n"
     ]
    },
    {
     "data": {
      "text/plain": [
       "'Noise-cancelling wireless headphones are a type of headphones that use advanced technology to reduce or eliminate external noise, allowing the user to enjoy their music or audio content without distractions. These headphones are designed to block out ambient noise such as traffic, conversations, or airplane engine noise, creating a more immersive listening experience. Additionally, they are wireless, meaning they connect to devices via Bluetooth, providing freedom of movement without the hassle of tangled cords. This product is ideal for individuals who want to listen to music or podcasts in noisy environments or during travel.'"
      ]
     },
     "execution_count": 15,
     "metadata": {},
     "output_type": "execute_result"
    }
   ],
   "source": [
    "product = \"Noise-Cancelling Wireless Headphones\" #Select a product type to be describe\n",
    "chain.run(product)"
   ]
  },
  {
   "cell_type": "markdown",
   "id": "69b03469",
   "metadata": {},
   "source": [
    "## SimpleSequentialChain"
   ]
  },
  {
   "cell_type": "code",
   "execution_count": 16,
   "id": "febee243",
   "metadata": {},
   "outputs": [],
   "source": [
    "from langchain.chains import SimpleSequentialChain"
   ]
  },
  {
   "cell_type": "code",
   "execution_count": 17,
   "id": "2f31aa8a",
   "metadata": {},
   "outputs": [],
   "source": [
    "llm = ChatOpenAI(temperature=0.9)\n",
    "\n",
    "# prompt template 1\n",
    "first_prompt = ChatPromptTemplate.from_template(\n",
    "    \"Describe the following product: {product}\" #Repeat the initial query or create a new query that would feed into the second prompt\n",
    ")\n",
    "\n",
    "# Chain 1\n",
    "chain_one = LLMChain(llm=llm, prompt=first_prompt)"
   ]
  },
  {
   "cell_type": "code",
   "execution_count": 26,
   "id": "3f5d5b76",
   "metadata": {},
   "outputs": [],
   "source": [
    "\n",
    "# prompt template 2\n",
    "second_prompt = ChatPromptTemplate.from_template(\n",
    "    \"\"\"Here is the description: {output}. \n",
    "    What are the key benefits of this product?\"\"\" #Write the second prompt query that takes an input variable whose input will come from the previous prompt\"\n",
    ")\n",
    "# chain 2\n",
    "chain_two = LLMChain(llm=llm, prompt=second_prompt)"
   ]
  },
  {
   "cell_type": "code",
   "execution_count": 27,
   "id": "6c1eb2c4",
   "metadata": {},
   "outputs": [],
   "source": [
    "overall_simple_chain = SimpleSequentialChain(chains=[chain_one, chain_two],\n",
    "                                             verbose=True\n",
    "                                            )"
   ]
  },
  {
   "cell_type": "code",
   "execution_count": 28,
   "id": "cfdd3efc",
   "metadata": {},
   "outputs": [],
   "source": [
    "product = \"Noise-Cancelling Wireless Headphones\""
   ]
  },
  {
   "cell_type": "code",
   "execution_count": 29,
   "id": "78458efe",
   "metadata": {},
   "outputs": [
    {
     "name": "stdout",
     "output_type": "stream",
     "text": [
      "\n",
      "\n",
      "\u001b[1m> Entering new SimpleSequentialChain chain...\u001b[0m\n",
      "\u001b[36;1m\u001b[1;3mNoise-cancelling wireless headphones are a type of headphones that use technology to reduce or eliminate external background noise, allowing the user to listen to music or other audio content without distraction. They connect to devices wirelessly via Bluetooth, providing freedom of movement without the hassle of tangled cords. The headphones typically have built-in controls for adjusting volume and play/pause functions. They are designed to provide a high-quality audio experience with clear sound and deep bass. The noise-cancelling feature works by using microphones to pick up ambient noise and producing sound waves that cancel out the unwanted noise. This makes them ideal for use in loud environments such as airplanes, trains, or busy offices.\u001b[0m\n",
      "\u001b[33;1m\u001b[1;3m1. Improved audio experience: Noise-cancelling wireless headphones allow the user to enjoy their music or audio content without being disturbed by external noise, providing a clear and immersive listening experience.\n",
      "\n",
      "2. Wireless convenience: With Bluetooth connectivity, these headphones offer freedom of movement without the restrictions of tangled cords, making them ideal for use while on the go or during physical activities.\n",
      "\n",
      "3. Built-in controls: The headphones typically come with controls for adjusting volume, play/pause functions, and skipping tracks, allowing for easy and convenient operation without needing to access the connected device.\n",
      "\n",
      "4. Noise-cancelling technology: The active noise-cancelling feature helps to reduce or eliminate external background noise, making them ideal for use in noisy environments such as airplanes, trains, or busy offices, allowing the user to focus on their audio content.\n",
      "\n",
      "5. High-quality sound: Noise-cancelling wireless headphones are designed to provide a high-quality audio experience with clear sound and deep bass, enhancing the overall listening experience for the user. \n",
      "\n",
      "6. Comfortable fit: Many noise-cancelling wireless headphones are designed with cushioned ear cups and adjustable headbands for a comfortable and secure fit, allowing for extended use without discomfort. \n",
      "\n",
      "Overall, noise-cancelling wireless headphones offer a combination of convenience, superior audio quality, and effective noise cancellation, making them a popular choice for audiophiles, travelers, and those looking to enhance their listening experience.\u001b[0m\n",
      "\n",
      "\u001b[1m> Finished chain.\u001b[0m\n"
     ]
    },
    {
     "data": {
      "text/plain": [
       "'1. Improved audio experience: Noise-cancelling wireless headphones allow the user to enjoy their music or audio content without being disturbed by external noise, providing a clear and immersive listening experience.\\n\\n2. Wireless convenience: With Bluetooth connectivity, these headphones offer freedom of movement without the restrictions of tangled cords, making them ideal for use while on the go or during physical activities.\\n\\n3. Built-in controls: The headphones typically come with controls for adjusting volume, play/pause functions, and skipping tracks, allowing for easy and convenient operation without needing to access the connected device.\\n\\n4. Noise-cancelling technology: The active noise-cancelling feature helps to reduce or eliminate external background noise, making them ideal for use in noisy environments such as airplanes, trains, or busy offices, allowing the user to focus on their audio content.\\n\\n5. High-quality sound: Noise-cancelling wireless headphones are designed to provide a high-quality audio experience with clear sound and deep bass, enhancing the overall listening experience for the user. \\n\\n6. Comfortable fit: Many noise-cancelling wireless headphones are designed with cushioned ear cups and adjustable headbands for a comfortable and secure fit, allowing for extended use without discomfort. \\n\\nOverall, noise-cancelling wireless headphones offer a combination of convenience, superior audio quality, and effective noise cancellation, making them a popular choice for audiophiles, travelers, and those looking to enhance their listening experience.'"
      ]
     },
     "execution_count": 29,
     "metadata": {},
     "output_type": "execute_result"
    }
   ],
   "source": [
    "overall_simple_chain.run(product)"
   ]
  },
  {
   "cell_type": "markdown",
   "id": "0dd59bda-9d02-44e7-b3d6-2bec61b99d8f",
   "metadata": {},
   "source": [
    "**Repeat the above twice for different products**"
   ]
  },
  {
   "cell_type": "code",
   "execution_count": 31,
   "id": "0edb433d",
   "metadata": {},
   "outputs": [
    {
     "name": "stdout",
     "output_type": "stream",
     "text": [
      "\n",
      "\n",
      "\u001b[1m> Entering new SimpleSequentialChain chain...\u001b[0m\n",
      "\u001b[36;1m\u001b[1;3mA smart home assistant is a device that connects to your home's Wi-Fi network and uses artificial intelligence to assist with various tasks around the house. It typically comes in the form of a speaker that can respond to voice commands and perform functions such as playing music, setting alarms and timers, answering questions, controlling smart home devices like lights and thermostats, and providing updates on the weather and news. Some popular examples of smart home assistants include Amazon Echo, Google Home, and Apple HomePod. These devices can also be integrated with other smart home products to create a seamless and convenient home automation system.\u001b[0m\n",
      "\u001b[33;1m\u001b[1;3mSome key benefits of smart home assistants include:\n",
      "\n",
      "1. Convenience: Smart home assistants can help streamline daily tasks and make it easier to control various aspects of your home with just your voice, saving you time and effort.\n",
      "\n",
      "2. Hands-free operation: With the ability to respond to voice commands, smart home assistants allow you to access information and control devices without having to physically interact with them.\n",
      "\n",
      "3. Home automation: By integrating with other smart home devices, you can create a cohesive home automation system that allows you to control multiple aspects of your home with your smart home assistant.\n",
      "\n",
      "4. Personalized experience: Smart home assistants can learn your preferences over time and provide personalized recommendations and information based on your habits and interests.\n",
      "\n",
      "5. Entertainment: Smart home assistants can play music, podcasts, audiobooks, and radio stations, providing entertainment options for you and your family.\n",
      "\n",
      "6. Information and updates: Smart home assistants can answer questions, provide updates on the weather and news, set reminders, and even help with cooking by providing recipes and timers.\n",
      "\n",
      "7. Energy efficiency: By controlling smart home devices like lights and thermostats, smart home assistants can help you save energy and reduce your utility bills.\n",
      "\n",
      "Overall, smart home assistants can enhance the functionality of your home, provide convenience and efficiency, and make daily tasks easier and more enjoyable.\u001b[0m\n",
      "\n",
      "\u001b[1m> Finished chain.\u001b[0m\n"
     ]
    },
    {
     "data": {
      "text/plain": [
       "'Some key benefits of smart home assistants include:\\n\\n1. Convenience: Smart home assistants can help streamline daily tasks and make it easier to control various aspects of your home with just your voice, saving you time and effort.\\n\\n2. Hands-free operation: With the ability to respond to voice commands, smart home assistants allow you to access information and control devices without having to physically interact with them.\\n\\n3. Home automation: By integrating with other smart home devices, you can create a cohesive home automation system that allows you to control multiple aspects of your home with your smart home assistant.\\n\\n4. Personalized experience: Smart home assistants can learn your preferences over time and provide personalized recommendations and information based on your habits and interests.\\n\\n5. Entertainment: Smart home assistants can play music, podcasts, audiobooks, and radio stations, providing entertainment options for you and your family.\\n\\n6. Information and updates: Smart home assistants can answer questions, provide updates on the weather and news, set reminders, and even help with cooking by providing recipes and timers.\\n\\n7. Energy efficiency: By controlling smart home devices like lights and thermostats, smart home assistants can help you save energy and reduce your utility bills.\\n\\nOverall, smart home assistants can enhance the functionality of your home, provide convenience and efficiency, and make daily tasks easier and more enjoyable.'"
      ]
     },
     "execution_count": 31,
     "metadata": {},
     "output_type": "execute_result"
    }
   ],
   "source": [
    "# Second product: Smart Home Assistant\n",
    "product_2 = \"Smart Home Assistant\"\n",
    "overall_simple_chain.run(product_2)"
   ]
  },
  {
   "cell_type": "code",
   "execution_count": 32,
   "id": "79039623",
   "metadata": {},
   "outputs": [
    {
     "name": "stdout",
     "output_type": "stream",
     "text": [
      "\n",
      "\n",
      "\u001b[1m> Entering new SimpleSequentialChain chain...\u001b[0m\n",
      "\u001b[36;1m\u001b[1;3mA wireless charging pad is a device used to charge electronic devices such as smartphones, tablets, and smartwatches without the need for cables or cords. It works by utilizing electromagnetic induction to transfer power from the pad to the device. The device is simply placed on the pad, and it starts charging automatically. Wireless charging pads are convenient, clutter-free, and efficient, making them a popular choice for individuals looking for a hassle-free way to charge their devices.\u001b[0m\n",
      "\u001b[33;1m\u001b[1;3m1. Convenience: Wireless charging pads offer a convenient way to charge electronic devices without the need for cables or cords. Users simply need to place their device on the pad, and it will start charging automatically.\n",
      "\n",
      "2. Clutter-free: With no cables or cords to deal with, wireless charging pads help reduce clutter on desks, nightstands, and other surfaces. This can create a more organized and aesthetically pleasing environment.\n",
      "\n",
      "3. Efficiency: Wireless charging pads are efficient and easy to use, making them a convenient option for busy individuals. Users can quickly and easily charge their devices without fumbling with cables or worrying about compatibility issues.\n",
      "\n",
      "4. Versatility: Wireless charging pads are compatible with a wide range of electronic devices, including smartphones, tablets, and smartwatches. This versatility makes them a practical and convenient charging solution for a variety of devices.\n",
      "\n",
      "5. Durability: Wireless charging pads are typically durable and long-lasting, providing a reliable way to keep devices powered up without the risk of damage from tangled cords or worn-out cables.\u001b[0m\n",
      "\n",
      "\u001b[1m> Finished chain.\u001b[0m\n",
      "\n",
      "Results for Wireless Charging Pad:\n",
      " 1. Convenience: Wireless charging pads offer a convenient way to charge electronic devices without the need for cables or cords. Users simply need to place their device on the pad, and it will start charging automatically.\n",
      "\n",
      "2. Clutter-free: With no cables or cords to deal with, wireless charging pads help reduce clutter on desks, nightstands, and other surfaces. This can create a more organized and aesthetically pleasing environment.\n",
      "\n",
      "3. Efficiency: Wireless charging pads are efficient and easy to use, making them a convenient option for busy individuals. Users can quickly and easily charge their devices without fumbling with cables or worrying about compatibility issues.\n",
      "\n",
      "4. Versatility: Wireless charging pads are compatible with a wide range of electronic devices, including smartphones, tablets, and smartwatches. This versatility makes them a practical and convenient charging solution for a variety of devices.\n",
      "\n",
      "5. Durability: Wireless charging pads are typically durable and long-lasting, providing a reliable way to keep devices powered up without the risk of damage from tangled cords or worn-out cables.\n"
     ]
    }
   ],
   "source": [
    "# Third product: Wireless Charging Pad\n",
    "product_3 = \"Wireless Charging Pad\"\n",
    "result_3 = overall_simple_chain.run(product_3)\n",
    "print(\"\\nResults for Wireless Charging Pad:\\n\", result_3)"
   ]
  },
  {
   "cell_type": "markdown",
   "id": "7b5ce18c",
   "metadata": {},
   "source": [
    "## SequentialChain"
   ]
  },
  {
   "cell_type": "code",
   "execution_count": 33,
   "id": "4c129ef6",
   "metadata": {},
   "outputs": [],
   "source": [
    "from langchain.chains import SequentialChain"
   ]
  },
  {
   "cell_type": "code",
   "execution_count": 54,
   "id": "016187ac",
   "metadata": {},
   "outputs": [],
   "source": [
    "llm = ChatOpenAI(temperature=0.9)\n",
    "\n",
    "\n",
    "first_prompt = ChatPromptTemplate.from_template( \"Translate the following review into English: {review}\"\n",
    "  #This prompt should translate a review\n",
    ")\n",
    "\n",
    "chain_one = LLMChain(llm=llm, prompt=first_prompt, \n",
    "                     output_key=\"translated_review\" #Give a name to your output\n",
    "                    )"
   ]
  },
  {
   "cell_type": "code",
   "execution_count": 55,
   "id": "0fb0730e",
   "metadata": {},
   "outputs": [],
   "source": [
    "second_prompt = ChatPromptTemplate.from_template(\"Summarize the following review: {translated_review}\"\n",
    "    #Write a prompt to summarize a review\n",
    ")\n",
    "\n",
    "chain_two = LLMChain(llm=llm, prompt=second_prompt, \n",
    "                     output_key=\"summary\" #give a name to this output\n",
    "                    )\n"
   ]
  },
  {
   "cell_type": "code",
   "execution_count": 56,
   "id": "6accf92d",
   "metadata": {},
   "outputs": [],
   "source": [
    "# prompt template 3: translate to english or other language\n",
    "third_prompt = ChatPromptTemplate.from_template( \"Analyze the following review summary and determine its tone (positive, negative, or neutral): {summary}\"\n",
    ")\n",
    "# chain 3: input= Review and output= language\n",
    "chain_three = LLMChain(llm=llm, prompt=third_prompt,\n",
    "                       output_key=\"tone\"\n",
    "                      )"
   ]
  },
  {
   "cell_type": "code",
   "execution_count": 57,
   "id": "c7a46121",
   "metadata": {},
   "outputs": [],
   "source": [
    "\n",
    "# prompt template 4: follow up message that take as inputs the two previous prompts' variables\n",
    "fourth_prompt = ChatPromptTemplate.from_template( \"\"\"Based on the tone '{tone}' and the summary '{summary}', recommend an action to the user.\n",
    "    If the tone is positive, suggest buying the product. If the tone is negative, suggest not buying it.\n",
    "    If the tone is neutral, suggest evaluating other products.\"\"\"\n",
    ")\n",
    "chain_four = LLMChain(llm=llm, prompt=fourth_prompt,\n",
    "                      output_key=\"recommendation\"\n",
    "                     )\n"
   ]
  },
  {
   "cell_type": "code",
   "execution_count": 58,
   "id": "89603117",
   "metadata": {},
   "outputs": [],
   "source": [
    "# overall_chain: input= Review \n",
    "# and output= English Review,summary, tone & recommendation\n",
    "overall_chain = SequentialChain(\n",
    "    chains=[chain_one, chain_two, chain_three, chain_four],\n",
    "    input_variables=[\"review\"],\n",
    "    output_variables=[\"translated_review\", \"summary\", \"tone\", \"recommendation\"],\n",
    "    verbose=True\n",
    ")"
   ]
  },
  {
   "cell_type": "code",
   "execution_count": 67,
   "id": "51b04f45",
   "metadata": {},
   "outputs": [
    {
     "name": "stdout",
     "output_type": "stream",
     "text": [
      "\n",
      "\n",
      "\u001b[1m> Entering new SequentialChain chain...\u001b[0m\n",
      "\n",
      "\u001b[1m> Finished chain.\u001b[0m\n"
     ]
    },
    {
     "data": {
      "text/plain": [
       "{'review': \"Je trouve le goût médiocre. La mousse ne tient pas, c'est bizarre. J'achète les mêmes dans le commerce et le goût est bien meilleur...\\r\\nVieux lot ou contrefaçon !?\",\n",
       " 'translated_review': \"I find the taste mediocre. The foam doesn't hold, it's strange. I buy the same ones in stores and the taste is much better... Old batch or counterfeit!?\",\n",
       " 'summary': 'The reviewer finds the taste of the product to be mediocre and is disappointed that the foam does not hold well. They suspect that the product may be an old batch or counterfeit, as they have had better experiences with the same product purchased in stores.',\n",
       " 'tone': 'Negative',\n",
       " 'recommendation': 'Do not buy the product as the reviewer had a negative experience with it. It is recommended to find a different option that may better suit your needs.'}"
      ]
     },
     "execution_count": 67,
     "metadata": {},
     "output_type": "execute_result"
    }
   ],
   "source": [
    "review = df.Review[5]\n",
    "overall_chain(review)"
   ]
  },
  {
   "cell_type": "markdown",
   "id": "3187cf07-458a-4226-bec7-3dec7ee47af2",
   "metadata": {},
   "source": [
    "**Repeat the above twice for different products or reviews**"
   ]
  },
  {
   "cell_type": "code",
   "execution_count": 68,
   "id": "820abe7c",
   "metadata": {},
   "outputs": [
    {
     "name": "stdout",
     "output_type": "stream",
     "text": [
      "\n",
      "\n",
      "\u001b[1m> Entering new SequentialChain chain...\u001b[0m\n",
      "\n",
      "\u001b[1m> Finished chain.\u001b[0m\n"
     ]
    },
    {
     "data": {
      "text/plain": [
       "{'review': 'Está lu bonita calienta muy rápido, es muy funcional, solo falta ver cuánto dura, solo llevo 3 días en funcionamiento.',\n",
       " 'translated_review': 'This heater is very beautiful and heats up very quickly, it is very functional, I just need to see how long it lasts, I have only been using it for 3 days.',\n",
       " 'summary': 'The reviewer finds the heater to be beautiful and functional, heating up quickly. They are unsure of its longevity as they have only been using it for three days.',\n",
       " 'tone': 'The tone of the review summary is generally positive. The reviewer praises the heater for being beautiful and functional, and also notes that it heats up quickly. However, there is a hint of uncertainty regarding the longevity of the heater since they have only been using it for a short period of time.',\n",
       " 'recommendation': \"Since the tone of the review summary is generally positive, I would recommend buying the heater. The reviewer praises its beauty, functionality, and quick heating, which are all important factors to consider when purchasing a heater. However, it's always good to keep in mind the uncertainty about its longevity, as they have only been using it for a short period of time. Overall, it seems like a good choice based on the positive aspects mentioned.\"}"
      ]
     },
     "execution_count": 68,
     "metadata": {},
     "output_type": "execute_result"
    }
   ],
   "source": [
    "review = df.Review[6]\n",
    "overall_chain(review)"
   ]
  },
  {
   "cell_type": "code",
   "execution_count": 73,
   "id": "bf1cae5e",
   "metadata": {},
   "outputs": [
    {
     "name": "stdout",
     "output_type": "stream",
     "text": [
      "\n",
      "\n",
      "\u001b[1m> Entering new SequentialChain chain...\u001b[0m\n",
      "\n",
      "\u001b[1m> Finished chain.\u001b[0m\n"
     ]
    },
    {
     "data": {
      "text/plain": [
       "{'review': 'Funciona segun dice la promocion. No es el mejor que haya utilizado. No calienta tanto como otras marcas. No lo devolvere, pero no necesariamente compraria otro. Hay otras marcas mejores pero este resuelve. Para el precio esta ok. Pero si fuera mas caro no lo compraria.',\n",
       " 'translated_review': \"It works as advertised. It's not the best I've used. It doesn't heat up as much as other brands. I won't return it, but I wouldn't necessarily buy another one. There are better brands out there, but this one does the job. For the price, it's okay. But if it were more expensive, I wouldn't buy it.\",\n",
       " 'summary': \"The reviewer found that the product functions as advertised, but they have used better brands in the past. They noted that the product doesn't heat up as much as other brands and while they won't return it, they wouldn't necessarily buy it again. The reviewer believes there are better brands available, but for the price, it is adequate. If the product were more expensive, they would not purchase it.\",\n",
       " 'tone': 'Neutral',\n",
       " 'recommendation': 'It is recommended to evaluate other products before making a decision.'}"
      ]
     },
     "execution_count": 73,
     "metadata": {},
     "output_type": "execute_result"
    }
   ],
   "source": [
    "review = df.Review[7]\n",
    "overall_chain(review)"
   ]
  },
  {
   "cell_type": "markdown",
   "id": "3041ea4c",
   "metadata": {},
   "source": [
    "## Router Chain"
   ]
  },
  {
   "cell_type": "code",
   "execution_count": 133,
   "id": "ade83f4f",
   "metadata": {},
   "outputs": [],
   "source": [
    "physics_template = \"\"\"You are a very smart physics professor. \\\n",
    "You are great at answering questions about physics in a concise\\\n",
    "and easy to understand manner. \\\n",
    "When you don't know the answer to a question you admit\\\n",
    "that you don't know.\n",
    "\n",
    "Here is a question:\n",
    "{input}\"\"\"\n",
    "\n",
    "\n",
    "math_template = \"\"\"You are a very good mathematician. \\\n",
    "You are great at answering math questions. \\\n",
    "You are so good because you are able to break down \\\n",
    "hard problems into their component parts, \n",
    "answer the component parts, and then put them together\\\n",
    "to answer the broader question.\n",
    "\n",
    "Here is a question:\n",
    "{input}\"\"\"\n",
    "\n",
    "\n",
    "history_template = \"\"\"You are a very good historian. \\\n",
    "You have an excellent knowledge of and understanding of people,\\\n",
    "events and contexts from a range of historical periods. \\\n",
    "You have the ability to think, reflect, debate, discuss and \\\n",
    "evaluate the past. You have a respect for historical evidence\\\n",
    "and the ability to make use of it to support your explanations \\\n",
    "and judgements.\n",
    "\n",
    "Here is a question:\n",
    "{input}\"\"\"\n",
    "\n",
    "\n",
    "computerscience_template = \"\"\" You are a successful computer scientist.\\\n",
    "You have a passion for creativity, collaboration,\\\n",
    "forward-thinking, confidence, strong problem-solving capabilities,\\\n",
    "understanding of theories and algorithms, and excellent communication \\\n",
    "skills. You are great at answering coding questions. \\\n",
    "You are so good because you know how to solve a problem by \\\n",
    "describing the solution in imperative steps \\\n",
    "that a machine can easily interpret and you know how to \\\n",
    "choose a solution that has a good balance between \\\n",
    "time complexity and space complexity. \n",
    "\n",
    "Here is a question:\n",
    "{input}\"\"\"\n",
    "\n",
    "\n",
    "biology_template = \"\"\"You are a very knowledgeable biologist. \\\n",
    "You are great at answering questions about biology in a clear and concise manner. \\\n",
    "You make complex biological concepts easy to understand. \\\n",
    "When you don't know the answer to a question, you admit that you don't know.\n",
    "\n",
    "Here is a question:\n",
    "{input}\"\"\""
   ]
  },
  {
   "cell_type": "code",
   "execution_count": 134,
   "id": "5f590e9f",
   "metadata": {},
   "outputs": [],
   "source": [
    "prompt_infos = [\n",
    "    {\n",
    "        \"name\": \"physics\", \n",
    "        \"description\": \"Good for answering questions about physics\", \n",
    "        \"prompt_template\": physics_template\n",
    "    },\n",
    "    {\n",
    "        \"name\": \"math\", \n",
    "        \"description\": \"Good for answering math questions\", \n",
    "        \"prompt_template\": math_template\n",
    "    },\n",
    "    {\n",
    "        \"name\": \"History\", \n",
    "        \"description\": \"Good for answering history questions\", \n",
    "        \"prompt_template\": history_template\n",
    "    },\n",
    "    {\n",
    "        \"name\": \"computer science\", \n",
    "        \"description\": \"Good for answering computer science questions\", \n",
    "        \"prompt_template\": computerscience_template\n",
    "    },\n",
    "    {\n",
    "        \"name\": \"biology\",\n",
    "        \"description\": \"Good for answering questions about biology\",\n",
    "        \"prompt_template\": biology_template\n",
    "    }\n",
    "]"
   ]
  },
  {
   "cell_type": "code",
   "execution_count": 135,
   "id": "31b06fc8",
   "metadata": {},
   "outputs": [],
   "source": [
    "from langchain.chains.router import MultiPromptChain\n",
    "from langchain.chains.router.llm_router import LLMRouterChain,RouterOutputParser\n",
    "from langchain.prompts import PromptTemplate"
   ]
  },
  {
   "cell_type": "code",
   "execution_count": 136,
   "id": "f3f50bcc",
   "metadata": {},
   "outputs": [],
   "source": [
    "llm = ChatOpenAI(temperature=0)"
   ]
  },
  {
   "cell_type": "code",
   "execution_count": 137,
   "id": "8eefec24",
   "metadata": {},
   "outputs": [],
   "source": [
    "destination_chains = {}\n",
    "for p_info in prompt_infos:\n",
    "    name = p_info[\"name\"]\n",
    "    prompt_template = p_info[\"prompt_template\"]\n",
    "    prompt = ChatPromptTemplate.from_template(template=prompt_template)\n",
    "    chain = LLMChain(llm=llm, prompt=prompt)\n",
    "    destination_chains[name] = chain  \n",
    "    \n",
    "destinations = [f\"{p['name']}: {p['description']}\" for p in prompt_infos]\n",
    "destinations_str = \"\\n\".join(destinations)"
   ]
  },
  {
   "cell_type": "code",
   "execution_count": 138,
   "id": "9f98018a",
   "metadata": {},
   "outputs": [],
   "source": [
    "default_prompt = ChatPromptTemplate.from_template(\"{input}\")\n",
    "default_chain = LLMChain(llm=llm, prompt=default_prompt)"
   ]
  },
  {
   "cell_type": "code",
   "execution_count": 139,
   "id": "11b2e2ba",
   "metadata": {},
   "outputs": [],
   "source": [
    "MULTI_PROMPT_ROUTER_TEMPLATE = \"\"\"Given a raw text input to a \\\n",
    "language model select the model prompt best suited for the input. \\\n",
    "You will be given the names of the available prompts and a \\\n",
    "description of what the prompt is best suited for. \\\n",
    "You may also revise the original input if you think that revising\\\n",
    "it will ultimately lead to a better response from the language model.\n",
    "\n",
    "<< FORMATTING >>\n",
    "Return a markdown code snippet with a JSON object formatted to look like:\n",
    "```json\n",
    "{{{{\n",
    "    \"destination\": string \\ name of the prompt to use or \"DEFAULT\"\n",
    "    \"next_inputs\": string \\ a potentially modified version of the original input\n",
    "}}}}\n",
    "```\n",
    "\n",
    "REMEMBER: \"destination\" MUST be one of the candidate prompt \\\n",
    "names specified below OR it can be \"DEFAULT\" if the input is not\\\n",
    "well suited for any of the candidate prompts.\n",
    "REMEMBER: \"next_inputs\" can just be the original input \\\n",
    "if you don't think any modifications are needed.\n",
    "\n",
    "<< CANDIDATE PROMPTS >>\n",
    "{destinations}\n",
    "\n",
    "<< INPUT >>\n",
    "{{input}}\n",
    "\n",
    "<< OUTPUT (remember to include the ```json)>>\"\"\""
   ]
  },
  {
   "cell_type": "code",
   "execution_count": 140,
   "id": "1387109d",
   "metadata": {},
   "outputs": [],
   "source": [
    "router_template = MULTI_PROMPT_ROUTER_TEMPLATE.format(\n",
    "    destinations=destinations_str\n",
    ")\n",
    "router_prompt = PromptTemplate(\n",
    "    template=router_template,\n",
    "    input_variables=[\"input\"],\n",
    "    output_parser=RouterOutputParser(),\n",
    ")\n",
    "\n",
    "router_chain = LLMRouterChain.from_llm(llm, router_prompt)"
   ]
  },
  {
   "cell_type": "code",
   "execution_count": 141,
   "id": "2fb7d560",
   "metadata": {},
   "outputs": [],
   "source": [
    "chain = MultiPromptChain(router_chain=router_chain, \n",
    "                         destination_chains=destination_chains, \n",
    "                         default_chain=default_chain, verbose=True\n",
    "                        )"
   ]
  },
  {
   "cell_type": "code",
   "execution_count": 142,
   "id": "d86b2131",
   "metadata": {},
   "outputs": [
    {
     "name": "stdout",
     "output_type": "stream",
     "text": [
      "\n",
      "\n",
      "\u001b[1m> Entering new MultiPromptChain chain...\u001b[0m\n",
      "physics: {'input': 'What is black body radiation?'}\n",
      "\u001b[1m> Finished chain.\u001b[0m\n"
     ]
    },
    {
     "data": {
      "text/plain": [
       "\"Black body radiation refers to the electromagnetic radiation emitted by a perfect black body, which is an idealized physical body that absorbs all incident electromagnetic radiation. The radiation emitted by a black body depends only on its temperature and follows a specific distribution known as Planck's law. This radiation is characterized by a continuous spectrum of wavelengths and intensities, with the peak intensity shifting to shorter wavelengths as the temperature of the black body increases.\""
      ]
     },
     "execution_count": 142,
     "metadata": {},
     "output_type": "execute_result"
    }
   ],
   "source": [
    "chain.run(\"What is black body radiation?\")"
   ]
  },
  {
   "cell_type": "code",
   "execution_count": 143,
   "id": "3b717379",
   "metadata": {},
   "outputs": [
    {
     "name": "stdout",
     "output_type": "stream",
     "text": [
      "\n",
      "\n",
      "\u001b[1m> Entering new MultiPromptChain chain...\u001b[0m\n",
      "math: {'input': 'what is 2 + 2'}\n",
      "\u001b[1m> Finished chain.\u001b[0m\n"
     ]
    },
    {
     "data": {
      "text/plain": [
       "'2 + 2 is equal to 4.'"
      ]
     },
     "execution_count": 143,
     "metadata": {},
     "output_type": "execute_result"
    }
   ],
   "source": [
    "chain.run(\"what is 2 + 2\")"
   ]
  },
  {
   "cell_type": "code",
   "execution_count": 145,
   "id": "29e5be01",
   "metadata": {},
   "outputs": [
    {
     "name": "stdout",
     "output_type": "stream",
     "text": [
      "\n",
      "\n",
      "\u001b[1m> Entering new MultiPromptChain chain...\u001b[0m\n",
      "biology: {'input': 'Why does every cell in our body contain DNA?'}\n",
      "\u001b[1m> Finished chain.\u001b[0m\n"
     ]
    },
    {
     "data": {
      "text/plain": [
       "'Every cell in our body contains DNA because DNA carries the genetic information that determines the characteristics of an organism. This genetic information is essential for the cell to function properly and carry out its specific roles within the body. DNA contains the instructions for making proteins, which are essential for the structure, function, and regulation of cells. Additionally, DNA is passed on from parent to offspring, ensuring that genetic information is inherited and maintained throughout generations.'"
      ]
     },
     "execution_count": 145,
     "metadata": {},
     "output_type": "execute_result"
    }
   ],
   "source": [
    "chain.run(\"Why does every cell in our body contain DNA?\")"
   ]
  },
  {
   "cell_type": "markdown",
   "id": "09e0c60b-7ae0-453e-9467-142d8dafee6e",
   "metadata": {},
   "source": [
    "**Repeat the above at least once for different inputs and chains executions - Be creative!**"
   ]
  },
  {
   "cell_type": "code",
   "execution_count": 146,
   "id": "8f13b2d1",
   "metadata": {},
   "outputs": [
    {
     "name": "stdout",
     "output_type": "stream",
     "text": [
      "\n",
      "\n",
      "\u001b[1m> Entering new MultiPromptChain chain...\u001b[0m\n",
      "physics: {'input': 'Why does the sky have a blue color?'}\n",
      "\u001b[1m> Finished chain.\u001b[0m\n"
     ]
    },
    {
     "data": {
      "text/plain": [
       "\"The sky appears blue because of a phenomenon called Rayleigh scattering. When sunlight enters Earth's atmosphere, it interacts with the gases and particles in the air. The shorter blue wavelengths of light are scattered in all directions by the gases and particles, while the longer wavelengths of light (like red and yellow) pass straight through. This scattering of blue light is what gives the sky its blue color.\""
      ]
     },
     "execution_count": 146,
     "metadata": {},
     "output_type": "execute_result"
    }
   ],
   "source": [
    "chain.run(\"Why does the sky have a blue color?\")"
   ]
  },
  {
   "cell_type": "code",
   "execution_count": 147,
   "id": "86046e92",
   "metadata": {},
   "outputs": [
    {
     "name": "stdout",
     "output_type": "stream",
     "text": [
      "\n",
      "\n",
      "\u001b[1m> Entering new MultiPromptChain chain...\u001b[0m\n",
      "physics: {'input': 'What do I need to create a simple diy solar system for about 5kWh?'}\n",
      "\u001b[1m> Finished chain.\u001b[0m\n"
     ]
    },
    {
     "data": {
      "text/plain": [
       "'To create a simple DIY solar system that can generate about 5kWh of energy, you will need the following components:\\n\\n1. Solar panels: You will need enough solar panels to generate 5kWh of energy per day. The number of panels will depend on their efficiency and the amount of sunlight your location receives.\\n\\n2. Inverter: You will need an inverter to convert the DC electricity generated by the solar panels into AC electricity that can be used in your home.\\n\\n3. Charge controller: A charge controller is necessary to regulate the flow of electricity from the solar panels to the batteries, preventing overcharging and extending the lifespan of the batteries.\\n\\n4. Batteries: You will need batteries to store the excess electricity generated by the solar panels for use when the sun is not shining.\\n\\n5. Mounting hardware: You will need mounting hardware to securely install the solar panels on your roof or in your yard.\\n\\n6. Wiring and connectors: You will need wiring and connectors to connect the solar panels, inverter, charge controller, and batteries together.\\n\\nIt is important to do thorough research and possibly consult with a professional to ensure that your DIY solar system is safe, efficient, and meets your energy needs.'"
      ]
     },
     "execution_count": 147,
     "metadata": {},
     "output_type": "execute_result"
    }
   ],
   "source": [
    "chain.run(\"What do I need to create a simple diy solar system for about 5kWh?\")"
   ]
  },
  {
   "cell_type": "code",
   "execution_count": 148,
   "id": "7bdb193b",
   "metadata": {},
   "outputs": [
    {
     "name": "stdout",
     "output_type": "stream",
     "text": [
      "\n",
      "\n",
      "\u001b[1m> Entering new MultiPromptChain chain...\u001b[0m\n",
      "None: {'input': 'Which is the best virtual immersive game available?'}\n",
      "\u001b[1m> Finished chain.\u001b[0m\n"
     ]
    },
    {
     "data": {
      "text/plain": [
       "'There are many virtual immersive games available, and the best one can vary depending on personal preferences. Some popular virtual immersive games include:\\n\\n1. \"Half-Life: Alyx\" - A highly immersive virtual reality game set in the Half-Life universe, with stunning graphics and engaging gameplay.\\n\\n2. \"Beat Saber\" - A rhythm-based virtual reality game where players use lightsabers to slice through blocks to the beat of the music.\\n\\n3. \"The Elder Scrolls V: Skyrim VR\" - A virtual reality version of the popular open-world RPG game, allowing players to explore the world of Skyrim in a whole new way.\\n\\n4. \"Superhot VR\" - A unique virtual reality game where time only moves when you move, requiring strategic thinking and quick reflexes.\\n\\nUltimately, the best virtual immersive game for you will depend on your preferences and interests. It\\'s recommended to try out different games and see which one resonates with you the most.'"
      ]
     },
     "execution_count": 148,
     "metadata": {},
     "output_type": "execute_result"
    }
   ],
   "source": [
    "chain.run(\"Which is the best virtual immersive game available?\")"
   ]
  }
 ],
 "metadata": {
  "kernelspec": {
   "display_name": "langchain_env",
   "language": "python",
   "name": "python3"
  },
  "language_info": {
   "codemirror_mode": {
    "name": "ipython",
    "version": 3
   },
   "file_extension": ".py",
   "mimetype": "text/x-python",
   "name": "python",
   "nbconvert_exporter": "python",
   "pygments_lexer": "ipython3",
   "version": "3.10.16"
  }
 },
 "nbformat": 4,
 "nbformat_minor": 5
}
