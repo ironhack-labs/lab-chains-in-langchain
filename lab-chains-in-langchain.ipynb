{
 "cells": [
  {
   "cell_type": "markdown",
   "id": "52824b89-532a-4e54-87e9-1410813cd39e",
   "metadata": {},
   "source": [
    "# Lab | Chains in LangChain\n",
    "\n",
    "## Outline\n",
    "\n",
    "* LLMChain\n",
    "* Sequential Chains\n",
    "  * SimpleSequentialChain\n",
    "  * SequentialChain\n",
    "* Router Chain"
   ]
  },
  {
   "cell_type": "code",
   "execution_count": 101,
   "id": "541eb2f1",
   "metadata": {},
   "outputs": [],
   "source": [
    "import warnings\n",
    "warnings.filterwarnings('ignore')"
   ]
  },
  {
   "cell_type": "code",
   "execution_count": 102,
   "id": "b7ed03ed-1322-49e3-b2a2-33e94fb592ef",
   "metadata": {
    "tags": []
   },
   "outputs": [],
   "source": [
    "import os\n",
    "\n",
    "from dotenv import load_dotenv, find_dotenv\n",
    "_ = load_dotenv(find_dotenv())\n",
    "\n",
    "OPENAI_API_KEY  = os.getenv('OPENAI_API_KEY')\n",
    "HUGGINGFACEHUB_API_TOKEN = os.getenv('HUGGINGFACEHUB_API_TOKEN')"
   ]
  },
  {
   "cell_type": "code",
   "execution_count": 103,
   "id": "09649c48",
   "metadata": {},
   "outputs": [],
   "source": [
    "# LANGSMITH_TRACING= True\n",
    "# LANGSMITH_ENDPOINT=\"https://api.smith.langchain.com\"\n",
    "# LANGSMITH_API_KEY = os.getenv(\"LANGSMITH_API_KEY\")\n",
    "# LANGSMITH_PROJECT=\"Lab | Simple LLM App with LCEL\""
   ]
  },
  {
   "cell_type": "code",
   "execution_count": 104,
   "id": "b84e441b",
   "metadata": {
    "tags": []
   },
   "outputs": [],
   "source": [
    "# !pip install --upgrade numpy\n",
    "# !pip install --upgrade pandas\n"
   ]
  },
  {
   "cell_type": "code",
   "execution_count": 105,
   "id": "974acf8e-8f88-42de-88f8-40a82cb58e8b",
   "metadata": {
    "tags": []
   },
   "outputs": [],
   "source": [
    "import pandas as pd"
   ]
  },
  {
   "cell_type": "code",
   "execution_count": 106,
   "id": "868da798",
   "metadata": {},
   "outputs": [],
   "source": [
    "df = pd.read_csv('./data/Data.csv')"
   ]
  },
  {
   "cell_type": "code",
   "execution_count": 107,
   "id": "b7a09c35",
   "metadata": {
    "tags": []
   },
   "outputs": [
    {
     "data": {
      "text/html": [
       "<div>\n",
       "<style scoped>\n",
       "    .dataframe tbody tr th:only-of-type {\n",
       "        vertical-align: middle;\n",
       "    }\n",
       "\n",
       "    .dataframe tbody tr th {\n",
       "        vertical-align: top;\n",
       "    }\n",
       "\n",
       "    .dataframe thead th {\n",
       "        text-align: right;\n",
       "    }\n",
       "</style>\n",
       "<table border=\"1\" class=\"dataframe\">\n",
       "  <thead>\n",
       "    <tr style=\"text-align: right;\">\n",
       "      <th></th>\n",
       "      <th>Product</th>\n",
       "      <th>Review</th>\n",
       "    </tr>\n",
       "  </thead>\n",
       "  <tbody>\n",
       "    <tr>\n",
       "      <th>0</th>\n",
       "      <td>Queen Size Sheet Set</td>\n",
       "      <td>I ordered a king size set. My only criticism w...</td>\n",
       "    </tr>\n",
       "    <tr>\n",
       "      <th>1</th>\n",
       "      <td>Waterproof Phone Pouch</td>\n",
       "      <td>I loved the waterproof sac, although the openi...</td>\n",
       "    </tr>\n",
       "    <tr>\n",
       "      <th>2</th>\n",
       "      <td>Luxury Air Mattress</td>\n",
       "      <td>This mattress had a small hole in the top of i...</td>\n",
       "    </tr>\n",
       "    <tr>\n",
       "      <th>3</th>\n",
       "      <td>Pillows Insert</td>\n",
       "      <td>This is the best throw pillow fillers on Amazo...</td>\n",
       "    </tr>\n",
       "    <tr>\n",
       "      <th>4</th>\n",
       "      <td>Milk Frother Handheld\\n</td>\n",
       "      <td>I loved this product. But they only seem to l...</td>\n",
       "    </tr>\n",
       "  </tbody>\n",
       "</table>\n",
       "</div>"
      ],
      "text/plain": [
       "                   Product                                             Review\n",
       "0     Queen Size Sheet Set  I ordered a king size set. My only criticism w...\n",
       "1   Waterproof Phone Pouch  I loved the waterproof sac, although the openi...\n",
       "2      Luxury Air Mattress  This mattress had a small hole in the top of i...\n",
       "3           Pillows Insert  This is the best throw pillow fillers on Amazo...\n",
       "4  Milk Frother Handheld\\n   I loved this product. But they only seem to l..."
      ]
     },
     "execution_count": 107,
     "metadata": {},
     "output_type": "execute_result"
    }
   ],
   "source": [
    "df.head()"
   ]
  },
  {
   "cell_type": "code",
   "execution_count": 108,
   "id": "e064ede8",
   "metadata": {},
   "outputs": [
    {
     "name": "stdout",
     "output_type": "stream",
     "text": [
      "Package                  Version\n",
      "------------------------ -----------\n",
      "aiohappyeyeballs         2.4.4\n",
      "aiohttp                  3.11.11\n",
      "aiosignal                1.3.2\n",
      "annotated-types          0.7.0\n",
      "anyio                    4.8.0\n",
      "appnope                  0.1.4\n",
      "asttokens                3.0.0\n",
      "attrs                    24.3.0\n",
      "certifi                  2024.12.14\n",
      "charset-normalizer       3.4.1\n",
      "comm                     0.2.2\n",
      "dataclasses-json         0.6.7\n",
      "debugpy                  1.8.11\n",
      "decorator                5.1.1\n",
      "distro                   1.9.0\n",
      "executing                2.1.0\n",
      "frozenlist               1.5.0\n",
      "h11                      0.14.0\n",
      "httpcore                 1.0.7\n",
      "httpx                    0.28.1\n",
      "httpx-sse                0.4.0\n",
      "idna                     3.10\n",
      "ipykernel                6.29.5\n",
      "ipython                  8.31.0\n",
      "jedi                     0.19.2\n",
      "jiter                    0.8.2\n",
      "jsonpatch                1.33\n",
      "jsonpointer              3.0.0\n",
      "jupyter_client           8.6.3\n",
      "jupyter_core             5.7.2\n",
      "langchain                0.3.14\n",
      "langchain-community      0.3.14\n",
      "langchain-core           0.3.29\n",
      "langchain-openai         0.3.0\n",
      "langchain-text-splitters 0.3.5\n",
      "langsmith                0.2.10\n",
      "marshmallow              3.25.1\n",
      "matplotlib-inline        0.1.7\n",
      "multidict                6.1.0\n",
      "mypy-extensions          1.0.0\n",
      "nest-asyncio             1.6.0\n",
      "numpy                    2.2.1\n",
      "openai                   1.59.7\n",
      "orjson                   3.10.14\n",
      "packaging                24.2\n",
      "pandas                   2.2.3\n",
      "parso                    0.8.4\n",
      "pexpect                  4.9.0\n",
      "pip                      24.3.1\n",
      "platformdirs             4.3.6\n",
      "prompt_toolkit           3.0.48\n",
      "propcache                0.2.1\n",
      "psutil                   6.1.1\n",
      "ptyprocess               0.7.0\n",
      "pure_eval                0.2.3\n",
      "pydantic                 2.10.5\n",
      "pydantic_core            2.27.2\n",
      "pydantic-settings        2.7.1\n",
      "Pygments                 2.19.1\n",
      "python-dateutil          2.9.0.post0\n",
      "python-dotenv            1.0.1\n",
      "pytz                     2024.2\n",
      "PyYAML                   6.0.2\n",
      "pyzmq                    26.2.0\n",
      "regex                    2024.11.6\n",
      "requests                 2.32.3\n",
      "requests-toolbelt        1.0.0\n",
      "six                      1.17.0\n",
      "sniffio                  1.3.1\n",
      "SQLAlchemy               2.0.37\n",
      "stack-data               0.6.3\n",
      "tenacity                 9.0.0\n",
      "tiktoken                 0.8.0\n",
      "tornado                  6.4.2\n",
      "tqdm                     4.67.1\n",
      "traitlets                5.14.3\n",
      "typing_extensions        4.12.2\n",
      "typing-inspect           0.9.0\n",
      "tzdata                   2024.2\n",
      "urllib3                  2.3.0\n",
      "wcwidth                  0.2.13\n",
      "yarl                     1.18.3\n"
     ]
    }
   ],
   "source": [
    "!pip list"
   ]
  },
  {
   "cell_type": "markdown",
   "id": "b940ce7c",
   "metadata": {},
   "source": [
    "## LLMChain"
   ]
  },
  {
   "cell_type": "code",
   "execution_count": 109,
   "id": "e92dff22",
   "metadata": {
    "tags": []
   },
   "outputs": [],
   "source": [
    "from langchain_openai import ChatOpenAI\n",
    "from langchain.prompts import ChatPromptTemplate\n",
    "from langchain.chains import LLMChain"
   ]
  },
  {
   "cell_type": "code",
   "execution_count": 110,
   "id": "943237a7",
   "metadata": {},
   "outputs": [],
   "source": [
    "#Replace None by your own value and justify\n",
    "llm = ChatOpenAI(temperature=0.7)\n"
   ]
  },
  {
   "cell_type": "code",
   "execution_count": 111,
   "id": "cdcdb42d",
   "metadata": {},
   "outputs": [],
   "source": [
    "prompt = ChatPromptTemplate.from_template( \"What makes this {Product} so perfect?\"\n",
    ")"
   ]
  },
  {
   "cell_type": "code",
   "execution_count": 112,
   "id": "d7abc20b",
   "metadata": {},
   "outputs": [],
   "source": [
    "chain = LLMChain(llm=llm, prompt=prompt)"
   ]
  },
  {
   "cell_type": "code",
   "execution_count": 113,
   "id": "ad44d1fb",
   "metadata": {},
   "outputs": [
    {
     "name": "stdout",
     "output_type": "stream",
     "text": [
      "There are several factors that make this Pillow Insert perfect. \n",
      "\n",
      "1. High-Quality Materials: The insert is made from high-quality materials that are durable and long-lasting, ensuring that it will provide support and comfort for a long time.\n",
      "\n",
      "2. Fluffiness: The insert is filled with a fluffy, hypoallergenic material that provides just the right amount of support and comfort for a perfect night's sleep.\n",
      "\n",
      "3. Versatility: The insert is available in various sizes and shapes, making it suitable for a wide range of pillows and cushions.\n",
      "\n",
      "4. Easy to Clean: The insert is machine washable, making it easy to keep clean and maintain its like-new appearance.\n",
      "\n",
      "5. Affordable: Despite its high quality and durability, this insert is affordable, making it a great value for the price. \n",
      "\n",
      "Overall, the combination of high-quality materials, fluffiness, versatility, ease of cleaning, and affordability make this Pillow Insert the perfect choice for anyone looking to upgrade their pillows or cushions.\n"
     ]
    }
   ],
   "source": [
    "product = \"Pillows Insert\"\n",
    "print(chain.run(product))"
   ]
  },
  {
   "cell_type": "markdown",
   "id": "69b03469",
   "metadata": {},
   "source": [
    "## SimpleSequentialChain"
   ]
  },
  {
   "cell_type": "code",
   "execution_count": 114,
   "id": "febee243",
   "metadata": {},
   "outputs": [],
   "source": [
    "from langchain.chains import SimpleSequentialChain"
   ]
  },
  {
   "cell_type": "code",
   "execution_count": 115,
   "id": "2f31aa8a",
   "metadata": {},
   "outputs": [],
   "source": [
    "llm = ChatOpenAI(temperature=0.9)\n",
    "\n",
    "# prompt template 1\n",
    "first_prompt = ChatPromptTemplate.from_template( \"What makes this {Product} so perfect?\"\n",
    ")\n",
    "\n",
    "# Chain 1\n",
    "chain_one = LLMChain(llm=llm, prompt=first_prompt)"
   ]
  },
  {
   "cell_type": "code",
   "execution_count": 116,
   "id": "3f5d5b76",
   "metadata": {},
   "outputs": [],
   "source": [
    "\n",
    "# prompt template 2\n",
    "second_prompt = ChatPromptTemplate.from_template( \n",
    "    \"Using the features: {input}, write a marketing tagline for this product.\"\n",
    ")\n",
    "# chain 2\n",
    "chain_two = LLMChain(llm=llm, prompt=second_prompt)"
   ]
  },
  {
   "cell_type": "code",
   "execution_count": 117,
   "id": "6c1eb2c4",
   "metadata": {},
   "outputs": [],
   "source": [
    "overall_simple_chain = SimpleSequentialChain(chains=[chain_one, chain_two],\n",
    "                                             verbose=True\n",
    "                                            )"
   ]
  },
  {
   "cell_type": "code",
   "execution_count": 118,
   "id": "78458efe",
   "metadata": {},
   "outputs": [
    {
     "name": "stdout",
     "output_type": "stream",
     "text": [
      "\n",
      "\n",
      "\u001b[1m> Entering new SimpleSequentialChain chain...\u001b[0m\n",
      "\u001b[36;1m\u001b[1;3mThere are several factors that contribute to the perfection of this Pillows Insert:\n",
      "\n",
      "1. High-quality materials: The insert is made from premium materials that are soft, durable, and hypoallergenic, providing ultimate comfort and support.\n",
      "\n",
      "2. Perfect size and shape: The insert is designed to perfectly fit standard pillowcases, ensuring a seamless and snug fit.\n",
      "\n",
      "3. Fluffiness and plumpness: The insert is filled with a high-quality, fluffy filling that provides just the right amount of support and loftiness for a cozy and comfortable sleep experience.\n",
      "\n",
      "4. Easy to care for: The insert is easy to care for, as it is machine washable and retains its shape and fluffiness after washing.\n",
      "\n",
      "5. Versatile use: The insert can be used with a variety of pillowcases and in different settings, making it a versatile and practical choice for any home. \n",
      "\n",
      "Overall, the combination of high-quality materials, perfect size and shape, fluffiness, easy care, and versatility make this Pillows Insert a perfect choice for anyone looking for a comfortable and luxurious pillow insert.\u001b[0m\n",
      "\u001b[33;1m\u001b[1;3m\"Experience the perfect blend of comfort and support with our high-quality Pillows Insert - the ultimate choice for a cozy and luxurious sleep experience!\"\u001b[0m\n",
      "\n",
      "\u001b[1m> Finished chain.\u001b[0m\n",
      "\"Experience the perfect blend of comfort and support with our high-quality Pillows Insert - the ultimate choice for a cozy and luxurious sleep experience!\"\n"
     ]
    }
   ],
   "source": [
    "print(overall_simple_chain.run(product))"
   ]
  },
  {
   "cell_type": "markdown",
   "id": "0dd59bda-9d02-44e7-b3d6-2bec61b99d8f",
   "metadata": {},
   "source": [
    "**Repeat the above twice for different products**"
   ]
  },
  {
   "cell_type": "code",
   "execution_count": 119,
   "id": "a2f20730",
   "metadata": {},
   "outputs": [
    {
     "name": "stdout",
     "output_type": "stream",
     "text": [
      "\n",
      "\n",
      "\u001b[1m> Entering new SimpleSequentialChain chain...\u001b[0m\n",
      "\u001b[36;1m\u001b[1;3mThere are several features that make this Luxury Air Mattress stand out as perfect:\n",
      "\n",
      "1. Comfort: The mattress is designed with multiple layers of high-quality materials that provide optimal comfort and support for a restful night's sleep.\n",
      "\n",
      "2. Durability: The mattress is made with durable materials that are built to last, ensuring a long lifespan of comfortable sleep.\n",
      "\n",
      "3. Adjustable firmness: The mattress can be easily adjusted to your desired firmness level, allowing you to customize your sleep experience.\n",
      "\n",
      "4. Easy inflation and deflation: The mattress comes with a built-in pump for quick and easy inflation and deflation, making it convenient to set up and pack away when not in use.\n",
      "\n",
      "5. Portability: The mattress is lightweight and compact, making it easy to transport and perfect for camping trips or overnight guests.\n",
      "\n",
      "6. Warranty: The mattress comes with a warranty, providing peace of mind and assurance of quality. \n",
      "\n",
      "Overall, the combination of comfort, durability, adjustability, convenience, portability, and warranty make this Luxury Air Mattress a perfect choice for a luxurious and restful night's sleep.\u001b[0m\n",
      "\u001b[33;1m\u001b[1;3m\"Experience the epitome of luxury and comfort with our durable and adjustable Luxury Air Mattress - perfect for a restful night's sleep anytime, anywhere!\"\u001b[0m\n",
      "\n",
      "\u001b[1m> Finished chain.\u001b[0m\n",
      "Marketing tagline for product: \"Experience the epitome of luxury and comfort with our durable and adjustable Luxury Air Mattress - perfect for a restful night's sleep anytime, anywhere!\"\n",
      "\n",
      "\n",
      "\u001b[1m> Entering new SimpleSequentialChain chain...\u001b[0m\n",
      "\u001b[36;1m\u001b[1;3mThere are several reasons why this Milk Frother Handheld is so perfect:\n",
      "\n",
      "1. Portability: This handheld milk frother is small and lightweight, making it easy to take with you anywhere. You can use it at home, in the office, or even when traveling.\n",
      "\n",
      "2. Versatility: This milk frother can be used to froth various types of milk, including dairy and non-dairy options. It can also be used to mix and froth other beverages such as hot chocolate and matcha lattes.\n",
      "\n",
      "3. Easy to use: This milk frother is incredibly easy to use. Simply insert the whisk into your milk or beverage, press the power button, and froth away. It requires minimal effort and is suitable for both experienced baristas and beginners.\n",
      "\n",
      "4. Quick and efficient: This milk frother can froth milk in just a few seconds, saving you time and effort. It produces rich, creamy foam that enhances the taste and texture of your drinks.\n",
      "\n",
      "5. Easy to clean: This handheld milk frother is easy to clean. Simply rinse the whisk under running water or immerse it in soapy water. It is also dishwasher safe for added convenience.\n",
      "\n",
      "Overall, the portability, versatility, ease of use, efficiency, and easy cleaning process make this Milk Frother Handheld the perfect tool for creating delicious frothy beverages at home or on the go.\u001b[0m\n",
      "\u001b[33;1m\u001b[1;3m\"Froth anytime, anywhere with our portable and versatile Milk Frother Handheld - the perfect tool for creamy, delicious drinks on the go!\"\u001b[0m\n",
      "\n",
      "\u001b[1m> Finished chain.\u001b[0m\n",
      "Marketing tagline for product: \"Froth anytime, anywhere with our portable and versatile Milk Frother Handheld - the perfect tool for creamy, delicious drinks on the go!\"\n"
     ]
    }
   ],
   "source": [
    "# Run the chain for a product\n",
    "product = \"Luxury Air Mattress\"\n",
    "result = overall_simple_chain.run(product)\n",
    "print(\"Marketing tagline for product:\", result)\n",
    "\n",
    "# Repeat for another product\n",
    "product = \"Milk Frother Handheld\"\n",
    "result = overall_simple_chain.run(product)\n",
    "print(\"Marketing tagline for product:\", result)"
   ]
  },
  {
   "cell_type": "markdown",
   "id": "7b5ce18c",
   "metadata": {},
   "source": [
    "## SequentialChain"
   ]
  },
  {
   "cell_type": "code",
   "execution_count": 120,
   "id": "4c129ef6",
   "metadata": {},
   "outputs": [],
   "source": [
    "from langchain.chains import SequentialChain"
   ]
  },
  {
   "cell_type": "code",
   "execution_count": 121,
   "id": "016187ac",
   "metadata": {},
   "outputs": [],
   "source": [
    "llm = ChatOpenAI(temperature=0.9)\n",
    "\n",
    "\n",
    "first_prompt = ChatPromptTemplate.from_template( \"Translate this review to French: {Review}\"\n",
    "          \n",
    ")\n",
    "\n",
    "chain_one = LLMChain(llm=llm, prompt=first_prompt, \n",
    "                     output_key= \"review_translation\"\n",
    "                    )\n"
   ]
  },
  {
   "cell_type": "code",
   "execution_count": 122,
   "id": "0fb0730e",
   "metadata": {},
   "outputs": [],
   "source": [
    "second_prompt = ChatPromptTemplate.from_template( \"Summarize this review: {review_translation}\",\n",
    ")\n",
    "\n",
    "chain_two = LLMChain(llm=llm, prompt=second_prompt, \n",
    "                     output_key= \"review_tanslation_summarized\"\n",
    "                    )\n"
   ]
  },
  {
   "cell_type": "code",
   "execution_count": 123,
   "id": "6accf92d",
   "metadata": {},
   "outputs": [],
   "source": [
    "# prompt template 3: translate to english or other language\n",
    "third_prompt = ChatPromptTemplate.from_template(\n",
    "    \"Translate the {review_tanslation_summarized} back to English.\"\n",
    ")\n",
    "# chain 3: input= Review and output= language\n",
    "chain_three = LLMChain(llm=llm, prompt=third_prompt,\n",
    "                       output_key= \"review_tanslation_summarized_eng\"\n",
    "                      )\n"
   ]
  },
  {
   "cell_type": "code",
   "execution_count": 124,
   "id": "c7a46121",
   "metadata": {},
   "outputs": [],
   "source": [
    "\n",
    "# prompt template 4: follow up message that take as inputs the two previous prompts' variables\n",
    "fourth_prompt = ChatPromptTemplate.from_template(\n",
    "        \"Write a follow-up message to the customer in German based on this summary: {review_tanslation_summarized_eng}\"\n",
    ")\n",
    "chain_four = LLMChain(llm=llm, prompt=fourth_prompt,\n",
    "                      output_key= \"follow_up_message\"\n",
    "                     )\n"
   ]
  },
  {
   "cell_type": "code",
   "execution_count": 125,
   "id": "89603117",
   "metadata": {},
   "outputs": [],
   "source": [
    "# overall_chain: input= Review \n",
    "# and output= English_Review,summary, followup_message\n",
    "overall_chain = SequentialChain(\n",
    "    chains=[chain_one, chain_two, chain_three, chain_four],\n",
    "    input_variables= [\"Review\"],\n",
    "    output_variables=[\"review_translation\", \"review_tanslation_summarized\", \"review_tanslation_summarized_eng\", \"follow_up_message\"],\n",
    "    verbose=True\n",
    ")"
   ]
  },
  {
   "cell_type": "code",
   "execution_count": 126,
   "id": "51b04f45",
   "metadata": {},
   "outputs": [
    {
     "name": "stdout",
     "output_type": "stream",
     "text": [
      "\n",
      "\n",
      "\u001b[1m> Entering new SequentialChain chain...\u001b[0m\n",
      "\n",
      "\u001b[1m> Finished chain.\u001b[0m\n"
     ]
    },
    {
     "data": {
      "text/plain": [
       "{'Review': \"\\xa0I loved this product. But they only seem to last a few months. The company was great replacing the first one (the frother falls out of the handle and can't be fixed). The after 4 months my second one did the same. I only use the frother for coffee once a day. It's not overuse or abuse. I'm very disappointed and will look for another. As I understand they will only replace once. Anyway, if you have one good luck.\",\n",
       " 'review_translation': \"J'ai adoré ce produit. Mais ils ne semblent durer que quelques mois. La société a été géniale en remplaçant le premier (le fouet tombe du manche et ne peut pas être réparé). Après 4 mois, mon deuxième a fait la même chose. Je n'utilise le fouet que pour le café une fois par jour. Ce n'est pas de l'abus. Je suis très déçu et je vais en chercher un autre. D'après ce que je comprends, ils ne remplaceront qu'une fois. Quoi qu'il en soit, si vous en avez un, bonne chance.\",\n",
       " 'review_tanslation_summarized': \"L'auteur de l'avis a adoré ce produit au début mais a été déçu de constater qu'il ne semblait durer que quelques mois. La société a été serviable en remplaçant le premier produit défectueux, mais après 4 mois le deuxième a présenté le même problème. L'auteur utilise le fouet uniquement une fois par jour pour faire du café, donc il n'est pas convaincu que son utilisation soit excessive. Il est déçu et envisage d'acheter un autre produit. Il mentionne que la société ne semble remplacer qu'une seule fois. En conclusion, l'auteur souhaite bonne chance à ceux qui ont ce produit.\",\n",
       " 'review_tanslation_summarized_eng': 'The author of the review loved this product at first but was disappointed to find that it seemed to only last a few months. The company was helpful in replacing the first defective product, but after 4 months the second one had the same issue. The author only uses the whisk once a day to make coffee, so they are not convinced that their usage is excessive. They are disappointed and are considering buying another product. They mention that the company seems to only replace once. In conclusion, the author wishes good luck to those who have this product.',\n",
       " 'follow_up_message': 'Liebe/r Kunde/Kundin,\\n\\nVielen Dank für Ihr ehrliches Feedback zu unserem Produkt. Es tut uns leid zu hören, dass Sie mit der Haltbarkeit des Produkts nicht zufrieden sind. Wir werden Ihre Hinweise ernst nehmen und sie an unser Entwicklungs- und Qualitätskontrollteam weiterleiten.\\n\\nEs tut uns leid, dass Sie bereits zwei defekte Produkte erhalten haben. Wir werden sicherstellen, dass dies nicht mehr vorkommt. Wir verstehen Ihre Enttäuschung und bedauern die Unannehmlichkeiten, die Ihnen dadurch entstanden sind.\\n\\nBitte lassen Sie uns wissen, wie wir Ihnen weiterhelfen können und ob Sie an einem Austausch oder einer Rückerstattung interessiert sind. Wir möchten sicherstellen, dass Sie mit Ihrem Einkauf bei uns zufrieden sind.\\n\\nWir wünschen Ihnen viel Glück bei der Suche nach einem geeigneten Produkt und stehen Ihnen bei Fragen gerne zur Verfügung.\\n\\nMit freundlichen Grüßen,\\nIhr Kundenservice Team.'}"
      ]
     },
     "execution_count": 126,
     "metadata": {},
     "output_type": "execute_result"
    }
   ],
   "source": [
    "review = df.Review[4]\n",
    "overall_chain(review)"
   ]
  },
  {
   "cell_type": "markdown",
   "id": "3187cf07-458a-4226-bec7-3dec7ee47af2",
   "metadata": {},
   "source": [
    "**Repeat the above twice for different products or reviews**"
   ]
  },
  {
   "cell_type": "code",
   "execution_count": 127,
   "id": "9ad9dc90",
   "metadata": {},
   "outputs": [
    {
     "name": "stdout",
     "output_type": "stream",
     "text": [
      "\n",
      "\n",
      "\u001b[1m> Entering new SequentialChain chain...\u001b[0m\n",
      "\n",
      "\u001b[1m> Finished chain.\u001b[0m\n"
     ]
    },
    {
     "data": {
      "text/plain": [
       "{'Review': 'I loved the waterproof sac, although the opening was made of a hard plastic. I don’t know if that would break easily. But I couldn’t turn my phone on, once it was in the pouch.',\n",
       " 'review_translation': \"J'ai adoré le sac étanche, bien que l'ouverture soit en plastique rigide. Je ne sais pas si cela se casserait facilement. Mais je n'ai pas pu allumer mon téléphone une fois qu'il était dans la pochette.\",\n",
       " 'review_tanslation_summarized': \"Le reviewer a apprécié le sac étanche malgré l'ouverture en plastique rigide, qui pourrait potentiellement se casser facilement. Cependant, il n'a pas pu allumer son téléphone une fois placé dans la pochette.\",\n",
       " 'review_tanslation_summarized_eng': 'The reviewer appreciated the waterproof bag despite the rigid plastic opening, which could potentially break easily. However, he was unable to turn on his phone once placed in the pocket.',\n",
       " 'follow_up_message': 'Sehr geehrter Kunde,\\n\\nVielen Dank für Ihr ehrliches Feedback zu unserem wasserdichten Beutel. Wir freuen uns zu hören, dass Sie die Wasserdichtigkeit schätzen, obwohl Sie Bedenken bezüglich der starren Plastiköffnung geäußert haben. Wir werden unser Bestes tun, um dieses Problem zu lösen und die Qualität unserer Produkte weiter zu verbessern.\\n\\nEs tut uns leid zu hören, dass Sie Schwierigkeiten hatten, Ihr Telefon einzuschalten, nachdem es in der Tasche platziert wurde. Dies ist definitiv nicht die Art von Erfahrung, die wir unseren Kunden bieten möchten. Bitte lassen Sie es uns wissen, wenn wir Ihnen in irgendeiner Weise behilflich sein können.\\n\\nVielen Dank, dass Sie sich die Zeit genommen haben, uns Ihr Feedback mitzuteilen. Ihre Meinung ist uns wichtig und hilft uns dabei, unsere Produkte und unseren Service zu verbessern.\\n\\nMit freundlichen Grüßen,\\n[Unternehmensname]'}"
      ]
     },
     "execution_count": 127,
     "metadata": {},
     "output_type": "execute_result"
    }
   ],
   "source": [
    "review = df.Review[1]\n",
    "overall_chain(review)"
   ]
  },
  {
   "cell_type": "code",
   "execution_count": 128,
   "id": "51826926",
   "metadata": {},
   "outputs": [
    {
     "name": "stdout",
     "output_type": "stream",
     "text": [
      "\n",
      "\n",
      "\u001b[1m> Entering new SequentialChain chain...\u001b[0m\n",
      "\n",
      "\u001b[1m> Finished chain.\u001b[0m\n"
     ]
    },
    {
     "data": {
      "text/plain": [
       "{'Review': 'I ordered a king size set. My only criticism would be that I wish seller would offer the king size set with 4 pillowcases. I separately ordered a two pack of pillowcases so I could have a total of four. When I saw the two packages, it looked like the color did not exactly match. Customer service was excellent about sending me two more pillowcases so I would have four that matched. Excellent! For the cost of these sheets, I am satisfied with the characteristics and coolness of the sheets.',\n",
       " 'review_translation': \"J'ai commandé un ensemble taille king. Ma seule critique serait que j'aimerais que le vendeur propose l'ensemble taille king avec 4 taies d'oreiller. J'ai commandé séparément un ensemble de deux taies d'oreiller pour en avoir un total de quatre. Lorsque j'ai vu les deux ensembles, il semblait que la couleur ne correspondait pas exactement. Le service client a été excellent en m'envoyant deux taies d'oreiller supplémentaires pour que j'aie quatre qui correspondaient. Excellent! Pour le coût de ces draps, je suis satisfait des caractéristiques et de la fraîcheur des draps.\",\n",
       " 'review_tanslation_summarized': 'The reviewer ordered a king size set and wished the seller offered it with four pillow cases instead of two. They ended up ordering an extra set of pillow cases separately, but the colors did not match. The customer service was excellent and sent them two additional pillow cases to match. Overall, they were satisfied with the quality and freshness of the sheets for the price.',\n",
       " 'review_tanslation_summarized_eng': 'El revisor ordenó un juego de tamaño king y deseaba que el vendedor lo ofreciera con cuatro fundas de almohada en lugar de dos. Terminaron ordenando un juego extra de fundas de almohada por separado, pero los colores no coincidían. El servicio al cliente fue excelente y les enviaron dos fundas de almohada adicionales para que coincidieran. En general, quedaron satisfechos con la calidad y frescura de las sábanas por el precio.',\n",
       " 'follow_up_message': 'Liebe Kundin,\\n\\nvielen Dank für Ihr Feedback zu Ihrem Einkauf bei uns. Wir freuen uns zu hören, dass Sie mit der Qualität und Frische der Bettwäsche zufrieden waren, trotz des kleinen Missverständnisses mit den Farben der zusätzlichen Kissenbezüge. Wir entschuldigen uns für die Unannehmlichkeiten und freuen uns, dass wir Ihnen zwei weitere passende Kissenbezüge zusenden konnten.\\n\\nIhre Zufriedenheit ist uns sehr wichtig und wir hoffen, Sie bald wieder als Kundin bei uns begrüßen zu dürfen.\\n\\nMit freundlichen Grüßen,\\nIhr Kundenservice Team'}"
      ]
     },
     "execution_count": 128,
     "metadata": {},
     "output_type": "execute_result"
    }
   ],
   "source": [
    "review = df.Review[0]\n",
    "overall_chain(review)"
   ]
  },
  {
   "cell_type": "markdown",
   "id": "3041ea4c",
   "metadata": {},
   "source": [
    "## Router Chain"
   ]
  },
  {
   "cell_type": "code",
   "execution_count": 129,
   "id": "ade83f4f",
   "metadata": {},
   "outputs": [],
   "source": [
    "physics_template = \"\"\"You are a very smart physics professor. \\\n",
    "You are great at answering questions about physics in a concise\\\n",
    "and easy to understand manner. \\\n",
    "When you don't know the answer to a question you admit\\\n",
    "that you don't know.\n",
    "\n",
    "Here is a question:\n",
    "{input}\"\"\"\n",
    "\n",
    "\n",
    "math_template = \"\"\"You are a very good mathematician. \\\n",
    "You are great at answering math questions. \\\n",
    "You are so good because you are able to break down \\\n",
    "hard problems into their component parts, \n",
    "answer the component parts, and then put them together\\\n",
    "to answer the broader question.\n",
    "\n",
    "Here is a question:\n",
    "{input}\"\"\"\n",
    "\n",
    "history_template = \"\"\"You are a very good historian. \\\n",
    "You have an excellent knowledge of and understanding of people,\\\n",
    "events and contexts from a range of historical periods. \\\n",
    "You have the ability to think, reflect, debate, discuss and \\\n",
    "evaluate the past. You have a respect for historical evidence\\\n",
    "and the ability to make use of it to support your explanations \\\n",
    "and judgements.\n",
    "\n",
    "Here is a question:\n",
    "{input}\"\"\"\n",
    "\n",
    "biology_template = \"\"\"You are a very good biologist. \\\n",
    "You have an excellent knowledge of and understanding of people,\\\n",
    "events and contexts from a range of historical periods. \\\n",
    "You have the ability to think, reflect, debate, discuss and \\\n",
    "evaluate the past. You have a respect for historical evidence\\\n",
    "and the ability to make use of it to support your explanations \\\n",
    "and judgements.\n",
    "\n",
    "Here is a question:\n",
    "{input}\"\"\"\n",
    "\n",
    "\n",
    "computerscience_template = \"\"\" You are a successful computer scientist.\\\n",
    "You have a passion for creativity, collaboration,\\\n",
    "forward-thinking, confidence, strong problem-solving capabilities,\\\n",
    "understanding of theories and algorithms, and excellent communication \\\n",
    "skills. You are great at answering coding questions. \\\n",
    "You are so good because you know how to solve a problem by \\\n",
    "describing the solution in imperative steps \\\n",
    "that a machine can easily interpret and you know how to \\\n",
    "choose a solution that has a good balance between \\\n",
    "time complexity and space complexity. \n",
    "\n",
    "Here is a question:\n",
    "{input}\"\"\""
   ]
  },
  {
   "cell_type": "code",
   "execution_count": 130,
   "id": "5f590e9f",
   "metadata": {},
   "outputs": [],
   "source": [
    "prompt_infos = [\n",
    "    {\n",
    "        \"name\": \"physics\", \n",
    "        \"description\": \"Good for answering questions about physics\", \n",
    "        \"prompt_template\": physics_template\n",
    "    },\n",
    "    {\n",
    "        \"name\": \"math\", \n",
    "        \"description\": \"Good for answering math questions\", \n",
    "        \"prompt_template\": math_template\n",
    "    },\n",
    "    {\n",
    "        \"name\": \"History\", \n",
    "        \"description\": \"Good for answering history questions\", \n",
    "        \"prompt_template\": history_template\n",
    "    },\n",
    "    {\n",
    "        \"name\": \"computer science\", \n",
    "        \"description\": \"Good for answering computer science questions\", \n",
    "        \"prompt_template\": computerscience_template\n",
    "    },\n",
    "    {\n",
    "        \"name\": \"biology\", \n",
    "        \"description\": \"Good for answering biology questions\", \n",
    "        \"prompt_template\": computerscience_template\n",
    "    }\n",
    "]"
   ]
  },
  {
   "cell_type": "code",
   "execution_count": 131,
   "id": "31b06fc8",
   "metadata": {},
   "outputs": [],
   "source": [
    "from langchain.chains.router import MultiPromptChain\n",
    "from langchain.chains.router.llm_router import LLMRouterChain,RouterOutputParser\n",
    "from langchain.prompts import PromptTemplate"
   ]
  },
  {
   "cell_type": "code",
   "execution_count": 132,
   "id": "f3f50bcc",
   "metadata": {},
   "outputs": [],
   "source": [
    "llm = ChatOpenAI(temperature=0.7)"
   ]
  },
  {
   "cell_type": "code",
   "execution_count": 133,
   "id": "8eefec24",
   "metadata": {},
   "outputs": [],
   "source": [
    "destination_chains = {}\n",
    "for p_info in prompt_infos:\n",
    "    name = p_info[\"name\"]\n",
    "    prompt_template = p_info[\"prompt_template\"]\n",
    "    prompt = ChatPromptTemplate.from_template(template=prompt_template)\n",
    "    chain = LLMChain(llm=llm, prompt=prompt)\n",
    "    destination_chains[name] = chain  \n",
    "    \n",
    "destinations = [f\"{p['name']}: {p['description']}\" for p in prompt_infos]\n",
    "destinations_str = \"\\n\".join(destinations)"
   ]
  },
  {
   "cell_type": "code",
   "execution_count": 134,
   "id": "9f98018a",
   "metadata": {},
   "outputs": [],
   "source": [
    "default_prompt = ChatPromptTemplate.from_template(\"{input}\")\n",
    "default_chain = LLMChain(llm=llm, prompt=default_prompt)"
   ]
  },
  {
   "cell_type": "code",
   "execution_count": 135,
   "id": "11b2e2ba",
   "metadata": {},
   "outputs": [],
   "source": [
    "MULTI_PROMPT_ROUTER_TEMPLATE = \"\"\"Given a raw text input to a \\\n",
    "language model select the model prompt best suited for the input. \\\n",
    "You will be given the names of the available prompts and a \\\n",
    "description of what the prompt is best suited for. \\\n",
    "You may also revise the original input if you think that revising\\\n",
    "it will ultimately lead to a better response from the language model.\n",
    "\n",
    "<< FORMATTING >>\n",
    "Return a markdown code snippet with a JSON object formatted to look like:\n",
    "```json\n",
    "{{{{\n",
    "    \"destination\": string \\ name of the prompt to use or \"DEFAULT\"\n",
    "    \"next_inputs\": string \\ a potentially modified version of the original input\n",
    "}}}}\n",
    "```\n",
    "\n",
    "REMEMBER: \"destination\" MUST be one of the candidate prompt \\\n",
    "names specified below OR it can be \"DEFAULT\" if the input is not\\\n",
    "well suited for any of the candidate prompts.\n",
    "REMEMBER: \"next_inputs\" can just be the original input \\\n",
    "if you don't think any modifications are needed.\n",
    "\n",
    "<< CANDIDATE PROMPTS >>\n",
    "{destinations}\n",
    "\n",
    "<< INPUT >>\n",
    "{{input}}\n",
    "\n",
    "<< OUTPUT (remember to include the ```json)>>\"\"\""
   ]
  },
  {
   "cell_type": "code",
   "execution_count": 136,
   "id": "1387109d",
   "metadata": {},
   "outputs": [],
   "source": [
    "router_template = MULTI_PROMPT_ROUTER_TEMPLATE.format(\n",
    "    destinations=destinations_str\n",
    ")\n",
    "router_prompt = PromptTemplate(\n",
    "    template=router_template,\n",
    "    input_variables=[\"input\"],\n",
    "    output_parser=RouterOutputParser(),\n",
    ")\n",
    "\n",
    "router_chain = LLMRouterChain.from_llm(llm, router_prompt)"
   ]
  },
  {
   "cell_type": "code",
   "execution_count": 137,
   "id": "2fb7d560",
   "metadata": {},
   "outputs": [],
   "source": [
    "chain = MultiPromptChain(router_chain=router_chain, \n",
    "                         destination_chains=destination_chains, \n",
    "                         default_chain=default_chain, verbose=True\n",
    "                        )"
   ]
  },
  {
   "cell_type": "code",
   "execution_count": 138,
   "id": "d86b2131",
   "metadata": {},
   "outputs": [
    {
     "name": "stdout",
     "output_type": "stream",
     "text": [
      "\n",
      "\n",
      "\u001b[1m> Entering new MultiPromptChain chain...\u001b[0m\n",
      "physics: {'input': 'What is black body radiation?'}\n",
      "\u001b[1m> Finished chain.\u001b[0m\n",
      "Physics response: Black body radiation is the electromagnetic radiation emitted by a perfect absorber and emitter of radiation, known as a black body. A black body absorbs all incoming radiation and emits radiation in a continuous spectrum based on its temperature. This radiation follows Planck's law, which describes the intensity and wavelength distribution of the radiation emitted by a black body at a given temperature. Black body radiation is important in understanding concepts such as thermal radiation and the behavior of objects at different temperatures.\n"
     ]
    }
   ],
   "source": [
    "result = chain.run(\"What is black body radiation?\")\n",
    "print(\"Physics response:\", result)"
   ]
  },
  {
   "cell_type": "code",
   "execution_count": 139,
   "id": "3b717379",
   "metadata": {},
   "outputs": [
    {
     "name": "stdout",
     "output_type": "stream",
     "text": [
      "\n",
      "\n",
      "\u001b[1m> Entering new MultiPromptChain chain...\u001b[0m\n",
      "math: {'input': 'What is 2 + 2?'}\n",
      "\u001b[1m> Finished chain.\u001b[0m\n",
      "Math response: The answer to 2 + 2 is 4.\n"
     ]
    }
   ],
   "source": [
    "result = chain.run(\"What is 2 + 2?\")\n",
    "print(\"Math response:\", result)"
   ]
  },
  {
   "cell_type": "code",
   "execution_count": 140,
   "id": "29e5be01",
   "metadata": {},
   "outputs": [],
   "source": [
    "# result = chain.run(\"Explain how DNA works in the human body.\")\n",
    "# print(\"Biology response:\", result)"
   ]
  },
  {
   "cell_type": "markdown",
   "id": "09e0c60b-7ae0-453e-9467-142d8dafee6e",
   "metadata": {},
   "source": [
    "**Repeat the above at least once for different inputs and chains executions - Be creative!**"
   ]
  },
  {
   "cell_type": "code",
   "execution_count": 141,
   "id": "4882b11d",
   "metadata": {},
   "outputs": [
    {
     "name": "stdout",
     "output_type": "stream",
     "text": [
      "\n",
      "\n",
      "\u001b[1m> Entering new MultiPromptChain chain...\u001b[0m\n",
      "computer science: {'input': 'What is the time complexity of quicksort?'}\n",
      "\u001b[1m> Finished chain.\u001b[0m\n",
      "Computer Science response: The time complexity of quicksort is O(n log n) on average, and O(n^2) in the worst-case scenario. The average time complexity occurs when the pivot element divides the array into two equal halves, leading to a balanced recursion tree. However, the worst-case time complexity happens when the pivot element is either the smallest or largest element in the array, causing unbalanced recursion and leading to a time complexity of O(n^2).\n"
     ]
    }
   ],
   "source": [
    "result = chain.run(\"What is the time complexity of quicksort?\")\n",
    "print(\"Computer Science response:\", result)"
   ]
  },
  {
   "cell_type": "code",
   "execution_count": 142,
   "id": "cd58d215",
   "metadata": {},
   "outputs": [
    {
     "name": "stdout",
     "output_type": "stream",
     "text": [
      "\n",
      "\n",
      "\u001b[1m> Entering new MultiPromptChain chain...\u001b[0m\n",
      "History: {'input': 'Explain the causes of World War II.'}\n",
      "\u001b[1m> Finished chain.\u001b[0m\n",
      "History response: World War II was caused by a combination of factors, including unresolved issues from World War I, the rise of totalitarian regimes, and economic instability. \n",
      "\n",
      "One of the main causes of World War II was the Treaty of Versailles, which ended World War I. The treaty imposed harsh penalties on Germany, including massive reparations payments and the loss of territory. This left Germany feeling humiliated and resentful, leading to a desire for revenge.\n",
      "\n",
      "Another key factor was the rise of totalitarian regimes in Europe, particularly Nazi Germany under Adolf Hitler and fascist Italy under Benito Mussolini. These regimes sought to expand their territories and influence, leading to aggressive actions and militarization.\n",
      "\n",
      "Economic instability also played a role in the lead up to the war. The Great Depression of the 1930s caused widespread poverty and unemployment, leading to social unrest and political extremism. This created fertile ground for the rise of totalitarian regimes and militarism.\n",
      "\n",
      "Additionally, the policy of appeasement pursued by Western powers towards aggressive actions by Germany and Italy only served to embolden them further, ultimately leading to the outbreak of war.\n",
      "\n",
      "In conclusion, World War II was caused by a combination of factors, including unresolved issues from World War I, the rise of totalitarian regimes, and economic instability. These factors created a volatile environment that eventually led to the outbreak of war.\n"
     ]
    }
   ],
   "source": [
    "result = chain.run(\"Explain the causes of World War II.\")\n",
    "print(\"History response:\", result)"
   ]
  },
  {
   "cell_type": "code",
   "execution_count": 143,
   "id": "e6986324",
   "metadata": {},
   "outputs": [],
   "source": [
    "# fin"
   ]
  },
  {
   "cell_type": "code",
   "execution_count": null,
   "id": "b946a108",
   "metadata": {},
   "outputs": [],
   "source": []
  }
 ],
 "metadata": {
  "kernelspec": {
   "display_name": ".venv",
   "language": "python",
   "name": "python3"
  },
  "language_info": {
   "codemirror_mode": {
    "name": "ipython",
    "version": 3
   },
   "file_extension": ".py",
   "mimetype": "text/x-python",
   "name": "python",
   "nbconvert_exporter": "python",
   "pygments_lexer": "ipython3",
   "version": "3.12.0"
  }
 },
 "nbformat": 4,
 "nbformat_minor": 5
}
